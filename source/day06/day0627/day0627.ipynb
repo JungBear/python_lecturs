{
 "cells": [
  {
   "cell_type": "markdown",
   "metadata": {
    "id": "SgMUQA9Izn7w"
   },
   "source": [
    "---\n",
    "title: \"Day-7 Python And Basic Grammar\"\n",
    "\n",
    "date: '2022-06-27'\n",
    "---"
   ]
  },
  {
   "cell_type": "markdown",
   "metadata": {
    "id": "5Z8_imIgzjzv"
   },
   "source": [
    "- Hello World"
   ]
  },
  {
   "cell_type": "code",
   "execution_count": 1,
   "metadata": {
    "colab": {
     "base_uri": "https://localhost:8080/"
    },
    "id": "rjTmBTKiz9Ee",
    "outputId": "d7ea5edf-b439-4c12-87bb-5c3f46088df6"
   },
   "outputs": [
    {
     "name": "stdout",
     "output_type": "stream",
     "text": [
      "Hello World\n"
     ]
    }
   ],
   "source": [
    "print(\"Hello World\")"
   ]
  },
  {
   "cell_type": "markdown",
   "metadata": {
    "id": "KNey6jtg0D33"
   },
   "source": [
    "## 주석처리\n",
    "- 1줄 주석\n",
    "- 여러줄 주석\n",
    "  - 함수 또는 클래스를 문서화 할 때 주로 사용\n",
    "\n",
    "- 프로젝트 할 때 \n",
    " - 전체 공정이 100일 때\n",
    " - 코드 / 코드 문서화 / 한글작업 문서화"
   ]
  },
  {
   "cell_type": "code",
   "execution_count": 2,
   "metadata": {
    "colab": {
     "base_uri": "https://localhost:8080/"
    },
    "id": "LBDC2_L60KSu",
    "outputId": "05750d78-1bb9-4f6c-eae2-b231b9447d4c"
   },
   "outputs": [
    {
     "name": "stdout",
     "output_type": "stream",
     "text": [
      "한줄주석\n",
      "여러줄주석\n"
     ]
    }
   ],
   "source": [
    "# print()함수 사용\n",
    "print (\"한줄주석\")\n",
    "\n",
    "\"\"\"\n",
    "여러줄 주석\n",
    "앞과 뒤로 쌍따옴표 3개\n",
    "\"\"\"\n",
    "print (\"여러줄주석\")\n"
   ]
  },
  {
   "cell_type": "markdown",
   "metadata": {
    "id": "OPA6Lras5Wdu"
   },
   "source": [
    "## 변수(Scalar)\n",
    "- 자료형\n",
    "- Scalar형, Non-Scarlar형\n"
   ]
  },
  {
   "cell_type": "markdown",
   "metadata": {
    "id": "yh9OYbvK5myX"
   },
   "source": [
    "### 수치형 자료형\n",
    "- int, float"
   ]
  },
  {
   "cell_type": "code",
   "execution_count": 4,
   "metadata": {
    "colab": {
     "base_uri": "https://localhost:8080/"
    },
    "id": "HbJFBdVo5ld1",
    "outputId": "9bf90d4d-f44d-46e8-c6e9-ad45146f4c9a"
   },
   "outputs": [
    {
     "name": "stdout",
     "output_type": "stream",
     "text": [
      "1\n",
      "<class 'int'>\n"
     ]
    }
   ],
   "source": [
    "num_int = 1\n",
    "print (num_int)\n",
    "print(type(num_int))"
   ]
  },
  {
   "cell_type": "code",
   "execution_count": 5,
   "metadata": {
    "colab": {
     "base_uri": "https://localhost:8080/"
    },
    "id": "1Epe2y0t6K0X",
    "outputId": "5f95ee61-f37c-4845-b986-eca88a1d821a"
   },
   "outputs": [
    {
     "name": "stdout",
     "output_type": "stream",
     "text": [
      "0.1\n",
      "<class 'float'>\n"
     ]
    }
   ],
   "source": [
    "num_float = 0.1\n",
    "print(num_float)\n",
    "print(type(num_float))"
   ]
  },
  {
   "cell_type": "markdown",
   "metadata": {
    "id": "Mxx6ukXmG6p1"
   },
   "source": [
    "- 8진수\n",
    "  - 0o"
   ]
  },
  {
   "cell_type": "code",
   "execution_count": 48,
   "metadata": {
    "colab": {
     "base_uri": "https://localhost:8080/"
    },
    "id": "sIw8796vHFuM",
    "outputId": "68acff5f-8485-4320-b890-4e26a2933710"
   },
   "outputs": [
    {
     "name": "stdout",
     "output_type": "stream",
     "text": [
      "127\n"
     ]
    }
   ],
   "source": [
    "a= 0o177\n",
    "print(a)"
   ]
  },
  {
   "cell_type": "markdown",
   "metadata": {
    "id": "CEeAEZX6HMND"
   },
   "source": [
    "- 16진수\n",
    "  - 0x\n"
   ]
  },
  {
   "cell_type": "code",
   "execution_count": 50,
   "metadata": {
    "colab": {
     "base_uri": "https://localhost:8080/"
    },
    "id": "OrK3taj3HPWk",
    "outputId": "951057f8-4dec-48c7-ffd7-a574ef24d781"
   },
   "outputs": [
    {
     "name": "stdout",
     "output_type": "stream",
     "text": [
      "2303\n"
     ]
    }
   ],
   "source": [
    "a= 0x8ff\n",
    "print(a)"
   ]
  },
  {
   "cell_type": "markdown",
   "metadata": {
    "id": "2XPdpB_y6JE9"
   },
   "source": [
    "### Bool형\n",
    "- True, False\n",
    "- R -> TRUE, FALSE\n",
    "- 문자열, 리스트, 튜플, 딕셔너리 등 값이 비어있으면 False\n",
    "- 숫자 0은 False"
   ]
  },
  {
   "cell_type": "code",
   "execution_count": 8,
   "metadata": {
    "colab": {
     "base_uri": "https://localhost:8080/"
    },
    "id": "S4ibz4lq6hkk",
    "outputId": "b67288c5-91bd-4171-d5d3-500790efb584"
   },
   "outputs": [
    {
     "name": "stdout",
     "output_type": "stream",
     "text": [
      "True\n",
      "<class 'bool'>\n"
     ]
    }
   ],
   "source": [
    "bool_true= True\n",
    "print(bool_true)\n",
    "print(type(bool_true))"
   ]
  },
  {
   "cell_type": "markdown",
   "metadata": {
    "id": "ohWudlRcIokr"
   },
   "source": [
    "### 리스트 자료형\n",
    "- []형태의 자료형\n",
    "  - a[n:m] : (n번째 요소부터 (m-1)번째 요소까지\n",
    "  - len() : 리스트의 길이 구하기\n",
    "- 리스트의 첫번째 위치는 1이 아닌 0"
   ]
  },
  {
   "cell_type": "code",
   "execution_count": 155,
   "metadata": {
    "colab": {
     "base_uri": "https://localhost:8080/"
    },
    "id": "Gy-Sj1ogqwPO",
    "outputId": "955ffa4b-d4da-4a24-bee3-46405f6ad998"
   },
   "outputs": [
    {
     "name": "stdout",
     "output_type": "stream",
     "text": [
      "4\n",
      "[1, 4, 3, ['a', 'b', 'c']]\n"
     ]
    }
   ],
   "source": [
    "a = [] # 빈 리스트 생성\n",
    "a_func = list() #빈 리스트 생성\n",
    "a=[1,2,3,['a','b','c']]\n",
    "print(len(a)) # 리스트의 길이 구하기 len()\n",
    "a[1]=4 # 1번째 인덱스를 4로 바군다\n",
    "print(a)"
   ]
  },
  {
   "cell_type": "markdown",
   "metadata": {
    "id": "TMhVfKA0np-O"
   },
   "source": [
    "- 리스트 값 수정\n",
    "  - a[n] = m : a리스트의 n의 값이 m으로 수정"
   ]
  },
  {
   "cell_type": "code",
   "execution_count": 123,
   "metadata": {
    "colab": {
     "base_uri": "https://localhost:8080/"
    },
    "id": "KH0eeW3Hnuhi",
    "outputId": "bc8ff74e-bdb3-4378-dc55-e5493655b6af"
   },
   "outputs": [
    {
     "name": "stdout",
     "output_type": "stream",
     "text": [
      "[9, 2, 3]\n"
     ]
    }
   ],
   "source": [
    "a=[1,2,3]\n",
    "a[0] = 9\n",
    "print(a)"
   ]
  },
  {
   "cell_type": "markdown",
   "metadata": {
    "id": "S9e7FzF6n2E1"
   },
   "source": [
    "- 리스트 값 삽입\n",
    "  - a.append()\n",
    "  - insert(a,b) : a번째 인덱스에 b값을 삽입\n",
    "  - extend([a]) : 원래의 리스트에 a리스트 더하기"
   ]
  },
  {
   "cell_type": "code",
   "execution_count": 125,
   "metadata": {
    "colab": {
     "base_uri": "https://localhost:8080/"
    },
    "id": "kWv19Yctn9VJ",
    "outputId": "38a5fe3d-daab-4826-ac56-f3d05191b60c"
   },
   "outputs": [
    {
     "name": "stdout",
     "output_type": "stream",
     "text": [
      "[100, 200, 300, 400]\n",
      "[100, 200, 300, 400, [500, 600]]\n"
     ]
    }
   ],
   "source": [
    "a=[100,200,300]\n",
    "a.append(400)\n",
    "print(a)\n",
    "a.append([500,600])\n",
    "print(a)"
   ]
  },
  {
   "cell_type": "code",
   "execution_count": 128,
   "metadata": {
    "colab": {
     "base_uri": "https://localhost:8080/"
    },
    "id": "W1qqwe9ipRZN",
    "outputId": "b9fac8a4-d9f8-4961-db02-3def09cc31bd"
   },
   "outputs": [
    {
     "name": "stdout",
     "output_type": "stream",
     "text": [
      "[100, 1000, 200, 300]\n"
     ]
    }
   ],
   "source": [
    "a=[100,200,300]\n",
    "a.insert(1,1000)\n",
    "print(a)"
   ]
  },
  {
   "cell_type": "code",
   "execution_count": 127,
   "metadata": {
    "colab": {
     "base_uri": "https://localhost:8080/"
    },
    "id": "bUvkYWUOogJO",
    "outputId": "43b317fe-abea-4448-efef-de9bddc15c67"
   },
   "outputs": [
    {
     "name": "stdout",
     "output_type": "stream",
     "text": [
      "[100, 200, 300, 400]\n",
      "[100, 200, 300, 400, 500, 600]\n"
     ]
    }
   ],
   "source": [
    "a=[100,200,300]\n",
    "a.append(400)\n",
    "print(a)\n",
    "\n",
    "a.extend([500,600])\n",
    "print(a)"
   ]
  },
  {
   "cell_type": "markdown",
   "metadata": {
    "id": "l_hQ4USJpgEF"
   },
   "source": [
    "- list 값 삭제\n",
    "  - remove(), del"
   ]
  },
  {
   "cell_type": "code",
   "execution_count": 134,
   "metadata": {
    "colab": {
     "base_uri": "https://localhost:8080/"
    },
    "id": "g41ekcYZplYc",
    "outputId": "6760fef0-c552-4382-9545-aec4cd404ab5"
   },
   "outputs": [
    {
     "name": "stdout",
     "output_type": "stream",
     "text": [
      "[2, 1, 2, 3, 4]\n",
      "[1, 1, 2, 3, 4]\n",
      "[1, 2, 3, 4]\n"
     ]
    }
   ],
   "source": [
    "a=[1,2,1,2,3,4]\n",
    "a.remove(1) # 처음나오는 지정값이 사라진다 \n",
    "print(a)\n",
    "a=[1,2,1,2,3,4]\n",
    "del a[1]\n",
    "print(a)\n",
    "a=[1,2,1,2,3,4]\n",
    "del a[:2]\n",
    "print(a)"
   ]
  },
  {
   "cell_type": "markdown",
   "metadata": {
    "id": "n7cSyg5MuciG"
   },
   "source": [
    "- pop()"
   ]
  },
  {
   "cell_type": "code",
   "execution_count": 140,
   "metadata": {
    "colab": {
     "base_uri": "https://localhost:8080/"
    },
    "id": "AD2xqjwBuefV",
    "outputId": "a422251a-0d66-48cd-c1b8-bb5c0ba2a31c"
   },
   "outputs": [
    {
     "name": "stdout",
     "output_type": "stream",
     "text": [
      "[1, 3, 4, 5]\n",
      "2\n",
      "[1, 3, 4]\n",
      "5\n"
     ]
    }
   ],
   "source": [
    "a=[1,2,3,4,5]\n",
    "rem = a.pop(1)\n",
    "print(a)\n",
    "print(rem)\n",
    "x=a.pop() # 마지막 인덱스를 지정\n",
    "print(a)\n",
    "print(x)"
   ]
  },
  {
   "cell_type": "markdown",
   "metadata": {
    "id": "BvY-7Rhivf4U"
   },
   "source": [
    "- clear() : 리스트 내 모든 값 삭제\n",
    "- index() : 값의 위치를 불러옴"
   ]
  },
  {
   "cell_type": "code",
   "execution_count": 144,
   "metadata": {
    "colab": {
     "base_uri": "https://localhost:8080/"
    },
    "id": "_rxLtQvcvqM7",
    "outputId": "3670b9ef-8d53-455f-c544-6d2f9942ac68"
   },
   "outputs": [
    {
     "data": {
      "text/plain": [
       "0"
      ]
     },
     "execution_count": 144,
     "metadata": {},
     "output_type": "execute_result"
    }
   ],
   "source": [
    "a=[1,2,3]\n",
    "a.index(1)"
   ]
  },
  {
   "cell_type": "markdown",
   "metadata": {
    "id": "peU4tU8LwAzU"
   },
   "source": [
    "- sort() : 리스트의 정렬"
   ]
  },
  {
   "cell_type": "code",
   "execution_count": 154,
   "metadata": {
    "colab": {
     "base_uri": "https://localhost:8080/"
    },
    "id": "_DtYJKbPwDmK",
    "outputId": "9ca0c0c0-1f2b-4d76-ee29-4a785e3918d1"
   },
   "outputs": [
    {
     "name": "stdout",
     "output_type": "stream",
     "text": [
      "[2, 3, 5, 6]\n",
      "[6, 5, 3, 2]\n"
     ]
    }
   ],
   "source": [
    "a=[3,2,5,6]\n",
    "a.sort() # 작은순 정렬\n",
    "print(a)\n",
    "a.sort(reverse=True)  #큰 순 정렬\n",
    "print(a)"
   ]
  },
  {
   "cell_type": "markdown",
   "metadata": {
    "id": "8M_qGwDJw51u"
   },
   "source": [
    "- count() : list 안에 값이 몇개있는지 조사하여 갯수를 돌려줌"
   ]
  },
  {
   "cell_type": "code",
   "execution_count": 158,
   "metadata": {
    "colab": {
     "base_uri": "https://localhost:8080/"
    },
    "id": "oDjGwU5mzTd9",
    "outputId": "549d7c6d-a9e3-4e2f-9ac3-646e04ba705e"
   },
   "outputs": [
    {
     "data": {
      "text/plain": [
       "3"
      ]
     },
     "execution_count": 158,
     "metadata": {},
     "output_type": "execute_result"
    }
   ],
   "source": [
    "a = [1,2,1,3,1]\n",
    "a.count(1)"
   ]
  },
  {
   "cell_type": "markdown",
   "metadata": {
    "id": "59G37tWe6xiW"
   },
   "source": [
    "### None 자료형\n",
    "- Null값 : 값이 정해지지 않은 자료형"
   ]
  },
  {
   "cell_type": "code",
   "execution_count": 9,
   "metadata": {
    "colab": {
     "base_uri": "https://localhost:8080/"
    },
    "id": "yEVradwG64jc",
    "outputId": "0dd7aeb2-acfd-446d-ff05-521a65ab55da"
   },
   "outputs": [
    {
     "name": "stdout",
     "output_type": "stream",
     "text": [
      "None\n",
      "<class 'NoneType'>\n"
     ]
    }
   ],
   "source": [
    "none_x=None\n",
    "print(none_x)\n",
    "print(type(none_x))"
   ]
  },
  {
   "cell_type": "markdown",
   "metadata": {
    "id": "ZI1FHDAUN6Ti"
   },
   "source": [
    "### 튜플 자료형\n",
    "- ()\n",
    "- 수정, 삭제, 추가X\n",
    "- 나머지는 리스트 자료형과 동일\n",
    "- ()생략해도 무방\n",
    "- 튜플이 리스트보다 빠르다는 카더라가 있다."
   ]
  },
  {
   "cell_type": "code",
   "execution_count": 157,
   "metadata": {
    "colab": {
     "base_uri": "https://localhost:8080/"
    },
    "id": "MRKbSFcbOVPS",
    "outputId": "327fcf30-d180-4d91-9414-baead8db27c2"
   },
   "outputs": [
    {
     "name": "stdout",
     "output_type": "stream",
     "text": [
      "<class 'int'>\n",
      "<class 'tuple'>\n",
      "<class 'tuple'>\n",
      "0\n",
      "(0,)\n",
      "(1, 2, 3)\n"
     ]
    }
   ],
   "source": [
    "tuple1 = (0)\n",
    "tuple2 = (0,)\n",
    "tuple3 = 1,2,3\n",
    "print(type(tuple1))\n",
    "print(type(tuple2))\n",
    "print(type(tuple3))\n",
    "\n",
    "print(tuple1)\n",
    "print(tuple2)\n",
    "print(tuple3)"
   ]
  },
  {
   "cell_type": "markdown",
   "metadata": {
    "id": "W1GnV4SM0zUM"
   },
   "source": [
    "### 튜플(=리스트)연산자\n",
    "- 문자열 연산자\n",
    "- +,*"
   ]
  },
  {
   "cell_type": "code",
   "execution_count": 161,
   "metadata": {
    "colab": {
     "base_uri": "https://localhost:8080/"
    },
    "id": "kwXbNxmH0_QE",
    "outputId": "d820001e-24b3-44b0-b3fa-0e4e16b20576"
   },
   "outputs": [
    {
     "name": "stdout",
     "output_type": "stream",
     "text": [
      "(0, 1, 2, 3, 4, 5)\n",
      "(0, 1, 2, 0, 1, 2, 0, 1, 2)\n"
     ]
    }
   ],
   "source": [
    "t1=(0,1,2)\n",
    "t2=(3,4,5)\n",
    "print(t1+t2)\n",
    "print(t1*3)"
   ]
  },
  {
   "cell_type": "markdown",
   "metadata": {
    "id": "NqAPuZyTPHji"
   },
   "source": [
    "### 딕셔너리 자료형\n",
    "- key와 value를 한 쌍으로 가진다.\n",
    "- {}\n",
    "- 순서라는 개념 존재 X\n"
   ]
  },
  {
   "cell_type": "code",
   "execution_count": 171,
   "metadata": {
    "colab": {
     "base_uri": "https://localhost:8080/"
    },
    "id": "_atJ6z8dPR4h",
    "outputId": "829a439b-0d68-4930-d8f8-250f42b4ad5d"
   },
   "outputs": [
    {
     "name": "stdout",
     "output_type": "stream",
     "text": [
      "1234\n",
      "{'name': 'pay', 'phone': '1234', 'birth': '1111', 'year': '2022'}\n",
      "{'phone': '1234', 'birth': '1111', 'year': '2022'}\n"
     ]
    }
   ],
   "source": [
    "dic = {'name':'pay', 'phone':'1234','birth':'1111'}\n",
    "print(dic[\"phone\"])\n",
    "dic['year']='2022'\n",
    "print(dic)\n",
    "del dic['name']  # 요소 삭제\n",
    "print(dic)"
   ]
  },
  {
   "cell_type": "markdown",
   "metadata": {
    "id": "1rAINfz371yZ"
   },
   "source": [
    "- keys() 값만 출력"
   ]
  },
  {
   "cell_type": "code",
   "execution_count": 176,
   "metadata": {
    "colab": {
     "base_uri": "https://localhost:8080/"
    },
    "id": "i5mMQAja78qK",
    "outputId": "58a7c018-631d-4bf3-8532-2a53ff7b6284"
   },
   "outputs": [
    {
     "data": {
      "text/plain": [
       "['phone', 'birth', 'year']"
      ]
     },
     "execution_count": 176,
     "metadata": {},
     "output_type": "execute_result"
    }
   ],
   "source": [
    "list(dic.keys()) # list형식으로 바꿔주기 -> 형변환"
   ]
  },
  {
   "cell_type": "markdown",
   "metadata": {
    "id": "NBiGILl48Vuu"
   },
   "source": [
    "- values() 값만 출력 "
   ]
  },
  {
   "cell_type": "code",
   "execution_count": 178,
   "metadata": {
    "colab": {
     "base_uri": "https://localhost:8080/"
    },
    "id": "r0opEM6b8bMp",
    "outputId": "af68b2cc-5366-4fc4-c9f2-1c9ad76fc400"
   },
   "outputs": [
    {
     "data": {
      "text/plain": [
       "['1234', '1111', '2022']"
      ]
     },
     "execution_count": 178,
     "metadata": {},
     "output_type": "execute_result"
    }
   ],
   "source": [
    "list(dic.values())"
   ]
  },
  {
   "cell_type": "markdown",
   "metadata": {
    "id": "lzLuJ5-d8k7y"
   },
   "source": [
    "- items()  key-value 쌍으로, list와 tuple 형태로 변환 "
   ]
  },
  {
   "cell_type": "code",
   "execution_count": 179,
   "metadata": {
    "colab": {
     "base_uri": "https://localhost:8080/"
    },
    "id": "XsjW_2928riR",
    "outputId": "288056e7-3571-43cc-cc39-596e8cb05190"
   },
   "outputs": [
    {
     "data": {
      "text/plain": [
       "dict_items([('phone', '1234'), ('birth', '1111'), ('year', '2022')])"
      ]
     },
     "execution_count": 179,
     "metadata": {},
     "output_type": "execute_result"
    }
   ],
   "source": [
    "dic.items() # 전체적으로는 list형식으로, 각각의 개체는 tuple형식으로"
   ]
  },
  {
   "cell_type": "markdown",
   "metadata": {
    "id": "IJ1qRP4hQmpp"
   },
   "source": [
    "### 집합 자료형\n",
    "- set을 이용해 만들수있다.\n",
    "- 중복 허용X, 순서가 없다."
   ]
  },
  {
   "cell_type": "code",
   "execution_count": 98,
   "metadata": {
    "colab": {
     "base_uri": "https://localhost:8080/"
    },
    "id": "HD6xn7UHQzEh",
    "outputId": "31cc7812-7c60-4f41-f57e-b1d6737093c6"
   },
   "outputs": [
    {
     "name": "stdout",
     "output_type": "stream",
     "text": [
      "{4, 5, 6}\n",
      "{1, 2, 3, 4, 5, 6, 7, 8, 9}\n",
      "{1, 2, 3}\n"
     ]
    }
   ],
   "source": [
    "s1=set([1,2,3,4,5,6])\n",
    "s2=set([4,5,6,7,8,9])\n",
    "print(s1&s2) # 교집합\n",
    "print(s1|s2) # 합집합\n",
    "print(s1-s2) # 차집합"
   ]
  },
  {
   "cell_type": "markdown",
   "metadata": {
    "id": "XHwM_oDZ7Zzt"
   },
   "source": [
    "## 사칙연산\n",
    "- 정수형 사칙연산, 실수형 사칙연산\n",
    "- 결괏값의 자료형을 잘 살펴본다."
   ]
  },
  {
   "cell_type": "markdown",
   "metadata": {
    "id": "YFZq1tT17mxN"
   },
   "source": [
    "### 정수형 사칙연산\n",
    "- +,-,*,/"
   ]
  },
  {
   "cell_type": "code",
   "execution_count": 20,
   "metadata": {
    "colab": {
     "base_uri": "https://localhost:8080/"
    },
    "id": "hg5LbJ8y7lxV",
    "outputId": "488dbb62-cc82-4bb0-b58b-2929c4ef01ff"
   },
   "outputs": [
    {
     "name": "stdout",
     "output_type": "stream",
     "text": [
      "a+b = 5\n",
      "a-b = 1\n",
      "a*b = 6\n",
      "a/b = 1.5\n",
      "<class 'int'>\n"
     ]
    }
   ],
   "source": [
    "a=3\n",
    "b=2\n",
    "print('a+b =', a+b)\n",
    "print('a-b =', a-b)\n",
    "print('a*b =', a*b)\n",
    "print('a/b =', a/b)"
   ]
  },
  {
   "cell_type": "markdown",
   "metadata": {
    "id": "rfYknRxm74NV"
   },
   "source": [
    "### 실수형 사칙연산"
   ]
  },
  {
   "cell_type": "code",
   "execution_count": 23,
   "metadata": {
    "colab": {
     "base_uri": "https://localhost:8080/"
    },
    "id": "5ZNgX98r756G",
    "outputId": "021bc84b-efc3-41ce-d077-e8cea79f1951"
   },
   "outputs": [
    {
     "name": "stdout",
     "output_type": "stream",
     "text": [
      "a+b = 4.0\n",
      "a-b = -1.0\n",
      "a*b = 3.75\n",
      "a/b = 0.6\n",
      "<class 'float'>\n"
     ]
    }
   ],
   "source": [
    "a=1.5\n",
    "b=2.5\n",
    "print('a+b =', a+b)\n",
    "print('a-b =', a-b)\n",
    "print('a*b =', a*b)\n",
    "print('a/b =', a/b)"
   ]
  },
  {
   "cell_type": "markdown",
   "metadata": {
    "id": "cQ3gBbdpHY2C"
   },
   "source": [
    "### 제곱\n",
    "- a ** b = a의 b제곱"
   ]
  },
  {
   "cell_type": "code",
   "execution_count": 51,
   "metadata": {
    "colab": {
     "base_uri": "https://localhost:8080/"
    },
    "id": "_g3WrWEhHhnz",
    "outputId": "3639a088-04c5-4fc7-b7a9-3d776d6ecb87"
   },
   "outputs": [
    {
     "data": {
      "text/plain": [
       "81"
      ]
     },
     "execution_count": 51,
     "metadata": {},
     "output_type": "execute_result"
    }
   ],
   "source": [
    "a = 3\n",
    "b = 4\n",
    "a ** b"
   ]
  },
  {
   "cell_type": "markdown",
   "metadata": {
    "id": "2uW_BFT_HuaV"
   },
   "source": [
    "### 나눗셈 후\n",
    "- 나머지를 반환 : %\n",
    "- 몫을 반환 : //\n"
   ]
  },
  {
   "cell_type": "code",
   "execution_count": 103,
   "metadata": {
    "colab": {
     "base_uri": "https://localhost:8080/"
    },
    "id": "QNat-EIUH3EK",
    "outputId": "dc4fbb27-d2a0-4c8f-88a5-9b94dc9f5f7f"
   },
   "outputs": [
    {
     "name": "stdout",
     "output_type": "stream",
     "text": [
      "1\n",
      "3\n",
      "1\n",
      "0\n"
     ]
    }
   ],
   "source": [
    "print(7 % 3)\n",
    "print(3 % 7)\n",
    "print(7//4)\n",
    "print(4//7)"
   ]
  },
  {
   "cell_type": "markdown",
   "metadata": {
    "id": "OTjlQq-v9Yt0"
   },
   "source": [
    "## 논리형 연산자\n",
    "- Bool형\n",
    "- True, False 값으로 정의\n",
    "- 조건식\n",
    "  - 교집합(=and), 합집합(= or)"
   ]
  },
  {
   "cell_type": "code",
   "execution_count": 27,
   "metadata": {
    "colab": {
     "base_uri": "https://localhost:8080/"
    },
    "id": "10cw3Iwl9vDc",
    "outputId": "c2a93e9a-e8a5-470a-9698-49a8eddc6921"
   },
   "outputs": [
    {
     "name": "stdout",
     "output_type": "stream",
     "text": [
      "True\n",
      "False\n",
      "False\n",
      "False\n"
     ]
    }
   ],
   "source": [
    "print(True and True)\n",
    "print(True and False)\n",
    "print(False and True)\n",
    "print(False and False)"
   ]
  },
  {
   "cell_type": "code",
   "execution_count": 26,
   "metadata": {
    "colab": {
     "base_uri": "https://localhost:8080/"
    },
    "id": "1WThr21l97yu",
    "outputId": "9272f521-02f6-4146-de7a-8ac9efcfa18f"
   },
   "outputs": [
    {
     "name": "stdout",
     "output_type": "stream",
     "text": [
      "True\n",
      "True\n",
      "True\n",
      "False\n"
     ]
    }
   ],
   "source": [
    "print(True or True)\n",
    "print(True or False)\n",
    "print(False or True)\n",
    "print(False or False)"
   ]
  },
  {
   "cell_type": "code",
   "execution_count": 57,
   "metadata": {
    "colab": {
     "base_uri": "https://localhost:8080/"
    },
    "id": "HAg0MBjNIX_k",
    "outputId": "8e77b149-bd6a-4e5e-926a-ee830d9ab416"
   },
   "outputs": [
    {
     "data": {
      "text/plain": [
       "False"
      ]
     },
     "execution_count": 57,
     "metadata": {},
     "output_type": "execute_result"
    }
   ],
   "source": [
    "a=[]\n",
    "bool(a)"
   ]
  },
  {
   "cell_type": "markdown",
   "metadata": {
    "id": "UFa1OpCf-Ku4"
   },
   "source": [
    "## 비교 연산자\n",
    "- 부등호"
   ]
  },
  {
   "cell_type": "code",
   "execution_count": 29,
   "metadata": {
    "colab": {
     "base_uri": "https://localhost:8080/"
    },
    "id": "FBioj5oN-ODs",
    "outputId": "e7bb959e-9e40-4216-c88b-4a429556d74a"
   },
   "outputs": [
    {
     "name": "stdout",
     "output_type": "stream",
     "text": [
      "True\n",
      "False\n",
      "True\n"
     ]
    }
   ],
   "source": [
    "print(4>3) # 참 = True\n",
    "print(4<3) # 거짓 = False\n",
    "print(4>3 or 3<4)"
   ]
  },
  {
   "cell_type": "markdown",
   "metadata": {
    "id": "YF5tyNYs-sL3"
   },
   "source": [
    "## 논리형 & 비교연산자 응용\n",
    "- input()\n",
    "- 형변환\n",
    "  - 데이터 타입을 변환"
   ]
  },
  {
   "cell_type": "code",
   "execution_count": 35,
   "metadata": {
    "colab": {
     "base_uri": "https://localhost:8080/"
    },
    "id": "eJaZHrEP_fus",
    "outputId": "7a5567d3-00a2-44d5-8de0-e9c77ac44e7a"
   },
   "outputs": [
    {
     "name": "stdout",
     "output_type": "stream",
     "text": [
      "숫자를 입력하세요1\n",
      "1\n",
      "<class 'str'>\n"
     ]
    }
   ],
   "source": [
    "var= input(\"숫자를 입력하세요\")\n",
    "print(var)\n",
    "print(type(var))"
   ]
  },
  {
   "cell_type": "code",
   "execution_count": 34,
   "metadata": {
    "colab": {
     "base_uri": "https://localhost:8080/"
    },
    "id": "ow-zkl2U-7GE",
    "outputId": "ec3e557e-f4f7-44d5-d3e7-40eb05e939da"
   },
   "outputs": [
    {
     "name": "stdout",
     "output_type": "stream",
     "text": [
      "숫자를 입력하세요1\n",
      "1\n",
      "<class 'int'>\n"
     ]
    }
   ],
   "source": [
    "var= int(input(\"숫자를 입력하세요\"))\n",
    "print(var)\n",
    "print(type(var))"
   ]
  },
  {
   "cell_type": "code",
   "execution_count": 36,
   "metadata": {
    "colab": {
     "base_uri": "https://localhost:8080/"
    },
    "id": "FnBQhdCf_war",
    "outputId": "494a04d8-fea5-4fa9-db2a-3eda1573cf56"
   },
   "outputs": [
    {
     "name": "stdout",
     "output_type": "stream",
     "text": [
      "첫번째를 입력하세요2\n",
      "두번째를 입력하세요45\n",
      "세번째를 입력하세요11\n",
      "네번째를 입력하세요90\n"
     ]
    }
   ],
   "source": [
    "num1= int(input(\"첫번째를 입력하세요\"))\n",
    "num2= int(input(\"두번째를 입력하세요\"))\n",
    "num3= int(input(\"세번째를 입력하세요\"))\n",
    "num4= int(input(\"네번째를 입력하세요\"))"
   ]
  },
  {
   "cell_type": "code",
   "execution_count": 38,
   "metadata": {
    "id": "YWDza_J1_7sU"
   },
   "outputs": [],
   "source": [
    "var1 = num1 >= num2 \n",
    "var2 = num3 < num4 "
   ]
  },
  {
   "cell_type": "code",
   "execution_count": 40,
   "metadata": {
    "colab": {
     "base_uri": "https://localhost:8080/"
    },
    "id": "fX1MnhiiAC4k",
    "outputId": "8e45e1b9-59d3-4b86-cfa7-9b296c824b6d"
   },
   "outputs": [
    {
     "name": "stdout",
     "output_type": "stream",
     "text": [
      "False\n"
     ]
    }
   ],
   "source": [
    "print(var1 and var2) "
   ]
  },
  {
   "cell_type": "markdown",
   "metadata": {
    "id": "NRRWOTo2BvQE"
   },
   "source": [
    "## String\n",
    "- Non Scalar"
   ]
  },
  {
   "cell_type": "code",
   "execution_count": null,
   "metadata": {
    "id": "Rb3HhSz0B4Nz"
   },
   "outputs": [],
   "source": [
    "print('Hello World')"
   ]
  },
  {
   "cell_type": "code",
   "execution_count": 42,
   "metadata": {
    "colab": {
     "base_uri": "https://localhost:8080/"
    },
    "id": "uh7NeGsGB7RD",
    "outputId": "73039f8f-417a-4b93-ba03-0258ef7c1fd9"
   },
   "outputs": [
    {
     "name": "stdout",
     "output_type": "stream",
     "text": [
      "Hello World\n",
      "'Hello World'\n",
      "\"Hello World\"\n"
     ]
    }
   ],
   "source": [
    "print(\"Hello World\")\n",
    "print (\"'Hello World'\")\n",
    "print('\"Hello World\"')"
   ]
  },
  {
   "cell_type": "markdown",
   "metadata": {
    "id": "ea-S6YR5CagO"
   },
   "source": [
    "## String Operartors\n",
    "- 문자열 연산자\n",
    "- +, *만 가능"
   ]
  },
  {
   "cell_type": "code",
   "execution_count": 46,
   "metadata": {
    "colab": {
     "base_uri": "https://localhost:8080/"
    },
    "id": "W0Gpr54RCmBj",
    "outputId": "a36773a6-57b3-4cb1-949a-948cc43ca973"
   },
   "outputs": [
    {
     "name": "stdout",
     "output_type": "stream",
     "text": [
      "Hello World\n"
     ]
    }
   ],
   "source": [
    "str1 = \"Hello \"\n",
    "str2 = \"World\"\n",
    "print(str1 + str2)"
   ]
  },
  {
   "cell_type": "code",
   "execution_count": 47,
   "metadata": {
    "colab": {
     "base_uri": "https://localhost:8080/"
    },
    "id": "3C0DcaD9C2mb",
    "outputId": "33fc11f8-8cef-411e-bb15-b0b9d4e6a9eb"
   },
   "outputs": [
    {
     "name": "stdout",
     "output_type": "stream",
     "text": [
      "Hello WorldHello WorldHello WorldHello WorldHello WorldHello World\n"
     ]
    }
   ],
   "source": [
    "greet = str1 + str2\n",
    "print(greet * 6)"
   ]
  },
  {
   "cell_type": "markdown",
   "metadata": {
    "id": "anjA40_Dhvgg"
   },
   "source": [
    "## 문자열 인덱싱\n",
    " - 인뎅싱은 0번째 부터 시작"
   ]
  },
  {
   "cell_type": "code",
   "execution_count": 111,
   "metadata": {
    "colab": {
     "base_uri": "https://localhost:8080/"
    },
    "id": "1VhhA0CAh1ox",
    "outputId": "b5aa419c-2363-4d56-f927-d96e086351a9"
   },
   "outputs": [
    {
     "name": "stdout",
     "output_type": "stream",
     "text": [
      "e\n"
     ]
    }
   ],
   "source": [
    "greeting = \"Hello Kaggle\"\n",
    "i = 1\n",
    "print(greeting[i])"
   ]
  },
  {
   "cell_type": "markdown",
   "metadata": {
    "id": "huaH7WNhizoH"
   },
   "source": [
    "## 슬라이싱\n",
    "- 값의 순서가 존재해야 가능"
   ]
  },
  {
   "cell_type": "code",
   "execution_count": 121,
   "metadata": {
    "colab": {
     "base_uri": "https://localhost:8080/"
    },
    "id": "NCeSKDV1i2fV",
    "outputId": "bdf786c1-7b41-4b27-bac4-c00f038c1e81"
   },
   "outputs": [
    {
     "name": "stdout",
     "output_type": "stream",
     "text": [
      "Hello \n",
      "Kaggle\n",
      "HlKg\n",
      "Hog\n"
     ]
    }
   ],
   "source": [
    "greeting = \"Hello Kaggle\"\n",
    "#print(greeting[시작인덱스:끝인덱스-1])\n",
    "print(greeting[:6])\n",
    "print(greeting[6:])\n",
    "print(greeting[0:10:3]) # 0~10인덱스까지 3의 간격을두고\n",
    "print(greeting[0:10:4])"
   ]
  },
  {
   "cell_type": "markdown",
   "metadata": {
    "id": "PGaFaN95gI3W"
   },
   "source": [
    "## Practice \n",
    "- 홍길동 씨의 과목별 점수는 다음과 같다. 홍길동 씨의 평균점수를 구해보자\n"
   ]
  },
  {
   "cell_type": "code",
   "execution_count": 102,
   "metadata": {
    "colab": {
     "base_uri": "https://localhost:8080/"
    },
    "id": "5jRugKxZgZdv",
    "outputId": "c43f0c85-d5dd-4d51-e029-ff39f4551b3e"
   },
   "outputs": [
    {
     "name": "stdout",
     "output_type": "stream",
     "text": [
      "70.0\n"
     ]
    }
   ],
   "source": [
    "print((80+75+55)/3)"
   ]
  },
  {
   "cell_type": "markdown",
   "metadata": {
    "id": "cftKLqCyg9lx"
   },
   "source": [
    "- 자연수 13이 홀수인지 짝수인지 판별할 수 있는 방법에 대해 말해보자"
   ]
  },
  {
   "cell_type": "code",
   "execution_count": null,
   "metadata": {
    "id": "ol00n-bihCW2"
   },
   "outputs": [],
   "source": [
    "# 자연수를 2로 나누었을 때 나머지가 0이면 짝수, 1이면 홀수이다."
   ]
  },
  {
   "cell_type": "markdown",
   "metadata": {
    "id": "cZ8rP9hr4bXi"
   },
   "source": [
    "- 홍길동 씨의 주민등록번호는 881120-1068234이다. 홍길동 씨의 주민등록번호를 연월일(YYYYMMDD) 부분과 그 뒤의 숫자 부분으로 나누어 출력해 보자."
   ]
  },
  {
   "cell_type": "code",
   "execution_count": 173,
   "metadata": {
    "colab": {
     "base_uri": "https://localhost:8080/"
    },
    "id": "xEwSaKW64fPq",
    "outputId": "d98528f0-e307-42d0-df70-a74e8f08a884"
   },
   "outputs": [
    {
     "name": "stdout",
     "output_type": "stream",
     "text": [
      "881120\n",
      "1068234\n"
     ]
    }
   ],
   "source": [
    "a=\"881120-1068234\"\n",
    "print(a[:6])\n",
    "print(a[7:])"
   ]
  },
  {
   "cell_type": "markdown",
   "metadata": {
    "id": "HWJkKbXI7JCS"
   },
   "source": [
    "- 주민등록번호 뒷자리의 맨 첫 번째 숫자는 성별을 나타낸다. 주민등록번호에서 성별을 나타내는 숫자를 출력해 보자."
   ]
  },
  {
   "cell_type": "code",
   "execution_count": 174,
   "metadata": {
    "colab": {
     "base_uri": "https://localhost:8080/",
     "height": 35
    },
    "id": "nzbnZ54M7LS5",
    "outputId": "3b7f81bb-df0a-4d58-8011-3de859fd43ab"
   },
   "outputs": [
    {
     "data": {
      "application/vnd.google.colaboratory.intrinsic+json": {
       "type": "string"
      },
      "text/plain": [
       "'1'"
      ]
     },
     "execution_count": 174,
     "metadata": {},
     "output_type": "execute_result"
    }
   ],
   "source": [
    "pin=\"881120-1068234\"\n",
    "pin[7]"
   ]
  },
  {
   "cell_type": "markdown",
   "metadata": {
    "id": "2dM5gGvv7TUB"
   },
   "source": [
    "- 다음과 같은 문자열 a:b:c:d가 있다. 문자열의 replace 함수를 사용하여 a#b#c#d로 바꿔서 출력해 보자."
   ]
  },
  {
   "cell_type": "code",
   "execution_count": 217,
   "metadata": {
    "colab": {
     "base_uri": "https://localhost:8080/"
    },
    "id": "tNtOYfzP7lrB",
    "outputId": "5a219680-77f2-4723-b32c-80dde9b379b9"
   },
   "outputs": [
    {
     "name": "stdout",
     "output_type": "stream",
     "text": [
      "a#b#c#d\n"
     ]
    }
   ],
   "source": [
    "a=\"a:b:c:d\"\n",
    "b=a.replace(\":\",\"#\")\n",
    "print(b)"
   ]
  },
  {
   "cell_type": "markdown",
   "metadata": {
    "id": "Y10ZO6oFMkcA"
   },
   "source": [
    "- [1, 3, 5, 4, 2] 리스트를 [5, 4, 3, 2, 1]로 만들어 보자."
   ]
  },
  {
   "cell_type": "code",
   "execution_count": 222,
   "metadata": {
    "colab": {
     "base_uri": "https://localhost:8080/"
    },
    "id": "lByZ8Sv0MnBW",
    "outputId": "5a26cefc-1733-414f-80da-8f03a59fca3a"
   },
   "outputs": [
    {
     "name": "stdout",
     "output_type": "stream",
     "text": [
      "[5, 4, 3, 2, 1]\n"
     ]
    }
   ],
   "source": [
    "a = [1,3,5,4,2]\n",
    "a.sort(reverse=True)\n",
    "print(a)"
   ]
  },
  {
   "cell_type": "markdown",
   "metadata": {
    "id": "ZD7uj6NSNFYz"
   },
   "source": [
    "- ['Life', 'is', 'too', 'short'] 리스트를 Life is too short 문자열로 만들어 출력해 보자."
   ]
  },
  {
   "cell_type": "code",
   "execution_count": 226,
   "metadata": {
    "colab": {
     "base_uri": "https://localhost:8080/"
    },
    "id": "Zr49LL-LNRKu",
    "outputId": "57340715-47dc-41d8-d614-b32fee55ccfb"
   },
   "outputs": [
    {
     "name": "stdout",
     "output_type": "stream",
     "text": [
      "Life is too short\n"
     ]
    }
   ],
   "source": [
    "a = ['Life', 'is', 'too', 'short']\n",
    "result = \" \".join(a)\n",
    "print(result)"
   ]
  },
  {
   "cell_type": "markdown",
   "metadata": {
    "id": "8zkMGz8gNiLP"
   },
   "source": [
    "- (1,2,3) 튜플에 값 4를 추가하여 (1,2,3,4)를 만들어 출력해 보자."
   ]
  },
  {
   "cell_type": "code",
   "execution_count": 232,
   "metadata": {
    "colab": {
     "base_uri": "https://localhost:8080/"
    },
    "id": "82N0BpV3NlQm",
    "outputId": "8123206a-3fb4-41c1-d2e9-988891769932"
   },
   "outputs": [
    {
     "name": "stdout",
     "output_type": "stream",
     "text": [
      "(1, 2, 3, 4)\n"
     ]
    }
   ],
   "source": [
    "a=(1,2,3)\n",
    "b=(4,)\n",
    "print(a + b)"
   ]
  },
  {
   "cell_type": "markdown",
   "metadata": {
    "id": "ZYgn4jRGN84O"
   },
   "source": [
    "- 다음과 같은 딕셔너리 a가 있다. 다음 중 오류가 발생하는 경우를 고르고, 그 이유를 설명해 보자.\n",
    "  - a['name'] = 'python'\n",
    "  - a[('a',)] = 'python'\n",
    "  - a[[1]] = 'python'\n",
    "  - a[250] = 'python'"
   ]
  },
  {
   "cell_type": "code",
   "execution_count": 239,
   "metadata": {
    "colab": {
     "base_uri": "https://localhost:8080/"
    },
    "id": "4rr8mVq2OHUO",
    "outputId": "d54a213c-f8a1-443c-dacb-3a8f2e774256"
   },
   "outputs": [
    {
     "name": "stdout",
     "output_type": "stream",
     "text": [
      "{'name': 'python', ('a',): 'python', 250: 'python'}\n"
     ]
    }
   ],
   "source": [
    "a=dict()\n",
    "a\n",
    "a['name']='python'\n",
    "a[('a',)]='python'\n",
    "a[250] = 'python' # 리스트는 딕셔\n",
    "print(a)"
   ]
  },
  {
   "cell_type": "markdown",
   "metadata": {
    "id": "XVuMM-UJOhp-"
   },
   "source": [
    "- 딕셔너리 a에서 'B'에 해당되는 값을 추출해 보자."
   ]
  },
  {
   "cell_type": "code",
   "execution_count": 243,
   "metadata": {
    "colab": {
     "base_uri": "https://localhost:8080/"
    },
    "id": "3036jsl0O2JX",
    "outputId": "ae5eaf5b-f251-45aa-ba80-088263839d2b"
   },
   "outputs": [
    {
     "name": "stdout",
     "output_type": "stream",
     "text": [
      "80\n"
     ]
    }
   ],
   "source": [
    "a = {'A':90, 'B':80,'C':70}\n",
    "b=a.pop('B')  #'B'의 value를 b함수에 저장\n",
    "print(b)"
   ]
  },
  {
   "cell_type": "markdown",
   "metadata": {
    "id": "334AjqWyPXsW"
   },
   "source": [
    "- a 리스트에서 중복 숫자를 제거해 보자."
   ]
  },
  {
   "cell_type": "code",
   "execution_count": 245,
   "metadata": {
    "colab": {
     "base_uri": "https://localhost:8080/"
    },
    "id": "P-vGeoamPdMO",
    "outputId": "60b3342c-8f6d-40eb-866c-d00eed7df67d"
   },
   "outputs": [
    {
     "name": "stdout",
     "output_type": "stream",
     "text": [
      "{1, 2, 3, 4, 5}\n"
     ]
    }
   ],
   "source": [
    "a=[1,1,1,2,2,3,3,3,4,4,5]\n",
    "s1=set(a)  # 집합 자료형의 요솟값이 중복이 될 수 없다는 특징을 활용\n",
    "print(s1)"
   ]
  },
  {
   "cell_type": "markdown",
   "metadata": {
    "id": "NyScngLw881h"
   },
   "source": [
    "## 조건문\n",
    "### if 조건문"
   ]
  },
  {
   "cell_type": "code",
   "execution_count": 186,
   "metadata": {
    "colab": {
     "base_uri": "https://localhost:8080/"
    },
    "id": "yGq9QNqk9L_J",
    "outputId": "f42f397e-1da4-4cd6-dca9-eee946d6df47"
   },
   "outputs": [
    {
     "name": "stdout",
     "output_type": "stream",
     "text": [
      "a는 매우작다\n"
     ]
    }
   ],
   "source": [
    "a = -5\n",
    "if a > 5:\n",
    "  print(\"a는 5보다 크다\")\n",
    "elif a > 0:\n",
    "  print(\"a는 0보다 크다\")\n",
    "elif a >-5:\n",
    "  print(\"a는 -5보다 크다\")\n",
    "else:\n",
    "  print(\"a는 매우작다\")"
   ]
  },
  {
   "cell_type": "markdown",
   "metadata": {
    "id": "TRTGLnmN_NTS"
   },
   "source": [
    "## 반복문\n"
   ]
  },
  {
   "cell_type": "markdown",
   "metadata": {
    "id": "DsgGUnRZFJAQ"
   },
   "source": [
    "### for 조건문"
   ]
  },
  {
   "cell_type": "code",
   "execution_count": null,
   "metadata": {
    "id": "3_xStArFC3BN"
   },
   "outputs": [],
   "source": [
    "for i in range(10):\n",
    "  #print(i+1)\n",
    "  print(\"Hello World\")"
   ]
  },
  {
   "cell_type": "markdown",
   "metadata": {
    "id": "oM1tDl6IC5OK"
   },
   "source": [
    "- for loop if 조건문 사용\n",
    "- 문자열, 리스트 등 --> 시퀀스 데이터\n"
   ]
  },
  {
   "cell_type": "code",
   "execution_count": 200,
   "metadata": {
    "colab": {
     "base_uri": "https://localhost:8080/"
    },
    "id": "ZzK-lUJGC7Q_",
    "outputId": "5ed9d221-da6f-4e5a-ff31-d55a988dc786"
   },
   "outputs": [
    {
     "name": "stdout",
     "output_type": "stream",
     "text": [
      "k\n",
      "a\n",
      "g\n"
     ]
    }
   ],
   "source": [
    "a= \"kaggle\"\n",
    "# g가 시작하면 반복문을 멈춰라\n",
    "for x in a:\n",
    "  print(x)\n",
    "  if x == 'g':\n",
    "    break"
   ]
  },
  {
   "cell_type": "markdown",
   "metadata": {
    "id": "NPgdd-WoEeGj"
   },
   "source": [
    "### emumerate()"
   ]
  },
  {
   "cell_type": "code",
   "execution_count": 206,
   "metadata": {
    "colab": {
     "base_uri": "https://localhost:8080/"
    },
    "id": "eH0wW6R_Egig",
    "outputId": "19cce765-761c-40b4-a3c6-ca2c9c37d571"
   },
   "outputs": [
    {
     "name": "stdout",
     "output_type": "stream",
     "text": [
      "0 a\n",
      "1 b\n",
      "2 c\n"
     ]
    }
   ],
   "source": [
    "alphabets = [\"a\", \"b\", \"c\"]\n",
    "for index, value in enumerate(alphabets):\n",
    "  print(index, value)"
   ]
  },
  {
   "cell_type": "markdown",
   "metadata": {
    "id": "M-dCn7mCFaHl"
   },
   "source": []
  },
  {
   "cell_type": "markdown",
   "metadata": {
    "id": "5aOJTZn4FP2j"
   },
   "source": [
    "### 리스트 컴프리헨션(List Comprehension)\n",
    "- 반복문을 한줄로 \n"
   ]
  },
  {
   "cell_type": "code",
   "execution_count": 211,
   "metadata": {
    "colab": {
     "base_uri": "https://localhost:8080/"
    },
    "id": "_5AoasxXFPoQ",
    "outputId": "a667b4d9-0e82-4cc6-ef1b-28193c6bc0eb"
   },
   "outputs": [
    {
     "name": "stdout",
     "output_type": "stream",
     "text": [
      "['apple', 'mango']\n"
     ]
    }
   ],
   "source": [
    "fruits = ['apple','kiwi','mango']\n",
    "newlists = []\n",
    "# 알파벳 a가 있는 과일만 추출 후, 새로운 리스트에 담기\n",
    "for fruits in fruits:\n",
    "  #print(fruits)\n",
    "  if \"a\" in fruits:\n",
    "    newlists.append(fruits)\n",
    "print(newlists) "
   ]
  },
  {
   "cell_type": "code",
   "execution_count": 216,
   "metadata": {
    "colab": {
     "base_uri": "https://localhost:8080/"
    },
    "id": "F9iIaJNBGMdw",
    "outputId": "cce3419d-e4fc-4d34-90e2-0ef1cda3e5c3"
   },
   "outputs": [
    {
     "name": "stdout",
     "output_type": "stream",
     "text": [
      "['apple', 'mango']\n"
     ]
    }
   ],
   "source": [
    "# 리스트 컴프리헨션\n",
    "fruits = ['apple','kiwi','mango']\n",
    "newlists = []\n",
    "newlist = [fruits for fruits in fruits if 'a' in fruits]\n",
    "print(newlist)"
   ]
  }
 ],
 "metadata": {
  "colab": {
   "collapsed_sections": [],
   "name": "day0627.ipynb",
   "provenance": [],
   "toc_visible": true
  },
  "kernelspec": {
   "display_name": "Python 3 (ipykernel)",
   "language": "python",
   "name": "python3"
  },
  "language_info": {
   "codemirror_mode": {
    "name": "ipython",
    "version": 3
   },
   "file_extension": ".py",
   "mimetype": "text/x-python",
   "name": "python",
   "nbconvert_exporter": "python",
   "pygments_lexer": "ipython3",
   "version": "3.9.12"
  }
 },
 "nbformat": 4,
 "nbformat_minor": 4
}

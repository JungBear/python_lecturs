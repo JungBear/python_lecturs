{
 "cells": [
  {
   "cell_type": "markdown",
   "metadata": {
    "id": "VMQoLfYTmcF9"
   },
   "source": [
    "---\n",
    "title: \"Day-7 Python And Basic Grammar\"\n",
    "output:\n",
    "  html_document:\n",
    "    keep_md: true\n",
    "date: '2022-06-28'\n",
    "---"
   ]
  },
  {
   "cell_type": "markdown",
   "metadata": {
    "id": "jKY0wlIYmfd7"
   },
   "source": [
    "# Python Basic Grammer"
   ]
  },
  {
   "cell_type": "markdown",
   "metadata": {
    "id": "X-2McwNLpLJh"
   },
   "source": [
    "## 반복문\n"
   ]
  },
  {
   "cell_type": "markdown",
   "metadata": {
    "id": "VShtzKxdpzNS"
   },
   "source": [
    "### for loop"
   ]
  },
  {
   "cell_type": "code",
   "execution_count": 2,
   "metadata": {
    "colab": {
     "base_uri": "https://localhost:8080/"
    },
    "id": "7SEwSV_Zp1KC",
    "outputId": "0b466e9d-91bb-4345-ca65-8a1e71e3ebb8"
   },
   "outputs": [
    {
     "name": "stdout",
     "output_type": "stream",
     "text": [
      "Hello World\n",
      "Hello World\n",
      "Hello World\n"
     ]
    }
   ],
   "source": [
    "for i in range(3):\n",
    "  print(\"Hello World\")"
   ]
  },
  {
   "cell_type": "markdown",
   "metadata": {
    "id": "FgNBmX9mr_yy"
   },
   "source": [
    "- 리스트 총합 구하기"
   ]
  },
  {
   "cell_type": "code",
   "execution_count": 5,
   "metadata": {
    "colab": {
     "base_uri": "https://localhost:8080/"
    },
    "id": "GFMuU84UsB-A",
    "outputId": "244e21be-7b23-4514-e25a-cb91ee568e69"
   },
   "outputs": [
    {
     "name": "stdout",
     "output_type": "stream",
     "text": [
      "number:  1\n",
      "total:  1\n",
      "number:  2\n",
      "total:  3\n",
      "number:  3\n",
      "total:  6\n",
      "number:  4\n",
      "total:  10\n",
      "number:  5\n",
      "total:  15\n"
     ]
    }
   ],
   "source": [
    "number = [1,2,3,4,5]\n",
    "sum=0\n",
    "\n",
    "for num in number:\n",
    "  print(\"number: \",num)\n",
    "  sum = sum + num\n",
    "  print(\"total: \",sum)\n",
    "  "
   ]
  },
  {
   "cell_type": "markdown",
   "metadata": {
    "id": "YA59rJyOpcsR"
   },
   "source": [
    "### while loop"
   ]
  },
  {
   "cell_type": "markdown",
   "metadata": {
    "id": "p5_lddxdws4g"
   },
   "source": [
    "- 분석할 때 거의 쓸 일이 없음"
   ]
  },
  {
   "cell_type": "code",
   "execution_count": 19,
   "metadata": {
    "colab": {
     "base_uri": "https://localhost:8080/"
    },
    "id": "CvB7b4yIvPYS",
    "outputId": "7a740d4f-b648-4b86-b4fb-b7686ffa4b8a"
   },
   "outputs": [
    {
     "name": "stdout",
     "output_type": "stream",
     "text": [
      "1\n",
      "2\n",
      "3\n",
      "4\n",
      "5\n",
      "6\n",
      "7\n",
      "8\n",
      "9\n",
      "10\n"
     ]
    }
   ],
   "source": [
    "i=0\n",
    "while i<10:\n",
    "  i+=1\n",
    "  print(i)\n"
   ]
  },
  {
   "cell_type": "markdown",
   "metadata": {
    "id": "3jvoJfSqxU4Y"
   },
   "source": [
    "## 사용자 정의 함수\n",
    "- 내가 필요에 의해서 직접 함수를 작성"
   ]
  },
  {
   "cell_type": "code",
   "execution_count": 30,
   "metadata": {
    "id": "h9_A9EVZwJP5"
   },
   "outputs": [],
   "source": [
    "def 함수명(param1, param2):\n",
    "  #코드\n",
    "  return None"
   ]
  },
  {
   "cell_type": "markdown",
   "metadata": {
    "id": "fIyBNt2t08aX"
   },
   "source": [
    "- 사칙연산"
   ]
  },
  {
   "cell_type": "code",
   "execution_count": 43,
   "metadata": {
    "colab": {
     "base_uri": "https://localhost:8080/"
    },
    "id": "KeWuRVk3xkO_",
    "outputId": "02d69ae8-57bf-4e8d-832a-fc656d0e5688"
   },
   "outputs": [
    {
     "name": "stdout",
     "output_type": "stream",
     "text": [
      "9\n",
      "1\n"
     ]
    }
   ],
   "source": [
    "def add(a=0, b=1):\n",
    "  c = a + b \n",
    "  return c\n",
    "  #return  a + b\n",
    "print(add(a=5,b=4))\n",
    "print(add()) "
   ]
  },
  {
   "cell_type": "code",
   "execution_count": 53,
   "metadata": {
    "colab": {
     "base_uri": "https://localhost:8080/"
    },
    "id": "Hn13gF7C06Cg",
    "outputId": "b56b6769-ece5-45dd-e7d9-fa4f1f55d454"
   },
   "outputs": [
    {
     "name": "stdout",
     "output_type": "stream",
     "text": [
      "15\n"
     ]
    }
   ],
   "source": [
    "def x(a=2,b=3,d=5):\n",
    "  c = a * b \n",
    "  return c\n",
    "print(x(5,3,2))"
   ]
  },
  {
   "cell_type": "code",
   "execution_count": 51,
   "metadata": {
    "colab": {
     "base_uri": "https://localhost:8080/"
    },
    "id": "WcAH4kgC1UFg",
    "outputId": "52471b66-1b35-4b0f-834e-937fe799a649"
   },
   "outputs": [
    {
     "name": "stdout",
     "output_type": "stream",
     "text": [
      "3.3333333333333335\n"
     ]
    }
   ],
   "source": [
    "def y(a=2,b=3):\n",
    "  c = a/b\n",
    "  return c\n",
    "print(y(10,3))"
   ]
  },
  {
   "cell_type": "code",
   "execution_count": 50,
   "metadata": {
    "colab": {
     "base_uri": "https://localhost:8080/"
    },
    "id": "TOHk5onS1hBX",
    "outputId": "05ec8858-fcec-4cfc-ad49-806d35f51997"
   },
   "outputs": [
    {
     "name": "stdout",
     "output_type": "stream",
     "text": [
      "7\n"
     ]
    }
   ],
   "source": [
    "def z(a=3,b=5):\n",
    "  c=a-b\n",
    "  return c\n",
    "print(z(10,3)) "
   ]
  },
  {
   "cell_type": "markdown",
   "metadata": {
    "id": "veThO1YG023o"
   },
   "source": [
    "### 함수 문서화"
   ]
  },
  {
   "cell_type": "markdown",
   "metadata": {
    "id": "E16MArs55yZu"
   },
   "source": [
    "- Docstring\n"
   ]
  },
  {
   "cell_type": "code",
   "execution_count": 57,
   "metadata": {
    "colab": {
     "base_uri": "https://localhost:8080/"
    },
    "id": "mjz_q3Tk6kqX",
    "outputId": "16101397-2599-4083-8388-7bd3d54c758b"
   },
   "outputs": [
    {
     "name": "stdout",
     "output_type": "stream",
     "text": [
      "-5\n",
      "a,b를 빼는 함수\n",
      "  Parameters:\n",
      "  a(int): int형 숫자 a가 입력\n",
      "  b(int): int형 숫자 a가 입력\n",
      "  Returns:\n",
      "    int:반환값\n",
      "  \n"
     ]
    }
   ],
   "source": [
    "def subtract(a,b):\n",
    "  \"\"\"a,b를 빼는 함수\n",
    "  Parameters:\n",
    "  a(int): int형 숫자 a가 입력\n",
    "  b(int): int형 숫자 a가 입력\n",
    "  Returns:\n",
    "    int:반환값\n",
    "  \"\"\"\n",
    "  return a-b\n",
    "print(subtract(5,10))\n",
    "print(subtract.__doc__)"
   ]
  },
  {
   "cell_type": "markdown",
   "metadata": {
    "id": "6cNzgJyb9Yg1"
   },
   "source": [
    "## Numpy"
   ]
  },
  {
   "cell_type": "markdown",
   "metadata": {
    "id": "ul37TWWg9g7e"
   },
   "source": [
    "- 숫자계산을 위해 나온 라이브러리\n",
    "- 리스트 -> 행렬(배열)로 변환\n",
    "  - (2,3) : 2행 3열, (3,2) : 3행 2열\n"
   ]
  },
  {
   "cell_type": "code",
   "execution_count": 60,
   "metadata": {
    "colab": {
     "base_uri": "https://localhost:8080/"
    },
    "id": "oU2eaOON_rPd",
    "outputId": "57f7968f-8041-46c9-d263-8f86fc4759da"
   },
   "outputs": [
    {
     "name": "stdout",
     "output_type": "stream",
     "text": [
      "1.21.6\n"
     ]
    }
   ],
   "source": [
    "import numpy as np\n",
    "print(np.__version__)"
   ]
  },
  {
   "cell_type": "code",
   "execution_count": 65,
   "metadata": {
    "colab": {
     "base_uri": "https://localhost:8080/"
    },
    "id": "vWE6d9RqEJ7M",
    "outputId": "a2f43ee6-be23-43bc-99f6-a05b78cef900"
   },
   "outputs": [
    {
     "name": "stdout",
     "output_type": "stream",
     "text": [
      "<class 'list'>\n",
      "<class 'numpy.ndarray'>\n"
     ]
    }
   ],
   "source": [
    "temp=[1,2,3]\n",
    "temp_array = np.array(temp) # 리스트에서 배열로 numpy를 사용해서 변환\n",
    "print(type(temp))\n",
    "print(type(temp_array))"
   ]
  },
  {
   "cell_type": "markdown",
   "metadata": {
    "id": "ykb74dtcEgYN"
   },
   "source": [
    "### 사칙연산"
   ]
  },
  {
   "cell_type": "code",
   "execution_count": 72,
   "metadata": {
    "colab": {
     "base_uri": "https://localhost:8080/"
    },
    "id": "FVqUMYPaEckc",
    "outputId": "a1541d04-356c-4dc2-a100-f7575ffe9a5e"
   },
   "outputs": [
    {
     "name": "stdout",
     "output_type": "stream",
     "text": [
      "[170 120 150]\n",
      "<class 'numpy.ndarray'>\n"
     ]
    }
   ],
   "source": [
    "math_score = [90,30,50]\n",
    "eng_score = [80,90,100]\n",
    "\n",
    "math_array = np.array(math_score) # math_score의 리스트타입을 배열타입으로 변환\n",
    "eng_array = np.array(eng_score) # eng_score의 리스트타입을 배열타입으로 변환\n",
    "\n",
    "total = math_array + eng_array\n",
    "print(total)\n",
    "print(type(total))"
   ]
  },
  {
   "cell_type": "markdown",
   "metadata": {
    "id": "QkzogR5-FdqN"
   },
   "source": [
    "### 집계함수"
   ]
  },
  {
   "cell_type": "code",
   "execution_count": 74,
   "metadata": {
    "colab": {
     "base_uri": "https://localhost:8080/"
    },
    "id": "wbqHPbKfFfeE",
    "outputId": "7388ad2a-0a99-4903-c17a-101eddafe70d"
   },
   "outputs": [
    {
     "name": "stdout",
     "output_type": "stream",
     "text": [
      "120\n",
      "170\n",
      "440\n"
     ]
    }
   ],
   "source": [
    "print(np.min(total))\n",
    "print(np.max(total))\n",
    "print(np.sum(total))"
   ]
  },
  {
   "cell_type": "markdown",
   "metadata": {
    "id": "YOowsZTuF0gd"
   },
   "source": [
    "### 차원 확인\n",
    "- 배열의 차원 확인 필요"
   ]
  },
  {
   "cell_type": "code",
   "execution_count": 80,
   "metadata": {
    "colab": {
     "base_uri": "https://localhost:8080/"
    },
    "id": "WFjxVt_wF7uL",
    "outputId": "3ccf6b79-043e-49a8-98b1-e6a3177a2f85"
   },
   "outputs": [
    {
     "name": "stdout",
     "output_type": "stream",
     "text": [
      "(3,)\n",
      "1\n",
      "[1 2 3]\n"
     ]
    }
   ],
   "source": [
    "# 1차원\n",
    "temp_arr = np.array([1,2,3])\n",
    "print(temp_arr.shape) # 1차원임을 보여줌\n",
    "print(temp_arr.ndim) # n차원에서 n을 출력\n",
    "print(temp_arr)"
   ]
  },
  {
   "cell_type": "code",
   "execution_count": 82,
   "metadata": {
    "colab": {
     "base_uri": "https://localhost:8080/"
    },
    "id": "gQpWIH7dGZ1X",
    "outputId": "c7718311-63e3-4dae-ddba-ae0c0f85ff6d"
   },
   "outputs": [
    {
     "name": "stdout",
     "output_type": "stream",
     "text": [
      "(2, 3)\n",
      "2\n",
      "[[1 2 3]\n",
      " [4 5 6]]\n"
     ]
    }
   ],
   "source": [
    "temp_arr = np.array([[1,2,3],[4,5,6]])\n",
    "print(temp_arr.shape) # 2차원임을 보여줌(2행,3열)\n",
    "print(temp_arr.ndim) # n차원에서 n을 출력\n",
    "print(temp_arr)"
   ]
  },
  {
   "cell_type": "code",
   "execution_count": 84,
   "metadata": {
    "colab": {
     "base_uri": "https://localhost:8080/"
    },
    "id": "wGV-CyjOHKRL",
    "outputId": "d7564493-02a7-4b59-959a-bc6ecc1bbf50"
   },
   "outputs": [
    {
     "name": "stdout",
     "output_type": "stream",
     "text": [
      "(3, 2, 3)\n",
      "3\n",
      "[[[ 1  2  3]\n",
      "  [ 4  5  6]]\n",
      "\n",
      " [[ 7  8  9]\n",
      "  [10 11 12]]\n",
      "\n",
      " [[13 14 15]\n",
      "  [16 17 18]]]\n"
     ]
    }
   ],
   "source": [
    "# 3차원 배열 -> 이미지\n",
    "temp_arr = np.array([[[1, 2, 3], [4, 5, 6]], [[7, 8, 9], [10, 11, 12]],[[13,14,15],[16,17,18]]])\n",
    "print(temp_arr.shape)\n",
    "print(temp_arr.ndim)\n",
    "print(temp_arr)"
   ]
  },
  {
   "cell_type": "markdown",
   "metadata": {
    "id": "hYqPpiBjr5jb"
   },
   "source": [
    "### 배열 생성의 다양한 방법\n",
    "- 모두 0으로 채운다."
   ]
  },
  {
   "cell_type": "code",
   "execution_count": 1,
   "metadata": {
    "colab": {
     "base_uri": "https://localhost:8080/"
    },
    "id": "q8ZPrRSWsEMb",
    "outputId": "802d44bb-5232-4be7-a6e3-1c9cda532161"
   },
   "outputs": [
    {
     "name": "stdout",
     "output_type": "stream",
     "text": [
      "1.21.6\n"
     ]
    }
   ],
   "source": [
    "import numpy as np\n",
    "print(np.__version__)"
   ]
  },
  {
   "cell_type": "code",
   "execution_count": 3,
   "metadata": {
    "colab": {
     "base_uri": "https://localhost:8080/"
    },
    "id": "_G5eW7vWsUIN",
    "outputId": "8487f4d0-8d90-4d41-ce90-f4a20a0a449d"
   },
   "outputs": [
    {
     "data": {
      "text/plain": [
       "array([[[0., 0.],\n",
       "        [0., 0.],\n",
       "        [0., 0.],\n",
       "        [0., 0.]],\n",
       "\n",
       "       [[0., 0.],\n",
       "        [0., 0.],\n",
       "        [0., 0.],\n",
       "        [0., 0.]],\n",
       "\n",
       "       [[0., 0.],\n",
       "        [0., 0.],\n",
       "        [0., 0.],\n",
       "        [0., 0.]]])"
      ]
     },
     "execution_count": 3,
     "metadata": {},
     "output_type": "execute_result"
    }
   ],
   "source": [
    "temp_arr = np.zeros((3,4,2))\n",
    "temp_arr"
   ]
  },
  {
   "cell_type": "markdown",
   "metadata": {
    "id": "KKwQkfBlsnz7"
   },
   "source": [
    "- 모두 1로 채운다."
   ]
  },
  {
   "cell_type": "code",
   "execution_count": 5,
   "metadata": {
    "colab": {
     "base_uri": "https://localhost:8080/"
    },
    "id": "Oxyavf0mspPR",
    "outputId": "eff2c3d8-a972-49cc-bc87-d72c53f0ea42"
   },
   "outputs": [
    {
     "data": {
      "text/plain": [
       "array([[[1., 1.],\n",
       "        [1., 1.],\n",
       "        [1., 1.],\n",
       "        [1., 1.]],\n",
       "\n",
       "       [[1., 1.],\n",
       "        [1., 1.],\n",
       "        [1., 1.],\n",
       "        [1., 1.]],\n",
       "\n",
       "       [[1., 1.],\n",
       "        [1., 1.],\n",
       "        [1., 1.],\n",
       "        [1., 1.]]])"
      ]
     },
     "execution_count": 5,
     "metadata": {},
     "output_type": "execute_result"
    }
   ],
   "source": [
    "temp_arr = np.ones((3,4,2))\n",
    "temp_arr"
   ]
  },
  {
   "cell_type": "markdown",
   "metadata": {
    "id": "qnpSbG7PswS9"
   },
   "source": [
    "- 임의의 상수값으로 채운다"
   ]
  },
  {
   "cell_type": "code",
   "execution_count": 7,
   "metadata": {
    "colab": {
     "base_uri": "https://localhost:8080/"
    },
    "id": "0ti45twvs0FU",
    "outputId": "dd6bff34-dcc0-4b2e-a72e-76527afa0b1a"
   },
   "outputs": [
    {
     "data": {
      "text/plain": [
       "array([[[5, 5],\n",
       "        [5, 5],\n",
       "        [5, 5],\n",
       "        [5, 5]],\n",
       "\n",
       "       [[5, 5],\n",
       "        [5, 5],\n",
       "        [5, 5],\n",
       "        [5, 5]],\n",
       "\n",
       "       [[5, 5],\n",
       "        [5, 5],\n",
       "        [5, 5],\n",
       "        [5, 5]]])"
      ]
     },
     "execution_count": 7,
     "metadata": {},
     "output_type": "execute_result"
    }
   ],
   "source": [
    "temp_arr = np.full((3,4,2), 5)\n",
    "temp_arr"
   ]
  },
  {
   "cell_type": "markdown",
   "metadata": {
    "id": "QPRS8VeetU2S"
   },
   "source": [
    "- 최소, 최대 숫자의 범위를 정해두고 각 구간별로 값을 생"
   ]
  },
  {
   "cell_type": "code",
   "execution_count": 8,
   "metadata": {
    "colab": {
     "base_uri": "https://localhost:8080/"
    },
    "id": "S8Zk3F14tYYR",
    "outputId": "568f1009-00da-4f4d-ea02-167d795ff208"
   },
   "outputs": [
    {
     "data": {
      "text/plain": [
       "array([ 5.        ,  5.55555556,  6.11111111,  6.66666667,  7.22222222,\n",
       "        7.77777778,  8.33333333,  8.88888889,  9.44444444, 10.        ])"
      ]
     },
     "execution_count": 8,
     "metadata": {},
     "output_type": "execute_result"
    }
   ],
   "source": [
    "temp_arr = np.linspace(5,10,10) #5~10까지의 랜덤수 10개\n",
    "temp_arr"
   ]
  },
  {
   "cell_type": "markdown",
   "metadata": {
    "id": "FoUXToY2tqvC"
   },
   "source": [
    "- 반복문 시, 자주 등장하는 배"
   ]
  },
  {
   "cell_type": "code",
   "execution_count": 12,
   "metadata": {
    "colab": {
     "base_uri": "https://localhost:8080/"
    },
    "id": "nKfNRUP_txEb",
    "outputId": "7b7dcd18-7c3b-4361-f9f1-ff2aa1b484a5"
   },
   "outputs": [
    {
     "data": {
      "text/plain": [
       "array([1, 3, 5, 7, 9])"
      ]
     },
     "execution_count": 12,
     "metadata": {},
     "output_type": "execute_result"
    }
   ],
   "source": [
    "temp_arr = np.arange(1,11,2) # 1이상 ~ 11미만 까지의 숫자를 2의 간격을 둔다\n",
    "temp_arr"
   ]
  },
  {
   "cell_type": "markdown",
   "metadata": {
    "id": "gaHORe4RuAlq"
   },
   "source": [
    "### 난수생성\n"
   ]
  },
  {
   "cell_type": "code",
   "execution_count": 17,
   "metadata": {
    "colab": {
     "base_uri": "https://localhost:8080/"
    },
    "id": "tEcWpUqAuEHh",
    "outputId": "51f83374-0240-4160-83dc-5330d2581896"
   },
   "outputs": [
    {
     "name": "stdout",
     "output_type": "stream",
     "text": [
      "0.552080448226351\n"
     ]
    }
   ],
   "source": [
    "from numpy import random # numpy라는 class안에 random이라는 매쏘드가 들어간다. \n",
    "x= random.rand()\n",
    "print(x)"
   ]
  },
  {
   "cell_type": "code",
   "execution_count": 18,
   "metadata": {
    "colab": {
     "base_uri": "https://localhost:8080/"
    },
    "id": "gqZckNxEulwR",
    "outputId": "12c90f54-ef1c-47a2-e712-4a287da18416"
   },
   "outputs": [
    {
     "name": "stdout",
     "output_type": "stream",
     "text": [
      "0.41225321175073026\n"
     ]
    }
   ],
   "source": [
    "import numpy\n",
    "x=numpy.random.rand()\n",
    "print(x)"
   ]
  },
  {
   "cell_type": "markdown",
   "metadata": {
    "id": "G9UFPcFnvKiU"
   },
   "source": [
    "- 랜덤 정수값 추출 "
   ]
  },
  {
   "cell_type": "code",
   "execution_count": 28,
   "metadata": {
    "colab": {
     "base_uri": "https://localhost:8080/"
    },
    "id": "4TKkITmLvOcx",
    "outputId": "4a46f818-e4f4-4a5f-c599-f874acf1021c"
   },
   "outputs": [
    {
     "name": "stdout",
     "output_type": "stream",
     "text": [
      "[[46 87 90 36 81 57]\n",
      " [ 1 80 91 13 37 85]\n",
      " [25 44 52 67 47 65]\n",
      " [ 6 49 92 22 56 77]\n",
      " [67 11 48 74 53 19]]\n",
      "<class 'numpy.ndarray'>\n"
     ]
    }
   ],
   "source": [
    "from numpy import random\n",
    "x=random.randint(100, size=(5,6)) # x < 100인 값 5개 추출\n",
    "print(x)\n",
    "print(type(x)) # 배열"
   ]
  },
  {
   "cell_type": "markdown",
   "metadata": {
    "id": "4yJb3vrdvvPT"
   },
   "source": [
    "- 랜덤 실수값 배열 추"
   ]
  },
  {
   "cell_type": "code",
   "execution_count": 32,
   "metadata": {
    "colab": {
     "base_uri": "https://localhost:8080/"
    },
    "id": "YFBPHlcrvx-Z",
    "outputId": "2686f43d-9ef5-4e11-cc5b-2108e35f688f"
   },
   "outputs": [
    {
     "name": "stdout",
     "output_type": "stream",
     "text": [
      "[[0.91807102 0.25931888 0.30310341 0.38788609]\n",
      " [0.97937962 0.59220515 0.00528968 0.74546826]\n",
      " [0.64986126 0.19483289 0.19125284 0.8947326 ]]\n",
      "<class 'numpy.ndarray'>\n"
     ]
    }
   ],
   "source": [
    "from numpy import random\n",
    "x=random.rand(3,4)\n",
    "print(x)\n",
    "print(type(x))"
   ]
  },
  {
   "cell_type": "markdown",
   "metadata": {
    "id": "CgBCH638wI1x"
   },
   "source": [
    "### 사칙연산\n"
   ]
  },
  {
   "cell_type": "code",
   "execution_count": 33,
   "metadata": {
    "id": "uhXdg6P1wPpi"
   },
   "outputs": [],
   "source": [
    "import numpy as np\n",
    "array_01 = np.array([1,2,3])\n",
    "array_02 = np.array([10,20,30])"
   ]
  },
  {
   "cell_type": "code",
   "execution_count": 37,
   "metadata": {
    "colab": {
     "base_uri": "https://localhost:8080/"
    },
    "id": "Ysa5SP_AwYUS",
    "outputId": "583f4c2c-8f3b-4f2a-f20c-c1f3877ff92c"
   },
   "outputs": [
    {
     "name": "stdout",
     "output_type": "stream",
     "text": [
      "[3 4 5]\n",
      "[-1  0  1]\n",
      "[2 4 6]\n",
      "[0.5 1.  1.5]\n",
      "[ 1 16 27]\n"
     ]
    }
   ],
   "source": [
    "# 덧셈\n",
    "newArr=np.add(array_01, array_02)\n",
    "print(newArr)\n",
    "# 뺄셈\n",
    "newArr=np.subtract(array_01, array_02)\n",
    "print(newArr)\n",
    "# 곱셈\n",
    "newArr=np.multiply(array_01, array_02)\n",
    "print(newArr)\n",
    "# 나눗셈\n",
    "newArr=np.divide(array_01, array_02)\n",
    "print(newArr)\n",
    "# 거듭제곱\n",
    "array_01 = np.array([1,2,3])\n",
    "array_02 = np.array([2,4,3])\n",
    "newArr=np.power(array_01, array_02)\n",
    "print(newArr)"
   ]
  },
  {
   "cell_type": "markdown",
   "metadata": {
    "id": "-uz5MmGKxzti"
   },
   "source": [
    "### 소숫점 정렬 \n"
   ]
  },
  {
   "cell_type": "code",
   "execution_count": 39,
   "metadata": {
    "colab": {
     "base_uri": "https://localhost:8080/"
    },
    "id": "0x0owLSbx00i",
    "outputId": "11dda84d-abf7-4622-8be4-bc9139cdc689"
   },
   "outputs": [
    {
     "name": "stdout",
     "output_type": "stream",
     "text": [
      "[-1. 12.]\n",
      "[-1. 12.]\n"
     ]
    }
   ],
   "source": [
    "import numpy as np\n",
    "# 소숫점 제거\n",
    "temp_arr = np.trunc([-1.23,12.3])\n",
    "print(temp_arr)\n",
    "temp_arr = np.fix([-1.23,12.3])\n",
    "print(temp_arr)"
   ]
  },
  {
   "cell_type": "code",
   "execution_count": 42,
   "metadata": {
    "colab": {
     "base_uri": "https://localhost:8080/"
    },
    "id": "iH3wMorlyPna",
    "outputId": "862b6a48-e17d-4739-e5a5-cab5a87d31a7"
   },
   "outputs": [
    {
     "name": "stdout",
     "output_type": "stream",
     "text": [
      "[-1.235 12.346]\n"
     ]
    }
   ],
   "source": [
    "# 임의의 소숫점자리에서 반올림\n",
    "temp_arr = np.around([-1.23456,12.34567],3) # 3의 자리까지 표시(4의자리에서 반올림)\n",
    "print(temp_arr)"
   ]
  },
  {
   "cell_type": "code",
   "execution_count": 43,
   "metadata": {
    "colab": {
     "base_uri": "https://localhost:8080/"
    },
    "id": "TAZ1NmkGyfyC",
    "outputId": "a6c588ce-eb6a-44f1-b554-1f1a974cc97a"
   },
   "outputs": [
    {
     "name": "stdout",
     "output_type": "stream",
     "text": [
      "[-2. 12.]\n"
     ]
    }
   ],
   "source": [
    "# 소숫점 모두내림\n",
    "temp_arr = np.floor([-1.23456,12.34567])\n",
    "print(temp_arr)"
   ]
  },
  {
   "cell_type": "code",
   "execution_count": 46,
   "metadata": {
    "colab": {
     "base_uri": "https://localhost:8080/"
    },
    "id": "YDEuFyhSyrrZ",
    "outputId": "3e0850b0-bf6a-42a8-dc4a-e4080f316797"
   },
   "outputs": [
    {
     "name": "stdout",
     "output_type": "stream",
     "text": [
      "[-1. 13.]\n"
     ]
    }
   ],
   "source": [
    "# 소숫점 모두올림\n",
    "temp_arr = np.ceil([-1.23456,12.34567],)\n",
    "print(temp_arr)"
   ]
  },
  {
   "cell_type": "markdown",
   "metadata": {
    "id": "oSGjSXp_3epR"
   },
   "source": [
    "### 조건식\n",
    "- 하나의 조건식\n",
    "  - np.where(조건식, 참일때, 거짓일때)\n"
   ]
  },
  {
   "cell_type": "code",
   "execution_count": 48,
   "metadata": {
    "colab": {
     "base_uri": "https://localhost:8080/"
    },
    "id": "APc4NOCw3xZR",
    "outputId": "1d5eb1fa-c027-43e3-8787-d9665d8eba71"
   },
   "outputs": [
    {
     "data": {
      "text/plain": [
       "array([0, 1, 2, 3, 4, 5, 6, 7, 8, 9])"
      ]
     },
     "execution_count": 48,
     "metadata": {},
     "output_type": "execute_result"
    }
   ],
   "source": [
    "temp_arr=np.arange(10)\n",
    "temp_arr"
   ]
  },
  {
   "cell_type": "code",
   "execution_count": 50,
   "metadata": {
    "id": "r2Dk1Q3P4OBI"
   },
   "outputs": [],
   "source": [
    "# 5보다 작으면 원값유지\n",
    "# 5보다 크면 *10"
   ]
  },
  {
   "cell_type": "code",
   "execution_count": 53,
   "metadata": {
    "colab": {
     "base_uri": "https://localhost:8080/"
    },
    "id": "uQCC7qUY4TZ3",
    "outputId": "16a1aee3-26aa-467d-d8e1-535f7a465b76"
   },
   "outputs": [
    {
     "data": {
      "text/plain": [
       "array([ 0,  1,  2,  3,  4, 50, 60, 70, 80, 90])"
      ]
     },
     "execution_count": 53,
     "metadata": {},
     "output_type": "execute_result"
    }
   ],
   "source": [
    "np.where(temp_arr < 5, temp_arr, temp_arr * 10)"
   ]
  },
  {
   "cell_type": "markdown",
   "metadata": {
    "id": "QwJ4FW6q46rK"
   },
   "source": [
    "- 다중 조건식\n",
    "  - np.select(조건식 리스트, 결괏값 리스트, default =)"
   ]
  },
  {
   "cell_type": "code",
   "execution_count": 59,
   "metadata": {
    "colab": {
     "base_uri": "https://localhost:8080/"
    },
    "id": "UEwxuOad48tY",
    "outputId": "c7eab360-593f-4b60-cbc9-4553b8e00bdc"
   },
   "outputs": [
    {
     "data": {
      "text/plain": [
       "array([100, 101,   2,   3,   4,   5,  12,  14,  16,  18])"
      ]
     },
     "execution_count": 59,
     "metadata": {},
     "output_type": "execute_result"
    }
   ],
   "source": [
    "temp_arr=np.arange(10)\n",
    "# temp_arr\n",
    "cond_list   = [temp_arr > 5, temp_arr < 2]  # 조건식 리스트 [첫번째조건,  두번째조건  ,...]\n",
    "choice_list = [temp_arr * 2, temp_arr + 100]# 결괏값 리스트 [첫번째결괏값,두번째결괏값,...]\n",
    "\n",
    "np.select(cond_list, choice_list, default = temp_arr) # 조건식리스트가 먼저, 결괏값 리스트는 뒤에"
   ]
  },
  {
   "cell_type": "markdown",
   "metadata": {
    "id": "FBI72WyM6Y2n"
   },
   "source": [
    "### Reshape \n",
    "- 배열의 차원 또는 크기를 변경"
   ]
  },
  {
   "cell_type": "code",
   "execution_count": 61,
   "metadata": {
    "colab": {
     "base_uri": "https://localhost:8080/"
    },
    "id": "YuYoD9G26eDL",
    "outputId": "cab22d12-b987-49e3-c30c-1c1b0e2f0e03"
   },
   "outputs": [
    {
     "name": "stdout",
     "output_type": "stream",
     "text": [
      "(3, 4)\n",
      "[[1. 1. 1. 1.]\n",
      " [1. 1. 1. 1.]\n",
      " [1. 1. 1. 1.]]\n"
     ]
    }
   ],
   "source": [
    "import numpy as np\n",
    "temp_array = np.ones((3,4)) # 3*4=12\n",
    "print(temp_array.shape)\n",
    "print(temp_array)"
   ]
  },
  {
   "cell_type": "code",
   "execution_count": 67,
   "metadata": {
    "colab": {
     "base_uri": "https://localhost:8080/"
    },
    "id": "Zh0OOxQ-65t4",
    "outputId": "aabb03fe-b5f2-4e6e-de9e-1e6c61c7cdc7"
   },
   "outputs": [
    {
     "name": "stdout",
     "output_type": "stream",
     "text": [
      "(2, 6)\n",
      "[[1. 1. 1. 1. 1. 1.]\n",
      " [1. 1. 1. 1. 1. 1.]]\n"
     ]
    }
   ],
   "source": [
    "after_reshape = temp_array.reshape(2,6) # 원래 배열의 크기만 맞춰주면 된다. 2*6=12\n",
    "print(after_reshape.shape)\n",
    "print(after_reshape)"
   ]
  },
  {
   "cell_type": "code",
   "execution_count": 68,
   "metadata": {
    "colab": {
     "base_uri": "https://localhost:8080/"
    },
    "id": "9fcyNlM87Xv5",
    "outputId": "78ec5029-3da3-4438-f84e-bf93d931941e"
   },
   "outputs": [
    {
     "name": "stdout",
     "output_type": "stream",
     "text": [
      "(2, 2, 3)\n",
      "[[[1. 1. 1.]\n",
      "  [1. 1. 1.]]\n",
      "\n",
      " [[1. 1. 1.]\n",
      "  [1. 1. 1.]]]\n"
     ]
    }
   ],
   "source": [
    "after_reshape = temp_array.reshape(2,2,3) # 원래 배열의 크기만 맞춰주면 된다. 2*2*3=12\n",
    "print(after_reshape.shape)\n",
    "print(after_reshape)"
   ]
  },
  {
   "cell_type": "code",
   "execution_count": 69,
   "metadata": {
    "colab": {
     "base_uri": "https://localhost:8080/"
    },
    "id": "-5vXBnX17-Av",
    "outputId": "0da713dd-78e8-4f6e-8f61-edafa7f78bd6"
   },
   "outputs": [
    {
     "name": "stdout",
     "output_type": "stream",
     "text": [
      "(2, 2, 3)\n",
      "[[[1. 1. 1.]\n",
      "  [1. 1. 1.]]\n",
      "\n",
      " [[1. 1. 1.]\n",
      "  [1. 1. 1.]]]\n"
     ]
    }
   ],
   "source": [
    "after_reshape = temp_array.reshape(2,2,-1) # 크기가 커서 계산을 못할때 -1을 넣는다.\n",
    "print(after_reshape.shape)\n",
    "print(after_reshape)"
   ]
  },
  {
   "cell_type": "markdown",
   "metadata": {
    "id": "cRcvYSCq8UVY"
   },
   "source": [
    "### 브로드 캐스팅\n",
    "- 서로 다른 크기의 배열을 계산할 때의 기본적인 규칙\n"
   ]
  },
  {
   "cell_type": "markdown",
   "metadata": {
    "id": "9lH1fJQSIK59"
   },
   "source": [
    "## pandas 튜토리얼\n"
   ]
  },
  {
   "cell_type": "code",
   "execution_count": 75,
   "metadata": {
    "colab": {
     "base_uri": "https://localhost:8080/"
    },
    "id": "W_EkH35JIOdd",
    "outputId": "37131656-2a7b-4d4c-9e2e-2434601c530c"
   },
   "outputs": [
    {
     "name": "stdout",
     "output_type": "stream",
     "text": [
      "1.3.5\n"
     ]
    }
   ],
   "source": [
    "import pandas as pd\n",
    "print(pd.__version__)"
   ]
  },
  {
   "cell_type": "code",
   "execution_count": 78,
   "metadata": {
    "colab": {
     "base_uri": "https://localhost:8080/"
    },
    "id": "0XVXkx5EIT9V",
    "outputId": "ff30ab11-b79b-47a0-a54b-3b4aea9341f2"
   },
   "outputs": [
    {
     "name": "stdout",
     "output_type": "stream",
     "text": [
      "   col1  col2\n",
      "0     1     3\n",
      "1     2     4\n",
      "<class 'pandas.core.frame.DataFrame'>\n"
     ]
    }
   ],
   "source": [
    "temp_dict = {\n",
    "    'col1' : [1,2],\n",
    "    'col2' : [3,4]\n",
    "}\n",
    "\n",
    "df = pd.DataFrame(temp_dict)\n",
    "print(df)\n",
    "print(type(df))"
   ]
  },
  {
   "cell_type": "markdown",
   "metadata": {
    "id": "R04TiVqVJQ7_"
   },
   "source": [
    "### 구글 드라이브 연동 "
   ]
  },
  {
   "cell_type": "code",
   "execution_count": 79,
   "metadata": {
    "colab": {
     "base_uri": "https://localhost:8080/"
    },
    "id": "XwAOrR2AJS6N",
    "outputId": "2629f124-8181-4f36-e0d3-a9cb58373db8"
   },
   "outputs": [
    {
     "name": "stdout",
     "output_type": "stream",
     "text": [
      "Mounted at /content/drive\n"
     ]
    }
   ],
   "source": [
    "from google.colab import drive\n",
    "drive.mount('/content/drive')"
   ]
  },
  {
   "cell_type": "code",
   "execution_count": 86,
   "metadata": {
    "colab": {
     "base_uri": "https://localhost:8080/"
    },
    "id": "Qtv9nGDmK109",
    "outputId": "973ffee5-2ae1-4bb3-b8c5-b3687a4d34fb"
   },
   "outputs": [
    {
     "name": "stdout",
     "output_type": "stream",
     "text": [
      "<class 'pandas.core.frame.DataFrame'>\n",
      "RangeIndex: 32 entries, 0 to 31\n",
      "Data columns (total 7 columns):\n",
      " #   Column       Non-Null Count  Dtype  \n",
      "---  ------       --------------  -----  \n",
      " 0   Date         31 non-null     object \n",
      " 1   Location     32 non-null     object \n",
      " 2   Lemon        32 non-null     int64  \n",
      " 3   Orange       32 non-null     int64  \n",
      " 4   Temperature  32 non-null     int64  \n",
      " 5   Leaflets     31 non-null     float64\n",
      " 6   Price        32 non-null     float64\n",
      "dtypes: float64(2), int64(3), object(2)\n",
      "memory usage: 1.9+ KB\n"
     ]
    }
   ],
   "source": [
    "DATA_PATH = '/content/drive/MyDrive/Colab Notebooks/human_AI/Basic/Chapter 3. pandas/data/'\n",
    "lemonade = pd.read_csv(DATA_PATH + 'Lemonade2016.csv')\n",
    "# covid_df = pd.read_csv(DATA_PATH + 'owid-covid-data.csv')\n",
    "\n",
    "lemonade.info() # str()"
   ]
  },
  {
   "cell_type": "markdown",
   "metadata": {
    "id": "cuuS2SU8Qo53"
   },
   "source": [
    "## Practice\n"
   ]
  },
  {
   "cell_type": "markdown",
   "metadata": {
    "id": "e8ROz620Qyla"
   },
   "source": [
    "- while문을 사용해 1부터 1000까지의 자연수 중 3의배수의 합을 구해보자"
   ]
  },
  {
   "cell_type": "code",
   "execution_count": 87,
   "metadata": {
    "colab": {
     "base_uri": "https://localhost:8080/"
    },
    "id": "bW1xAsiPQ3bS",
    "outputId": "cd603149-d8ee-49bb-8fed-245e44d26d41"
   },
   "outputs": [
    {
     "name": "stdout",
     "output_type": "stream",
     "text": [
      "166833\n"
     ]
    }
   ],
   "source": [
    "result = 0\n",
    "i=1\n",
    "while i <= 1000:\n",
    "  if i%3 == 0:\n",
    "    result += i\n",
    "  i+=1\n",
    "print(result)  \n",
    "  "
   ]
  },
  {
   "cell_type": "markdown",
   "metadata": {
    "id": "YUeqFtw1SG5j"
   },
   "source": [
    "- while문을 사용하여 다음과 같이 별(*)을 표시하는 프로그램을 작성해보자"
   ]
  },
  {
   "cell_type": "code",
   "execution_count": 103,
   "metadata": {
    "colab": {
     "base_uri": "https://localhost:8080/"
    },
    "id": "pLwi86qeSMQC",
    "outputId": "874ab455-4e0b-4a3e-bbbb-acd4d7f3b602"
   },
   "outputs": [
    {
     "name": "stdout",
     "output_type": "stream",
     "text": [
      "숫자입력3\n",
      "*\n",
      "**\n",
      "***\n"
     ]
    }
   ],
   "source": [
    "i=0\n",
    "input1 = int(input(\"숫자입력\")) # 입력된 숫자를 실수로 바꿔준다\n",
    "while i < input1 : # 별의 갯수가 입력한 숫자가 될때까지 출력\n",
    "  i+=1\n",
    "  print('*' *i)\n"
   ]
  },
  {
   "cell_type": "markdown",
   "metadata": {
    "id": "HMjPTVx4So9a"
   },
   "source": [
    "- for문을 사용해 1부터 30까지의 숫자를 출력해보자"
   ]
  },
  {
   "cell_type": "code",
   "execution_count": 99,
   "metadata": {
    "colab": {
     "base_uri": "https://localhost:8080/"
    },
    "id": "wKjtAuD8SsTp",
    "outputId": "79ea8c60-d898-4016-e482-d4f53076a5b7"
   },
   "outputs": [
    {
     "name": "stdout",
     "output_type": "stream",
     "text": [
      "1\n",
      "2\n",
      "3\n",
      "4\n",
      "5\n",
      "6\n",
      "7\n",
      "8\n",
      "9\n",
      "10\n",
      "11\n",
      "12\n",
      "13\n",
      "14\n",
      "15\n",
      "16\n",
      "17\n",
      "18\n",
      "19\n",
      "20\n",
      "21\n",
      "22\n",
      "23\n",
      "24\n",
      "25\n",
      "26\n",
      "27\n",
      "28\n",
      "29\n",
      "30\n"
     ]
    }
   ],
   "source": [
    "for i in range(1,31):\n",
    "  print(i)"
   ]
  },
  {
   "cell_type": "markdown",
   "metadata": {
    "id": "oQ6MQpXcTS9T"
   },
   "source": [
    "- A학급에 총 10명의 학생이 있다. 이 학생들의 중간고사 점수는 다음과같아. [70,60,55,75,95,90,80,80,85,100] for 문을 이용하여 a학급의 평균점수를 구해보자."
   ]
  },
  {
   "cell_type": "code",
   "execution_count": 95,
   "metadata": {
    "colab": {
     "base_uri": "https://localhost:8080/"
    },
    "id": "Emfda7brTdvi",
    "outputId": "2b0b8776-565a-4099-8c03-09a25aaaf399"
   },
   "outputs": [
    {
     "name": "stdout",
     "output_type": "stream",
     "text": [
      "79.0\n"
     ]
    }
   ],
   "source": [
    "mid_score = [70,60,55,75,95,90,80,80,85,100] # type:list\n",
    "total = 0   # type : int \n",
    "for i in mid_score:\n",
    "  total += i      \n",
    "  avg = total/len(mid_score) # type:int\n",
    "print(avg)"
   ]
  },
  {
   "cell_type": "markdown",
   "metadata": {
    "id": "UlBFlgPTUHFa"
   },
   "source": [
    "- 리스트 중에서 홀수에만 2를 곱하여 저장하는 다음코드가 있다.\n",
    "```\n",
    "numbers = [1, 2, 3, 4, 5]\n",
    "result = []\n",
    "for n in numbers:\n",
    "    if n % 2 == 1:\n",
    "        result.append(n*2) \n",
    "```\n",
    "위 코드를 리스트내포를 사용하여 표현해보자"
   ]
  },
  {
   "cell_type": "code",
   "execution_count": 96,
   "metadata": {
    "colab": {
     "base_uri": "https://localhost:8080/"
    },
    "id": "2YMYQUR_Ue_y",
    "outputId": "0e9a5606-babd-49c3-86e1-ce9f94f5fcb0"
   },
   "outputs": [
    {
     "name": "stdout",
     "output_type": "stream",
     "text": [
      "[2, 6, 10]\n"
     ]
    }
   ],
   "source": [
    "numbers = [1,2,3,4,5]\n",
    "result = [n*2 for n in numbers if n%2 == 1]\n",
    "print(result)"
   ]
  },
  {
   "cell_type": "markdown",
   "metadata": {
    "id": "RfgL2W5bWKqi"
   },
   "source": [
    "- 1~50까지의 수에서 2의 배수일때 'Buzz', 11의 배수일때는 'Fizz', 2와 11의 공배수일때는 'BuzzFizz'가 되도록 출력하라"
   ]
  },
  {
   "cell_type": "code",
   "execution_count": 98,
   "metadata": {
    "colab": {
     "base_uri": "https://localhost:8080/"
    },
    "id": "4wE11xvuWZ3r",
    "outputId": "1338d6c5-d0d9-4060-e853-d77e816aa3b4"
   },
   "outputs": [
    {
     "name": "stdout",
     "output_type": "stream",
     "text": [
      "1\n",
      "Buzz\n",
      "3\n",
      "Buzz\n",
      "5\n",
      "Buzz\n",
      "7\n",
      "Buzz\n",
      "9\n",
      "Buzz\n",
      "fizz\n",
      "Buzz\n",
      "13\n",
      "Buzz\n",
      "15\n",
      "Buzz\n",
      "17\n",
      "Buzz\n",
      "19\n",
      "Buzz\n",
      "21\n",
      "BuzzFizz\n",
      "23\n",
      "Buzz\n",
      "25\n",
      "Buzz\n",
      "27\n",
      "Buzz\n",
      "29\n",
      "Buzz\n",
      "31\n",
      "Buzz\n",
      "fizz\n",
      "Buzz\n",
      "35\n",
      "Buzz\n",
      "37\n",
      "Buzz\n",
      "39\n",
      "Buzz\n",
      "41\n",
      "Buzz\n",
      "43\n",
      "BuzzFizz\n",
      "45\n",
      "Buzz\n",
      "47\n",
      "Buzz\n",
      "49\n",
      "Buzz\n"
     ]
    }
   ],
   "source": [
    "for i in range(1,51):\n",
    "  if i % 2 == 0 | i % 11 == 0:\n",
    "    print('BuzzFizz')\n",
    "  elif i % 2 == 0:\n",
    "    print('Buzz')\n",
    "  elif i % 11 == 0:\n",
    "    print('fizz')\n",
    "  else:\n",
    "    print(i)    "
   ]
  }
 ],
 "metadata": {
  "colab": {
   "collapsed_sections": [],
   "name": "day0628.ipynb",
   "provenance": [],
   "toc_visible": true
  },
  "kernelspec": {
   "display_name": "Python 3 (ipykernel)",
   "language": "python",
   "name": "python3"
  },
  "language_info": {
   "codemirror_mode": {
    "name": "ipython",
    "version": 3
   },
   "file_extension": ".py",
   "mimetype": "text/x-python",
   "name": "python",
   "nbconvert_exporter": "python",
   "pygments_lexer": "ipython3",
   "version": "3.9.12"
  }
 },
 "nbformat": 4,
 "nbformat_minor": 4
}

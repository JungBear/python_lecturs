{
 "cells": [
  {
   "cell_type": "code",
   "execution_count": 1,
   "id": "275d9557",
   "metadata": {
    "_cell_guid": "b1076dfc-b9ad-4769-8c92-a6c4dae69d19",
    "_uuid": "8f2839f25d086af736a60e9eeb907d3b93b6e0e5",
    "execution": {
     "iopub.execute_input": "2022-07-07T06:26:58.230880Z",
     "iopub.status.busy": "2022-07-07T06:26:58.230269Z",
     "iopub.status.idle": "2022-07-07T06:26:58.247808Z",
     "shell.execute_reply": "2022-07-07T06:26:58.246415Z"
    },
    "papermill": {
     "duration": 0.048014,
     "end_time": "2022-07-07T06:26:58.250906",
     "exception": false,
     "start_time": "2022-07-07T06:26:58.202892",
     "status": "completed"
    },
    "tags": []
   },
   "outputs": [
    {
     "name": "stdout",
     "output_type": "stream",
     "text": [
      "/kaggle/input/house-prices-advanced-regression-techniques/sample_submission.csv\n",
      "/kaggle/input/house-prices-advanced-regression-techniques/data_description.txt\n",
      "/kaggle/input/house-prices-advanced-regression-techniques/train.csv\n",
      "/kaggle/input/house-prices-advanced-regression-techniques/test.csv\n"
     ]
    }
   ],
   "source": [
    "# This Python 3 environment comes with many helpful analytics libraries installed\n",
    "# It is defined by the kaggle/python Docker image: https://github.com/kaggle/docker-python\n",
    "# For example, here's several helpful packages to load\n",
    "\n",
    "import numpy as np # linear algebra\n",
    "import pandas as pd # data processing, CSV file I/O (e.g. pd.read_csv)\n",
    "\n",
    "# Input data files are available in the read-only \"../input/\" directory\n",
    "# For example, running this (by clicking run or pressing Shift+Enter) will list all files under the input directory\n",
    "\n",
    "import os\n",
    "for dirname, _, filenames in os.walk('/kaggle/input'):\n",
    "    for filename in filenames:\n",
    "        print(os.path.join(dirname, filename))\n",
    "\n",
    "# You can write up to 20GB to the current directory (/kaggle/working/) that gets preserved as output when you create a version using \"Save & Run All\" \n",
    "# You can also write temporary files to /kaggle/temp/, but they won't be saved outside of the current session"
   ]
  },
  {
   "cell_type": "markdown",
   "id": "0d45b17a",
   "metadata": {
    "papermill": {
     "duration": 0.021711,
     "end_time": "2022-07-07T06:26:58.295602",
     "exception": false,
     "start_time": "2022-07-07T06:26:58.273891",
     "status": "completed"
    },
    "tags": []
   },
   "source": [
    "## 라이브러리 불러오기\n",
    "- 주요 라이브러리 버전을 확인한다."
   ]
  },
  {
   "cell_type": "code",
   "execution_count": 2,
   "id": "3f0b1187",
   "metadata": {
    "execution": {
     "iopub.execute_input": "2022-07-07T06:26:58.343712Z",
     "iopub.status.busy": "2022-07-07T06:26:58.342824Z",
     "iopub.status.idle": "2022-07-07T06:27:00.922510Z",
     "shell.execute_reply": "2022-07-07T06:27:00.920958Z"
    },
    "papermill": {
     "duration": 2.607712,
     "end_time": "2022-07-07T06:27:00.925414",
     "exception": false,
     "start_time": "2022-07-07T06:26:58.317702",
     "status": "completed"
    },
    "tags": []
   },
   "outputs": [
    {
     "data": {
      "text/html": [
       "<style type='text/css'>\n",
       ".datatable table.frame { margin-bottom: 0; }\n",
       ".datatable table.frame thead { border-bottom: none; }\n",
       ".datatable table.frame tr.coltypes td {  color: #FFFFFF;  line-height: 6px;  padding: 0 0.5em;}\n",
       ".datatable .bool    { background: #DDDD99; }\n",
       ".datatable .object  { background: #565656; }\n",
       ".datatable .int     { background: #5D9E5D; }\n",
       ".datatable .float   { background: #4040CC; }\n",
       ".datatable .str     { background: #CC4040; }\n",
       ".datatable .time    { background: #40CC40; }\n",
       ".datatable .row_index {  background: var(--jp-border-color3);  border-right: 1px solid var(--jp-border-color0);  color: var(--jp-ui-font-color3);  font-size: 9px;}\n",
       ".datatable .frame tbody td { text-align: left; }\n",
       ".datatable .frame tr.coltypes .row_index {  background: var(--jp-border-color0);}\n",
       ".datatable th:nth-child(2) { padding-left: 12px; }\n",
       ".datatable .hellipsis {  color: var(--jp-cell-editor-border-color);}\n",
       ".datatable .vellipsis {  background: var(--jp-layout-color0);  color: var(--jp-cell-editor-border-color);}\n",
       ".datatable .na {  color: var(--jp-cell-editor-border-color);  font-size: 80%;}\n",
       ".datatable .sp {  opacity: 0.25;}\n",
       ".datatable .footer { font-size: 9px; }\n",
       ".datatable .frame_dimensions {  background: var(--jp-border-color3);  border-top: 1px solid var(--jp-border-color0);  color: var(--jp-ui-font-color3);  display: inline-block;  opacity: 0.6;  padding: 1px 10px 1px 5px;}\n",
       "</style>\n"
      ],
      "text/plain": [
       "<IPython.core.display.HTML object>"
      ]
     },
     "metadata": {},
     "output_type": "display_data"
    },
    {
     "name": "stdout",
     "output_type": "stream",
     "text": [
      "pandas version : 1.3.5\n",
      "numpy version : 1.21.6\n",
      "matplotlib version : 3.5.2\n",
      "seaborn version : 0.11.2\n",
      "scikit-learn version : 1.0.2\n",
      "xgboost version : 1.6.1\n",
      "lightgbm version : 3.3.2\n"
     ]
    }
   ],
   "source": [
    "import pandas as pd\n",
    "import numpy as np\n",
    "import matplotlib as mpl\n",
    "import seaborn as sns\n",
    "import sklearn\n",
    "import xgboost as xgb\n",
    "import lightgbm as lgb\n",
    "\n",
    "print(\"pandas version :\", pd.__version__)\n",
    "print(\"numpy version :\", np.__version__)\n",
    "print(\"matplotlib version :\", mpl.__version__)\n",
    "print(\"seaborn version :\", sns.__version__)\n",
    "print(\"scikit-learn version :\", sklearn.__version__)\n",
    "print(\"xgboost version :\", xgb.__version__)\n",
    "print(\"lightgbm version :\", lgb.__version__)"
   ]
  },
  {
   "cell_type": "markdown",
   "id": "d0034f62",
   "metadata": {
    "papermill": {
     "duration": 0.022033,
     "end_time": "2022-07-07T06:27:00.969942",
     "exception": false,
     "start_time": "2022-07-07T06:27:00.947909",
     "status": "completed"
    },
    "tags": []
   },
   "source": [
    "## 데이터 불러오기\n",
    "- pandas 활용"
   ]
  },
  {
   "cell_type": "code",
   "execution_count": 3,
   "id": "0fad4bb6",
   "metadata": {
    "execution": {
     "iopub.execute_input": "2022-07-07T06:27:01.018118Z",
     "iopub.status.busy": "2022-07-07T06:27:01.017318Z",
     "iopub.status.idle": "2022-07-07T06:27:01.097193Z",
     "shell.execute_reply": "2022-07-07T06:27:01.096314Z"
    },
    "papermill": {
     "duration": 0.107267,
     "end_time": "2022-07-07T06:27:01.099619",
     "exception": false,
     "start_time": "2022-07-07T06:27:00.992352",
     "status": "completed"
    },
    "tags": []
   },
   "outputs": [
    {
     "name": "stdout",
     "output_type": "stream",
     "text": [
      "데이터 불어오기 완료!\n"
     ]
    }
   ],
   "source": [
    "DATA_PATH = '/kaggle/input/house-prices-advanced-regression-techniques/'\n",
    "train = pd.read_csv(DATA_PATH + \"train.csv\")\n",
    "test = pd.read_csv(DATA_PATH + \"test.csv\")\n",
    "\n",
    "# sample_submission.csv\n",
    "# data_description.txt\n",
    "\n",
    "# 프로세스가 완성 되었을 때 표시가 나도록 print를 활용해주면 오류를 찾기 수월하\n",
    "print(\"데이터 불어오기 완료!\")"
   ]
  },
  {
   "cell_type": "markdown",
   "id": "8e067e14",
   "metadata": {
    "papermill": {
     "duration": 0.022262,
     "end_time": "2022-07-07T06:27:01.145266",
     "exception": false,
     "start_time": "2022-07-07T06:27:01.123004",
     "status": "completed"
    },
    "tags": []
   },
   "source": [
    "## 데이터 둘러보기\n",
    "- 데이터를 둘러봅니다\n",
    "- train: 행 갯수 1460 열 갯수 81 (SalePrice 존재)\n",
    "- test: 행 갯수 1459, 열 갯수 80 (SalePrice 칼럼 미존재)\n",
    "- 포인트 : 열 갯수가 달라졌다. (행은 무관)\n",
    "- 데이터에 관해 궁금한 점이 있으면 캐들 대회처의 Overview(개요)를 둘러보면 된다."
   ]
  },
  {
   "cell_type": "code",
   "execution_count": 4,
   "id": "aa83ed48",
   "metadata": {
    "execution": {
     "iopub.execute_input": "2022-07-07T06:27:01.192554Z",
     "iopub.status.busy": "2022-07-07T06:27:01.191687Z",
     "iopub.status.idle": "2022-07-07T06:27:01.198300Z",
     "shell.execute_reply": "2022-07-07T06:27:01.197476Z"
    },
    "papermill": {
     "duration": 0.03263,
     "end_time": "2022-07-07T06:27:01.200385",
     "exception": false,
     "start_time": "2022-07-07T06:27:01.167755",
     "status": "completed"
    },
    "tags": []
   },
   "outputs": [
    {
     "data": {
      "text/plain": [
       "((1460, 81), (1459, 80))"
      ]
     },
     "execution_count": 4,
     "metadata": {},
     "output_type": "execute_result"
    }
   ],
   "source": [
    "train.shape, test.shape"
   ]
  },
  {
   "cell_type": "code",
   "execution_count": 5,
   "id": "842f64fd",
   "metadata": {
    "execution": {
     "iopub.execute_input": "2022-07-07T06:27:01.247446Z",
     "iopub.status.busy": "2022-07-07T06:27:01.246790Z",
     "iopub.status.idle": "2022-07-07T06:27:01.286388Z",
     "shell.execute_reply": "2022-07-07T06:27:01.285515Z"
    },
    "papermill": {
     "duration": 0.066848,
     "end_time": "2022-07-07T06:27:01.289795",
     "exception": false,
     "start_time": "2022-07-07T06:27:01.222947",
     "status": "completed"
    },
    "tags": []
   },
   "outputs": [
    {
     "name": "stdout",
     "output_type": "stream",
     "text": [
      "<class 'pandas.core.frame.DataFrame'>\n",
      "RangeIndex: 1460 entries, 0 to 1459\n",
      "Data columns (total 81 columns):\n",
      " #   Column         Non-Null Count  Dtype  \n",
      "---  ------         --------------  -----  \n",
      " 0   Id             1460 non-null   int64  \n",
      " 1   MSSubClass     1460 non-null   int64  \n",
      " 2   MSZoning       1460 non-null   object \n",
      " 3   LotFrontage    1201 non-null   float64\n",
      " 4   LotArea        1460 non-null   int64  \n",
      " 5   Street         1460 non-null   object \n",
      " 6   Alley          91 non-null     object \n",
      " 7   LotShape       1460 non-null   object \n",
      " 8   LandContour    1460 non-null   object \n",
      " 9   Utilities      1460 non-null   object \n",
      " 10  LotConfig      1460 non-null   object \n",
      " 11  LandSlope      1460 non-null   object \n",
      " 12  Neighborhood   1460 non-null   object \n",
      " 13  Condition1     1460 non-null   object \n",
      " 14  Condition2     1460 non-null   object \n",
      " 15  BldgType       1460 non-null   object \n",
      " 16  HouseStyle     1460 non-null   object \n",
      " 17  OverallQual    1460 non-null   int64  \n",
      " 18  OverallCond    1460 non-null   int64  \n",
      " 19  YearBuilt      1460 non-null   int64  \n",
      " 20  YearRemodAdd   1460 non-null   int64  \n",
      " 21  RoofStyle      1460 non-null   object \n",
      " 22  RoofMatl       1460 non-null   object \n",
      " 23  Exterior1st    1460 non-null   object \n",
      " 24  Exterior2nd    1460 non-null   object \n",
      " 25  MasVnrType     1452 non-null   object \n",
      " 26  MasVnrArea     1452 non-null   float64\n",
      " 27  ExterQual      1460 non-null   object \n",
      " 28  ExterCond      1460 non-null   object \n",
      " 29  Foundation     1460 non-null   object \n",
      " 30  BsmtQual       1423 non-null   object \n",
      " 31  BsmtCond       1423 non-null   object \n",
      " 32  BsmtExposure   1422 non-null   object \n",
      " 33  BsmtFinType1   1423 non-null   object \n",
      " 34  BsmtFinSF1     1460 non-null   int64  \n",
      " 35  BsmtFinType2   1422 non-null   object \n",
      " 36  BsmtFinSF2     1460 non-null   int64  \n",
      " 37  BsmtUnfSF      1460 non-null   int64  \n",
      " 38  TotalBsmtSF    1460 non-null   int64  \n",
      " 39  Heating        1460 non-null   object \n",
      " 40  HeatingQC      1460 non-null   object \n",
      " 41  CentralAir     1460 non-null   object \n",
      " 42  Electrical     1459 non-null   object \n",
      " 43  1stFlrSF       1460 non-null   int64  \n",
      " 44  2ndFlrSF       1460 non-null   int64  \n",
      " 45  LowQualFinSF   1460 non-null   int64  \n",
      " 46  GrLivArea      1460 non-null   int64  \n",
      " 47  BsmtFullBath   1460 non-null   int64  \n",
      " 48  BsmtHalfBath   1460 non-null   int64  \n",
      " 49  FullBath       1460 non-null   int64  \n",
      " 50  HalfBath       1460 non-null   int64  \n",
      " 51  BedroomAbvGr   1460 non-null   int64  \n",
      " 52  KitchenAbvGr   1460 non-null   int64  \n",
      " 53  KitchenQual    1460 non-null   object \n",
      " 54  TotRmsAbvGrd   1460 non-null   int64  \n",
      " 55  Functional     1460 non-null   object \n",
      " 56  Fireplaces     1460 non-null   int64  \n",
      " 57  FireplaceQu    770 non-null    object \n",
      " 58  GarageType     1379 non-null   object \n",
      " 59  GarageYrBlt    1379 non-null   float64\n",
      " 60  GarageFinish   1379 non-null   object \n",
      " 61  GarageCars     1460 non-null   int64  \n",
      " 62  GarageArea     1460 non-null   int64  \n",
      " 63  GarageQual     1379 non-null   object \n",
      " 64  GarageCond     1379 non-null   object \n",
      " 65  PavedDrive     1460 non-null   object \n",
      " 66  WoodDeckSF     1460 non-null   int64  \n",
      " 67  OpenPorchSF    1460 non-null   int64  \n",
      " 68  EnclosedPorch  1460 non-null   int64  \n",
      " 69  3SsnPorch      1460 non-null   int64  \n",
      " 70  ScreenPorch    1460 non-null   int64  \n",
      " 71  PoolArea       1460 non-null   int64  \n",
      " 72  PoolQC         7 non-null      object \n",
      " 73  Fence          281 non-null    object \n",
      " 74  MiscFeature    54 non-null     object \n",
      " 75  MiscVal        1460 non-null   int64  \n",
      " 76  MoSold         1460 non-null   int64  \n",
      " 77  YrSold         1460 non-null   int64  \n",
      " 78  SaleType       1460 non-null   object \n",
      " 79  SaleCondition  1460 non-null   object \n",
      " 80  SalePrice      1460 non-null   int64  \n",
      "dtypes: float64(3), int64(35), object(43)\n",
      "memory usage: 924.0+ KB\n"
     ]
    }
   ],
   "source": [
    "train.info()"
   ]
  },
  {
   "cell_type": "code",
   "execution_count": 6,
   "id": "76e74c84",
   "metadata": {
    "execution": {
     "iopub.execute_input": "2022-07-07T06:27:01.337366Z",
     "iopub.status.busy": "2022-07-07T06:27:01.336923Z",
     "iopub.status.idle": "2022-07-07T06:27:01.363885Z",
     "shell.execute_reply": "2022-07-07T06:27:01.362471Z"
    },
    "papermill": {
     "duration": 0.054487,
     "end_time": "2022-07-07T06:27:01.367217",
     "exception": false,
     "start_time": "2022-07-07T06:27:01.312730",
     "status": "completed"
    },
    "tags": []
   },
   "outputs": [
    {
     "name": "stdout",
     "output_type": "stream",
     "text": [
      "<class 'pandas.core.frame.DataFrame'>\n",
      "RangeIndex: 1459 entries, 0 to 1458\n",
      "Data columns (total 80 columns):\n",
      " #   Column         Non-Null Count  Dtype  \n",
      "---  ------         --------------  -----  \n",
      " 0   Id             1459 non-null   int64  \n",
      " 1   MSSubClass     1459 non-null   int64  \n",
      " 2   MSZoning       1455 non-null   object \n",
      " 3   LotFrontage    1232 non-null   float64\n",
      " 4   LotArea        1459 non-null   int64  \n",
      " 5   Street         1459 non-null   object \n",
      " 6   Alley          107 non-null    object \n",
      " 7   LotShape       1459 non-null   object \n",
      " 8   LandContour    1459 non-null   object \n",
      " 9   Utilities      1457 non-null   object \n",
      " 10  LotConfig      1459 non-null   object \n",
      " 11  LandSlope      1459 non-null   object \n",
      " 12  Neighborhood   1459 non-null   object \n",
      " 13  Condition1     1459 non-null   object \n",
      " 14  Condition2     1459 non-null   object \n",
      " 15  BldgType       1459 non-null   object \n",
      " 16  HouseStyle     1459 non-null   object \n",
      " 17  OverallQual    1459 non-null   int64  \n",
      " 18  OverallCond    1459 non-null   int64  \n",
      " 19  YearBuilt      1459 non-null   int64  \n",
      " 20  YearRemodAdd   1459 non-null   int64  \n",
      " 21  RoofStyle      1459 non-null   object \n",
      " 22  RoofMatl       1459 non-null   object \n",
      " 23  Exterior1st    1458 non-null   object \n",
      " 24  Exterior2nd    1458 non-null   object \n",
      " 25  MasVnrType     1443 non-null   object \n",
      " 26  MasVnrArea     1444 non-null   float64\n",
      " 27  ExterQual      1459 non-null   object \n",
      " 28  ExterCond      1459 non-null   object \n",
      " 29  Foundation     1459 non-null   object \n",
      " 30  BsmtQual       1415 non-null   object \n",
      " 31  BsmtCond       1414 non-null   object \n",
      " 32  BsmtExposure   1415 non-null   object \n",
      " 33  BsmtFinType1   1417 non-null   object \n",
      " 34  BsmtFinSF1     1458 non-null   float64\n",
      " 35  BsmtFinType2   1417 non-null   object \n",
      " 36  BsmtFinSF2     1458 non-null   float64\n",
      " 37  BsmtUnfSF      1458 non-null   float64\n",
      " 38  TotalBsmtSF    1458 non-null   float64\n",
      " 39  Heating        1459 non-null   object \n",
      " 40  HeatingQC      1459 non-null   object \n",
      " 41  CentralAir     1459 non-null   object \n",
      " 42  Electrical     1459 non-null   object \n",
      " 43  1stFlrSF       1459 non-null   int64  \n",
      " 44  2ndFlrSF       1459 non-null   int64  \n",
      " 45  LowQualFinSF   1459 non-null   int64  \n",
      " 46  GrLivArea      1459 non-null   int64  \n",
      " 47  BsmtFullBath   1457 non-null   float64\n",
      " 48  BsmtHalfBath   1457 non-null   float64\n",
      " 49  FullBath       1459 non-null   int64  \n",
      " 50  HalfBath       1459 non-null   int64  \n",
      " 51  BedroomAbvGr   1459 non-null   int64  \n",
      " 52  KitchenAbvGr   1459 non-null   int64  \n",
      " 53  KitchenQual    1458 non-null   object \n",
      " 54  TotRmsAbvGrd   1459 non-null   int64  \n",
      " 55  Functional     1457 non-null   object \n",
      " 56  Fireplaces     1459 non-null   int64  \n",
      " 57  FireplaceQu    729 non-null    object \n",
      " 58  GarageType     1383 non-null   object \n",
      " 59  GarageYrBlt    1381 non-null   float64\n",
      " 60  GarageFinish   1381 non-null   object \n",
      " 61  GarageCars     1458 non-null   float64\n",
      " 62  GarageArea     1458 non-null   float64\n",
      " 63  GarageQual     1381 non-null   object \n",
      " 64  GarageCond     1381 non-null   object \n",
      " 65  PavedDrive     1459 non-null   object \n",
      " 66  WoodDeckSF     1459 non-null   int64  \n",
      " 67  OpenPorchSF    1459 non-null   int64  \n",
      " 68  EnclosedPorch  1459 non-null   int64  \n",
      " 69  3SsnPorch      1459 non-null   int64  \n",
      " 70  ScreenPorch    1459 non-null   int64  \n",
      " 71  PoolArea       1459 non-null   int64  \n",
      " 72  PoolQC         3 non-null      object \n",
      " 73  Fence          290 non-null    object \n",
      " 74  MiscFeature    51 non-null     object \n",
      " 75  MiscVal        1459 non-null   int64  \n",
      " 76  MoSold         1459 non-null   int64  \n",
      " 77  YrSold         1459 non-null   int64  \n",
      " 78  SaleType       1458 non-null   object \n",
      " 79  SaleCondition  1459 non-null   object \n",
      "dtypes: float64(11), int64(26), object(43)\n",
      "memory usage: 912.0+ KB\n"
     ]
    }
   ],
   "source": [
    "# SalePrice 컬럼 존재 X\n",
    "test.info()"
   ]
  },
  {
   "cell_type": "markdown",
   "id": "0fdbca65",
   "metadata": {
    "papermill": {
     "duration": 0.022649,
     "end_time": "2022-07-07T06:27:01.413763",
     "exception": false,
     "start_time": "2022-07-07T06:27:01.391114",
     "status": "completed"
    },
    "tags": []
   },
   "source": [
    "## 데이터 시각화\n",
    "- 여기에서는 생략\n",
    "- 그러나 기본적으로 종속변수 분포 확인은 해야한다!"
   ]
  },
  {
   "cell_type": "markdown",
   "id": "470f18ec",
   "metadata": {
    "papermill": {
     "duration": 0.023073,
     "end_time": "2022-07-07T06:27:01.460654",
     "exception": false,
     "start_time": "2022-07-07T06:27:01.437581",
     "status": "completed"
    },
    "tags": []
   },
   "source": [
    "### 정규분포인가 확인\n",
    "  + 샤피로 검정\n",
    "  + 정규분포 X : 로그 변환, 박스콕스 변환 등등\n",
    "  + 정규분포로 만들어 줘야 한다.(좌우 대칭)\n",
    "- 선형모델의 성능을 올리기 위해 필요하다."
   ]
  },
  {
   "cell_type": "code",
   "execution_count": 7,
   "id": "c8e15b1c",
   "metadata": {
    "execution": {
     "iopub.execute_input": "2022-07-07T06:27:01.508818Z",
     "iopub.status.busy": "2022-07-07T06:27:01.508421Z",
     "iopub.status.idle": "2022-07-07T06:27:01.882731Z",
     "shell.execute_reply": "2022-07-07T06:27:01.881831Z"
    },
    "papermill": {
     "duration": 0.401552,
     "end_time": "2022-07-07T06:27:01.885277",
     "exception": false,
     "start_time": "2022-07-07T06:27:01.483725",
     "status": "completed"
    },
    "tags": []
   },
   "outputs": [
    {
     "name": "stdout",
     "output_type": "stream",
     "text": [
      "평균:  180921.19589041095\n",
      "표준편차 79415.29188606751\n"
     ]
    },
    {
     "data": {
      "image/png": "[encoded data removed]",
      "text/plain": [
       "<Figure size 720x432 with 1 Axes>"
      ]
     },
     "metadata": {
      "needs_background": "light"
     },
     "output_type": "display_data"
    }
   ],
   "source": [
    "import matplotlib.pyplot as plt\n",
    "from scipy.stats import norm\n",
    "\n",
    "\n",
    "(mu, sigma) = norm.fit(train[\"SalePrice\"])\n",
    "print(\"평균: \", mu)\n",
    "print(\"표준편차\", sigma)\n",
    "\n",
    "fig, ax = plt.subplots(figsize=(10,6))\n",
    "sns.histplot(train['SalePrice'])\n",
    "# 제목\n",
    "ax.set(title=\"SalePrice Distribution\")\n",
    "# 평균선 그어주기\n",
    "ax.axvline(mu,color = 'r', linestyle = '--')\n",
    "# SalePrice 평균가라는 텍스트를 적어주기_ 숫자는 좌표\n",
    "ax.text(mu + 10000, 160, 'Mean of SalePrice', color='r')\n",
    "plt. show()\n",
    "\n",
    "# 평균, 정규분포\n",
    "# 그래프 뿐만 아니라 간단한 통계 수치도 함께 표시해 줘야 한다. (from~sigma까지가 이에 대한 코드)\n",
    "\n"
   ]
  },
  {
   "cell_type": "markdown",
   "id": "10af945a",
   "metadata": {
    "papermill": {
     "duration": 0.023006,
     "end_time": "2022-07-07T06:27:01.932763",
     "exception": false,
     "start_time": "2022-07-07T06:27:01.909757",
     "status": "completed"
    },
    "tags": []
   },
   "source": [
    "### 비정규분포를 정규분포로 변환\n",
    "- 로그변환을 해서 정규분포로 변환해준다.\n",
    "- 모든 분석이 끝나고 지수변환해주면 다시 수치가 돌아온다.\n",
    "- 로그변환은 한 번만 해줘야한다. 여러번하면 당연히 안된다."
   ]
  },
  {
   "cell_type": "code",
   "execution_count": 8,
   "id": "0528c047",
   "metadata": {
    "execution": {
     "iopub.execute_input": "2022-07-07T06:27:01.982383Z",
     "iopub.status.busy": "2022-07-07T06:27:01.981948Z",
     "iopub.status.idle": "2022-07-07T06:27:02.283791Z",
     "shell.execute_reply": "2022-07-07T06:27:02.283039Z"
    },
    "papermill": {
     "duration": 0.329979,
     "end_time": "2022-07-07T06:27:02.286215",
     "exception": false,
     "start_time": "2022-07-07T06:27:01.956236",
     "status": "completed"
    },
    "tags": []
   },
   "outputs": [
    {
     "name": "stdout",
     "output_type": "stream",
     "text": [
      "평균:  12.024057394918406\n",
      "표준편차 0.39931245219387496\n"
     ]
    },
    {
     "data": {
      "image/png": "[encoded data removed]",
      "text/plain": [
       "<Figure size 720x432 with 1 Axes>"
      ]
     },
     "metadata": {
      "needs_background": "light"
     },
     "output_type": "display_data"
    }
   ],
   "source": [
    "# 로그변환, log1p <- 숫자 1\n",
    "train['SalePrice'] = np.log1p(train['SalePrice'])\n",
    "\n",
    "(mu, sigma) = norm.fit(train[\"SalePrice\"])\n",
    "print(\"평균: \", mu)\n",
    "print(\"표준편차\", sigma)\n",
    "\n",
    "fig, ax = plt.subplots(figsize=(10,6))\n",
    "sns.histplot(train['SalePrice'])\n",
    "# 제목\n",
    "ax.set(title=\"SalePrice Distribution\")\n",
    "# 평균선 그어주기\n",
    "ax.axvline(mu,color = 'r', linestyle = '--')\n",
    "# SalePrice 평균가라는 텍스트를 적어주기_ 숫자는 좌표\n",
    "ax.text(mu + 0.0001, 140, 'Mean of SalePrice', color='r')\n",
    "ax.set_ylim(0,170)\n",
    "plt. show()\n",
    "\n",
    "# 평균, 정규분포\n",
    "# 그래프 뿐만 아니라 간단한 통계 수치도 함께 표시해 줘야 한다. (from~sigma까지가 이에 대한 코드)"
   ]
  },
  {
   "cell_type": "code",
   "execution_count": 9,
   "id": "3bc44be0",
   "metadata": {
    "execution": {
     "iopub.execute_input": "2022-07-07T06:27:02.336729Z",
     "iopub.status.busy": "2022-07-07T06:27:02.336067Z",
     "iopub.status.idle": "2022-07-07T06:27:02.344082Z",
     "shell.execute_reply": "2022-07-07T06:27:02.343087Z"
    },
    "papermill": {
     "duration": 0.035768,
     "end_time": "2022-07-07T06:27:02.346414",
     "exception": false,
     "start_time": "2022-07-07T06:27:02.310646",
     "status": "completed"
    },
    "tags": []
   },
   "outputs": [
    {
     "data": {
      "text/plain": [
       "0    12.247699\n",
       "1    12.109016\n",
       "2    12.317171\n",
       "3    11.849405\n",
       "4    12.429220\n",
       "5    11.870607\n",
       "6    12.634606\n",
       "7    12.206078\n",
       "8    11.774528\n",
       "9    11.678448\n",
       "Name: SalePrice, dtype: float64"
      ]
     },
     "execution_count": 9,
     "metadata": {},
     "output_type": "execute_result"
    }
   ],
   "source": [
    "train['SalePrice'][:10]"
   ]
  },
  {
   "cell_type": "markdown",
   "id": "28f4c9e2",
   "metadata": {
    "papermill": {
     "duration": 0.023777,
     "end_time": "2022-07-07T06:27:02.394595",
     "exception": false,
     "start_time": "2022-07-07T06:27:02.370818",
     "status": "completed"
    },
    "tags": []
   },
   "source": [
    "## 데이터 전처리\n",
    "- 컬럼 갯수가 많다?, 어떤 컬럼을 없앨 것인가?\n",
    "- 머신러닝 연산 속도 높이기 위해\n",
    "- 데이터 ID값 제거 (패턴이 없기 때문)\n",
    "- 머신러닝은 뭐다? 패턴이다!"
   ]
  },
  {
   "cell_type": "code",
   "execution_count": 10,
   "id": "ee8d2c17",
   "metadata": {
    "execution": {
     "iopub.execute_input": "2022-07-07T06:27:02.445142Z",
     "iopub.status.busy": "2022-07-07T06:27:02.444474Z",
     "iopub.status.idle": "2022-07-07T06:27:02.450893Z",
     "shell.execute_reply": "2022-07-07T06:27:02.450139Z"
    },
    "papermill": {
     "duration": 0.034253,
     "end_time": "2022-07-07T06:27:02.452904",
     "exception": false,
     "start_time": "2022-07-07T06:27:02.418651",
     "status": "completed"
    },
    "tags": []
   },
   "outputs": [
    {
     "data": {
      "text/plain": [
       "0     1\n",
       "1     2\n",
       "2     3\n",
       "3     4\n",
       "4     5\n",
       "5     6\n",
       "6     7\n",
       "7     8\n",
       "8     9\n",
       "9    10\n",
       "Name: Id, dtype: int64"
      ]
     },
     "execution_count": 10,
     "metadata": {},
     "output_type": "execute_result"
    }
   ],
   "source": [
    "train['Id'][:10]"
   ]
  },
  {
   "cell_type": "code",
   "execution_count": 11,
   "id": "5bf438bf",
   "metadata": {
    "execution": {
     "iopub.execute_input": "2022-07-07T06:27:02.504057Z",
     "iopub.status.busy": "2022-07-07T06:27:02.503354Z",
     "iopub.status.idle": "2022-07-07T06:27:02.512090Z",
     "shell.execute_reply": "2022-07-07T06:27:02.511339Z"
    },
    "papermill": {
     "duration": 0.037368,
     "end_time": "2022-07-07T06:27:02.514123",
     "exception": false,
     "start_time": "2022-07-07T06:27:02.476755",
     "status": "completed"
    },
    "tags": []
   },
   "outputs": [
    {
     "data": {
      "text/plain": [
       "(1460, 80)"
      ]
     },
     "execution_count": 11,
     "metadata": {},
     "output_type": "execute_result"
    }
   ],
   "source": [
    "# 혹시 모르니 영구삭제 X, 따로 빼두기\n",
    "train_ID = train['Id']\n",
    "test_ID = test['Id']\n",
    "\n",
    "# 데이터 삭제\n",
    "train = train.drop(['Id'], axis = 1)\n",
    "train.shape"
   ]
  },
  {
   "cell_type": "code",
   "execution_count": 12,
   "id": "6504f5d8",
   "metadata": {
    "execution": {
     "iopub.execute_input": "2022-07-07T06:27:02.567063Z",
     "iopub.status.busy": "2022-07-07T06:27:02.566406Z",
     "iopub.status.idle": "2022-07-07T06:27:02.574235Z",
     "shell.execute_reply": "2022-07-07T06:27:02.573065Z"
    },
    "papermill": {
     "duration": 0.037154,
     "end_time": "2022-07-07T06:27:02.576906",
     "exception": false,
     "start_time": "2022-07-07T06:27:02.539752",
     "status": "completed"
    },
    "tags": []
   },
   "outputs": [
    {
     "data": {
      "text/plain": [
       "(1459, 79)"
      ]
     },
     "execution_count": 12,
     "metadata": {},
     "output_type": "execute_result"
    }
   ],
   "source": [
    "test = test.drop(['Id'], axis = 1)\n",
    "test.shape"
   ]
  },
  {
   "cell_type": "markdown",
   "id": "db8aefe6",
   "metadata": {
    "papermill": {
     "duration": 0.024409,
     "end_time": "2022-07-07T06:27:02.627011",
     "exception": false,
     "start_time": "2022-07-07T06:27:02.602602",
     "status": "completed"
    },
    "tags": []
   },
   "source": [
    "### Y 값 추출\n",
    "- train데이터에 SalePrice만 따로 저장한다."
   ]
  },
  {
   "cell_type": "code",
   "execution_count": 13,
   "id": "0ffad429",
   "metadata": {
    "execution": {
     "iopub.execute_input": "2022-07-07T06:27:02.678260Z",
     "iopub.status.busy": "2022-07-07T06:27:02.677778Z",
     "iopub.status.idle": "2022-07-07T06:27:02.687324Z",
     "shell.execute_reply": "2022-07-07T06:27:02.686415Z"
    },
    "papermill": {
     "duration": 0.037639,
     "end_time": "2022-07-07T06:27:02.689293",
     "exception": false,
     "start_time": "2022-07-07T06:27:02.651654",
     "status": "completed"
    },
    "tags": []
   },
   "outputs": [
    {
     "data": {
      "text/plain": [
       "(1460, 79)"
      ]
     },
     "execution_count": 13,
     "metadata": {},
     "output_type": "execute_result"
    }
   ],
   "source": [
    "y = train['SalePrice']\n",
    "y\n",
    "train = train.drop('SalePrice', axis = 1)\n",
    "train.shape"
   ]
  },
  {
   "cell_type": "code",
   "execution_count": 14,
   "id": "60320b86",
   "metadata": {
    "execution": {
     "iopub.execute_input": "2022-07-07T06:27:02.740138Z",
     "iopub.status.busy": "2022-07-07T06:27:02.739403Z",
     "iopub.status.idle": "2022-07-07T06:27:02.745430Z",
     "shell.execute_reply": "2022-07-07T06:27:02.744563Z"
    },
    "papermill": {
     "duration": 0.034014,
     "end_time": "2022-07-07T06:27:02.747448",
     "exception": false,
     "start_time": "2022-07-07T06:27:02.713434",
     "status": "completed"
    },
    "tags": []
   },
   "outputs": [
    {
     "data": {
      "text/plain": [
       "(1459, 79)"
      ]
     },
     "execution_count": 14,
     "metadata": {},
     "output_type": "execute_result"
    }
   ],
   "source": [
    "test.shape"
   ]
  },
  {
   "cell_type": "markdown",
   "id": "f23668b2",
   "metadata": {
    "papermill": {
     "duration": 0.023537,
     "end_time": "2022-07-07T06:27:02.795181",
     "exception": false,
     "start_time": "2022-07-07T06:27:02.771644",
     "status": "completed"
    },
    "tags": []
   },
   "source": [
    "### 데이터 합치기\n",
    "- 비추, 강의용\n",
    "- train 따로 정리, test 따로 정리 추천\n",
    "- Data Leakage 오류를 범할 가능성이 높음."
   ]
  },
  {
   "cell_type": "code",
   "execution_count": 15,
   "id": "a8d94b6c",
   "metadata": {
    "execution": {
     "iopub.execute_input": "2022-07-07T06:27:02.848666Z",
     "iopub.status.busy": "2022-07-07T06:27:02.848098Z",
     "iopub.status.idle": "2022-07-07T06:27:02.875000Z",
     "shell.execute_reply": "2022-07-07T06:27:02.874220Z"
    },
    "papermill": {
     "duration": 0.055433,
     "end_time": "2022-07-07T06:27:02.877064",
     "exception": false,
     "start_time": "2022-07-07T06:27:02.821631",
     "status": "completed"
    },
    "tags": []
   },
   "outputs": [
    {
     "data": {
      "text/plain": [
       "(2919, 79)"
      ]
     },
     "execution_count": 15,
     "metadata": {},
     "output_type": "execute_result"
    }
   ],
   "source": [
    "all_df = pd.concat([train,test]).reset_index(drop=True)\n",
    "all_df.shape"
   ]
  },
  {
   "cell_type": "markdown",
   "id": "3c6e4641",
   "metadata": {
    "papermill": {
     "duration": 0.02436,
     "end_time": "2022-07-07T06:27:02.926167",
     "exception": false,
     "start_time": "2022-07-07T06:27:02.901807",
     "status": "completed"
    },
    "tags": []
   },
   "source": [
    "## 결측치 확인\n",
    "- 결측치 비율 확인하는 사용자 정의 함수 작성\n",
    "- 추후에 코드 분석 해보"
   ]
  },
  {
   "cell_type": "code",
   "execution_count": 16,
   "id": "9e898a38",
   "metadata": {
    "execution": {
     "iopub.execute_input": "2022-07-07T06:27:02.978324Z",
     "iopub.status.busy": "2022-07-07T06:27:02.977880Z",
     "iopub.status.idle": "2022-07-07T06:27:03.009214Z",
     "shell.execute_reply": "2022-07-07T06:27:03.007383Z"
    },
    "papermill": {
     "duration": 0.061385,
     "end_time": "2022-07-07T06:27:03.012245",
     "exception": false,
     "start_time": "2022-07-07T06:27:02.950860",
     "status": "completed"
    },
    "tags": []
   },
   "outputs": [
    {
     "name": "stdout",
     "output_type": "stream",
     "text": [
      "결측치 데이터 컬럼과 건수:\n",
      "               Missing Ratio Data Type\n",
      "PoolQC            99.657417    object\n",
      "MiscFeature       96.402878    object\n",
      "Alley             93.216855    object\n",
      "Fence             80.438506    object\n",
      "FireplaceQu       48.646797    object\n",
      "LotFrontage       16.649538   float64\n",
      "GarageFinish       5.447071    object\n",
      "GarageQual         5.447071    object\n",
      "GarageCond         5.447071    object\n",
      "GarageYrBlt        5.447071   float64\n",
      "GarageType         5.378554    object\n",
      "BsmtExposure       2.809181    object\n",
      "BsmtCond           2.809181    object\n",
      "BsmtQual           2.774923    object\n",
      "BsmtFinType2       2.740665    object\n",
      "BsmtFinType1       2.706406    object\n",
      "MasVnrType         0.822199    object\n",
      "MasVnrArea         0.787941   float64\n",
      "MSZoning           0.137033    object\n",
      "BsmtFullBath       0.068517   float64\n"
     ]
    }
   ],
   "source": [
    "# 결측치 비율을 알려준다.\n",
    "def check_na(data, head_num = 6):\n",
    "  isnull_na = (data.isnull().sum() / len(data)) * 100\n",
    "  data_na = isnull_na.drop(isnull_na[isnull_na == 0].index).sort_values(ascending=False)\n",
    "  missing_data = pd.DataFrame({'Missing Ratio' :data_na, \n",
    "                               'Data Type': data.dtypes[data_na.index]})\n",
    "  print(\"결측치 데이터 컬럼과 건수:\\n\", missing_data.head(head_num))\n",
    "\n",
    "check_na(all_df, 20)\n",
    "\n",
    "# 결측치가 높으면 패턴이 발견되기 어렵다 -> 지우기!\n",
    "# 컬럼 지우기는 신중하게"
   ]
  },
  {
   "cell_type": "markdown",
   "id": "b46b982a",
   "metadata": {
    "papermill": {
     "duration": 0.024992,
     "end_time": "2022-07-07T06:27:03.062759",
     "exception": false,
     "start_time": "2022-07-07T06:27:03.037767",
     "status": "completed"
    },
    "tags": []
   },
   "source": [
    "### 결측치 제거\n",
    "- 결측치 비율은 높은 변수들을 모두 제거하기로 한다."
   ]
  },
  {
   "cell_type": "code",
   "execution_count": 17,
   "id": "c263d3a7",
   "metadata": {
    "execution": {
     "iopub.execute_input": "2022-07-07T06:27:03.114892Z",
     "iopub.status.busy": "2022-07-07T06:27:03.113748Z",
     "iopub.status.idle": "2022-07-07T06:27:03.135341Z",
     "shell.execute_reply": "2022-07-07T06:27:03.134149Z"
    },
    "papermill": {
     "duration": 0.050118,
     "end_time": "2022-07-07T06:27:03.137640",
     "exception": false,
     "start_time": "2022-07-07T06:27:03.087522",
     "status": "completed"
    },
    "tags": []
   },
   "outputs": [
    {
     "data": {
      "text/html": [
       "<div>\n",
       "<style scoped>\n",
       "    .dataframe tbody tr th:only-of-type {\n",
       "        vertical-align: middle;\n",
       "    }\n",
       "\n",
       "    .dataframe tbody tr th {\n",
       "        vertical-align: top;\n",
       "    }\n",
       "\n",
       "    .dataframe thead th {\n",
       "        text-align: right;\n",
       "    }\n",
       "</style>\n",
       "<table border=\"1\" class=\"dataframe\">\n",
       "  <thead>\n",
       "    <tr style=\"text-align: right;\">\n",
       "      <th></th>\n",
       "      <th>PoolQC</th>\n",
       "      <th>MiscFeature</th>\n",
       "      <th>Alley</th>\n",
       "      <th>Fence</th>\n",
       "      <th>FireplaceQu</th>\n",
       "      <th>LotFrontage</th>\n",
       "    </tr>\n",
       "  </thead>\n",
       "  <tbody>\n",
       "    <tr>\n",
       "      <th>0</th>\n",
       "      <td>NaN</td>\n",
       "      <td>NaN</td>\n",
       "      <td>NaN</td>\n",
       "      <td>NaN</td>\n",
       "      <td>NaN</td>\n",
       "      <td>65.0</td>\n",
       "    </tr>\n",
       "    <tr>\n",
       "      <th>1</th>\n",
       "      <td>NaN</td>\n",
       "      <td>NaN</td>\n",
       "      <td>NaN</td>\n",
       "      <td>NaN</td>\n",
       "      <td>TA</td>\n",
       "      <td>80.0</td>\n",
       "    </tr>\n",
       "    <tr>\n",
       "      <th>2</th>\n",
       "      <td>NaN</td>\n",
       "      <td>NaN</td>\n",
       "      <td>NaN</td>\n",
       "      <td>NaN</td>\n",
       "      <td>TA</td>\n",
       "      <td>68.0</td>\n",
       "    </tr>\n",
       "    <tr>\n",
       "      <th>3</th>\n",
       "      <td>NaN</td>\n",
       "      <td>NaN</td>\n",
       "      <td>NaN</td>\n",
       "      <td>NaN</td>\n",
       "      <td>Gd</td>\n",
       "      <td>60.0</td>\n",
       "    </tr>\n",
       "    <tr>\n",
       "      <th>4</th>\n",
       "      <td>NaN</td>\n",
       "      <td>NaN</td>\n",
       "      <td>NaN</td>\n",
       "      <td>NaN</td>\n",
       "      <td>TA</td>\n",
       "      <td>84.0</td>\n",
       "    </tr>\n",
       "    <tr>\n",
       "      <th>...</th>\n",
       "      <td>...</td>\n",
       "      <td>...</td>\n",
       "      <td>...</td>\n",
       "      <td>...</td>\n",
       "      <td>...</td>\n",
       "      <td>...</td>\n",
       "    </tr>\n",
       "    <tr>\n",
       "      <th>2914</th>\n",
       "      <td>NaN</td>\n",
       "      <td>NaN</td>\n",
       "      <td>NaN</td>\n",
       "      <td>NaN</td>\n",
       "      <td>NaN</td>\n",
       "      <td>21.0</td>\n",
       "    </tr>\n",
       "    <tr>\n",
       "      <th>2915</th>\n",
       "      <td>NaN</td>\n",
       "      <td>NaN</td>\n",
       "      <td>NaN</td>\n",
       "      <td>NaN</td>\n",
       "      <td>NaN</td>\n",
       "      <td>21.0</td>\n",
       "    </tr>\n",
       "    <tr>\n",
       "      <th>2916</th>\n",
       "      <td>NaN</td>\n",
       "      <td>NaN</td>\n",
       "      <td>NaN</td>\n",
       "      <td>NaN</td>\n",
       "      <td>TA</td>\n",
       "      <td>160.0</td>\n",
       "    </tr>\n",
       "    <tr>\n",
       "      <th>2917</th>\n",
       "      <td>NaN</td>\n",
       "      <td>Shed</td>\n",
       "      <td>NaN</td>\n",
       "      <td>MnPrv</td>\n",
       "      <td>NaN</td>\n",
       "      <td>62.0</td>\n",
       "    </tr>\n",
       "    <tr>\n",
       "      <th>2918</th>\n",
       "      <td>NaN</td>\n",
       "      <td>NaN</td>\n",
       "      <td>NaN</td>\n",
       "      <td>NaN</td>\n",
       "      <td>TA</td>\n",
       "      <td>74.0</td>\n",
       "    </tr>\n",
       "  </tbody>\n",
       "</table>\n",
       "<p>2919 rows × 6 columns</p>\n",
       "</div>"
      ],
      "text/plain": [
       "     PoolQC MiscFeature Alley  Fence FireplaceQu  LotFrontage\n",
       "0       NaN         NaN   NaN    NaN         NaN         65.0\n",
       "1       NaN         NaN   NaN    NaN          TA         80.0\n",
       "2       NaN         NaN   NaN    NaN          TA         68.0\n",
       "3       NaN         NaN   NaN    NaN          Gd         60.0\n",
       "4       NaN         NaN   NaN    NaN          TA         84.0\n",
       "...     ...         ...   ...    ...         ...          ...\n",
       "2914    NaN         NaN   NaN    NaN         NaN         21.0\n",
       "2915    NaN         NaN   NaN    NaN         NaN         21.0\n",
       "2916    NaN         NaN   NaN    NaN          TA        160.0\n",
       "2917    NaN        Shed   NaN  MnPrv         NaN         62.0\n",
       "2918    NaN         NaN   NaN    NaN          TA         74.0\n",
       "\n",
       "[2919 rows x 6 columns]"
      ]
     },
     "execution_count": 17,
     "metadata": {},
     "output_type": "execute_result"
    }
   ],
   "source": [
    "# 혹시 모르니 영구삭제 X, 따로 빼두기\n",
    "del_data = all_df[['PoolQC', 'MiscFeature', 'Alley', 'Fence', 'FireplaceQu', 'LotFrontage']]\n",
    "del_data"
   ]
  },
  {
   "cell_type": "code",
   "execution_count": 18,
   "id": "e68b2c7a",
   "metadata": {
    "execution": {
     "iopub.execute_input": "2022-07-07T06:27:03.190381Z",
     "iopub.status.busy": "2022-07-07T06:27:03.189302Z",
     "iopub.status.idle": "2022-07-07T06:27:03.226170Z",
     "shell.execute_reply": "2022-07-07T06:27:03.224917Z"
    },
    "papermill": {
     "duration": 0.066006,
     "end_time": "2022-07-07T06:27:03.228700",
     "exception": false,
     "start_time": "2022-07-07T06:27:03.162694",
     "status": "completed"
    },
    "tags": []
   },
   "outputs": [
    {
     "data": {
      "text/html": [
       "<div>\n",
       "<style scoped>\n",
       "    .dataframe tbody tr th:only-of-type {\n",
       "        vertical-align: middle;\n",
       "    }\n",
       "\n",
       "    .dataframe tbody tr th {\n",
       "        vertical-align: top;\n",
       "    }\n",
       "\n",
       "    .dataframe thead th {\n",
       "        text-align: right;\n",
       "    }\n",
       "</style>\n",
       "<table border=\"1\" class=\"dataframe\">\n",
       "  <thead>\n",
       "    <tr style=\"text-align: right;\">\n",
       "      <th></th>\n",
       "      <th>MSSubClass</th>\n",
       "      <th>MSZoning</th>\n",
       "      <th>LotFrontage</th>\n",
       "      <th>LotArea</th>\n",
       "      <th>Street</th>\n",
       "      <th>Alley</th>\n",
       "      <th>LotShape</th>\n",
       "      <th>LandContour</th>\n",
       "      <th>Utilities</th>\n",
       "      <th>LotConfig</th>\n",
       "      <th>...</th>\n",
       "      <th>ScreenPorch</th>\n",
       "      <th>PoolArea</th>\n",
       "      <th>PoolQC</th>\n",
       "      <th>Fence</th>\n",
       "      <th>MiscFeature</th>\n",
       "      <th>MiscVal</th>\n",
       "      <th>MoSold</th>\n",
       "      <th>YrSold</th>\n",
       "      <th>SaleType</th>\n",
       "      <th>SaleCondition</th>\n",
       "    </tr>\n",
       "  </thead>\n",
       "  <tbody>\n",
       "    <tr>\n",
       "      <th>0</th>\n",
       "      <td>60</td>\n",
       "      <td>RL</td>\n",
       "      <td>65.0</td>\n",
       "      <td>8450</td>\n",
       "      <td>Pave</td>\n",
       "      <td>NaN</td>\n",
       "      <td>Reg</td>\n",
       "      <td>Lvl</td>\n",
       "      <td>AllPub</td>\n",
       "      <td>Inside</td>\n",
       "      <td>...</td>\n",
       "      <td>0</td>\n",
       "      <td>0</td>\n",
       "      <td>NaN</td>\n",
       "      <td>NaN</td>\n",
       "      <td>NaN</td>\n",
       "      <td>0</td>\n",
       "      <td>2</td>\n",
       "      <td>2008</td>\n",
       "      <td>WD</td>\n",
       "      <td>Normal</td>\n",
       "    </tr>\n",
       "    <tr>\n",
       "      <th>1</th>\n",
       "      <td>20</td>\n",
       "      <td>RL</td>\n",
       "      <td>80.0</td>\n",
       "      <td>9600</td>\n",
       "      <td>Pave</td>\n",
       "      <td>NaN</td>\n",
       "      <td>Reg</td>\n",
       "      <td>Lvl</td>\n",
       "      <td>AllPub</td>\n",
       "      <td>FR2</td>\n",
       "      <td>...</td>\n",
       "      <td>0</td>\n",
       "      <td>0</td>\n",
       "      <td>NaN</td>\n",
       "      <td>NaN</td>\n",
       "      <td>NaN</td>\n",
       "      <td>0</td>\n",
       "      <td>5</td>\n",
       "      <td>2007</td>\n",
       "      <td>WD</td>\n",
       "      <td>Normal</td>\n",
       "    </tr>\n",
       "    <tr>\n",
       "      <th>2</th>\n",
       "      <td>60</td>\n",
       "      <td>RL</td>\n",
       "      <td>68.0</td>\n",
       "      <td>11250</td>\n",
       "      <td>Pave</td>\n",
       "      <td>NaN</td>\n",
       "      <td>IR1</td>\n",
       "      <td>Lvl</td>\n",
       "      <td>AllPub</td>\n",
       "      <td>Inside</td>\n",
       "      <td>...</td>\n",
       "      <td>0</td>\n",
       "      <td>0</td>\n",
       "      <td>NaN</td>\n",
       "      <td>NaN</td>\n",
       "      <td>NaN</td>\n",
       "      <td>0</td>\n",
       "      <td>9</td>\n",
       "      <td>2008</td>\n",
       "      <td>WD</td>\n",
       "      <td>Normal</td>\n",
       "    </tr>\n",
       "    <tr>\n",
       "      <th>3</th>\n",
       "      <td>70</td>\n",
       "      <td>RL</td>\n",
       "      <td>60.0</td>\n",
       "      <td>9550</td>\n",
       "      <td>Pave</td>\n",
       "      <td>NaN</td>\n",
       "      <td>IR1</td>\n",
       "      <td>Lvl</td>\n",
       "      <td>AllPub</td>\n",
       "      <td>Corner</td>\n",
       "      <td>...</td>\n",
       "      <td>0</td>\n",
       "      <td>0</td>\n",
       "      <td>NaN</td>\n",
       "      <td>NaN</td>\n",
       "      <td>NaN</td>\n",
       "      <td>0</td>\n",
       "      <td>2</td>\n",
       "      <td>2006</td>\n",
       "      <td>WD</td>\n",
       "      <td>Abnorml</td>\n",
       "    </tr>\n",
       "    <tr>\n",
       "      <th>4</th>\n",
       "      <td>60</td>\n",
       "      <td>RL</td>\n",
       "      <td>84.0</td>\n",
       "      <td>14260</td>\n",
       "      <td>Pave</td>\n",
       "      <td>NaN</td>\n",
       "      <td>IR1</td>\n",
       "      <td>Lvl</td>\n",
       "      <td>AllPub</td>\n",
       "      <td>FR2</td>\n",
       "      <td>...</td>\n",
       "      <td>0</td>\n",
       "      <td>0</td>\n",
       "      <td>NaN</td>\n",
       "      <td>NaN</td>\n",
       "      <td>NaN</td>\n",
       "      <td>0</td>\n",
       "      <td>12</td>\n",
       "      <td>2008</td>\n",
       "      <td>WD</td>\n",
       "      <td>Normal</td>\n",
       "    </tr>\n",
       "    <tr>\n",
       "      <th>...</th>\n",
       "      <td>...</td>\n",
       "      <td>...</td>\n",
       "      <td>...</td>\n",
       "      <td>...</td>\n",
       "      <td>...</td>\n",
       "      <td>...</td>\n",
       "      <td>...</td>\n",
       "      <td>...</td>\n",
       "      <td>...</td>\n",
       "      <td>...</td>\n",
       "      <td>...</td>\n",
       "      <td>...</td>\n",
       "      <td>...</td>\n",
       "      <td>...</td>\n",
       "      <td>...</td>\n",
       "      <td>...</td>\n",
       "      <td>...</td>\n",
       "      <td>...</td>\n",
       "      <td>...</td>\n",
       "      <td>...</td>\n",
       "      <td>...</td>\n",
       "    </tr>\n",
       "    <tr>\n",
       "      <th>2914</th>\n",
       "      <td>160</td>\n",
       "      <td>RM</td>\n",
       "      <td>21.0</td>\n",
       "      <td>1936</td>\n",
       "      <td>Pave</td>\n",
       "      <td>NaN</td>\n",
       "      <td>Reg</td>\n",
       "      <td>Lvl</td>\n",
       "      <td>AllPub</td>\n",
       "      <td>Inside</td>\n",
       "      <td>...</td>\n",
       "      <td>0</td>\n",
       "      <td>0</td>\n",
       "      <td>NaN</td>\n",
       "      <td>NaN</td>\n",
       "      <td>NaN</td>\n",
       "      <td>0</td>\n",
       "      <td>6</td>\n",
       "      <td>2006</td>\n",
       "      <td>WD</td>\n",
       "      <td>Normal</td>\n",
       "    </tr>\n",
       "    <tr>\n",
       "      <th>2915</th>\n",
       "      <td>160</td>\n",
       "      <td>RM</td>\n",
       "      <td>21.0</td>\n",
       "      <td>1894</td>\n",
       "      <td>Pave</td>\n",
       "      <td>NaN</td>\n",
       "      <td>Reg</td>\n",
       "      <td>Lvl</td>\n",
       "      <td>AllPub</td>\n",
       "      <td>Inside</td>\n",
       "      <td>...</td>\n",
       "      <td>0</td>\n",
       "      <td>0</td>\n",
       "      <td>NaN</td>\n",
       "      <td>NaN</td>\n",
       "      <td>NaN</td>\n",
       "      <td>0</td>\n",
       "      <td>4</td>\n",
       "      <td>2006</td>\n",
       "      <td>WD</td>\n",
       "      <td>Abnorml</td>\n",
       "    </tr>\n",
       "    <tr>\n",
       "      <th>2916</th>\n",
       "      <td>20</td>\n",
       "      <td>RL</td>\n",
       "      <td>160.0</td>\n",
       "      <td>20000</td>\n",
       "      <td>Pave</td>\n",
       "      <td>NaN</td>\n",
       "      <td>Reg</td>\n",
       "      <td>Lvl</td>\n",
       "      <td>AllPub</td>\n",
       "      <td>Inside</td>\n",
       "      <td>...</td>\n",
       "      <td>0</td>\n",
       "      <td>0</td>\n",
       "      <td>NaN</td>\n",
       "      <td>NaN</td>\n",
       "      <td>NaN</td>\n",
       "      <td>0</td>\n",
       "      <td>9</td>\n",
       "      <td>2006</td>\n",
       "      <td>WD</td>\n",
       "      <td>Abnorml</td>\n",
       "    </tr>\n",
       "    <tr>\n",
       "      <th>2917</th>\n",
       "      <td>85</td>\n",
       "      <td>RL</td>\n",
       "      <td>62.0</td>\n",
       "      <td>10441</td>\n",
       "      <td>Pave</td>\n",
       "      <td>NaN</td>\n",
       "      <td>Reg</td>\n",
       "      <td>Lvl</td>\n",
       "      <td>AllPub</td>\n",
       "      <td>Inside</td>\n",
       "      <td>...</td>\n",
       "      <td>0</td>\n",
       "      <td>0</td>\n",
       "      <td>NaN</td>\n",
       "      <td>MnPrv</td>\n",
       "      <td>Shed</td>\n",
       "      <td>700</td>\n",
       "      <td>7</td>\n",
       "      <td>2006</td>\n",
       "      <td>WD</td>\n",
       "      <td>Normal</td>\n",
       "    </tr>\n",
       "    <tr>\n",
       "      <th>2918</th>\n",
       "      <td>60</td>\n",
       "      <td>RL</td>\n",
       "      <td>74.0</td>\n",
       "      <td>9627</td>\n",
       "      <td>Pave</td>\n",
       "      <td>NaN</td>\n",
       "      <td>Reg</td>\n",
       "      <td>Lvl</td>\n",
       "      <td>AllPub</td>\n",
       "      <td>Inside</td>\n",
       "      <td>...</td>\n",
       "      <td>0</td>\n",
       "      <td>0</td>\n",
       "      <td>NaN</td>\n",
       "      <td>NaN</td>\n",
       "      <td>NaN</td>\n",
       "      <td>0</td>\n",
       "      <td>11</td>\n",
       "      <td>2006</td>\n",
       "      <td>WD</td>\n",
       "      <td>Normal</td>\n",
       "    </tr>\n",
       "  </tbody>\n",
       "</table>\n",
       "<p>2919 rows × 79 columns</p>\n",
       "</div>"
      ],
      "text/plain": [
       "      MSSubClass MSZoning  LotFrontage  LotArea Street Alley LotShape  \\\n",
       "0             60       RL         65.0     8450   Pave   NaN      Reg   \n",
       "1             20       RL         80.0     9600   Pave   NaN      Reg   \n",
       "2             60       RL         68.0    11250   Pave   NaN      IR1   \n",
       "3             70       RL         60.0     9550   Pave   NaN      IR1   \n",
       "4             60       RL         84.0    14260   Pave   NaN      IR1   \n",
       "...          ...      ...          ...      ...    ...   ...      ...   \n",
       "2914         160       RM         21.0     1936   Pave   NaN      Reg   \n",
       "2915         160       RM         21.0     1894   Pave   NaN      Reg   \n",
       "2916          20       RL        160.0    20000   Pave   NaN      Reg   \n",
       "2917          85       RL         62.0    10441   Pave   NaN      Reg   \n",
       "2918          60       RL         74.0     9627   Pave   NaN      Reg   \n",
       "\n",
       "     LandContour Utilities LotConfig  ... ScreenPorch PoolArea PoolQC  Fence  \\\n",
       "0            Lvl    AllPub    Inside  ...           0        0    NaN    NaN   \n",
       "1            Lvl    AllPub       FR2  ...           0        0    NaN    NaN   \n",
       "2            Lvl    AllPub    Inside  ...           0        0    NaN    NaN   \n",
       "3            Lvl    AllPub    Corner  ...           0        0    NaN    NaN   \n",
       "4            Lvl    AllPub       FR2  ...           0        0    NaN    NaN   \n",
       "...          ...       ...       ...  ...         ...      ...    ...    ...   \n",
       "2914         Lvl    AllPub    Inside  ...           0        0    NaN    NaN   \n",
       "2915         Lvl    AllPub    Inside  ...           0        0    NaN    NaN   \n",
       "2916         Lvl    AllPub    Inside  ...           0        0    NaN    NaN   \n",
       "2917         Lvl    AllPub    Inside  ...           0        0    NaN  MnPrv   \n",
       "2918         Lvl    AllPub    Inside  ...           0        0    NaN    NaN   \n",
       "\n",
       "     MiscFeature MiscVal  MoSold  YrSold  SaleType  SaleCondition  \n",
       "0            NaN       0       2    2008        WD         Normal  \n",
       "1            NaN       0       5    2007        WD         Normal  \n",
       "2            NaN       0       9    2008        WD         Normal  \n",
       "3            NaN       0       2    2006        WD        Abnorml  \n",
       "4            NaN       0      12    2008        WD         Normal  \n",
       "...          ...     ...     ...     ...       ...            ...  \n",
       "2914         NaN       0       6    2006        WD         Normal  \n",
       "2915         NaN       0       4    2006        WD        Abnorml  \n",
       "2916         NaN       0       9    2006        WD        Abnorml  \n",
       "2917        Shed     700       7    2006        WD         Normal  \n",
       "2918         NaN       0      11    2006        WD         Normal  \n",
       "\n",
       "[2919 rows x 79 columns]"
      ]
     },
     "execution_count": 18,
     "metadata": {},
     "output_type": "execute_result"
    }
   ],
   "source": [
    "all_df"
   ]
  },
  {
   "cell_type": "code",
   "execution_count": 19,
   "id": "442512d1",
   "metadata": {
    "execution": {
     "iopub.execute_input": "2022-07-07T06:27:03.282784Z",
     "iopub.status.busy": "2022-07-07T06:27:03.281967Z",
     "iopub.status.idle": "2022-07-07T06:27:03.287949Z",
     "shell.execute_reply": "2022-07-07T06:27:03.287118Z"
    },
    "papermill": {
     "duration": 0.035432,
     "end_time": "2022-07-07T06:27:03.290017",
     "exception": false,
     "start_time": "2022-07-07T06:27:03.254585",
     "status": "completed"
    },
    "tags": []
   },
   "outputs": [
    {
     "data": {
      "text/plain": [
       "pandas.core.frame.DataFrame"
      ]
     },
     "execution_count": 19,
     "metadata": {},
     "output_type": "execute_result"
    }
   ],
   "source": [
    "type(all_df)"
   ]
  },
  {
   "cell_type": "code",
   "execution_count": 20,
   "id": "54aee8ac",
   "metadata": {
    "execution": {
     "iopub.execute_input": "2022-07-07T06:27:03.342457Z",
     "iopub.status.busy": "2022-07-07T06:27:03.341647Z",
     "iopub.status.idle": "2022-07-07T06:27:03.346736Z",
     "shell.execute_reply": "2022-07-07T06:27:03.345870Z"
    },
    "papermill": {
     "duration": 0.033652,
     "end_time": "2022-07-07T06:27:03.348830",
     "exception": false,
     "start_time": "2022-07-07T06:27:03.315178",
     "status": "completed"
    },
    "tags": []
   },
   "outputs": [],
   "source": [
    "# 데이터 삭제 방법 1\n",
    "\n",
    "#all_df = all_df.drop(['PoolQC'], axis = 1)\n",
    "#all_df = all_df.drop(['MiscFeature'], axis = 1)\n",
    "#all_df = all_df.drop(['Alley'], axis = 1)\n",
    "#all_df = all_df.drop(['Fence'], axis = 1)\n",
    "#all_df = all_df.drop(['FireplaceQu'], axis = 1)\n",
    "#all_df = all_df.drop(['LotFrontage'], axis = 1)\n",
    "#all_df.shape"
   ]
  },
  {
   "cell_type": "code",
   "execution_count": 21,
   "id": "c9b0d8af",
   "metadata": {
    "execution": {
     "iopub.execute_input": "2022-07-07T06:27:03.400601Z",
     "iopub.status.busy": "2022-07-07T06:27:03.400237Z",
     "iopub.status.idle": "2022-07-07T06:27:03.404853Z",
     "shell.execute_reply": "2022-07-07T06:27:03.403749Z"
    },
    "papermill": {
     "duration": 0.033005,
     "end_time": "2022-07-07T06:27:03.406924",
     "exception": false,
     "start_time": "2022-07-07T06:27:03.373919",
     "status": "completed"
    },
    "tags": []
   },
   "outputs": [],
   "source": [
    "# 데이터 삭제 방법 2\n",
    "#del_list = ['PoolQC', 'MiscFeature', 'Alley', 'Fence', 'FireplaceQu', 'LotFrontage']\n",
    "#for i in del_list:\n",
    "#    all_df = all_df.drop([i], axis =1)\n",
    "#all_df.shape"
   ]
  },
  {
   "cell_type": "code",
   "execution_count": 22,
   "id": "bb351c95",
   "metadata": {
    "execution": {
     "iopub.execute_input": "2022-07-07T06:27:03.458797Z",
     "iopub.status.busy": "2022-07-07T06:27:03.458446Z",
     "iopub.status.idle": "2022-07-07T06:27:03.485446Z",
     "shell.execute_reply": "2022-07-07T06:27:03.484450Z"
    },
    "papermill": {
     "duration": 0.055736,
     "end_time": "2022-07-07T06:27:03.487540",
     "exception": false,
     "start_time": "2022-07-07T06:27:03.431804",
     "status": "completed"
    },
    "tags": []
   },
   "outputs": [
    {
     "name": "stdout",
     "output_type": "stream",
     "text": [
      "(2919, 73)\n",
      "결측치 데이터 컬럼과 건수:\n",
      "               Missing Ratio Data Type\n",
      "GarageCond         5.447071    object\n",
      "GarageQual         5.447071    object\n",
      "GarageYrBlt        5.447071   float64\n",
      "GarageFinish       5.447071    object\n",
      "GarageType         5.378554    object\n",
      "BsmtCond           2.809181    object\n"
     ]
    }
   ],
   "source": [
    "# 데이터 삭제 방법 3\n",
    "all_df = all_df.drop(['PoolQC', 'MiscFeature', 'Alley', 'Fence', 'FireplaceQu', 'LotFrontage'], axis = 1)\n",
    "print(all_df.shape)\n",
    "check_na(all_df)"
   ]
  },
  {
   "cell_type": "markdown",
   "id": "a1619222",
   "metadata": {
    "papermill": {
     "duration": 0.024631,
     "end_time": "2022-07-07T06:27:03.537284",
     "exception": false,
     "start_time": "2022-07-07T06:27:03.512653",
     "status": "completed"
    },
    "tags": []
   },
   "source": [
    "## 결측치 채우기\n",
    "- train 데이터와 test 데이터가 섞이면 안됨.\n",
    "- train / test 분리해서 진행해야 함.\n",
    "- object(문자데이터) : 자주 등장하는 빈도 값으로 채움\n",
    "- 숫자데이터 : 평균값이 아닌, 중간값으로 채"
   ]
  },
  {
   "cell_type": "code",
   "execution_count": 23,
   "id": "4e9062dd",
   "metadata": {
    "execution": {
     "iopub.execute_input": "2022-07-07T06:27:03.589676Z",
     "iopub.status.busy": "2022-07-07T06:27:03.589033Z",
     "iopub.status.idle": "2022-07-07T06:27:03.613221Z",
     "shell.execute_reply": "2022-07-07T06:27:03.612273Z"
    },
    "papermill": {
     "duration": 0.053653,
     "end_time": "2022-07-07T06:27:03.616093",
     "exception": false,
     "start_time": "2022-07-07T06:27:03.562440",
     "status": "completed"
    },
    "tags": []
   },
   "outputs": [
    {
     "name": "stdout",
     "output_type": "stream",
     "text": [
      "결측치 데이터 컬럼과 건수:\n",
      "               Missing Ratio Data Type\n",
      "GarageCond         5.447071    object\n",
      "GarageQual         5.447071    object\n",
      "GarageYrBlt        5.447071   float64\n",
      "GarageFinish       5.447071    object\n",
      "GarageType         5.378554    object\n",
      "BsmtCond           2.809181    object\n",
      "BsmtExposure       2.809181    object\n",
      "BsmtQual           2.774923    object\n",
      "BsmtFinType2       2.740665    object\n",
      "BsmtFinType1       2.706406    object\n",
      "MasVnrType         0.822199    object\n",
      "MasVnrArea         0.787941   float64\n",
      "MSZoning           0.137033    object\n",
      "Functional         0.068517    object\n",
      "Utilities          0.068517    object\n",
      "BsmtFullBath       0.068517   float64\n",
      "BsmtHalfBath       0.068517   float64\n",
      "GarageArea         0.034258   float64\n",
      "GarageCars         0.034258   float64\n",
      "TotalBsmtSF        0.034258   float64\n",
      "KitchenQual        0.034258    object\n",
      "Electrical         0.034258    object\n",
      "BsmtUnfSF          0.034258   float64\n",
      "BsmtFinSF2         0.034258   float64\n",
      "BsmtFinSF1         0.034258   float64\n",
      "Exterior2nd        0.034258    object\n",
      "Exterior1st        0.034258    object\n",
      "SaleType           0.034258    object\n"
     ]
    }
   ],
   "source": [
    "# 결측치 확인\n",
    "check_na(all_df,40)"
   ]
  },
  {
   "cell_type": "markdown",
   "id": "db3fa550",
   "metadata": {
    "papermill": {
     "duration": 0.024731,
     "end_time": "2022-07-07T06:27:03.666836",
     "exception": false,
     "start_time": "2022-07-07T06:27:03.642105",
     "status": "completed"
    },
    "tags": []
   },
   "source": [
    "### 문자형 데이터 결측치 채우기"
   ]
  },
  {
   "cell_type": "code",
   "execution_count": 24,
   "id": "9453ea53",
   "metadata": {
    "execution": {
     "iopub.execute_input": "2022-07-07T06:27:03.718903Z",
     "iopub.status.busy": "2022-07-07T06:27:03.718539Z",
     "iopub.status.idle": "2022-07-07T06:27:03.726860Z",
     "shell.execute_reply": "2022-07-07T06:27:03.725739Z"
    },
    "papermill": {
     "duration": 0.03682,
     "end_time": "2022-07-07T06:27:03.729003",
     "exception": false,
     "start_time": "2022-07-07T06:27:03.692183",
     "status": "completed"
    },
    "tags": []
   },
   "outputs": [
    {
     "data": {
      "text/plain": [
       "'TA'"
      ]
     },
     "execution_count": 24,
     "metadata": {},
     "output_type": "execute_result"
    }
   ],
   "source": [
    "# all_df['BsmtCond'].value_counts().index[0]\n",
    "# TA(문자데이터의 자주 등장하는 빈도 값)를 뽑아내기 위해 아래 코드 사용\n",
    "all_df['BsmtCond'].mode()[0]"
   ]
  },
  {
   "cell_type": "markdown",
   "id": "d36ccf92",
   "metadata": {
    "papermill": {
     "duration": 0.025271,
     "end_time": "2022-07-07T06:27:03.780174",
     "exception": false,
     "start_time": "2022-07-07T06:27:03.754903",
     "status": "completed"
    },
    "tags": []
   },
   "source": [
    "리스트"
   ]
  },
  {
   "cell_type": "code",
   "execution_count": 25,
   "id": "7e5411af",
   "metadata": {
    "execution": {
     "iopub.execute_input": "2022-07-07T06:27:03.833591Z",
     "iopub.status.busy": "2022-07-07T06:27:03.833176Z",
     "iopub.status.idle": "2022-07-07T06:27:03.913475Z",
     "shell.execute_reply": "2022-07-07T06:27:03.911728Z"
    },
    "papermill": {
     "duration": 0.111011,
     "end_time": "2022-07-07T06:27:03.916632",
     "exception": false,
     "start_time": "2022-07-07T06:27:03.805621",
     "status": "completed"
    },
    "tags": []
   },
   "outputs": [
    {
     "name": "stdout",
     "output_type": "stream",
     "text": [
      "The whole number of all_vars 43\n",
      "The whole number of final_cat_vars 38\n",
      "결측치 데이터 컬럼과 건수:\n",
      "               Missing Ratio Data Type\n",
      "GarageYrBlt        5.447071   float64\n",
      "MasVnrArea         0.787941   float64\n",
      "BsmtFullBath       0.068517   float64\n",
      "BsmtHalfBath       0.068517   float64\n",
      "BsmtFinSF1         0.034258   float64\n",
      "BsmtFinSF2         0.034258   float64\n",
      "BsmtUnfSF          0.034258   float64\n",
      "TotalBsmtSF        0.034258   float64\n",
      "GarageCars         0.034258   float64\n",
      "GarageArea         0.034258   float64\n"
     ]
    }
   ],
   "source": [
    "import numpy as np\n",
    "\n",
    "# 문자열 데이터만 추출, all_df 말고 train 기준\n",
    "cat_all_vars = train.select_dtypes(exclude=[np.number])\n",
    "print(\"The whole number of all_vars\", len(list(cat_all_vars)))\n",
    "\n",
    "# 문자열 데이터 중에서 이미 기 삭제했던 Feature들이 있었기 때문에, \n",
    "# 한번 더 Feature를 정리하는 코드를 작성한다. \n",
    "# 따라서 38개의 Feature만 추출했다. \n",
    "final_cat_vars = []\n",
    "for v in cat_all_vars:\n",
    "    if v not in ['PoolQC', 'MiscFeature', 'Alley', 'Fence', 'FireplaceQu']:\n",
    "        final_cat_vars.append(v)\n",
    "\n",
    "print(\"The whole number of final_cat_vars\", len(final_cat_vars))\n",
    "\n",
    "# 이제 각 Feature 마다 빈도수가 가장 많이 나타나는 값을 추가하는 코드를 작성한다. \n",
    "for i in final_cat_vars:\n",
    "  all_df[i] = all_df[i].fillna(all_df[i].mode()[0])\n",
    "\n",
    "# 이제 수치형 데이터만 남은 것을 확인한다. \n",
    "check_na(all_df, 20)"
   ]
  },
  {
   "cell_type": "markdown",
   "id": "aa9eddbb",
   "metadata": {
    "papermill": {
     "duration": 0.025645,
     "end_time": "2022-07-07T06:27:03.968527",
     "exception": false,
     "start_time": "2022-07-07T06:27:03.942882",
     "status": "completed"
    },
    "tags": []
   },
   "source": [
    "### 수치 데이터 결측치 채우기\n",
    "- 수치형 데이터의 결측치를 추가할 수 있다.\n",
    "- 평균이 아닌 중간값으로 진행한다."
   ]
  },
  {
   "cell_type": "code",
   "execution_count": 26,
   "id": "c6c1eb20",
   "metadata": {
    "execution": {
     "iopub.execute_input": "2022-07-07T06:27:04.023716Z",
     "iopub.status.busy": "2022-07-07T06:27:04.023334Z",
     "iopub.status.idle": "2022-07-07T06:27:04.073412Z",
     "shell.execute_reply": "2022-07-07T06:27:04.071594Z"
    },
    "papermill": {
     "duration": 0.081285,
     "end_time": "2022-07-07T06:27:04.075923",
     "exception": false,
     "start_time": "2022-07-07T06:27:03.994638",
     "status": "completed"
    },
    "tags": []
   },
   "outputs": [
    {
     "name": "stdout",
     "output_type": "stream",
     "text": [
      "The whole number of all_vars 36\n",
      "The whole number of final_cat_vars 35\n",
      "결측치 데이터 컬럼과 건수:\n",
      " Empty DataFrame\n",
      "Columns: [Missing Ratio, Data Type]\n",
      "Index: []\n"
     ]
    }
   ],
   "source": [
    "import numpy as np\n",
    "\n",
    "# 방법은 기존과 동일하다. \n",
    "# 이번에는 수치형 데이터만 추출한다. \n",
    "num_all_vars = list(train.select_dtypes(include=[np.number]))\n",
    "print(\"The whole number of all_vars\", len(num_all_vars))\n",
    "\n",
    "# 수치형 데이터 중, 결측치가 많았던 `LotFrontage`만 처리한다. \n",
    "num_all_vars.remove('LotFrontage')\n",
    "print(\"The whole number of final_cat_vars\", len(num_all_vars))\n",
    "\n",
    "# 이번에는 수치형 데이터의 평균이 아닌 중간값을 지정했다. \n",
    "for i in num_all_vars:\n",
    "  all_df[i].fillna(value=all_df[i].median(), inplace=True)\n",
    "\n",
    "check_na(all_df, 20)"
   ]
  },
  {
   "cell_type": "code",
   "execution_count": 27,
   "id": "b3e75005",
   "metadata": {
    "execution": {
     "iopub.execute_input": "2022-07-07T06:27:04.131257Z",
     "iopub.status.busy": "2022-07-07T06:27:04.128667Z",
     "iopub.status.idle": "2022-07-07T06:27:04.154530Z",
     "shell.execute_reply": "2022-07-07T06:27:04.153245Z"
    },
    "papermill": {
     "duration": 0.056251,
     "end_time": "2022-07-07T06:27:04.157890",
     "exception": false,
     "start_time": "2022-07-07T06:27:04.101639",
     "status": "completed"
    },
    "tags": []
   },
   "outputs": [
    {
     "name": "stdout",
     "output_type": "stream",
     "text": [
      "결측치 데이터 컬럼과 건수:\n",
      " Empty DataFrame\n",
      "Columns: [Missing Ratio, Data Type]\n",
      "Index: []\n"
     ]
    }
   ],
   "source": [
    "# 결측치 재확인\n",
    "check_na(all_df,40)"
   ]
  },
  {
   "cell_type": "code",
   "execution_count": 28,
   "id": "ab2f2911",
   "metadata": {
    "execution": {
     "iopub.execute_input": "2022-07-07T06:27:04.217256Z",
     "iopub.status.busy": "2022-07-07T06:27:04.216514Z",
     "iopub.status.idle": "2022-07-07T06:27:04.244136Z",
     "shell.execute_reply": "2022-07-07T06:27:04.243194Z"
    },
    "papermill": {
     "duration": 0.060302,
     "end_time": "2022-07-07T06:27:04.246963",
     "exception": false,
     "start_time": "2022-07-07T06:27:04.186661",
     "status": "completed"
    },
    "tags": []
   },
   "outputs": [
    {
     "name": "stdout",
     "output_type": "stream",
     "text": [
      "<class 'pandas.core.frame.DataFrame'>\n",
      "RangeIndex: 2919 entries, 0 to 2918\n",
      "Data columns (total 73 columns):\n",
      " #   Column         Non-Null Count  Dtype  \n",
      "---  ------         --------------  -----  \n",
      " 0   MSSubClass     2919 non-null   int64  \n",
      " 1   MSZoning       2919 non-null   object \n",
      " 2   LotArea        2919 non-null   int64  \n",
      " 3   Street         2919 non-null   object \n",
      " 4   LotShape       2919 non-null   object \n",
      " 5   LandContour    2919 non-null   object \n",
      " 6   Utilities      2919 non-null   object \n",
      " 7   LotConfig      2919 non-null   object \n",
      " 8   LandSlope      2919 non-null   object \n",
      " 9   Neighborhood   2919 non-null   object \n",
      " 10  Condition1     2919 non-null   object \n",
      " 11  Condition2     2919 non-null   object \n",
      " 12  BldgType       2919 non-null   object \n",
      " 13  HouseStyle     2919 non-null   object \n",
      " 14  OverallQual    2919 non-null   int64  \n",
      " 15  OverallCond    2919 non-null   int64  \n",
      " 16  YearBuilt      2919 non-null   int64  \n",
      " 17  YearRemodAdd   2919 non-null   int64  \n",
      " 18  RoofStyle      2919 non-null   object \n",
      " 19  RoofMatl       2919 non-null   object \n",
      " 20  Exterior1st    2919 non-null   object \n",
      " 21  Exterior2nd    2919 non-null   object \n",
      " 22  MasVnrType     2919 non-null   object \n",
      " 23  MasVnrArea     2919 non-null   float64\n",
      " 24  ExterQual      2919 non-null   object \n",
      " 25  ExterCond      2919 non-null   object \n",
      " 26  Foundation     2919 non-null   object \n",
      " 27  BsmtQual       2919 non-null   object \n",
      " 28  BsmtCond       2919 non-null   object \n",
      " 29  BsmtExposure   2919 non-null   object \n",
      " 30  BsmtFinType1   2919 non-null   object \n",
      " 31  BsmtFinSF1     2919 non-null   float64\n",
      " 32  BsmtFinType2   2919 non-null   object \n",
      " 33  BsmtFinSF2     2919 non-null   float64\n",
      " 34  BsmtUnfSF      2919 non-null   float64\n",
      " 35  TotalBsmtSF    2919 non-null   float64\n",
      " 36  Heating        2919 non-null   object \n",
      " 37  HeatingQC      2919 non-null   object \n",
      " 38  CentralAir     2919 non-null   object \n",
      " 39  Electrical     2919 non-null   object \n",
      " 40  1stFlrSF       2919 non-null   int64  \n",
      " 41  2ndFlrSF       2919 non-null   int64  \n",
      " 42  LowQualFinSF   2919 non-null   int64  \n",
      " 43  GrLivArea      2919 non-null   int64  \n",
      " 44  BsmtFullBath   2919 non-null   float64\n",
      " 45  BsmtHalfBath   2919 non-null   float64\n",
      " 46  FullBath       2919 non-null   int64  \n",
      " 47  HalfBath       2919 non-null   int64  \n",
      " 48  BedroomAbvGr   2919 non-null   int64  \n",
      " 49  KitchenAbvGr   2919 non-null   int64  \n",
      " 50  KitchenQual    2919 non-null   object \n",
      " 51  TotRmsAbvGrd   2919 non-null   int64  \n",
      " 52  Functional     2919 non-null   object \n",
      " 53  Fireplaces     2919 non-null   int64  \n",
      " 54  GarageType     2919 non-null   object \n",
      " 55  GarageYrBlt    2919 non-null   float64\n",
      " 56  GarageFinish   2919 non-null   object \n",
      " 57  GarageCars     2919 non-null   float64\n",
      " 58  GarageArea     2919 non-null   float64\n",
      " 59  GarageQual     2919 non-null   object \n",
      " 60  GarageCond     2919 non-null   object \n",
      " 61  PavedDrive     2919 non-null   object \n",
      " 62  WoodDeckSF     2919 non-null   int64  \n",
      " 63  OpenPorchSF    2919 non-null   int64  \n",
      " 64  EnclosedPorch  2919 non-null   int64  \n",
      " 65  3SsnPorch      2919 non-null   int64  \n",
      " 66  ScreenPorch    2919 non-null   int64  \n",
      " 67  PoolArea       2919 non-null   int64  \n",
      " 68  MiscVal        2919 non-null   int64  \n",
      " 69  MoSold         2919 non-null   int64  \n",
      " 70  YrSold         2919 non-null   int64  \n",
      " 71  SaleType       2919 non-null   object \n",
      " 72  SaleCondition  2919 non-null   object \n",
      "dtypes: float64(10), int64(25), object(38)\n",
      "memory usage: 1.6+ MB\n"
     ]
    }
   ],
   "source": [
    "all_df.info()"
   ]
  },
  {
   "cell_type": "markdown",
   "id": "4570cf26",
   "metadata": {
    "papermill": {
     "duration": 0.02602,
     "end_time": "2022-07-07T06:27:04.300567",
     "exception": false,
     "start_time": "2022-07-07T06:27:04.274547",
     "status": "completed"
    },
    "tags": []
   },
   "source": [
    "## 도출 변수\n",
    "- 새로운 도출 변수를 작성 (기존 변수 활용)\n",
    "- 기존 변수 제거\n",
    "- 도출 변수가 기존 변수를 대표한다."
   ]
  },
  {
   "cell_type": "markdown",
   "id": "2f62dba2",
   "metadata": {
    "papermill": {
     "duration": 0.025768,
     "end_time": "2022-07-07T06:27:04.352808",
     "exception": false,
     "start_time": "2022-07-07T06:27:04.327040",
     "status": "completed"
    },
    "tags": []
   },
   "source": [
    "### 두 개 변수를 추가해서 새로운 변수 생성\n",
    "- 각 층의 면적으로 모두 더해 전체 면적으로 계산한 새로운 변수를 생성\n",
    "- 1층 면적 + 2층 면적 = 전체 면적"
   ]
  },
  {
   "cell_type": "code",
   "execution_count": 29,
   "id": "da15721e",
   "metadata": {
    "execution": {
     "iopub.execute_input": "2022-07-07T06:27:04.408098Z",
     "iopub.status.busy": "2022-07-07T06:27:04.407419Z",
     "iopub.status.idle": "2022-07-07T06:27:04.418017Z",
     "shell.execute_reply": "2022-07-07T06:27:04.416330Z"
    },
    "papermill": {
     "duration": 0.041003,
     "end_time": "2022-07-07T06:27:04.420447",
     "exception": false,
     "start_time": "2022-07-07T06:27:04.379444",
     "status": "completed"
    },
    "tags": []
   },
   "outputs": [
    {
     "name": "stdout",
     "output_type": "stream",
     "text": [
      "(2919, 71)\n"
     ]
    }
   ],
   "source": [
    "# TotalSF에 대표성을 부여,이전 컬럼들 정리 삭제\n",
    "all_df['TotalSF'] = all_df['TotalBsmtSF'] + all_df['1stFlrSF'] + all_df['2ndFlrSF']\n",
    "all_df = all_df.drop(['TotalBsmtSF', '1stFlrSF', '2ndFlrSF'], axis=1)\n",
    "print(all_df.shape)"
   ]
  },
  {
   "cell_type": "code",
   "execution_count": 30,
   "id": "6a3c6856",
   "metadata": {
    "execution": {
     "iopub.execute_input": "2022-07-07T06:27:04.476186Z",
     "iopub.status.busy": "2022-07-07T06:27:04.475521Z",
     "iopub.status.idle": "2022-07-07T06:27:04.487829Z",
     "shell.execute_reply": "2022-07-07T06:27:04.486833Z"
    },
    "papermill": {
     "duration": 0.044402,
     "end_time": "2022-07-07T06:27:04.491596",
     "exception": false,
     "start_time": "2022-07-07T06:27:04.447194",
     "status": "completed"
    },
    "tags": []
   },
   "outputs": [
    {
     "name": "stdout",
     "output_type": "stream",
     "text": [
      "(2919, 65)\n"
     ]
    }
   ],
   "source": [
    "all_df['Total_Bathrooms'] = (all_df['FullBath'] + (0.5 * all_df['HalfBath']) + all_df['BsmtFullBath'] + (0.5 * all_df['BsmtHalfBath']))\n",
    "all_df['Total_porch_sf'] = (all_df['OpenPorchSF'] + all_df['3SsnPorch'] + all_df['EnclosedPorch'] + all_df['ScreenPorch'])\n",
    "all_df = all_df.drop(['FullBath', 'HalfBath', 'BsmtFullBath', 'BsmtHalfBath', 'OpenPorchSF', '3SsnPorch', 'EnclosedPorch', 'ScreenPorch'], axis=1)\n",
    "print(all_df.shape)"
   ]
  },
  {
   "cell_type": "markdown",
   "id": "d3a6836b",
   "metadata": {
    "papermill": {
     "duration": 0.026312,
     "end_time": "2022-07-07T06:27:04.545773",
     "exception": false,
     "start_time": "2022-07-07T06:27:04.519461",
     "status": "completed"
    },
    "tags": []
   },
   "source": [
    "### 변수를 서로 가공하여 새로운 변수 생성\n",
    "- 연도와 관련된 변수를 추출하는 코드"
   ]
  },
  {
   "cell_type": "code",
   "execution_count": 31,
   "id": "96d3c7cd",
   "metadata": {
    "execution": {
     "iopub.execute_input": "2022-07-07T06:27:04.600802Z",
     "iopub.status.busy": "2022-07-07T06:27:04.600141Z",
     "iopub.status.idle": "2022-07-07T06:27:04.609787Z",
     "shell.execute_reply": "2022-07-07T06:27:04.608269Z"
    },
    "papermill": {
     "duration": 0.03981,
     "end_time": "2022-07-07T06:27:04.612244",
     "exception": false,
     "start_time": "2022-07-07T06:27:04.572434",
     "status": "completed"
    },
    "tags": []
   },
   "outputs": [
    {
     "name": "stdout",
     "output_type": "stream",
     "text": [
      "MSSubClass is not related with Year\n",
      "LotFrontage is not related with Year\n",
      "LotArea is not related with Year\n",
      "OverallQual is not related with Year\n",
      "OverallCond is not related with Year\n",
      "MasVnrArea is not related with Year\n",
      "BsmtFinSF1 is not related with Year\n",
      "BsmtFinSF2 is not related with Year\n",
      "BsmtUnfSF is not related with Year\n",
      "TotalBsmtSF is not related with Year\n",
      "1stFlrSF is not related with Year\n",
      "2ndFlrSF is not related with Year\n",
      "LowQualFinSF is not related with Year\n",
      "GrLivArea is not related with Year\n",
      "BsmtFullBath is not related with Year\n",
      "BsmtHalfBath is not related with Year\n",
      "FullBath is not related with Year\n",
      "HalfBath is not related with Year\n",
      "BedroomAbvGr is not related with Year\n",
      "KitchenAbvGr is not related with Year\n",
      "TotRmsAbvGrd is not related with Year\n",
      "Fireplaces is not related with Year\n",
      "GarageCars is not related with Year\n",
      "GarageArea is not related with Year\n",
      "WoodDeckSF is not related with Year\n",
      "OpenPorchSF is not related with Year\n",
      "EnclosedPorch is not related with Year\n",
      "3SsnPorch is not related with Year\n",
      "ScreenPorch is not related with Year\n",
      "PoolArea is not related with Year\n",
      "MiscVal is not related with Year\n",
      "MoSold is not related with Year\n",
      "['YearBuilt', 'YearRemodAdd', 'GarageYrBlt', 'YrSold']\n"
     ]
    }
   ],
   "source": [
    "num_all_vars = list(train.select_dtypes(include=[np.number]))\n",
    "year_feature = []\n",
    "for var in num_all_vars:\n",
    "  if 'Yr' in var:\n",
    "    year_feature.append(var)\n",
    "  elif 'Year' in var:\n",
    "    year_feature.append(var)\n",
    "  else:  \n",
    "    print(var, \"is not related with Year\")\n",
    "print(year_feature)\n",
    "\n",
    "# 맨 밑에 연도와 관련된 변수만 모아줌\n",
    "# ['YearBuilt', 'YearRemodAdd', 'GarageYrBlt', 'YrSold'] "
   ]
  },
  {
   "cell_type": "code",
   "execution_count": 32,
   "id": "f89d301e",
   "metadata": {
    "execution": {
     "iopub.execute_input": "2022-07-07T06:27:04.667957Z",
     "iopub.status.busy": "2022-07-07T06:27:04.667283Z",
     "iopub.status.idle": "2022-07-07T06:27:05.155585Z",
     "shell.execute_reply": "2022-07-07T06:27:05.154080Z"
    },
    "papermill": {
     "duration": 0.519259,
     "end_time": "2022-07-07T06:27:05.158480",
     "exception": false,
     "start_time": "2022-07-07T06:27:04.639221",
     "status": "completed"
    },
    "tags": []
   },
   "outputs": [
    {
     "data": {
      "image/png": "[encoded data removed]",
      "text/plain": [
       "<Figure size 720x432 with 3 Axes>"
      ]
     },
     "metadata": {
      "needs_background": "light"
     },
     "output_type": "display_data"
    }
   ],
   "source": [
    "# X축은 연도, Y 축은 가격\n",
    "fig, ax = plt.subplots(3, 1, figsize=(10, 6), sharex=True, sharey=True)\n",
    "for i, var in enumerate(year_feature):\n",
    "  if var != 'YrSold':\n",
    "    ax[i].scatter(train[var], y, alpha=0.3)\n",
    "    ax[i].set_title('{}'.format(var), size=15)\n",
    "    ax[i].set_ylabel('SalePrice', size=15, labelpad=12.5)\n",
    "plt.tight_layout()\n",
    "plt.show()\n",
    "\n",
    "# 세 그래프가 우상향 그래프, 서로 매우 유사함, 그렇기에 3개 변수 중 대표성을 띄는 변수 1개로 줄일 수 있다."
   ]
  },
  {
   "cell_type": "code",
   "execution_count": 33,
   "id": "36fe6498",
   "metadata": {
    "execution": {
     "iopub.execute_input": "2022-07-07T06:27:05.217045Z",
     "iopub.status.busy": "2022-07-07T06:27:05.216652Z",
     "iopub.status.idle": "2022-07-07T06:27:05.226528Z",
     "shell.execute_reply": "2022-07-07T06:27:05.224589Z"
    },
    "papermill": {
     "duration": 0.042902,
     "end_time": "2022-07-07T06:27:05.229680",
     "exception": false,
     "start_time": "2022-07-07T06:27:05.186778",
     "status": "completed"
    },
    "tags": []
   },
   "outputs": [
    {
     "name": "stdout",
     "output_type": "stream",
     "text": [
      "(2919, 65)\n"
     ]
    }
   ],
   "source": [
    "# 판매시기와 리모델링을 뺀 새로운 데이터\n",
    "absall_df = all_df.drop(['YearBuilt', 'GarageYrBlt'], axis=1)\n",
    "print(all_df.shape)"
   ]
  },
  {
   "cell_type": "code",
   "execution_count": 34,
   "id": "f15cb573",
   "metadata": {
    "execution": {
     "iopub.execute_input": "2022-07-07T06:27:05.289262Z",
     "iopub.status.busy": "2022-07-07T06:27:05.287753Z",
     "iopub.status.idle": "2022-07-07T06:27:05.501321Z",
     "shell.execute_reply": "2022-07-07T06:27:05.499793Z"
    },
    "papermill": {
     "duration": 0.24619,
     "end_time": "2022-07-07T06:27:05.504229",
     "exception": false,
     "start_time": "2022-07-07T06:27:05.258039",
     "status": "completed"
    },
    "tags": []
   },
   "outputs": [
    {
     "data": {
      "image/png": "[encoded data removed]",
      "text/plain": [
       "<Figure size 720x432 with 1 Axes>"
      ]
     },
     "metadata": {
      "needs_background": "light"
     },
     "output_type": "display_data"
    }
   ],
   "source": [
    "# 주택이 팔린 날짜 - 주택이 리모델링 된 날짜 -> 새로운 변수 창조\n",
    "YearsSinceRemodel = train['YrSold'].astype(int) - train['YearRemodAdd'].astype(int)\n",
    "\n",
    "fig, ax = plt.subplots(figsize=(10, 6))\n",
    "ax.scatter(YearsSinceRemodel, y, alpha=0.3)\n",
    "plt.show()"
   ]
  },
  {
   "cell_type": "code",
   "execution_count": 35,
   "id": "bee79d41",
   "metadata": {
    "execution": {
     "iopub.execute_input": "2022-07-07T06:27:05.567424Z",
     "iopub.status.busy": "2022-07-07T06:27:05.567000Z",
     "iopub.status.idle": "2022-07-07T06:27:05.578806Z",
     "shell.execute_reply": "2022-07-07T06:27:05.577999Z"
    },
    "papermill": {
     "duration": 0.045702,
     "end_time": "2022-07-07T06:27:05.580933",
     "exception": false,
     "start_time": "2022-07-07T06:27:05.535231",
     "status": "completed"
    },
    "tags": []
   },
   "outputs": [
    {
     "name": "stdout",
     "output_type": "stream",
     "text": [
      "(2919, 64)\n"
     ]
    }
   ],
   "source": [
    "# YearsSinceRemodel 이라는 새 변수 창조, 이전에 변수 삭제 정리\n",
    "all_df['YearsSinceRemodel'] = all_df['YrSold'].astype(int) - all_df['YearRemodAdd'].astype(int)\n",
    "all_df = all_df.drop(['YrSold', 'YearRemodAdd'], axis=1)\n",
    "print(all_df.shape)"
   ]
  },
  {
   "cell_type": "markdown",
   "id": "867dba1b",
   "metadata": {
    "papermill": {
     "duration": 0.028981,
     "end_time": "2022-07-07T06:27:05.639875",
     "exception": false,
     "start_time": "2022-07-07T06:27:05.610894",
     "status": "completed"
    },
    "tags": []
   },
   "source": [
    "## 더미변수\n",
    "- 더미변수란 원 데이터의 독립변수를 0과 1로 변환하는 변수를 말한다.\n",
    "- ex) 수영장의 면적은 크게 중요하지 않다. 차라리 수영장이 있냐 없냐를 변수로 정하는게 더 좋다."
   ]
  },
  {
   "cell_type": "code",
   "execution_count": 36,
   "id": "de1945db",
   "metadata": {
    "execution": {
     "iopub.execute_input": "2022-07-07T06:27:05.701206Z",
     "iopub.status.busy": "2022-07-07T06:27:05.699996Z",
     "iopub.status.idle": "2022-07-07T06:27:05.706305Z",
     "shell.execute_reply": "2022-07-07T06:27:05.705246Z"
    },
    "papermill": {
     "duration": 0.039535,
     "end_time": "2022-07-07T06:27:05.708648",
     "exception": false,
     "start_time": "2022-07-07T06:27:05.669113",
     "status": "completed"
    },
    "tags": []
   },
   "outputs": [],
   "source": [
    "# 사용자 정의 함수 만들기\n",
    "def count_dummy(x):\n",
    "    if x > 0:\n",
    "        return 1\n",
    "    else:\n",
    "        return 0"
   ]
  },
  {
   "cell_type": "code",
   "execution_count": 37,
   "id": "4d2dd6ea",
   "metadata": {
    "execution": {
     "iopub.execute_input": "2022-07-07T06:27:05.768165Z",
     "iopub.status.busy": "2022-07-07T06:27:05.767779Z",
     "iopub.status.idle": "2022-07-07T06:27:05.778292Z",
     "shell.execute_reply": "2022-07-07T06:27:05.777368Z"
    },
    "papermill": {
     "duration": 0.042584,
     "end_time": "2022-07-07T06:27:05.780213",
     "exception": false,
     "start_time": "2022-07-07T06:27:05.737629",
     "status": "completed"
    },
    "tags": []
   },
   "outputs": [
    {
     "data": {
      "text/plain": [
       "0    2906\n",
       "1      13\n",
       "Name: PoolArea, dtype: int64"
      ]
     },
     "execution_count": 37,
     "metadata": {},
     "output_type": "execute_result"
    }
   ],
   "source": [
    "# apply 함수로 사용자 정의 함수를 사용할 수 있다.\n",
    "all_df['PoolArea'] = all_df['PoolArea'].apply(count_dummy)\n",
    "all_df['PoolArea'].value_counts()"
   ]
  },
  {
   "cell_type": "code",
   "execution_count": 38,
   "id": "bff9bc87",
   "metadata": {
    "execution": {
     "iopub.execute_input": "2022-07-07T06:27:05.840874Z",
     "iopub.status.busy": "2022-07-07T06:27:05.839635Z",
     "iopub.status.idle": "2022-07-07T06:27:05.852272Z",
     "shell.execute_reply": "2022-07-07T06:27:05.851350Z"
    },
    "papermill": {
     "duration": 0.045233,
     "end_time": "2022-07-07T06:27:05.854429",
     "exception": false,
     "start_time": "2022-07-07T06:27:05.809196",
     "status": "completed"
    },
    "tags": []
   },
   "outputs": [
    {
     "data": {
      "text/plain": [
       "1    2762\n",
       "0     157\n",
       "Name: GarageArea, dtype: int64"
      ]
     },
     "execution_count": 38,
     "metadata": {},
     "output_type": "execute_result"
    }
   ],
   "source": [
    "all_df['GarageArea'] = all_df['GarageArea'].apply(count_dummy)\n",
    "all_df['GarageArea'].value_counts()"
   ]
  },
  {
   "cell_type": "code",
   "execution_count": 39,
   "id": "ed044291",
   "metadata": {
    "execution": {
     "iopub.execute_input": "2022-07-07T06:27:05.918541Z",
     "iopub.status.busy": "2022-07-07T06:27:05.917533Z",
     "iopub.status.idle": "2022-07-07T06:27:05.930753Z",
     "shell.execute_reply": "2022-07-07T06:27:05.929484Z"
    },
    "papermill": {
     "duration": 0.048028,
     "end_time": "2022-07-07T06:27:05.933229",
     "exception": false,
     "start_time": "2022-07-07T06:27:05.885201",
     "status": "completed"
    },
    "tags": []
   },
   "outputs": [
    {
     "data": {
      "text/plain": [
       "1    1499\n",
       "0    1420\n",
       "Name: Fireplaces, dtype: int64"
      ]
     },
     "execution_count": 39,
     "metadata": {},
     "output_type": "execute_result"
    }
   ],
   "source": [
    "all_df['Fireplaces'] = all_df['Fireplaces'].apply(count_dummy)\n",
    "all_df['Fireplaces'].value_counts()"
   ]
  },
  {
   "cell_type": "markdown",
   "id": "a538eb10",
   "metadata": {
    "papermill": {
     "duration": 0.030329,
     "end_time": "2022-07-07T06:27:05.994198",
     "exception": false,
     "start_time": "2022-07-07T06:27:05.963869",
     "status": "completed"
    },
    "tags": []
   },
   "source": [
    "## 인코딩\n",
    "- 문자를 숫자로 변환해주는 코드를 인코딩 변환"
   ]
  },
  {
   "cell_type": "code",
   "execution_count": 40,
   "id": "eef7dd2b",
   "metadata": {
    "execution": {
     "iopub.execute_input": "2022-07-07T06:27:06.058877Z",
     "iopub.status.busy": "2022-07-07T06:27:06.057882Z",
     "iopub.status.idle": "2022-07-07T06:27:06.292394Z",
     "shell.execute_reply": "2022-07-07T06:27:06.290790Z"
    },
    "papermill": {
     "duration": 0.268893,
     "end_time": "2022-07-07T06:27:06.294927",
     "exception": false,
     "start_time": "2022-07-07T06:27:06.026034",
     "status": "completed"
    },
    "tags": []
   },
   "outputs": [
    {
     "name": "stdout",
     "output_type": "stream",
     "text": [
      "<class 'pandas.core.frame.DataFrame'>\n",
      "RangeIndex: 2919 entries, 0 to 2918\n",
      "Data columns (total 64 columns):\n",
      " #   Column             Non-Null Count  Dtype  \n",
      "---  ------             --------------  -----  \n",
      " 0   MSSubClass         2919 non-null   int64  \n",
      " 1   MSZoning           2919 non-null   object \n",
      " 2   LotArea            2919 non-null   int64  \n",
      " 3   Street             2919 non-null   object \n",
      " 4   LotShape           2919 non-null   object \n",
      " 5   LandContour        2919 non-null   object \n",
      " 6   Utilities          2919 non-null   object \n",
      " 7   LotConfig          2919 non-null   object \n",
      " 8   LandSlope          2919 non-null   object \n",
      " 9   Neighborhood       2919 non-null   object \n",
      " 10  Condition1         2919 non-null   object \n",
      " 11  Condition2         2919 non-null   object \n",
      " 12  BldgType           2919 non-null   object \n",
      " 13  HouseStyle         2919 non-null   object \n",
      " 14  OverallQual        2919 non-null   int64  \n",
      " 15  OverallCond        2919 non-null   int64  \n",
      " 16  YearBuilt          2919 non-null   int64  \n",
      " 17  RoofStyle          2919 non-null   object \n",
      " 18  RoofMatl           2919 non-null   object \n",
      " 19  Exterior1st        2919 non-null   object \n",
      " 20  Exterior2nd        2919 non-null   object \n",
      " 21  MasVnrType         2919 non-null   object \n",
      " 22  MasVnrArea         2919 non-null   float64\n",
      " 23  ExterQual          2919 non-null   object \n",
      " 24  ExterCond          2919 non-null   object \n",
      " 25  Foundation         2919 non-null   object \n",
      " 26  BsmtQual           2919 non-null   object \n",
      " 27  BsmtCond           2919 non-null   object \n",
      " 28  BsmtExposure       2919 non-null   object \n",
      " 29  BsmtFinType1       2919 non-null   object \n",
      " 30  BsmtFinSF1         2919 non-null   float64\n",
      " 31  BsmtFinType2       2919 non-null   object \n",
      " 32  BsmtFinSF2         2919 non-null   float64\n",
      " 33  BsmtUnfSF          2919 non-null   float64\n",
      " 34  Heating            2919 non-null   object \n",
      " 35  HeatingQC          2919 non-null   object \n",
      " 36  CentralAir         2919 non-null   object \n",
      " 37  Electrical         2919 non-null   object \n",
      " 38  LowQualFinSF       2919 non-null   int64  \n",
      " 39  GrLivArea          2919 non-null   int64  \n",
      " 40  BedroomAbvGr       2919 non-null   int64  \n",
      " 41  KitchenAbvGr       2919 non-null   int64  \n",
      " 42  KitchenQual        2919 non-null   object \n",
      " 43  TotRmsAbvGrd       2919 non-null   int64  \n",
      " 44  Functional         2919 non-null   object \n",
      " 45  Fireplaces         2919 non-null   int64  \n",
      " 46  GarageType         2919 non-null   object \n",
      " 47  GarageYrBlt        2919 non-null   float64\n",
      " 48  GarageFinish       2919 non-null   object \n",
      " 49  GarageCars         2919 non-null   float64\n",
      " 50  GarageArea         2919 non-null   int64  \n",
      " 51  GarageQual         2919 non-null   object \n",
      " 52  GarageCond         2919 non-null   object \n",
      " 53  PavedDrive         2919 non-null   object \n",
      " 54  WoodDeckSF         2919 non-null   int64  \n",
      " 55  PoolArea           2919 non-null   int64  \n",
      " 56  MiscVal            2919 non-null   int64  \n",
      " 57  MoSold             2919 non-null   int64  \n",
      " 58  SaleType           2919 non-null   object \n",
      " 59  SaleCondition      2919 non-null   object \n",
      " 60  TotalSF            2919 non-null   float64\n",
      " 61  Total_Bathrooms    2919 non-null   float64\n",
      " 62  Total_porch_sf     2919 non-null   int64  \n",
      " 63  YearsSinceRemodel  2919 non-null   int64  \n",
      "dtypes: float64(8), int64(18), object(38)\n",
      "memory usage: 1.4+ MB\n"
     ]
    }
   ],
   "source": [
    "all_df.info()\n",
    "# 아직 문자열이 있기 때문에 머신러닝에 돌릴 수 없다.\n",
    "# 문자를 숫자로 변환해 주어야한다."
   ]
  },
  {
   "cell_type": "code",
   "execution_count": 41,
   "id": "c457b484",
   "metadata": {
    "execution": {
     "iopub.execute_input": "2022-07-07T06:27:06.358311Z",
     "iopub.status.busy": "2022-07-07T06:27:06.357835Z",
     "iopub.status.idle": "2022-07-07T06:27:06.363679Z",
     "shell.execute_reply": "2022-07-07T06:27:06.362953Z"
    },
    "papermill": {
     "duration": 0.040458,
     "end_time": "2022-07-07T06:27:06.365536",
     "exception": false,
     "start_time": "2022-07-07T06:27:06.325078",
     "status": "completed"
    },
    "tags": []
   },
   "outputs": [
    {
     "data": {
      "text/plain": [
       "(2919, 64)"
      ]
     },
     "execution_count": 41,
     "metadata": {},
     "output_type": "execute_result"
    }
   ],
   "source": [
    "all_df.shape"
   ]
  },
  {
   "cell_type": "markdown",
   "id": "c7b04674",
   "metadata": {
    "papermill": {
     "duration": 0.03048,
     "end_time": "2022-07-07T06:27:06.426163",
     "exception": false,
     "start_time": "2022-07-07T06:27:06.395683",
     "status": "completed"
    },
    "tags": []
   },
   "source": [
    "### Label, Ordinal,One-Hot Encoding\n",
    "- 문자열을 숫자열로 바꿔주는 방법 2가지 (서열, 명목)\n",
    "    - 서열(1등급,2등급) : Label, Ordinal\n",
    "      + 어떤 특정한 것이 가중치가 생길 수 있다. 동등X\n",
    "    - 명목(남,여) : One-Hot Encoding"
   ]
  },
  {
   "cell_type": "code",
   "execution_count": 42,
   "id": "7cb6dfaf",
   "metadata": {
    "execution": {
     "iopub.execute_input": "2022-07-07T06:27:06.489957Z",
     "iopub.status.busy": "2022-07-07T06:27:06.489279Z",
     "iopub.status.idle": "2022-07-07T06:27:06.498574Z",
     "shell.execute_reply": "2022-07-07T06:27:06.497268Z"
    },
    "papermill": {
     "duration": 0.043983,
     "end_time": "2022-07-07T06:27:06.501144",
     "exception": false,
     "start_time": "2022-07-07T06:27:06.457161",
     "status": "completed"
    },
    "tags": []
   },
   "outputs": [
    {
     "name": "stdout",
     "output_type": "stream",
     "text": [
      "['Apple', 'Chicken', 'Broccoli'] ==> [0 2 1]\n"
     ]
    }
   ],
   "source": [
    "# 분류모형\n",
    "# 종속변수 (양성, 음성)\n",
    "# Label Encoder는 종속 변수에만 적용\n",
    "# 정수\n",
    "\n",
    "from sklearn.preprocessing import LabelEncoder\n",
    "import pandas as pd\n",
    "\n",
    "temp = pd.DataFrame({'Food_Name': ['Apple', 'Chicken', 'Broccoli'], \n",
    "                     'Calories': [95, 231, 50]})\n",
    "\n",
    "encoder = LabelEncoder()\n",
    "encoder.fit(temp['Food_Name'])\n",
    "labels = encoder.transform(temp['Food_Name'])\n",
    "print(list(temp['Food_Name']), \"==>\", labels)"
   ]
  },
  {
   "cell_type": "code",
   "execution_count": 43,
   "id": "a3c2af06",
   "metadata": {
    "execution": {
     "iopub.execute_input": "2022-07-07T06:27:06.564520Z",
     "iopub.status.busy": "2022-07-07T06:27:06.564120Z",
     "iopub.status.idle": "2022-07-07T06:27:06.574005Z",
     "shell.execute_reply": "2022-07-07T06:27:06.572943Z"
    },
    "papermill": {
     "duration": 0.044888,
     "end_time": "2022-07-07T06:27:06.576611",
     "exception": false,
     "start_time": "2022-07-07T06:27:06.531723",
     "status": "completed"
    },
    "tags": []
   },
   "outputs": [
    {
     "name": "stdout",
     "output_type": "stream",
     "text": [
      "['Apple', 'Chicken', 'Broccoli'] ==> [[0.0], [2.0], [1.0]]\n"
     ]
    }
   ],
   "source": [
    "# OrdinalEncoder는 독립변수에만 쓴다.\n",
    "# 실수\n",
    "\n",
    "from sklearn.preprocessing import OrdinalEncoder\n",
    "import pandas as pd\n",
    "\n",
    "temp = pd.DataFrame({'Food_Name': ['Apple', 'Chicken', 'Broccoli'], \n",
    "                     'Calories': [95, 231, 50]})\n",
    "\n",
    "encoder = OrdinalEncoder()\n",
    "labels = encoder.fit_transform(temp[['Food_Name']])\n",
    "print(list(temp['Food_Name']), \"==>\", labels.tolist())"
   ]
  },
  {
   "cell_type": "code",
   "execution_count": 44,
   "id": "5d92e869",
   "metadata": {
    "execution": {
     "iopub.execute_input": "2022-07-07T06:27:06.640155Z",
     "iopub.status.busy": "2022-07-07T06:27:06.639751Z",
     "iopub.status.idle": "2022-07-07T06:27:06.652191Z",
     "shell.execute_reply": "2022-07-07T06:27:06.650478Z"
    },
    "papermill": {
     "duration": 0.047168,
     "end_time": "2022-07-07T06:27:06.654545",
     "exception": false,
     "start_time": "2022-07-07T06:27:06.607377",
     "status": "completed"
    },
    "tags": []
   },
   "outputs": [
    {
     "name": "stdout",
     "output_type": "stream",
     "text": [
      "  Food_Name  Food_No\n",
      "0     Apple        1\n",
      "1   Chicken        2\n",
      "2  Broccoli        3\n"
     ]
    }
   ],
   "source": [
    "# pandas 메서드를 통해서 직접 숫자로 변환\n",
    "temp = pd.DataFrame({'Food_Name': ['Apple', 'Chicken', 'Broccoli'], \n",
    "                     'Calories': [95, 231, 50]})\n",
    "\n",
    "temp['Food_No'] = temp.Food_Name.replace(to_replace = ['Apple', 'Chicken', 'Broccoli'], value = [1, 2, 3])\n",
    "print(temp[['Food_Name', 'Food_No']])"
   ]
  },
  {
   "cell_type": "markdown",
   "id": "78b6ef03",
   "metadata": {
    "papermill": {
     "duration": 0.030879,
     "end_time": "2022-07-07T06:27:06.716444",
     "exception": false,
     "start_time": "2022-07-07T06:27:06.685565",
     "status": "completed"
    },
    "tags": []
   },
   "source": [
    "### 원핫 인코딩"
   ]
  },
  {
   "cell_type": "code",
   "execution_count": 45,
   "id": "e2efda4d",
   "metadata": {
    "execution": {
     "iopub.execute_input": "2022-07-07T06:27:06.782592Z",
     "iopub.status.busy": "2022-07-07T06:27:06.781454Z",
     "iopub.status.idle": "2022-07-07T06:27:06.797322Z",
     "shell.execute_reply": "2022-07-07T06:27:06.795583Z"
    },
    "papermill": {
     "duration": 0.052622,
     "end_time": "2022-07-07T06:27:06.800614",
     "exception": false,
     "start_time": "2022-07-07T06:27:06.747992",
     "status": "completed"
    },
    "tags": []
   },
   "outputs": [
    {
     "name": "stdout",
     "output_type": "stream",
     "text": [
      "   Calories  Food_Name_Apple  Food_Name_Broccoli  Food_Name_Chicken\n",
      "0        95                1                   0                  0\n",
      "1       231                0                   0                  1\n",
      "2        50                0                   1                  0\n",
      "(3, 4)\n"
     ]
    }
   ],
   "source": [
    "# 방법 1\n",
    "import pandas as pd\n",
    "from sklearn.preprocessing import LabelBinarizer\n",
    "\n",
    "temp = pd.DataFrame({'Food_Name': ['Apple', 'Chicken', 'Broccoli'], \n",
    "                     'Calories': [95, 231, 50]})\n",
    "\n",
    "encoder = LabelBinarizer()\n",
    "encoder.fit(temp['Food_Name'])\n",
    "transformed = encoder.transform(temp['Food_Name'])\n",
    "ohe_df = pd.DataFrame(transformed)\n",
    "temp = pd.concat([temp, ohe_df], axis=1).drop(['Food_Name'], axis=1)\n",
    "temp.columns = ['Calories', 'Food_Name_Apple', 'Food_Name_Broccoli', 'Food_Name_Chicken']\n",
    "print(temp)\n",
    "print(temp.shape)"
   ]
  },
  {
   "cell_type": "code",
   "execution_count": 46,
   "id": "6f7d2862",
   "metadata": {
    "execution": {
     "iopub.execute_input": "2022-07-07T06:27:06.866070Z",
     "iopub.status.busy": "2022-07-07T06:27:06.865680Z",
     "iopub.status.idle": "2022-07-07T06:27:06.878942Z",
     "shell.execute_reply": "2022-07-07T06:27:06.877895Z"
    },
    "papermill": {
     "duration": 0.049611,
     "end_time": "2022-07-07T06:27:06.881914",
     "exception": false,
     "start_time": "2022-07-07T06:27:06.832303",
     "status": "completed"
    },
    "tags": []
   },
   "outputs": [
    {
     "name": "stdout",
     "output_type": "stream",
     "text": [
      "   Calories  Food_Name_Apple  Food_Name_Broccoli  Food_Name_Chicken\n",
      "0        95                1                   0                  0\n",
      "1       231                0                   0                  1\n",
      "2        50                0                   1                  0\n",
      "(3, 4)\n"
     ]
    }
   ],
   "source": [
    "# 방법 2 (더 간단, 추천)\n",
    "import pandas as pd\n",
    "\n",
    "temp = pd.DataFrame({'Food_Name': ['Apple', 'Chicken', 'Broccoli'], \n",
    "                     'Calories': [95, 231, 50]})\n",
    "\n",
    "temp = pd.get_dummies(temp)\n",
    "print(temp)\n",
    "print(temp.shape)"
   ]
  },
  {
   "cell_type": "markdown",
   "id": "c6ac01d4",
   "metadata": {
    "papermill": {
     "duration": 0.029517,
     "end_time": "2022-07-07T06:27:06.942210",
     "exception": false,
     "start_time": "2022-07-07T06:27:06.912693",
     "status": "completed"
    },
    "tags": []
   },
   "source": [
    "### 본 데이터 적용\n",
    "- 여기서는 Ordinal Encoding 적용 안함. (단, 실전에서는 꼭 찾아서 해야함.)\n",
    "- 원핫 인코딩 적용"
   ]
  },
  {
   "cell_type": "code",
   "execution_count": 47,
   "id": "7614298c",
   "metadata": {
    "execution": {
     "iopub.execute_input": "2022-07-07T06:27:07.004093Z",
     "iopub.status.busy": "2022-07-07T06:27:07.003675Z",
     "iopub.status.idle": "2022-07-07T06:27:07.060630Z",
     "shell.execute_reply": "2022-07-07T06:27:07.059863Z"
    },
    "papermill": {
     "duration": 0.091211,
     "end_time": "2022-07-07T06:27:07.063209",
     "exception": false,
     "start_time": "2022-07-07T06:27:06.971998",
     "status": "completed"
    },
    "tags": []
   },
   "outputs": [
    {
     "data": {
      "text/plain": [
       "(2919, 260)"
      ]
     },
     "execution_count": 47,
     "metadata": {},
     "output_type": "execute_result"
    }
   ],
   "source": [
    "all_df = pd.get_dummies(all_df).reset_index(drop=True)\n",
    "all_df.shape\n",
    "# 원핫 인코딩해줬기 때문에 칼럼 수가 늘어남"
   ]
  },
  {
   "cell_type": "code",
   "execution_count": 48,
   "id": "8bd6e4dc",
   "metadata": {
    "execution": {
     "iopub.execute_input": "2022-07-07T06:27:07.125344Z",
     "iopub.status.busy": "2022-07-07T06:27:07.124995Z",
     "iopub.status.idle": "2022-07-07T06:27:07.148445Z",
     "shell.execute_reply": "2022-07-07T06:27:07.147310Z"
    },
    "papermill": {
     "duration": 0.05672,
     "end_time": "2022-07-07T06:27:07.150364",
     "exception": false,
     "start_time": "2022-07-07T06:27:07.093644",
     "status": "completed"
    },
    "tags": []
   },
   "outputs": [
    {
     "data": {
      "text/html": [
       "<div>\n",
       "<style scoped>\n",
       "    .dataframe tbody tr th:only-of-type {\n",
       "        vertical-align: middle;\n",
       "    }\n",
       "\n",
       "    .dataframe tbody tr th {\n",
       "        vertical-align: top;\n",
       "    }\n",
       "\n",
       "    .dataframe thead th {\n",
       "        text-align: right;\n",
       "    }\n",
       "</style>\n",
       "<table border=\"1\" class=\"dataframe\">\n",
       "  <thead>\n",
       "    <tr style=\"text-align: right;\">\n",
       "      <th></th>\n",
       "      <th>MSSubClass</th>\n",
       "      <th>LotArea</th>\n",
       "      <th>OverallQual</th>\n",
       "      <th>OverallCond</th>\n",
       "      <th>YearBuilt</th>\n",
       "      <th>MasVnrArea</th>\n",
       "      <th>BsmtFinSF1</th>\n",
       "      <th>BsmtFinSF2</th>\n",
       "      <th>BsmtUnfSF</th>\n",
       "      <th>LowQualFinSF</th>\n",
       "      <th>...</th>\n",
       "      <th>SaleType_ConLw</th>\n",
       "      <th>SaleType_New</th>\n",
       "      <th>SaleType_Oth</th>\n",
       "      <th>SaleType_WD</th>\n",
       "      <th>SaleCondition_Abnorml</th>\n",
       "      <th>SaleCondition_AdjLand</th>\n",
       "      <th>SaleCondition_Alloca</th>\n",
       "      <th>SaleCondition_Family</th>\n",
       "      <th>SaleCondition_Normal</th>\n",
       "      <th>SaleCondition_Partial</th>\n",
       "    </tr>\n",
       "  </thead>\n",
       "  <tbody>\n",
       "    <tr>\n",
       "      <th>0</th>\n",
       "      <td>60</td>\n",
       "      <td>8450</td>\n",
       "      <td>7</td>\n",
       "      <td>5</td>\n",
       "      <td>2003</td>\n",
       "      <td>196.0</td>\n",
       "      <td>706.0</td>\n",
       "      <td>0.0</td>\n",
       "      <td>150.0</td>\n",
       "      <td>0</td>\n",
       "      <td>...</td>\n",
       "      <td>0</td>\n",
       "      <td>0</td>\n",
       "      <td>0</td>\n",
       "      <td>1</td>\n",
       "      <td>0</td>\n",
       "      <td>0</td>\n",
       "      <td>0</td>\n",
       "      <td>0</td>\n",
       "      <td>1</td>\n",
       "      <td>0</td>\n",
       "    </tr>\n",
       "    <tr>\n",
       "      <th>1</th>\n",
       "      <td>20</td>\n",
       "      <td>9600</td>\n",
       "      <td>6</td>\n",
       "      <td>8</td>\n",
       "      <td>1976</td>\n",
       "      <td>0.0</td>\n",
       "      <td>978.0</td>\n",
       "      <td>0.0</td>\n",
       "      <td>284.0</td>\n",
       "      <td>0</td>\n",
       "      <td>...</td>\n",
       "      <td>0</td>\n",
       "      <td>0</td>\n",
       "      <td>0</td>\n",
       "      <td>1</td>\n",
       "      <td>0</td>\n",
       "      <td>0</td>\n",
       "      <td>0</td>\n",
       "      <td>0</td>\n",
       "      <td>1</td>\n",
       "      <td>0</td>\n",
       "    </tr>\n",
       "    <tr>\n",
       "      <th>2</th>\n",
       "      <td>60</td>\n",
       "      <td>11250</td>\n",
       "      <td>7</td>\n",
       "      <td>5</td>\n",
       "      <td>2001</td>\n",
       "      <td>162.0</td>\n",
       "      <td>486.0</td>\n",
       "      <td>0.0</td>\n",
       "      <td>434.0</td>\n",
       "      <td>0</td>\n",
       "      <td>...</td>\n",
       "      <td>0</td>\n",
       "      <td>0</td>\n",
       "      <td>0</td>\n",
       "      <td>1</td>\n",
       "      <td>0</td>\n",
       "      <td>0</td>\n",
       "      <td>0</td>\n",
       "      <td>0</td>\n",
       "      <td>1</td>\n",
       "      <td>0</td>\n",
       "    </tr>\n",
       "    <tr>\n",
       "      <th>3</th>\n",
       "      <td>70</td>\n",
       "      <td>9550</td>\n",
       "      <td>7</td>\n",
       "      <td>5</td>\n",
       "      <td>1915</td>\n",
       "      <td>0.0</td>\n",
       "      <td>216.0</td>\n",
       "      <td>0.0</td>\n",
       "      <td>540.0</td>\n",
       "      <td>0</td>\n",
       "      <td>...</td>\n",
       "      <td>0</td>\n",
       "      <td>0</td>\n",
       "      <td>0</td>\n",
       "      <td>1</td>\n",
       "      <td>1</td>\n",
       "      <td>0</td>\n",
       "      <td>0</td>\n",
       "      <td>0</td>\n",
       "      <td>0</td>\n",
       "      <td>0</td>\n",
       "    </tr>\n",
       "    <tr>\n",
       "      <th>4</th>\n",
       "      <td>60</td>\n",
       "      <td>14260</td>\n",
       "      <td>8</td>\n",
       "      <td>5</td>\n",
       "      <td>2000</td>\n",
       "      <td>350.0</td>\n",
       "      <td>655.0</td>\n",
       "      <td>0.0</td>\n",
       "      <td>490.0</td>\n",
       "      <td>0</td>\n",
       "      <td>...</td>\n",
       "      <td>0</td>\n",
       "      <td>0</td>\n",
       "      <td>0</td>\n",
       "      <td>1</td>\n",
       "      <td>0</td>\n",
       "      <td>0</td>\n",
       "      <td>0</td>\n",
       "      <td>0</td>\n",
       "      <td>1</td>\n",
       "      <td>0</td>\n",
       "    </tr>\n",
       "  </tbody>\n",
       "</table>\n",
       "<p>5 rows × 260 columns</p>\n",
       "</div>"
      ],
      "text/plain": [
       "   MSSubClass  LotArea  OverallQual  OverallCond  YearBuilt  MasVnrArea  \\\n",
       "0          60     8450            7            5       2003       196.0   \n",
       "1          20     9600            6            8       1976         0.0   \n",
       "2          60    11250            7            5       2001       162.0   \n",
       "3          70     9550            7            5       1915         0.0   \n",
       "4          60    14260            8            5       2000       350.0   \n",
       "\n",
       "   BsmtFinSF1  BsmtFinSF2  BsmtUnfSF  LowQualFinSF  ...  SaleType_ConLw  \\\n",
       "0       706.0         0.0      150.0             0  ...               0   \n",
       "1       978.0         0.0      284.0             0  ...               0   \n",
       "2       486.0         0.0      434.0             0  ...               0   \n",
       "3       216.0         0.0      540.0             0  ...               0   \n",
       "4       655.0         0.0      490.0             0  ...               0   \n",
       "\n",
       "   SaleType_New  SaleType_Oth  SaleType_WD  SaleCondition_Abnorml  \\\n",
       "0             0             0            1                      0   \n",
       "1             0             0            1                      0   \n",
       "2             0             0            1                      0   \n",
       "3             0             0            1                      1   \n",
       "4             0             0            1                      0   \n",
       "\n",
       "   SaleCondition_AdjLand  SaleCondition_Alloca  SaleCondition_Family  \\\n",
       "0                      0                     0                     0   \n",
       "1                      0                     0                     0   \n",
       "2                      0                     0                     0   \n",
       "3                      0                     0                     0   \n",
       "4                      0                     0                     0   \n",
       "\n",
       "   SaleCondition_Normal  SaleCondition_Partial  \n",
       "0                     1                      0  \n",
       "1                     1                      0  \n",
       "2                     1                      0  \n",
       "3                     0                      0  \n",
       "4                     1                      0  \n",
       "\n",
       "[5 rows x 260 columns]"
      ]
     },
     "execution_count": 48,
     "metadata": {},
     "output_type": "execute_result"
    }
   ],
   "source": [
    "all_df.head(5)"
   ]
  },
  {
   "cell_type": "markdown",
   "id": "6e05736f",
   "metadata": {
    "papermill": {
     "duration": 0.035497,
     "end_time": "2022-07-07T06:27:07.218579",
     "exception": false,
     "start_time": "2022-07-07T06:27:07.183082",
     "status": "completed"
    },
    "tags": []
   },
   "source": [
    "### train, test 데이터 합쳐서 진행"
   ]
  },
  {
   "cell_type": "markdown",
   "id": "79ef3615",
   "metadata": {
    "papermill": {
     "duration": 0.037447,
     "end_time": "2022-07-07T06:27:07.295833",
     "exception": false,
     "start_time": "2022-07-07T06:27:07.258386",
     "status": "completed"
    },
    "tags": []
   },
   "source": [
    "### train, test 데이터 재분리"
   ]
  },
  {
   "cell_type": "code",
   "execution_count": 49,
   "id": "541972f5",
   "metadata": {
    "execution": {
     "iopub.execute_input": "2022-07-07T06:27:07.359566Z",
     "iopub.status.busy": "2022-07-07T06:27:07.359142Z",
     "iopub.status.idle": "2022-07-07T06:27:07.368544Z",
     "shell.execute_reply": "2022-07-07T06:27:07.367369Z"
    },
    "papermill": {
     "duration": 0.043535,
     "end_time": "2022-07-07T06:27:07.370657",
     "exception": false,
     "start_time": "2022-07-07T06:27:07.327122",
     "status": "completed"
    },
    "tags": []
   },
   "outputs": [
    {
     "data": {
      "text/plain": [
       "((1460, 260), (1460,), (1459, 260), (2919, 260))"
      ]
     },
     "execution_count": 49,
     "metadata": {},
     "output_type": "execute_result"
    }
   ],
   "source": [
    "X = all_df.iloc[:len(y), :]\n",
    "test = all_df.iloc[len(y):, :]\n",
    "\n",
    "X.shape, y.shape, test.shape, all_df.shape"
   ]
  },
  {
   "cell_type": "code",
   "execution_count": 50,
   "id": "f5d7eff0",
   "metadata": {
    "execution": {
     "iopub.execute_input": "2022-07-07T06:27:07.434251Z",
     "iopub.status.busy": "2022-07-07T06:27:07.433845Z",
     "iopub.status.idle": "2022-07-07T06:27:07.463632Z",
     "shell.execute_reply": "2022-07-07T06:27:07.462772Z"
    },
    "papermill": {
     "duration": 0.064303,
     "end_time": "2022-07-07T06:27:07.465579",
     "exception": false,
     "start_time": "2022-07-07T06:27:07.401276",
     "status": "completed"
    },
    "tags": []
   },
   "outputs": [
    {
     "data": {
      "text/html": [
       "<div>\n",
       "<style scoped>\n",
       "    .dataframe tbody tr th:only-of-type {\n",
       "        vertical-align: middle;\n",
       "    }\n",
       "\n",
       "    .dataframe tbody tr th {\n",
       "        vertical-align: top;\n",
       "    }\n",
       "\n",
       "    .dataframe thead th {\n",
       "        text-align: right;\n",
       "    }\n",
       "</style>\n",
       "<table border=\"1\" class=\"dataframe\">\n",
       "  <thead>\n",
       "    <tr style=\"text-align: right;\">\n",
       "      <th></th>\n",
       "      <th>MSSubClass</th>\n",
       "      <th>LotArea</th>\n",
       "      <th>OverallQual</th>\n",
       "      <th>OverallCond</th>\n",
       "      <th>YearBuilt</th>\n",
       "      <th>MasVnrArea</th>\n",
       "      <th>BsmtFinSF1</th>\n",
       "      <th>BsmtFinSF2</th>\n",
       "      <th>BsmtUnfSF</th>\n",
       "      <th>LowQualFinSF</th>\n",
       "      <th>...</th>\n",
       "      <th>SaleType_ConLw</th>\n",
       "      <th>SaleType_New</th>\n",
       "      <th>SaleType_Oth</th>\n",
       "      <th>SaleType_WD</th>\n",
       "      <th>SaleCondition_Abnorml</th>\n",
       "      <th>SaleCondition_AdjLand</th>\n",
       "      <th>SaleCondition_Alloca</th>\n",
       "      <th>SaleCondition_Family</th>\n",
       "      <th>SaleCondition_Normal</th>\n",
       "      <th>SaleCondition_Partial</th>\n",
       "    </tr>\n",
       "  </thead>\n",
       "  <tbody>\n",
       "    <tr>\n",
       "      <th>0</th>\n",
       "      <td>60</td>\n",
       "      <td>8450</td>\n",
       "      <td>7</td>\n",
       "      <td>5</td>\n",
       "      <td>2003</td>\n",
       "      <td>196.0</td>\n",
       "      <td>706.0</td>\n",
       "      <td>0.0</td>\n",
       "      <td>150.0</td>\n",
       "      <td>0</td>\n",
       "      <td>...</td>\n",
       "      <td>0</td>\n",
       "      <td>0</td>\n",
       "      <td>0</td>\n",
       "      <td>1</td>\n",
       "      <td>0</td>\n",
       "      <td>0</td>\n",
       "      <td>0</td>\n",
       "      <td>0</td>\n",
       "      <td>1</td>\n",
       "      <td>0</td>\n",
       "    </tr>\n",
       "    <tr>\n",
       "      <th>1</th>\n",
       "      <td>20</td>\n",
       "      <td>9600</td>\n",
       "      <td>6</td>\n",
       "      <td>8</td>\n",
       "      <td>1976</td>\n",
       "      <td>0.0</td>\n",
       "      <td>978.0</td>\n",
       "      <td>0.0</td>\n",
       "      <td>284.0</td>\n",
       "      <td>0</td>\n",
       "      <td>...</td>\n",
       "      <td>0</td>\n",
       "      <td>0</td>\n",
       "      <td>0</td>\n",
       "      <td>1</td>\n",
       "      <td>0</td>\n",
       "      <td>0</td>\n",
       "      <td>0</td>\n",
       "      <td>0</td>\n",
       "      <td>1</td>\n",
       "      <td>0</td>\n",
       "    </tr>\n",
       "    <tr>\n",
       "      <th>2</th>\n",
       "      <td>60</td>\n",
       "      <td>11250</td>\n",
       "      <td>7</td>\n",
       "      <td>5</td>\n",
       "      <td>2001</td>\n",
       "      <td>162.0</td>\n",
       "      <td>486.0</td>\n",
       "      <td>0.0</td>\n",
       "      <td>434.0</td>\n",
       "      <td>0</td>\n",
       "      <td>...</td>\n",
       "      <td>0</td>\n",
       "      <td>0</td>\n",
       "      <td>0</td>\n",
       "      <td>1</td>\n",
       "      <td>0</td>\n",
       "      <td>0</td>\n",
       "      <td>0</td>\n",
       "      <td>0</td>\n",
       "      <td>1</td>\n",
       "      <td>0</td>\n",
       "    </tr>\n",
       "    <tr>\n",
       "      <th>3</th>\n",
       "      <td>70</td>\n",
       "      <td>9550</td>\n",
       "      <td>7</td>\n",
       "      <td>5</td>\n",
       "      <td>1915</td>\n",
       "      <td>0.0</td>\n",
       "      <td>216.0</td>\n",
       "      <td>0.0</td>\n",
       "      <td>540.0</td>\n",
       "      <td>0</td>\n",
       "      <td>...</td>\n",
       "      <td>0</td>\n",
       "      <td>0</td>\n",
       "      <td>0</td>\n",
       "      <td>1</td>\n",
       "      <td>1</td>\n",
       "      <td>0</td>\n",
       "      <td>0</td>\n",
       "      <td>0</td>\n",
       "      <td>0</td>\n",
       "      <td>0</td>\n",
       "    </tr>\n",
       "    <tr>\n",
       "      <th>4</th>\n",
       "      <td>60</td>\n",
       "      <td>14260</td>\n",
       "      <td>8</td>\n",
       "      <td>5</td>\n",
       "      <td>2000</td>\n",
       "      <td>350.0</td>\n",
       "      <td>655.0</td>\n",
       "      <td>0.0</td>\n",
       "      <td>490.0</td>\n",
       "      <td>0</td>\n",
       "      <td>...</td>\n",
       "      <td>0</td>\n",
       "      <td>0</td>\n",
       "      <td>0</td>\n",
       "      <td>1</td>\n",
       "      <td>0</td>\n",
       "      <td>0</td>\n",
       "      <td>0</td>\n",
       "      <td>0</td>\n",
       "      <td>1</td>\n",
       "      <td>0</td>\n",
       "    </tr>\n",
       "    <tr>\n",
       "      <th>...</th>\n",
       "      <td>...</td>\n",
       "      <td>...</td>\n",
       "      <td>...</td>\n",
       "      <td>...</td>\n",
       "      <td>...</td>\n",
       "      <td>...</td>\n",
       "      <td>...</td>\n",
       "      <td>...</td>\n",
       "      <td>...</td>\n",
       "      <td>...</td>\n",
       "      <td>...</td>\n",
       "      <td>...</td>\n",
       "      <td>...</td>\n",
       "      <td>...</td>\n",
       "      <td>...</td>\n",
       "      <td>...</td>\n",
       "      <td>...</td>\n",
       "      <td>...</td>\n",
       "      <td>...</td>\n",
       "      <td>...</td>\n",
       "      <td>...</td>\n",
       "    </tr>\n",
       "    <tr>\n",
       "      <th>1455</th>\n",
       "      <td>60</td>\n",
       "      <td>7917</td>\n",
       "      <td>6</td>\n",
       "      <td>5</td>\n",
       "      <td>1999</td>\n",
       "      <td>0.0</td>\n",
       "      <td>0.0</td>\n",
       "      <td>0.0</td>\n",
       "      <td>953.0</td>\n",
       "      <td>0</td>\n",
       "      <td>...</td>\n",
       "      <td>0</td>\n",
       "      <td>0</td>\n",
       "      <td>0</td>\n",
       "      <td>1</td>\n",
       "      <td>0</td>\n",
       "      <td>0</td>\n",
       "      <td>0</td>\n",
       "      <td>0</td>\n",
       "      <td>1</td>\n",
       "      <td>0</td>\n",
       "    </tr>\n",
       "    <tr>\n",
       "      <th>1456</th>\n",
       "      <td>20</td>\n",
       "      <td>13175</td>\n",
       "      <td>6</td>\n",
       "      <td>6</td>\n",
       "      <td>1978</td>\n",
       "      <td>119.0</td>\n",
       "      <td>790.0</td>\n",
       "      <td>163.0</td>\n",
       "      <td>589.0</td>\n",
       "      <td>0</td>\n",
       "      <td>...</td>\n",
       "      <td>0</td>\n",
       "      <td>0</td>\n",
       "      <td>0</td>\n",
       "      <td>1</td>\n",
       "      <td>0</td>\n",
       "      <td>0</td>\n",
       "      <td>0</td>\n",
       "      <td>0</td>\n",
       "      <td>1</td>\n",
       "      <td>0</td>\n",
       "    </tr>\n",
       "    <tr>\n",
       "      <th>1457</th>\n",
       "      <td>70</td>\n",
       "      <td>9042</td>\n",
       "      <td>7</td>\n",
       "      <td>9</td>\n",
       "      <td>1941</td>\n",
       "      <td>0.0</td>\n",
       "      <td>275.0</td>\n",
       "      <td>0.0</td>\n",
       "      <td>877.0</td>\n",
       "      <td>0</td>\n",
       "      <td>...</td>\n",
       "      <td>0</td>\n",
       "      <td>0</td>\n",
       "      <td>0</td>\n",
       "      <td>1</td>\n",
       "      <td>0</td>\n",
       "      <td>0</td>\n",
       "      <td>0</td>\n",
       "      <td>0</td>\n",
       "      <td>1</td>\n",
       "      <td>0</td>\n",
       "    </tr>\n",
       "    <tr>\n",
       "      <th>1458</th>\n",
       "      <td>20</td>\n",
       "      <td>9717</td>\n",
       "      <td>5</td>\n",
       "      <td>6</td>\n",
       "      <td>1950</td>\n",
       "      <td>0.0</td>\n",
       "      <td>49.0</td>\n",
       "      <td>1029.0</td>\n",
       "      <td>0.0</td>\n",
       "      <td>0</td>\n",
       "      <td>...</td>\n",
       "      <td>0</td>\n",
       "      <td>0</td>\n",
       "      <td>0</td>\n",
       "      <td>1</td>\n",
       "      <td>0</td>\n",
       "      <td>0</td>\n",
       "      <td>0</td>\n",
       "      <td>0</td>\n",
       "      <td>1</td>\n",
       "      <td>0</td>\n",
       "    </tr>\n",
       "    <tr>\n",
       "      <th>1459</th>\n",
       "      <td>20</td>\n",
       "      <td>9937</td>\n",
       "      <td>5</td>\n",
       "      <td>6</td>\n",
       "      <td>1965</td>\n",
       "      <td>0.0</td>\n",
       "      <td>830.0</td>\n",
       "      <td>290.0</td>\n",
       "      <td>136.0</td>\n",
       "      <td>0</td>\n",
       "      <td>...</td>\n",
       "      <td>0</td>\n",
       "      <td>0</td>\n",
       "      <td>0</td>\n",
       "      <td>1</td>\n",
       "      <td>0</td>\n",
       "      <td>0</td>\n",
       "      <td>0</td>\n",
       "      <td>0</td>\n",
       "      <td>1</td>\n",
       "      <td>0</td>\n",
       "    </tr>\n",
       "  </tbody>\n",
       "</table>\n",
       "<p>1460 rows × 260 columns</p>\n",
       "</div>"
      ],
      "text/plain": [
       "      MSSubClass  LotArea  OverallQual  OverallCond  YearBuilt  MasVnrArea  \\\n",
       "0             60     8450            7            5       2003       196.0   \n",
       "1             20     9600            6            8       1976         0.0   \n",
       "2             60    11250            7            5       2001       162.0   \n",
       "3             70     9550            7            5       1915         0.0   \n",
       "4             60    14260            8            5       2000       350.0   \n",
       "...          ...      ...          ...          ...        ...         ...   \n",
       "1455          60     7917            6            5       1999         0.0   \n",
       "1456          20    13175            6            6       1978       119.0   \n",
       "1457          70     9042            7            9       1941         0.0   \n",
       "1458          20     9717            5            6       1950         0.0   \n",
       "1459          20     9937            5            6       1965         0.0   \n",
       "\n",
       "      BsmtFinSF1  BsmtFinSF2  BsmtUnfSF  LowQualFinSF  ...  SaleType_ConLw  \\\n",
       "0          706.0         0.0      150.0             0  ...               0   \n",
       "1          978.0         0.0      284.0             0  ...               0   \n",
       "2          486.0         0.0      434.0             0  ...               0   \n",
       "3          216.0         0.0      540.0             0  ...               0   \n",
       "4          655.0         0.0      490.0             0  ...               0   \n",
       "...          ...         ...        ...           ...  ...             ...   \n",
       "1455         0.0         0.0      953.0             0  ...               0   \n",
       "1456       790.0       163.0      589.0             0  ...               0   \n",
       "1457       275.0         0.0      877.0             0  ...               0   \n",
       "1458        49.0      1029.0        0.0             0  ...               0   \n",
       "1459       830.0       290.0      136.0             0  ...               0   \n",
       "\n",
       "      SaleType_New  SaleType_Oth  SaleType_WD  SaleCondition_Abnorml  \\\n",
       "0                0             0            1                      0   \n",
       "1                0             0            1                      0   \n",
       "2                0             0            1                      0   \n",
       "3                0             0            1                      1   \n",
       "4                0             0            1                      0   \n",
       "...            ...           ...          ...                    ...   \n",
       "1455             0             0            1                      0   \n",
       "1456             0             0            1                      0   \n",
       "1457             0             0            1                      0   \n",
       "1458             0             0            1                      0   \n",
       "1459             0             0            1                      0   \n",
       "\n",
       "      SaleCondition_AdjLand  SaleCondition_Alloca  SaleCondition_Family  \\\n",
       "0                         0                     0                     0   \n",
       "1                         0                     0                     0   \n",
       "2                         0                     0                     0   \n",
       "3                         0                     0                     0   \n",
       "4                         0                     0                     0   \n",
       "...                     ...                   ...                   ...   \n",
       "1455                      0                     0                     0   \n",
       "1456                      0                     0                     0   \n",
       "1457                      0                     0                     0   \n",
       "1458                      0                     0                     0   \n",
       "1459                      0                     0                     0   \n",
       "\n",
       "      SaleCondition_Normal  SaleCondition_Partial  \n",
       "0                        1                      0  \n",
       "1                        1                      0  \n",
       "2                        1                      0  \n",
       "3                        0                      0  \n",
       "4                        1                      0  \n",
       "...                    ...                    ...  \n",
       "1455                     1                      0  \n",
       "1456                     1                      0  \n",
       "1457                     1                      0  \n",
       "1458                     1                      0  \n",
       "1459                     1                      0  \n",
       "\n",
       "[1460 rows x 260 columns]"
      ]
     },
     "execution_count": 50,
     "metadata": {},
     "output_type": "execute_result"
    }
   ],
   "source": [
    "X"
   ]
  },
  {
   "cell_type": "code",
   "execution_count": 51,
   "id": "1ce4b5df",
   "metadata": {
    "execution": {
     "iopub.execute_input": "2022-07-07T06:27:07.531189Z",
     "iopub.status.busy": "2022-07-07T06:27:07.530734Z",
     "iopub.status.idle": "2022-07-07T06:27:07.538751Z",
     "shell.execute_reply": "2022-07-07T06:27:07.537875Z"
    },
    "papermill": {
     "duration": 0.04352,
     "end_time": "2022-07-07T06:27:07.540672",
     "exception": false,
     "start_time": "2022-07-07T06:27:07.497152",
     "status": "completed"
    },
    "tags": []
   },
   "outputs": [
    {
     "data": {
      "text/plain": [
       "0       12.247699\n",
       "1       12.109016\n",
       "2       12.317171\n",
       "3       11.849405\n",
       "4       12.429220\n",
       "          ...    \n",
       "1455    12.072547\n",
       "1456    12.254868\n",
       "1457    12.493133\n",
       "1458    11.864469\n",
       "1459    11.901590\n",
       "Name: SalePrice, Length: 1460, dtype: float64"
      ]
     },
     "execution_count": 51,
     "metadata": {},
     "output_type": "execute_result"
    }
   ],
   "source": [
    "y"
   ]
  },
  {
   "cell_type": "code",
   "execution_count": 52,
   "id": "27f79eab",
   "metadata": {
    "execution": {
     "iopub.execute_input": "2022-07-07T06:27:07.607193Z",
     "iopub.status.busy": "2022-07-07T06:27:07.606358Z",
     "iopub.status.idle": "2022-07-07T06:27:07.635324Z",
     "shell.execute_reply": "2022-07-07T06:27:07.634513Z"
    },
    "papermill": {
     "duration": 0.064886,
     "end_time": "2022-07-07T06:27:07.637226",
     "exception": false,
     "start_time": "2022-07-07T06:27:07.572340",
     "status": "completed"
    },
    "tags": []
   },
   "outputs": [
    {
     "data": {
      "text/html": [
       "<div>\n",
       "<style scoped>\n",
       "    .dataframe tbody tr th:only-of-type {\n",
       "        vertical-align: middle;\n",
       "    }\n",
       "\n",
       "    .dataframe tbody tr th {\n",
       "        vertical-align: top;\n",
       "    }\n",
       "\n",
       "    .dataframe thead th {\n",
       "        text-align: right;\n",
       "    }\n",
       "</style>\n",
       "<table border=\"1\" class=\"dataframe\">\n",
       "  <thead>\n",
       "    <tr style=\"text-align: right;\">\n",
       "      <th></th>\n",
       "      <th>MSSubClass</th>\n",
       "      <th>LotArea</th>\n",
       "      <th>OverallQual</th>\n",
       "      <th>OverallCond</th>\n",
       "      <th>YearBuilt</th>\n",
       "      <th>MasVnrArea</th>\n",
       "      <th>BsmtFinSF1</th>\n",
       "      <th>BsmtFinSF2</th>\n",
       "      <th>BsmtUnfSF</th>\n",
       "      <th>LowQualFinSF</th>\n",
       "      <th>...</th>\n",
       "      <th>SaleType_ConLw</th>\n",
       "      <th>SaleType_New</th>\n",
       "      <th>SaleType_Oth</th>\n",
       "      <th>SaleType_WD</th>\n",
       "      <th>SaleCondition_Abnorml</th>\n",
       "      <th>SaleCondition_AdjLand</th>\n",
       "      <th>SaleCondition_Alloca</th>\n",
       "      <th>SaleCondition_Family</th>\n",
       "      <th>SaleCondition_Normal</th>\n",
       "      <th>SaleCondition_Partial</th>\n",
       "    </tr>\n",
       "  </thead>\n",
       "  <tbody>\n",
       "    <tr>\n",
       "      <th>1460</th>\n",
       "      <td>20</td>\n",
       "      <td>11622</td>\n",
       "      <td>5</td>\n",
       "      <td>6</td>\n",
       "      <td>1961</td>\n",
       "      <td>0.0</td>\n",
       "      <td>468.0</td>\n",
       "      <td>144.0</td>\n",
       "      <td>270.0</td>\n",
       "      <td>0</td>\n",
       "      <td>...</td>\n",
       "      <td>0</td>\n",
       "      <td>0</td>\n",
       "      <td>0</td>\n",
       "      <td>1</td>\n",
       "      <td>0</td>\n",
       "      <td>0</td>\n",
       "      <td>0</td>\n",
       "      <td>0</td>\n",
       "      <td>1</td>\n",
       "      <td>0</td>\n",
       "    </tr>\n",
       "    <tr>\n",
       "      <th>1461</th>\n",
       "      <td>20</td>\n",
       "      <td>14267</td>\n",
       "      <td>6</td>\n",
       "      <td>6</td>\n",
       "      <td>1958</td>\n",
       "      <td>108.0</td>\n",
       "      <td>923.0</td>\n",
       "      <td>0.0</td>\n",
       "      <td>406.0</td>\n",
       "      <td>0</td>\n",
       "      <td>...</td>\n",
       "      <td>0</td>\n",
       "      <td>0</td>\n",
       "      <td>0</td>\n",
       "      <td>1</td>\n",
       "      <td>0</td>\n",
       "      <td>0</td>\n",
       "      <td>0</td>\n",
       "      <td>0</td>\n",
       "      <td>1</td>\n",
       "      <td>0</td>\n",
       "    </tr>\n",
       "    <tr>\n",
       "      <th>1462</th>\n",
       "      <td>60</td>\n",
       "      <td>13830</td>\n",
       "      <td>5</td>\n",
       "      <td>5</td>\n",
       "      <td>1997</td>\n",
       "      <td>0.0</td>\n",
       "      <td>791.0</td>\n",
       "      <td>0.0</td>\n",
       "      <td>137.0</td>\n",
       "      <td>0</td>\n",
       "      <td>...</td>\n",
       "      <td>0</td>\n",
       "      <td>0</td>\n",
       "      <td>0</td>\n",
       "      <td>1</td>\n",
       "      <td>0</td>\n",
       "      <td>0</td>\n",
       "      <td>0</td>\n",
       "      <td>0</td>\n",
       "      <td>1</td>\n",
       "      <td>0</td>\n",
       "    </tr>\n",
       "    <tr>\n",
       "      <th>1463</th>\n",
       "      <td>60</td>\n",
       "      <td>9978</td>\n",
       "      <td>6</td>\n",
       "      <td>6</td>\n",
       "      <td>1998</td>\n",
       "      <td>20.0</td>\n",
       "      <td>602.0</td>\n",
       "      <td>0.0</td>\n",
       "      <td>324.0</td>\n",
       "      <td>0</td>\n",
       "      <td>...</td>\n",
       "      <td>0</td>\n",
       "      <td>0</td>\n",
       "      <td>0</td>\n",
       "      <td>1</td>\n",
       "      <td>0</td>\n",
       "      <td>0</td>\n",
       "      <td>0</td>\n",
       "      <td>0</td>\n",
       "      <td>1</td>\n",
       "      <td>0</td>\n",
       "    </tr>\n",
       "    <tr>\n",
       "      <th>1464</th>\n",
       "      <td>120</td>\n",
       "      <td>5005</td>\n",
       "      <td>8</td>\n",
       "      <td>5</td>\n",
       "      <td>1992</td>\n",
       "      <td>0.0</td>\n",
       "      <td>263.0</td>\n",
       "      <td>0.0</td>\n",
       "      <td>1017.0</td>\n",
       "      <td>0</td>\n",
       "      <td>...</td>\n",
       "      <td>0</td>\n",
       "      <td>0</td>\n",
       "      <td>0</td>\n",
       "      <td>1</td>\n",
       "      <td>0</td>\n",
       "      <td>0</td>\n",
       "      <td>0</td>\n",
       "      <td>0</td>\n",
       "      <td>1</td>\n",
       "      <td>0</td>\n",
       "    </tr>\n",
       "    <tr>\n",
       "      <th>...</th>\n",
       "      <td>...</td>\n",
       "      <td>...</td>\n",
       "      <td>...</td>\n",
       "      <td>...</td>\n",
       "      <td>...</td>\n",
       "      <td>...</td>\n",
       "      <td>...</td>\n",
       "      <td>...</td>\n",
       "      <td>...</td>\n",
       "      <td>...</td>\n",
       "      <td>...</td>\n",
       "      <td>...</td>\n",
       "      <td>...</td>\n",
       "      <td>...</td>\n",
       "      <td>...</td>\n",
       "      <td>...</td>\n",
       "      <td>...</td>\n",
       "      <td>...</td>\n",
       "      <td>...</td>\n",
       "      <td>...</td>\n",
       "      <td>...</td>\n",
       "    </tr>\n",
       "    <tr>\n",
       "      <th>2914</th>\n",
       "      <td>160</td>\n",
       "      <td>1936</td>\n",
       "      <td>4</td>\n",
       "      <td>7</td>\n",
       "      <td>1970</td>\n",
       "      <td>0.0</td>\n",
       "      <td>0.0</td>\n",
       "      <td>0.0</td>\n",
       "      <td>546.0</td>\n",
       "      <td>0</td>\n",
       "      <td>...</td>\n",
       "      <td>0</td>\n",
       "      <td>0</td>\n",
       "      <td>0</td>\n",
       "      <td>1</td>\n",
       "      <td>0</td>\n",
       "      <td>0</td>\n",
       "      <td>0</td>\n",
       "      <td>0</td>\n",
       "      <td>1</td>\n",
       "      <td>0</td>\n",
       "    </tr>\n",
       "    <tr>\n",
       "      <th>2915</th>\n",
       "      <td>160</td>\n",
       "      <td>1894</td>\n",
       "      <td>4</td>\n",
       "      <td>5</td>\n",
       "      <td>1970</td>\n",
       "      <td>0.0</td>\n",
       "      <td>252.0</td>\n",
       "      <td>0.0</td>\n",
       "      <td>294.0</td>\n",
       "      <td>0</td>\n",
       "      <td>...</td>\n",
       "      <td>0</td>\n",
       "      <td>0</td>\n",
       "      <td>0</td>\n",
       "      <td>1</td>\n",
       "      <td>1</td>\n",
       "      <td>0</td>\n",
       "      <td>0</td>\n",
       "      <td>0</td>\n",
       "      <td>0</td>\n",
       "      <td>0</td>\n",
       "    </tr>\n",
       "    <tr>\n",
       "      <th>2916</th>\n",
       "      <td>20</td>\n",
       "      <td>20000</td>\n",
       "      <td>5</td>\n",
       "      <td>7</td>\n",
       "      <td>1960</td>\n",
       "      <td>0.0</td>\n",
       "      <td>1224.0</td>\n",
       "      <td>0.0</td>\n",
       "      <td>0.0</td>\n",
       "      <td>0</td>\n",
       "      <td>...</td>\n",
       "      <td>0</td>\n",
       "      <td>0</td>\n",
       "      <td>0</td>\n",
       "      <td>1</td>\n",
       "      <td>1</td>\n",
       "      <td>0</td>\n",
       "      <td>0</td>\n",
       "      <td>0</td>\n",
       "      <td>0</td>\n",
       "      <td>0</td>\n",
       "    </tr>\n",
       "    <tr>\n",
       "      <th>2917</th>\n",
       "      <td>85</td>\n",
       "      <td>10441</td>\n",
       "      <td>5</td>\n",
       "      <td>5</td>\n",
       "      <td>1992</td>\n",
       "      <td>0.0</td>\n",
       "      <td>337.0</td>\n",
       "      <td>0.0</td>\n",
       "      <td>575.0</td>\n",
       "      <td>0</td>\n",
       "      <td>...</td>\n",
       "      <td>0</td>\n",
       "      <td>0</td>\n",
       "      <td>0</td>\n",
       "      <td>1</td>\n",
       "      <td>0</td>\n",
       "      <td>0</td>\n",
       "      <td>0</td>\n",
       "      <td>0</td>\n",
       "      <td>1</td>\n",
       "      <td>0</td>\n",
       "    </tr>\n",
       "    <tr>\n",
       "      <th>2918</th>\n",
       "      <td>60</td>\n",
       "      <td>9627</td>\n",
       "      <td>7</td>\n",
       "      <td>5</td>\n",
       "      <td>1993</td>\n",
       "      <td>94.0</td>\n",
       "      <td>758.0</td>\n",
       "      <td>0.0</td>\n",
       "      <td>238.0</td>\n",
       "      <td>0</td>\n",
       "      <td>...</td>\n",
       "      <td>0</td>\n",
       "      <td>0</td>\n",
       "      <td>0</td>\n",
       "      <td>1</td>\n",
       "      <td>0</td>\n",
       "      <td>0</td>\n",
       "      <td>0</td>\n",
       "      <td>0</td>\n",
       "      <td>1</td>\n",
       "      <td>0</td>\n",
       "    </tr>\n",
       "  </tbody>\n",
       "</table>\n",
       "<p>1459 rows × 260 columns</p>\n",
       "</div>"
      ],
      "text/plain": [
       "      MSSubClass  LotArea  OverallQual  OverallCond  YearBuilt  MasVnrArea  \\\n",
       "1460          20    11622            5            6       1961         0.0   \n",
       "1461          20    14267            6            6       1958       108.0   \n",
       "1462          60    13830            5            5       1997         0.0   \n",
       "1463          60     9978            6            6       1998        20.0   \n",
       "1464         120     5005            8            5       1992         0.0   \n",
       "...          ...      ...          ...          ...        ...         ...   \n",
       "2914         160     1936            4            7       1970         0.0   \n",
       "2915         160     1894            4            5       1970         0.0   \n",
       "2916          20    20000            5            7       1960         0.0   \n",
       "2917          85    10441            5            5       1992         0.0   \n",
       "2918          60     9627            7            5       1993        94.0   \n",
       "\n",
       "      BsmtFinSF1  BsmtFinSF2  BsmtUnfSF  LowQualFinSF  ...  SaleType_ConLw  \\\n",
       "1460       468.0       144.0      270.0             0  ...               0   \n",
       "1461       923.0         0.0      406.0             0  ...               0   \n",
       "1462       791.0         0.0      137.0             0  ...               0   \n",
       "1463       602.0         0.0      324.0             0  ...               0   \n",
       "1464       263.0         0.0     1017.0             0  ...               0   \n",
       "...          ...         ...        ...           ...  ...             ...   \n",
       "2914         0.0         0.0      546.0             0  ...               0   \n",
       "2915       252.0         0.0      294.0             0  ...               0   \n",
       "2916      1224.0         0.0        0.0             0  ...               0   \n",
       "2917       337.0         0.0      575.0             0  ...               0   \n",
       "2918       758.0         0.0      238.0             0  ...               0   \n",
       "\n",
       "      SaleType_New  SaleType_Oth  SaleType_WD  SaleCondition_Abnorml  \\\n",
       "1460             0             0            1                      0   \n",
       "1461             0             0            1                      0   \n",
       "1462             0             0            1                      0   \n",
       "1463             0             0            1                      0   \n",
       "1464             0             0            1                      0   \n",
       "...            ...           ...          ...                    ...   \n",
       "2914             0             0            1                      0   \n",
       "2915             0             0            1                      1   \n",
       "2916             0             0            1                      1   \n",
       "2917             0             0            1                      0   \n",
       "2918             0             0            1                      0   \n",
       "\n",
       "      SaleCondition_AdjLand  SaleCondition_Alloca  SaleCondition_Family  \\\n",
       "1460                      0                     0                     0   \n",
       "1461                      0                     0                     0   \n",
       "1462                      0                     0                     0   \n",
       "1463                      0                     0                     0   \n",
       "1464                      0                     0                     0   \n",
       "...                     ...                   ...                   ...   \n",
       "2914                      0                     0                     0   \n",
       "2915                      0                     0                     0   \n",
       "2916                      0                     0                     0   \n",
       "2917                      0                     0                     0   \n",
       "2918                      0                     0                     0   \n",
       "\n",
       "      SaleCondition_Normal  SaleCondition_Partial  \n",
       "1460                     1                      0  \n",
       "1461                     1                      0  \n",
       "1462                     1                      0  \n",
       "1463                     1                      0  \n",
       "1464                     1                      0  \n",
       "...                    ...                    ...  \n",
       "2914                     1                      0  \n",
       "2915                     0                      0  \n",
       "2916                     0                      0  \n",
       "2917                     1                      0  \n",
       "2918                     1                      0  \n",
       "\n",
       "[1459 rows x 260 columns]"
      ]
     },
     "execution_count": 52,
     "metadata": {},
     "output_type": "execute_result"
    }
   ],
   "source": [
    "test"
   ]
  },
  {
   "cell_type": "markdown",
   "id": "5b5de74f",
   "metadata": {
    "papermill": {
     "duration": 0.032024,
     "end_time": "2022-07-07T06:27:07.701241",
     "exception": false,
     "start_time": "2022-07-07T06:27:07.669217",
     "status": "completed"
    },
    "tags": []
   },
   "source": [
    "## 머시러닝을 위한 데이터 전처리가 끝났습니다."
   ]
  },
  {
   "cell_type": "markdown",
   "id": "0dac2c42",
   "metadata": {
    "papermill": {
     "duration": 0.032048,
     "end_time": "2022-07-07T06:27:07.765837",
     "exception": false,
     "start_time": "2022-07-07T06:27:07.733789",
     "status": "completed"
    },
    "tags": []
   },
   "source": [
    "## 과제\n",
    "- 남은 시간동안 교제를 보고 머신러닝 학습 및 RMSE를 구하세요.\n",
    "- 데이터셋 분리\n",
    "  + X 데이터를 X_train, X_test, y_train, y_test로 분리"
   ]
  },
  {
   "cell_type": "code",
   "execution_count": 53,
   "id": "609a6676",
   "metadata": {
    "execution": {
     "iopub.execute_input": "2022-07-07T06:27:07.832822Z",
     "iopub.status.busy": "2022-07-07T06:27:07.832038Z",
     "iopub.status.idle": "2022-07-07T06:27:07.845055Z",
     "shell.execute_reply": "2022-07-07T06:27:07.844256Z"
    },
    "papermill": {
     "duration": 0.049054,
     "end_time": "2022-07-07T06:27:07.847169",
     "exception": false,
     "start_time": "2022-07-07T06:27:07.798115",
     "status": "completed"
    },
    "tags": []
   },
   "outputs": [
    {
     "data": {
      "text/plain": [
       "((1022, 260), (438, 260), (1022,), (438,))"
      ]
     },
     "execution_count": 53,
     "metadata": {},
     "output_type": "execute_result"
    }
   ],
   "source": [
    "from sklearn.model_selection import train_test_split \n",
    "X_train, X_test, y_train, y_test = train_test_split(\n",
    "    # 독립변수, 종속변수 \n",
    "    X,         y, test_size = 0.3, random_state=0\n",
    ")\n",
    "\n",
    "X_train.shape, X_test.shape, y_train.shape, y_test.shape"
   ]
  },
  {
   "cell_type": "markdown",
   "id": "135cccc0",
   "metadata": {
    "papermill": {
     "duration": 0.032241,
     "end_time": "2022-07-07T06:27:07.912225",
     "exception": false,
     "start_time": "2022-07-07T06:27:07.879984",
     "status": "completed"
    },
    "tags": []
   },
   "source": [
    "## 평가지표\n",
    "- MAE, MSE, RMSE"
   ]
  },
  {
   "cell_type": "markdown",
   "id": "c8c8b681",
   "metadata": {
    "papermill": {
     "duration": 0.033263,
     "end_time": "2022-07-07T06:27:07.980389",
     "exception": false,
     "start_time": "2022-07-07T06:27:07.947126",
     "status": "completed"
    },
    "tags": []
   },
   "source": [
    "### MAE\n",
    "- 실제값과 예측값의 차이, 오차. 오차들의 절댓값 평균을 말함."
   ]
  },
  {
   "cell_type": "code",
   "execution_count": 54,
   "id": "46bd83d0",
   "metadata": {
    "execution": {
     "iopub.execute_input": "2022-07-07T06:27:08.051223Z",
     "iopub.status.busy": "2022-07-07T06:27:08.050807Z",
     "iopub.status.idle": "2022-07-07T06:27:08.063703Z",
     "shell.execute_reply": "2022-07-07T06:27:08.061876Z"
    },
    "papermill": {
     "duration": 0.052004,
     "end_time": "2022-07-07T06:27:08.066414",
     "exception": false,
     "start_time": "2022-07-07T06:27:08.014410",
     "status": "completed"
    },
    "tags": []
   },
   "outputs": [
    {
     "name": "stdout",
     "output_type": "stream",
     "text": [
      "MAE 21.0\n",
      "MSE 443.0\n",
      "RMSE 21.048\n"
     ]
    }
   ],
   "source": [
    "import numpy as np\n",
    "def mean_absolute_error(y_true, y_pred):\n",
    "    error =0\n",
    "    for yt, yp in zip(y_true, y_pred):\n",
    "        # yt : 실제값\n",
    "        # yp : 예측값\n",
    "        error = error + np.abs(yt - yp)\n",
    "        # 절댓값 오차의 평균\n",
    "    mae = error / len(y_true)\n",
    "    return mae\n",
    "\n",
    "\n",
    "def mean_squared_error(y_true, y_pred):\n",
    "    error =0\n",
    "    for yt, yp in zip(y_true, y_pred):\n",
    "        # yt : 실제값\n",
    "        # yp : 예측값\n",
    "        error = error + (yt - yp) ** 2\n",
    "        # 절댓값 오차의 평균\n",
    "    mse = error / len(y_true)\n",
    "    return mse\n",
    "\n",
    "\n",
    "def root_mean_squared_error(y_true, y_pred):\n",
    "    error =0\n",
    "    for yt, yp in zip(y_true, y_pred):\n",
    "        # yt : 실제값\n",
    "        # yp : 예측값\n",
    "        error = error + (yt - yp) ** 2\n",
    "        # 절댓값 오차의 평균\n",
    "    mse = error / len(y_true)\n",
    "    \n",
    "    # 제곱근 추가\n",
    "    rmse = np.round(np.sqrt(mse), 3)\n",
    "    return rmse\n",
    "\n",
    "\n",
    "y_true = [400, 300, 800]\n",
    "y_pred = [380, 320, 777]\n",
    "\n",
    "print(\"MAE\", mean_absolute_error(y_true, y_pred))\n",
    "print(\"MSE\", mean_squared_error(y_true, y_pred))\n",
    "print(\"RMSE\", root_mean_squared_error(y_true, y_pred))"
   ]
  },
  {
   "cell_type": "markdown",
   "id": "df86ed52",
   "metadata": {
    "papermill": {
     "duration": 0.032021,
     "end_time": "2022-07-07T06:27:08.131232",
     "exception": false,
     "start_time": "2022-07-07T06:27:08.099211",
     "status": "completed"
    },
    "tags": []
   },
   "source": [
    "- sklearn 추가 자료 \n",
    "- URL : https://scikit-learn.org/stable/modules/generated/sklearn.metrics.mean_squared_error.html"
   ]
  },
  {
   "cell_type": "code",
   "execution_count": 55,
   "id": "c508686b",
   "metadata": {
    "execution": {
     "iopub.execute_input": "2022-07-07T06:27:08.199524Z",
     "iopub.status.busy": "2022-07-07T06:27:08.198242Z",
     "iopub.status.idle": "2022-07-07T06:27:08.203740Z",
     "shell.execute_reply": "2022-07-07T06:27:08.202980Z"
    },
    "papermill": {
     "duration": 0.041869,
     "end_time": "2022-07-07T06:27:08.205868",
     "exception": false,
     "start_time": "2022-07-07T06:27:08.163999",
     "status": "completed"
    },
    "tags": []
   },
   "outputs": [],
   "source": [
    "# 실제 rmse 해야할 때 사용하는 함수 (간략)\n",
    "from sklearn.metrics import mean_squared_error\n",
    "def rmse(y_true, y_pred):\n",
    "    return np.sqrt(mean_squared_error(y_ture, y_pred))"
   ]
  },
  {
   "cell_type": "markdown",
   "id": "13f7564b",
   "metadata": {
    "papermill": {
     "duration": 0.032947,
     "end_time": "2022-07-07T06:27:08.271374",
     "exception": false,
     "start_time": "2022-07-07T06:27:08.238427",
     "status": "completed"
    },
    "tags": []
   },
   "source": [
    "## 머신러닝 모형 정의, 검증 평가\n",
    "- 교차 검증 함수 만들기\n",
    "- https://scikit-learn.org/stable/modules/generated/sklearn.model_selection.cross_val_score.html"
   ]
  },
  {
   "cell_type": "code",
   "execution_count": 56,
   "id": "ad5abb4a",
   "metadata": {
    "execution": {
     "iopub.execute_input": "2022-07-07T06:27:08.372512Z",
     "iopub.status.busy": "2022-07-07T06:27:08.371194Z",
     "iopub.status.idle": "2022-07-07T06:27:08.464622Z",
     "shell.execute_reply": "2022-07-07T06:27:08.463528Z"
    },
    "papermill": {
     "duration": 0.130735,
     "end_time": "2022-07-07T06:27:08.467371",
     "exception": false,
     "start_time": "2022-07-07T06:27:08.336636",
     "status": "completed"
    },
    "tags": []
   },
   "outputs": [],
   "source": [
    "# 교차 검증\n",
    "from sklearn.model_selection import KFold, cross_val_score \n",
    "\n",
    "# 모형 정의\n",
    "from sklearn.linear_model import LinearRegression \n",
    "\n",
    "def cv_rmse(model, n_folds=5):\n",
    "    cv = KFold(n_splits = n_folds, random_state=42, shuffle=True)\n",
    "    rmse_list = np.sqrt(-cross_val_score(model, X, y, scoring='neg_mean_squared_error', cv=cv))\n",
    "    print('CV RMSE Value List:', np.round(rmse_list, 4))\n",
    "    print('CV RMSE mean List:', np.round(np.mean(rmse_list), 4))\n",
    "    return rmse_list"
   ]
  },
  {
   "cell_type": "code",
   "execution_count": 57,
   "id": "ac0c122b",
   "metadata": {
    "execution": {
     "iopub.execute_input": "2022-07-07T06:27:08.536272Z",
     "iopub.status.busy": "2022-07-07T06:27:08.535608Z",
     "iopub.status.idle": "2022-07-07T06:27:09.159076Z",
     "shell.execute_reply": "2022-07-07T06:27:09.157464Z"
    },
    "papermill": {
     "duration": 0.661128,
     "end_time": "2022-07-07T06:27:09.162333",
     "exception": false,
     "start_time": "2022-07-07T06:27:08.501205",
     "status": "completed"
    },
    "tags": []
   },
   "outputs": [
    {
     "name": "stdout",
     "output_type": "stream",
     "text": [
      "CV RMSE Value List: [1.28800000e-01 1.23000000e-01 2.32205829e+04 1.56800000e-01\n",
      " 1.09400000e-01]\n",
      "CV RMSE mean List: 4644.2202\n",
      "linear regression - mean : 4644.2202 (std: 9288.1814)\n"
     ]
    }
   ],
   "source": [
    "rmse_scores = {} \n",
    "lr_model = LinearRegression()\n",
    "\n",
    "score = cv_rmse(lr_model, n_folds=5)\n",
    "print('linear regression - mean : {:.4f} (std: {:.4f})'.format(score.mean(), score.std()))\n",
    "\n",
    "rmse_scores['Linear Regression'] = (score.mean(), score.std())"
   ]
  },
  {
   "cell_type": "markdown",
   "id": "874a93f6",
   "metadata": {
    "papermill": {
     "duration": 0.033919,
     "end_time": "2022-07-07T06:27:09.298486",
     "exception": false,
     "start_time": "2022-07-07T06:27:09.264567",
     "status": "completed"
    },
    "tags": []
   },
   "source": [
    "## 모형 만들기"
   ]
  },
  {
   "cell_type": "code",
   "execution_count": 58,
   "id": "04af247d",
   "metadata": {
    "execution": {
     "iopub.execute_input": "2022-07-07T06:27:09.366843Z",
     "iopub.status.busy": "2022-07-07T06:27:09.366449Z",
     "iopub.status.idle": "2022-07-07T06:27:09.459568Z",
     "shell.execute_reply": "2022-07-07T06:27:09.458368Z"
    },
    "papermill": {
     "duration": 0.131095,
     "end_time": "2022-07-07T06:27:09.462978",
     "exception": false,
     "start_time": "2022-07-07T06:27:09.331883",
     "status": "completed"
    },
    "tags": []
   },
   "outputs": [
    {
     "data": {
      "text/plain": [
       "0.7298692447480686"
      ]
     },
     "execution_count": 58,
     "metadata": {},
     "output_type": "execute_result"
    }
   ],
   "source": [
    "# 혼공머 선형회귀\n",
    "from sklearn.linear_model import LinearRegression\n",
    "lr_model = LinearRegression()\n",
    "lr_model.fit(X_train, y_train)\n",
    "\n",
    "lr_model.score(X_train, y_train)\n",
    "lr_model.score(X_test, y_test)"
   ]
  },
  {
   "cell_type": "markdown",
   "id": "355c3570",
   "metadata": {
    "papermill": {
     "duration": 0.033946,
     "end_time": "2022-07-07T06:27:09.602261",
     "exception": false,
     "start_time": "2022-07-07T06:27:09.568315",
     "status": "completed"
    },
    "tags": []
   },
   "source": [
    "## 제출방법"
   ]
  },
  {
   "cell_type": "code",
   "execution_count": 59,
   "id": "51f47786",
   "metadata": {
    "execution": {
     "iopub.execute_input": "2022-07-07T06:27:09.670708Z",
     "iopub.status.busy": "2022-07-07T06:27:09.670308Z",
     "iopub.status.idle": "2022-07-07T06:27:09.835040Z",
     "shell.execute_reply": "2022-07-07T06:27:09.833502Z"
    },
    "papermill": {
     "duration": 0.202347,
     "end_time": "2022-07-07T06:27:09.838037",
     "exception": false,
     "start_time": "2022-07-07T06:27:09.635690",
     "status": "completed"
    },
    "tags": []
   },
   "outputs": [],
   "source": [
    "from sklearn.metrics import mean_squared_error\n",
    "from sklearn.model_selection import KFold, cross_val_score\n",
    "from sklearn.linear_model import LinearRegression\n",
    "from sklearn.ensemble import RandomForestRegressor\n",
    "from lightgbm import LGBMRegressor\n",
    "from xgboost import XGBRegressor\n",
    "\n",
    "def cv_rmse(model, n_folds=5):\n",
    "    cv = KFold(n_splits=n_folds, random_state=42, shuffle=True)\n",
    "    rmse_list = np.sqrt(-cross_val_score(model, X, y, scoring='neg_mean_squared_error', cv=cv))\n",
    "    print('CV RMSE value list:', np.round(rmse_list, 4))\n",
    "    print('CV RMSE mean value:', np.round(np.mean(rmse_list), 4))\n",
    "    return (rmse_list)\n",
    "n_folds = 5\n",
    "rmse_scores = {}\n",
    "#lr_model = LinearRegression()\n",
    "#lgb_model = LGBMRegressor(objective=\"regression\")\n",
    "xgb_model = XGBRegressor()\n"
   ]
  },
  {
   "cell_type": "code",
   "execution_count": 60,
   "id": "a52da22d",
   "metadata": {
    "execution": {
     "iopub.execute_input": "2022-07-07T06:27:09.905023Z",
     "iopub.status.busy": "2022-07-07T06:27:09.904570Z",
     "iopub.status.idle": "2022-07-07T06:27:14.935895Z",
     "shell.execute_reply": "2022-07-07T06:27:14.934729Z"
    },
    "papermill": {
     "duration": 5.069071,
     "end_time": "2022-07-07T06:27:14.939617",
     "exception": false,
     "start_time": "2022-07-07T06:27:09.870546",
     "status": "completed"
    },
    "tags": []
   },
   "outputs": [
    {
     "name": "stdout",
     "output_type": "stream",
     "text": [
      "CV RMSE value list: [0.1531 0.1289 0.1663 0.1369 0.1298]\n",
      "CV RMSE mean value: 0.143\n",
      "linear regression - mean: 0.1430 (std: 0.0145)\n"
     ]
    }
   ],
   "source": [
    "score = cv_rmse(xgb_model, n_folds)\n",
    "print(\"linear regression - mean: {:.4f} (std: {:.4f})\".format(score.mean(), score.std()))\n",
    "rmse_scores['linear regression'] = (score.mean(), score.std())"
   ]
  },
  {
   "cell_type": "code",
   "execution_count": 61,
   "id": "ad285852",
   "metadata": {
    "execution": {
     "iopub.execute_input": "2022-07-07T06:27:15.009073Z",
     "iopub.status.busy": "2022-07-07T06:27:15.008603Z",
     "iopub.status.idle": "2022-07-07T06:27:16.917099Z",
     "shell.execute_reply": "2022-07-07T06:27:16.915465Z"
    },
    "papermill": {
     "duration": 1.945981,
     "end_time": "2022-07-07T06:27:16.919994",
     "exception": false,
     "start_time": "2022-07-07T06:27:14.974013",
     "status": "completed"
    },
    "tags": []
   },
   "outputs": [
    {
     "name": "stdout",
     "output_type": "stream",
     "text": [
      "[122823. 193817. 186131. ... 156227. 123867. 217287.]\n"
     ]
    }
   ],
   "source": [
    "from sklearn.model_selection import cross_val_predict\n",
    "\n",
    "# X = all_df.iloc[:len(y), :]\n",
    "# X_test = all_df.iloc[len(y):, :]\n",
    "# X.shape, y.shape, X_test.shape\n",
    "\n",
    "lr_model_fit = xgb_model.fit(X_train, y_train)\n",
    "final_preds = np.floor(np.expm1(lr_model_fit.predict(test)))\n",
    "print(final_preds)"
   ]
  },
  {
   "cell_type": "code",
   "execution_count": 62,
   "id": "96932a41",
   "metadata": {
    "execution": {
     "iopub.execute_input": "2022-07-07T06:27:16.990037Z",
     "iopub.status.busy": "2022-07-07T06:27:16.989633Z",
     "iopub.status.idle": "2022-07-07T06:27:17.015654Z",
     "shell.execute_reply": "2022-07-07T06:27:17.014080Z"
    },
    "papermill": {
     "duration": 0.064107,
     "end_time": "2022-07-07T06:27:17.019025",
     "exception": false,
     "start_time": "2022-07-07T06:27:16.954918",
     "status": "completed"
    },
    "tags": []
   },
   "outputs": [
    {
     "name": "stdout",
     "output_type": "stream",
     "text": [
      "     Id  SalePrice\n",
      "0  1461   122823.0\n",
      "1  1462   193817.0\n",
      "2  1463   186131.0\n",
      "3  1464   189516.0\n",
      "4  1465   186296.0\n"
     ]
    }
   ],
   "source": [
    "submission = pd.read_csv(DATA_PATH + \"sample_submission.csv\")\n",
    "submission.iloc[:,1] = final_preds\n",
    "print(submission.head())\n",
    "submission.to_csv(\"submission.csv\", index=False)"
   ]
  }
 ],
 "metadata": {
  "kernelspec": {
   "display_name": "Python 3 (ipykernel)",
   "language": "python",
   "name": "python3"
  },
  "language_info": {
   "codemirror_mode": {
    "name": "ipython",
    "version": 3
   },
   "file_extension": ".py",
   "mimetype": "text/x-python",
   "name": "python",
   "nbconvert_exporter": "python",
   "pygments_lexer": "ipython3",
   "version": "3.9.12"
  },
  "papermill": {
   "default_parameters": {},
   "duration": 30.485901,
   "end_time": "2022-07-07T06:27:18.075783",
   "environment_variables": {},
   "exception": null,
   "input_path": "__notebook__.ipynb",
   "output_path": "__notebook__.ipynb",
   "parameters": {},
   "start_time": "2022-07-07T06:26:47.589882",
   "version": "2.3.4"
  }
 },
 "nbformat": 4,
 "nbformat_minor": 5
}

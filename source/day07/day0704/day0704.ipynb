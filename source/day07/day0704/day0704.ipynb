{
 "cells": [
  {
   "cell_type": "markdown",
   "metadata": {
    "id": "vkz_DX6dnXKm"
   },
   "source": [
    "## 확률적 경사 하강법\n",
    "- 점진적 학습 (step, 보폭)\n",
    "- 학습률\n",
    "- XGBoost, LightGBM, 딥러닝(이미지 분류, 자연어 처리, 옵티마이저)"
   ]
  },
  {
   "cell_type": "markdown",
   "metadata": {
    "id": "_za8maGXosPl"
   },
   "source": [
    "### \n",
    "- 신경망 이미지 데이터, 자연어\n",
    "- 자율주행 하루 데이터 1TB --> 학습\n",
    "- 한꺼번에 다 모델을 학습 어려움\n",
    "  + 샘플링, 배치, 에포크, 오차(=손실=loss)가 가장 작은 지점을 찾아야 함. \n",
    "- 결론적으로, 확률적 경사 하강법"
   ]
  },
  {
   "cell_type": "markdown",
   "metadata": {
    "id": "xYCk0o-NwxOt"
   },
   "source": [
    "### 손실함수\n",
    "- 로지스틱 손실 함수\n"
   ]
  },
  {
   "cell_type": "code",
   "execution_count": 22,
   "metadata": {
    "colab": {
     "base_uri": "https://localhost:8080/"
    },
    "executionInfo": {
     "elapsed": 768,
     "status": "ok",
     "timestamp": 1656915315628,
     "user": {
      "displayName": "정상필",
      "userId": "13804885443527402753"
     },
     "user_tz": -540
    },
    "id": "o116iexEnRxk",
    "outputId": "b86dc3fb-d566-41e9-fcd7-9e41fbf4a20b"
   },
   "outputs": [
    {
     "name": "stdout",
     "output_type": "stream",
     "text": [
      "<class 'pandas.core.frame.DataFrame'>\n",
      "RangeIndex: 159 entries, 0 to 158\n",
      "Data columns (total 6 columns):\n",
      " #   Column    Non-Null Count  Dtype  \n",
      "---  ------    --------------  -----  \n",
      " 0   Species   159 non-null    object \n",
      " 1   Weight    159 non-null    float64\n",
      " 2   Length    159 non-null    float64\n",
      " 3   Diagonal  159 non-null    float64\n",
      " 4   Height    159 non-null    float64\n",
      " 5   Width     159 non-null    float64\n",
      "dtypes: float64(5), object(1)\n",
      "memory usage: 7.6+ KB\n"
     ]
    }
   ],
   "source": [
    "import pandas as pd \n",
    "fish = pd.read_csv(\"https://bit.ly/fish_csv_data\")\n",
    "fish.info()"
   ]
  },
  {
   "cell_type": "markdown",
   "metadata": {
    "id": "NYtHg32Sx_3J"
   },
   "source": [
    "- 입력 데이터와 타깃 데이터 분리"
   ]
  },
  {
   "cell_type": "code",
   "execution_count": 23,
   "metadata": {
    "colab": {
     "base_uri": "https://localhost:8080/"
    },
    "executionInfo": {
     "elapsed": 6,
     "status": "ok",
     "timestamp": 1656915315628,
     "user": {
      "displayName": "정상필",
      "userId": "13804885443527402753"
     },
     "user_tz": -540
    },
    "id": "YUSJLuD0yDlh",
    "outputId": "3c2d43c8-ac3e-496b-c322-6601c81ed4c9"
   },
   "outputs": [
    {
     "data": {
      "text/plain": [
       "((159, 5), (159,))"
      ]
     },
     "execution_count": 23,
     "metadata": {},
     "output_type": "execute_result"
    }
   ],
   "source": [
    "fish_input = fish[['Weight', 'Length', 'Diagonal', 'Height', 'Width']].to_numpy()\n",
    "fish_target = fish['Species'].to_numpy()\n",
    "\n",
    "fish_input.shape, fish_target.shape"
   ]
  },
  {
   "cell_type": "markdown",
   "metadata": {
    "id": "GxqAaK3hyYOu"
   },
   "source": [
    "- 훈련 세트와 테스트 데이터 분리"
   ]
  },
  {
   "cell_type": "code",
   "execution_count": 24,
   "metadata": {
    "executionInfo": {
     "elapsed": 5,
     "status": "ok",
     "timestamp": 1656915315629,
     "user": {
      "displayName": "정상필",
      "userId": "13804885443527402753"
     },
     "user_tz": -540
    },
    "id": "Db2OByp5yblq"
   },
   "outputs": [],
   "source": [
    "from sklearn.model_selection import train_test_split \n",
    "train_input, test_input, train_target, test_target = train_test_split(\n",
    "    # input, target, 옵션... \n",
    "    fish_input, fish_target, random_state=42\n",
    ")"
   ]
  },
  {
   "cell_type": "markdown",
   "metadata": {
    "id": "4nWSAtq1ysvf"
   },
   "source": [
    "- 훈련 세트와 테스트 세트의 특성 표준화\n",
    "  + 무게, 길이, 대각선 길이, 높이, 너비 \n",
    "- 표준화 처리 진행\n",
    "  "
   ]
  },
  {
   "cell_type": "code",
   "execution_count": 25,
   "metadata": {
    "executionInfo": {
     "elapsed": 5,
     "status": "ok",
     "timestamp": 1656915315629,
     "user": {
      "displayName": "정상필",
      "userId": "13804885443527402753"
     },
     "user_tz": -540
    },
    "id": "elBwCm5YzD0r"
   },
   "outputs": [],
   "source": [
    "from sklearn.preprocessing import StandardScaler\n",
    "ss = StandardScaler()\n",
    "ss.fit(train_input)\n",
    "\n",
    "train_scaled = ss.transform(train_input)\n",
    "test_scaled = ss.transform(test_input)\n",
    "\n",
    "# train_scaled[:5]"
   ]
  },
  {
   "cell_type": "markdown",
   "metadata": {
    "id": "0CRYIqnlzpL4"
   },
   "source": [
    "## 모델링\n",
    "- 확률적 경사 하강법 "
   ]
  },
  {
   "cell_type": "code",
   "execution_count": 26,
   "metadata": {
    "colab": {
     "base_uri": "https://localhost:8080/"
    },
    "executionInfo": {
     "elapsed": 5,
     "status": "ok",
     "timestamp": 1656915315629,
     "user": {
      "displayName": "정상필",
      "userId": "13804885443527402753"
     },
     "user_tz": -540
    },
    "id": "HcAI7vQAztTg",
    "outputId": "c1ec8fe5-4ee3-4869-d511-2a5cec9f1485"
   },
   "outputs": [
    {
     "name": "stdout",
     "output_type": "stream",
     "text": [
      "0.773109243697479\n",
      "0.775\n"
     ]
    },
    {
     "name": "stderr",
     "output_type": "stream",
     "text": [
      "/usr/local/lib/python3.7/dist-packages/sklearn/linear_model/_stochastic_gradient.py:700: ConvergenceWarning: Maximum number of iteration reached before convergence. Consider increasing max_iter to improve the fit.\n",
      "  ConvergenceWarning,\n"
     ]
    }
   ],
   "source": [
    "from sklearn.linear_model import SGDClassifier \n",
    "sc = SGDClassifier(loss = 'log', max_iter = 10, random_state=42)\n",
    "\n",
    "sc.fit(train_scaled, train_target)\n",
    "print(sc.score(train_scaled, train_target))\n",
    "print(sc.score(test_scaled, test_target))"
   ]
  },
  {
   "cell_type": "markdown",
   "metadata": {
    "id": "rbqp5Fki1LS-"
   },
   "source": [
    "- partial_fit() 메서드 사용하면 추가 학습. "
   ]
  },
  {
   "cell_type": "code",
   "execution_count": 27,
   "metadata": {
    "colab": {
     "base_uri": "https://localhost:8080/"
    },
    "executionInfo": {
     "elapsed": 4,
     "status": "ok",
     "timestamp": 1656915315629,
     "user": {
      "displayName": "정상필",
      "userId": "13804885443527402753"
     },
     "user_tz": -540
    },
    "id": "6WIt6HkD1ORw",
    "outputId": "84d96ee7-1c84-45cd-8a06-80c1492b6e84"
   },
   "outputs": [
    {
     "name": "stdout",
     "output_type": "stream",
     "text": [
      "0.8151260504201681\n",
      "0.85\n"
     ]
    }
   ],
   "source": [
    "sc.partial_fit(train_scaled, train_target) \n",
    "print(sc.score(train_scaled, train_target))\n",
    "print(sc.score(test_scaled, test_target))"
   ]
  },
  {
   "cell_type": "markdown",
   "metadata": {
    "id": "wmBZp2Um1ghA"
   },
   "source": [
    "## 에포크와 과대/과소적합\n",
    "- 에포크 숫자가 적으면 --> 덜 학습\n",
    "- early_stopping\n",
    "  + 에포크 숫자를 1000, 손실 10, 9, 8, , 3\n",
    "  + 3에 도달한 시점이 150 "
   ]
  },
  {
   "cell_type": "code",
   "execution_count": 28,
   "metadata": {
    "executionInfo": {
     "elapsed": 1553,
     "status": "ok",
     "timestamp": 1656915317179,
     "user": {
      "displayName": "정상필",
      "userId": "13804885443527402753"
     },
     "user_tz": -540
    },
    "id": "LiFqYFBW39Ak"
   },
   "outputs": [],
   "source": [
    "import numpy as np \n",
    "sc = SGDClassifier(loss='log', random_state = 42)\n",
    "train_score = []\n",
    "test_score = []\n",
    "\n",
    "classes = np.unique(train_target)\n",
    "\n",
    "# 300번 에포크 훈련을 반복\n",
    "# 훈련 할 때마다, train_score, test_score 추가를 한다. \n",
    "for _ in range(0, 300):\n",
    "  sc.partial_fit(train_scaled, train_target, classes = classes)\n",
    "  train_score.append(sc.score(train_scaled, train_target))\n",
    "  test_score.append(sc.score(test_scaled, test_target)) \n"
   ]
  },
  {
   "cell_type": "markdown",
   "metadata": {
    "id": "7bdsUSvO4y0w"
   },
   "source": [
    "- 시각화 "
   ]
  },
  {
   "cell_type": "code",
   "execution_count": 29,
   "metadata": {
    "colab": {
     "base_uri": "https://localhost:8080/",
     "height": 265
    },
    "executionInfo": {
     "elapsed": 5,
     "status": "ok",
     "timestamp": 1656915317180,
     "user": {
      "displayName": "정상필",
      "userId": "13804885443527402753"
     },
     "user_tz": -540
    },
    "id": "bMGdSKT-4zrm",
    "outputId": "9175c1d9-3d98-4925-b3c4-eb359523fed7"
   },
   "outputs": [
    {
     "data": {
      "image/png": "[encoded data removed]",
      "text/plain": [
       "<Figure size 432x288 with 1 Axes>"
      ]
     },
     "metadata": {
      "needs_background": "light"
     },
     "output_type": "display_data"
    }
   ],
   "source": [
    "import matplotlib.pyplot as plt \n",
    "plt.plot(train_score)\n",
    "plt.plot(test_score)\n",
    "plt.legend([\"train\", \"test\"])\n",
    "plt.show()"
   ]
  },
  {
   "cell_type": "markdown",
   "metadata": {
    "id": "7upCv0V3929F"
   },
   "source": [
    "## 결정트리\n",
    "- wine 데이터 가져오기"
   ]
  },
  {
   "cell_type": "code",
   "execution_count": 30,
   "metadata": {
    "colab": {
     "base_uri": "https://localhost:8080/"
    },
    "executionInfo": {
     "elapsed": 492,
     "status": "ok",
     "timestamp": 1656915317669,
     "user": {
      "displayName": "정상필",
      "userId": "13804885443527402753"
     },
     "user_tz": -540
    },
    "id": "fiwvEheV955o",
    "outputId": "a5828795-0752-4f9a-9848-d0e75bf47cf8"
   },
   "outputs": [
    {
     "name": "stdout",
     "output_type": "stream",
     "text": [
      "   alcohol  sugar    pH  class\n",
      "0      9.4    1.9  3.51    0.0\n",
      "1      9.8    2.6  3.20    0.0\n",
      "2      9.8    2.3  3.26    0.0\n",
      "3      9.8    1.9  3.16    0.0\n",
      "4      9.4    1.9  3.51    0.0\n"
     ]
    }
   ],
   "source": [
    "import pandas as pd \n",
    "wine = pd.read_csv('https://bit.ly/wine_csv_data')\n",
    "print(wine.head())"
   ]
  },
  {
   "cell_type": "markdown",
   "metadata": {
    "id": "qtBnBICX-H_N"
   },
   "source": [
    "- 데이터 가공하기 "
   ]
  },
  {
   "cell_type": "code",
   "execution_count": 31,
   "metadata": {
    "executionInfo": {
     "elapsed": 6,
     "status": "ok",
     "timestamp": 1656915317670,
     "user": {
      "displayName": "정상필",
      "userId": "13804885443527402753"
     },
     "user_tz": -540
    },
    "id": "Hv6L6VUl-Kaw"
   },
   "outputs": [],
   "source": [
    "data = wine[['alcohol', 'sugar', 'pH']].to_numpy()\n",
    "target = wine['class'].to_numpy()"
   ]
  },
  {
   "cell_type": "markdown",
   "metadata": {
    "id": "3qtEY1Bw_aOg"
   },
   "source": [
    "- 훈련데이터 분리"
   ]
  },
  {
   "cell_type": "code",
   "execution_count": 32,
   "metadata": {
    "colab": {
     "base_uri": "https://localhost:8080/"
    },
    "executionInfo": {
     "elapsed": 6,
     "status": "ok",
     "timestamp": 1656915317670,
     "user": {
      "displayName": "정상필",
      "userId": "13804885443527402753"
     },
     "user_tz": -540
    },
    "id": "qoAwdOZ8_bh2",
    "outputId": "fb6c428a-8762-461b-dfda-f382813ce3c4"
   },
   "outputs": [
    {
     "data": {
      "text/plain": [
       "((5197, 3), (1300, 3), (5197,), (1300,))"
      ]
     },
     "execution_count": 32,
     "metadata": {},
     "output_type": "execute_result"
    }
   ],
   "source": [
    "from sklearn.model_selection import train_test_split\n",
    "\n",
    "train_input, test_input, train_target, test_target = train_test_split(\n",
    "    data, target, test_size = 0.2, random_state=42\n",
    ")\n",
    "\n",
    "train_input.shape, test_input.shape, train_target.shape, test_target.shape"
   ]
  },
  {
   "cell_type": "markdown",
   "metadata": {
    "id": "uyQ_-dNrARwO"
   },
   "source": [
    "- 표준화 처리"
   ]
  },
  {
   "cell_type": "code",
   "execution_count": 33,
   "metadata": {
    "executionInfo": {
     "elapsed": 4,
     "status": "ok",
     "timestamp": 1656915317670,
     "user": {
      "displayName": "정상필",
      "userId": "13804885443527402753"
     },
     "user_tz": -540
    },
    "id": "Xiw31qkMATHU"
   },
   "outputs": [],
   "source": [
    "from sklearn.preprocessing import StandardScaler\n",
    "ss = StandardScaler()\n",
    "ss.fit(train_input)\n",
    "\n",
    "train_scaled = ss.transform(train_input)\n",
    "test_scaled = ss.transform(test_input)"
   ]
  },
  {
   "cell_type": "markdown",
   "metadata": {
    "id": "CXgFJxMuDMOA"
   },
   "source": [
    "- 모델 만들기"
   ]
  },
  {
   "cell_type": "code",
   "execution_count": 34,
   "metadata": {
    "colab": {
     "base_uri": "https://localhost:8080/",
     "height": 448
    },
    "executionInfo": {
     "elapsed": 7685,
     "status": "ok",
     "timestamp": 1656915325351,
     "user": {
      "displayName": "정상필",
      "userId": "13804885443527402753"
     },
     "user_tz": -540
    },
    "id": "mLsoQliODNlu",
    "outputId": "dd9d8539-3754-4eae-e415-c0d1cf3291b6"
   },
   "outputs": [
    {
     "name": "stdout",
     "output_type": "stream",
     "text": [
      "0.9003271117952665\n",
      "0.8576923076923076\n"
     ]
    },
    {
     "data": {
      "image/png": "[encoded data removed]",
      "text/plain": [
       "<Figure size 720x504 with 1 Axes>"
      ]
     },
     "metadata": {
      "needs_background": "light"
     },
     "output_type": "display_data"
    }
   ],
   "source": [
    "from sklearn.tree import DecisionTreeClassifier\n",
    "import matplotlib.pyplot as plt \n",
    "from sklearn.tree import plot_tree \n",
    "\n",
    "# dt = DecisionTreeClassifier(criterion = 'entropy', max_depth = 8, random_state=42) 엔트로피\n",
    "dt = DecisionTreeClassifier(max_depth = 8, random_state=42)\n",
    "dt.fit(train_scaled, train_target)\n",
    "print(dt.score(train_scaled, train_target))\n",
    "print(dt.score(test_scaled, test_target))\n",
    "\n",
    "plt.figure(figsize=(10, 7))\n",
    "plot_tree(dt)\n",
    "plt.show()"
   ]
  },
  {
   "cell_type": "markdown",
   "metadata": {
    "id": "AEOzNTmmDihi"
   },
   "source": [
    "- 훈련 정확도는 99.6%\n",
    "- 테스트 정확도는 85.9% \n",
    "--> 과대적합이 일어남"
   ]
  },
  {
   "cell_type": "markdown",
   "metadata": {
    "id": "L5G8KLxOkdaJ"
   },
   "source": [
    "### 노드 "
   ]
  },
  {
   "cell_type": "code",
   "execution_count": 35,
   "metadata": {
    "colab": {
     "base_uri": "https://localhost:8080/",
     "height": 411
    },
    "executionInfo": {
     "elapsed": 10,
     "status": "ok",
     "timestamp": 1656915325351,
     "user": {
      "displayName": "정상필",
      "userId": "13804885443527402753"
     },
     "user_tz": -540
    },
    "id": "j9wzOlcqkeVn",
    "outputId": "9bde320f-ee1c-4391-85d6-7c551544228f"
   },
   "outputs": [
    {
     "data": {
      "image/png": "[encoded data removed]",
      "text/plain": [
       "<Figure size 720x504 with 1 Axes>"
      ]
     },
     "metadata": {
      "needs_background": "light"
     },
     "output_type": "display_data"
    }
   ],
   "source": [
    "plt.figure(figsize=(10,7))\n",
    "plot_tree(dt,\n",
    "          max_depth = 1, # 깊이 \n",
    "          filled=True,\n",
    "          feature_names = ['alcohol', 'sugar', 'pH'])\n",
    "plt.show()"
   ]
  },
  {
   "cell_type": "markdown",
   "metadata": {
    "id": "XpC7YnYDm-Xp"
   },
   "source": [
    "### 조건\n",
    "- 첫번째 조건은 조건들 중 가장 확실하게 분류되는 조건이 온다.\n",
    "- 지시 함수를 기반으로 조건식을 구한다."
   ]
  },
  {
   "cell_type": "markdown",
   "metadata": {
    "id": "uZxmIEPSlYMM"
   },
   "source": [
    "### 명칭\n",
    "- 맨위 = 루트노드(뿌리노드)\n",
    "- 중간 = 노드\n",
    "- 제일 마지막 = 리프노드(말단노드)\n",
    "- 깊이 = 조건식 갯수"
   ]
  },
  {
   "cell_type": "markdown",
   "metadata": {
    "id": "ju1JcmduokLG"
   },
   "source": [
    "- 불순도 \n",
    "  - 한 범주 안에서 서로 다른 데이터가 얼마나 섞여 있는지 나타냄\n",
    "  - 비율이 5:5일때 : 불순도 최대, gini 불순도 수치 = 0.5\n",
    "  - 100% 분리 되었을때 :불순도 최소, gini 분순도 수치 = 0\n",
    "- 엔트로피(Entropy)\n",
    "  - 불확실한 정도를 의미\n",
    "  - 0 ~ 1\n",
    "    - 비율이 5:5일때 엔트로피 최대 = 1\n",
    "    - 100% 분리 되었을때 엔트로피 최소 = 0"
   ]
  },
  {
   "cell_type": "markdown",
   "metadata": {
    "id": "C1tkVTKPp1G-"
   },
   "source": [
    "### 특성 중요도\n",
    "- 어떤 특성이 결정 트리 모델에 영향을 주었는가"
   ]
  },
  {
   "cell_type": "code",
   "execution_count": 36,
   "metadata": {
    "colab": {
     "base_uri": "https://localhost:8080/"
    },
    "executionInfo": {
     "elapsed": 9,
     "status": "ok",
     "timestamp": 1656915325352,
     "user": {
      "displayName": "정상필",
      "userId": "13804885443527402753"
     },
     "user_tz": -540
    },
    "id": "1QEi5WUbr-Ff",
    "outputId": "470c4b52-662a-443e-bbbd-2397725d7394"
   },
   "outputs": [
    {
     "name": "stdout",
     "output_type": "stream",
     "text": [
      "[0.17976778 0.65284899 0.16738324]\n"
     ]
    }
   ],
   "source": [
    "print(dt.feature_importances_)"
   ]
  },
  {
   "cell_type": "markdown",
   "metadata": {
    "id": "CX-AyMI8r0A4"
   },
   "source": [
    "### 검증 세트\n",
    "- 훈련세트와 테스트세트\n",
    "- 훈련 : 교과서를 공부하는 것 훈련세트, 모의평가\n",
    "- 검증 : 강남대성 모의고사\n",
    "- 테스트 : 6월/9월 모의고사\n"
   ]
  },
  {
   "cell_type": "code",
   "execution_count": 42,
   "metadata": {
    "colab": {
     "base_uri": "https://localhost:8080/"
    },
    "executionInfo": {
     "elapsed": 355,
     "status": "ok",
     "timestamp": 1656915471542,
     "user": {
      "displayName": "정상필",
      "userId": "13804885443527402753"
     },
     "user_tz": -540
    },
    "id": "HcxaVTTO11Vy",
    "outputId": "c49b7e8c-c61d-4bda-ef96-6d9dc598ae07"
   },
   "outputs": [
    {
     "name": "stdout",
     "output_type": "stream",
     "text": [
      "   alcohol  sugar    pH  class\n",
      "0      9.4    1.9  3.51    0.0\n",
      "1      9.8    2.6  3.20    0.0\n",
      "2      9.8    2.3  3.26    0.0\n",
      "3      9.8    1.9  3.16    0.0\n",
      "4      9.4    1.9  3.51    0.0\n"
     ]
    },
    {
     "data": {
      "text/plain": [
       "((5197, 3), (1300, 3), (5197,), (1300,))"
      ]
     },
     "execution_count": 42,
     "metadata": {},
     "output_type": "execute_result"
    }
   ],
   "source": [
    "import pandas as pd \n",
    "import numpy as np\n",
    "from sklearn.model_selection import train_test_split\n",
    "\n",
    "wine = pd.read_csv('https://bit.ly/wine_csv_data')\n",
    "print(wine.head())\n",
    "\n",
    "data = wine[['alcohol', 'sugar', 'pH']].to_numpy()\n",
    "target = wine['class'].to_numpy()\n",
    "\n",
    "train_input, test_input, train_target, test_target = train_test_split(\n",
    "    data, target, test_size = 0.2, random_state=42\n",
    ")\n",
    "\n",
    "train_input.shape, test_input.shape, train_target.shape, test_target.shape"
   ]
  },
  {
   "cell_type": "code",
   "execution_count": 48,
   "metadata": {
    "colab": {
     "base_uri": "https://localhost:8080/"
    },
    "executionInfo": {
     "elapsed": 2,
     "status": "ok",
     "timestamp": 1656915616292,
     "user": {
      "displayName": "정상필",
      "userId": "13804885443527402753"
     },
     "user_tz": -540
    },
    "id": "jwCeP4RE1398",
    "outputId": "cf3acf22-a7b3-497b-8a9a-89923857ce1b"
   },
   "outputs": [
    {
     "name": "stdout",
     "output_type": "stream",
     "text": [
      "(4157, 3) (1040, 3)\n"
     ]
    }
   ],
   "source": [
    "# 훈련 80\n",
    "# 검증 20\n",
    "\n",
    "sub_input, val_input, sub_target, val_target = train_test_split(\n",
    "    train_input, train_target, test_size=0.2, random_state = 42)\n",
    "print(sub_input.shape, val_input.shape)"
   ]
  },
  {
   "cell_type": "code",
   "execution_count": 52,
   "metadata": {
    "colab": {
     "base_uri": "https://localhost:8080/"
    },
    "executionInfo": {
     "elapsed": 342,
     "status": "ok",
     "timestamp": 1656915789154,
     "user": {
      "displayName": "정상필",
      "userId": "13804885443527402753"
     },
     "user_tz": -540
    },
    "id": "0lhnJzK23cmT",
    "outputId": "84c34afd-c5dc-4d34-a56a-13991989a767"
   },
   "outputs": [
    {
     "name": "stdout",
     "output_type": "stream",
     "text": [
      "훈련성과: 0.9971133028626413\n",
      "검증 성과: 0.864423076923077\n",
      "마지막 최종: 0.8569230769230769\n"
     ]
    }
   ],
   "source": [
    "from sklearn.tree import DecisionTreeClassifier\n",
    "dt = DecisionTreeClassifier(random_state=42)\n",
    "dt.fit(sub_input, sub_target)\n",
    "print(\"훈련성과:\", dt.score(sub_input, sub_target))\n",
    "print(\"검증 성과:\", dt.score(val_input, val_target))\n",
    "print(\"마지막 최종:\", dt.score(test_input, test_target))"
   ]
  },
  {
   "cell_type": "markdown",
   "metadata": {
    "id": "TA3iMUG21009"
   },
   "source": [
    "- 검증과 최종의 확률이 비슷해야한다."
   ]
  },
  {
   "cell_type": "markdown",
   "metadata": {
    "id": "P1Y1TNnB40hL"
   },
   "source": [
    "### 교차 검증\n",
    "- 데이터 셋을 반복 분할\n",
    "- 샘플링이 편향적일 수 있음을 방지하기 위해\n",
    "- 모형을 안정적으로 만들어 준다\n",
    " - 과대 적합 방지"
   ]
  },
  {
   "cell_type": "code",
   "execution_count": 64,
   "metadata": {
    "colab": {
     "base_uri": "https://localhost:8080/"
    },
    "executionInfo": {
     "elapsed": 1,
     "status": "ok",
     "timestamp": 1656917966134,
     "user": {
      "displayName": "정상필",
      "userId": "13804885443527402753"
     },
     "user_tz": -540
    },
    "id": "xc-hpw7G_JJZ",
    "outputId": "0c21a45b-c03a-46b2-d27c-9c282df1b4d8"
   },
   "outputs": [
    {
     "name": "stdout",
     "output_type": "stream",
     "text": [
      "훈련데이터 :[ 1  2  3  4  6  7  8 10], 검증데이터 : [5 9]\n",
      "훈련데이터 :[1 3 4 5 6 7 8 9], 검증데이터 : [ 2 10]\n",
      "훈련데이터 :[ 1  2  3  4  5  6  9 10], 검증데이터 : [7 8]\n",
      "훈련데이터 :[ 2  4  5  6  7  8  9 10], 검증데이터 : [1 3]\n",
      "훈련데이터 :[ 1  2  3  5  7  8  9 10], 검증데이터 : [4 6]\n"
     ]
    }
   ],
   "source": [
    "import numpy as np\n",
    "from sklearn.model_selection import KFold\n",
    "\n",
    "df = np.array([1,2,3,4,5,6,7,8,9,10])\n",
    "\n",
    "# 데이터를 K폴드로 나눈다\n",
    "folds = KFold(n_splits=5, shuffle = True)# 교차검증을 몇번할꺼냐\n",
    "for train_idx, valid_idx in folds.split(df):\n",
    "  print(f'훈련데이터 :{df[train_idx]}, 검증데이터 : {df[valid_idx]}')"
   ]
  },
  {
   "cell_type": "markdown",
   "metadata": {
    "id": "jKzg0QhiAi_U"
   },
   "source": [
    "- 교차 검증 함수 "
   ]
  },
  {
   "cell_type": "code",
   "execution_count": 67,
   "metadata": {
    "colab": {
     "base_uri": "https://localhost:8080/"
    },
    "executionInfo": {
     "elapsed": 330,
     "status": "ok",
     "timestamp": 1656918190561,
     "user": {
      "displayName": "정상필",
      "userId": "13804885443527402753"
     },
     "user_tz": -540
    },
    "id": "f-lU5zDDAkOl",
    "outputId": "c3d3d931-94cd-4e94-bfea-3516f7b73986"
   },
   "outputs": [
    {
     "name": "stdout",
     "output_type": "stream",
     "text": [
      "{'fit_time': array([0.01061797, 0.01001596, 0.01057696, 0.01032686, 0.00986886]), 'score_time': array([0.00118041, 0.00118399, 0.00116229, 0.00113297, 0.00111485]), 'test_score': array([0.86923077, 0.84615385, 0.87680462, 0.84889317, 0.83541867])}\n",
      "평균: 0.855300214703487\n"
     ]
    }
   ],
   "source": [
    "from sklearn.model_selection import cross_validate\n",
    "scores = cross_validate(dt, train_input, train_target)\n",
    "print(scores)\n",
    "print(\"평균:\",np.mean(scores['test_score']))"
   ]
  },
  {
   "cell_type": "markdown",
   "metadata": {
    "id": "JhQwTynqBST-"
   },
   "source": [
    "- StratifiedKFold 사용 "
   ]
  },
  {
   "cell_type": "code",
   "execution_count": 76,
   "metadata": {
    "colab": {
     "base_uri": "https://localhost:8080/"
    },
    "executionInfo": {
     "elapsed": 354,
     "status": "ok",
     "timestamp": 1656918607749,
     "user": {
      "displayName": "정상필",
      "userId": "13804885443527402753"
     },
     "user_tz": -540
    },
    "id": "ceVDrI8BBWyP",
    "outputId": "5a35bbc7-b0b9-4035-ac3e-aba51ecef1f2"
   },
   "outputs": [
    {
     "name": "stdout",
     "output_type": "stream",
     "text": [
      "{'fit_time': array([0.01017427, 0.0070827 , 0.0073967 , 0.00732017, 0.0069654 ]), 'score_time': array([0.00081372, 0.00074744, 0.0007174 , 0.00073171, 0.00071931]), 'test_score': array([0.86923077, 0.84615385, 0.87680462, 0.84889317, 0.83541867])}\n",
      "평균: 0.855300214703487\n"
     ]
    }
   ],
   "source": [
    "from sklearn.model_selection import StratifiedKFold\n",
    "scores = cross_validate(dt, train_input, train_target, cv=StratifiedKFold())\n",
    "print(scores)\n",
    "print(\"평균:\",np.mean(scores['test_score']))"
   ]
  },
  {
   "cell_type": "markdown",
   "metadata": {
    "id": "9JN23s7BCLk9"
   },
   "source": [
    "- 10폴드 교차 검증을 수행"
   ]
  },
  {
   "cell_type": "code",
   "execution_count": 77,
   "metadata": {
    "colab": {
     "base_uri": "https://localhost:8080/"
    },
    "executionInfo": {
     "elapsed": 320,
     "status": "ok",
     "timestamp": 1656918609664,
     "user": {
      "displayName": "정상필",
      "userId": "13804885443527402753"
     },
     "user_tz": -540
    },
    "id": "ZoyypncIB1dm",
    "outputId": "493ff087-7cc8-4ff4-ad59-9d387571ad0d"
   },
   "outputs": [
    {
     "name": "stdout",
     "output_type": "stream",
     "text": [
      "{'fit_time': array([0.01029015, 0.00815034, 0.00902534, 0.00820923, 0.0081687 ,\n",
      "       0.00809574, 0.0080421 , 0.00797629, 0.00809836, 0.00793672]), 'score_time': array([0.00072193, 0.00066876, 0.00071168, 0.00066352, 0.00067019,\n",
      "       0.0006609 , 0.00063467, 0.00062871, 0.00067377, 0.0006659 ]), 'test_score': array([0.83461538, 0.87884615, 0.85384615, 0.85384615, 0.84615385,\n",
      "       0.87307692, 0.85961538, 0.85549133, 0.85163776, 0.86705202])}\n",
      "평균: 0.8574181117533719\n"
     ]
    }
   ],
   "source": [
    "from sklearn.model_selection import StratifiedKFold\n",
    "splitter = StratifiedKFold(n_splits=10, shuffle=True, random_state=42) # n_splits는 몇 폴드 교차 검증을 할지 정의\n",
    "scores = cross_validate(dt, train_input, train_target, cv=splitter)\n",
    "print(scores)\n",
    "print(\"평균:\",np.mean(scores['test_score']))"
   ]
  },
  {
   "cell_type": "markdown",
   "metadata": {
    "id": "rTWPl6ZcDJw9"
   },
   "source": [
    "## 하이퍼파라미터 튜닝\n",
    "- 그리드 서치\n",
    "  - 사람이 수동적으로 입력\n",
    "- 랜덤 서치\n",
    "  - 사람이 범위만 지정\n",
    "- 베이지안 옵티마이제이션(bayesian optimization)\n",
    "- AutoML : 사람의 개입 없이 하이퍼파라미터 튜닝을 자동으로 수행\n",
    "  - ex) pycaret\n",
    "- 각 모델마다 적게는 1-2개에서, 많게는 5-6개의 매개 변수를 제공한다\n",
    "  - XGBoost 경우 100개정도가 있다\n",
    "- 하이퍼파라미터와 동시에 교차검증을 수행\n",
    "  - 미친짓이다\n",
    "\n"
   ]
  },
  {
   "cell_type": "code",
   "execution_count": 85,
   "metadata": {
    "colab": {
     "base_uri": "https://localhost:8080/"
    },
    "executionInfo": {
     "elapsed": 914,
     "status": "ok",
     "timestamp": 1656920032967,
     "user": {
      "displayName": "정상필",
      "userId": "13804885443527402753"
     },
     "user_tz": -540
    },
    "id": "QJxfz2GLHGC4",
    "outputId": "1f061057-0f8f-484f-8bf1-a61f32bbc3d9"
   },
   "outputs": [
    {
     "data": {
      "text/plain": [
       "GridSearchCV(estimator=DecisionTreeClassifier(random_state=42), n_jobs=-1,\n",
       "             param_grid={'max_depth': [1, 3, 7],\n",
       "                         'min_impurity_decrease': [0.0001, 0.0002, 0.0003,\n",
       "                                                   0.0004, 0.0005]})"
      ]
     },
     "execution_count": 85,
     "metadata": {},
     "output_type": "execute_result"
    }
   ],
   "source": [
    "from sklearn.model_selection import GridSearchCV\n",
    "params={\n",
    "    'max_depth' : [1,3,7],\n",
    "    'min_impurity_decrease':[0.0001,0.0002,0.0003,0.0004,0.0005]\n",
    "}\n",
    "gs = GridSearchCV(DecisionTreeClassifier(random_state=42), params,n_jobs=-1)\n",
    "gs.fit(train_input, train_target)"
   ]
  },
  {
   "cell_type": "code",
   "execution_count": 86,
   "metadata": {
    "colab": {
     "base_uri": "https://localhost:8080/"
    },
    "executionInfo": {
     "elapsed": 345,
     "status": "ok",
     "timestamp": 1656920037163,
     "user": {
      "displayName": "정상필",
      "userId": "13804885443527402753"
     },
     "user_tz": -540
    },
    "id": "zfnDaOoEIDxv",
    "outputId": "0d65aca3-ee7f-459e-a3db-0eaca244cb1e"
   },
   "outputs": [
    {
     "name": "stdout",
     "output_type": "stream",
     "text": [
      "best: DecisionTreeClassifier(max_depth=7, min_impurity_decrease=0.0005,\n",
      "                       random_state=42)\n"
     ]
    }
   ],
   "source": [
    "print(\"best:\", gs.best_estimator_)\n",
    "dt = gs.best_estimator_"
   ]
  }
 ],
 "metadata": {
  "colab": {
   "collapsed_sections": [],
   "name": "day0704.ipynb",
   "provenance": [],
   "toc_visible": true
  },
  "kernelspec": {
   "display_name": "Python 3 (ipykernel)",
   "language": "python",
   "name": "python3"
  },
  "language_info": {
   "codemirror_mode": {
    "name": "ipython",
    "version": 3
   },
   "file_extension": ".py",
   "mimetype": "text/x-python",
   "name": "python",
   "nbconvert_exporter": "python",
   "pygments_lexer": "ipython3",
   "version": "3.9.12"
  }
 },
 "nbformat": 4,
 "nbformat_minor": 4
}

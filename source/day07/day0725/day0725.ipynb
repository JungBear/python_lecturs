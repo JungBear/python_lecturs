{
 "cells": [
  {
   "cell_type": "markdown",
   "id": "6aa8a45c-559a-4633-ac76-cd870c075cdf",
   "metadata": {},
   "source": [
    "## 크롤링"
   ]
  },
  {
   "cell_type": "markdown",
   "id": "6b07e255-d422-4125-9989-503c202b141f",
   "metadata": {},
   "source": [
    "### 설치되었는지 테스트 "
   ]
  },
  {
   "cell_type": "code",
   "execution_count": 4,
   "id": "75b03b43-b625-4802-9240-1db0120198ba",
   "metadata": {},
   "outputs": [
    {
     "name": "stderr",
     "output_type": "stream",
     "text": [
      "C:\\Users\\human\\AppData\\Local\\Temp\\ipykernel_12084\\3831645082.py:5: DeprecationWarning: executable_path has been deprecated, please pass in a Service object\n",
      "  driver = webdriver.Chrome('chromedriver.exe')\n"
     ]
    }
   ],
   "source": [
    "from selenium import webdriver\n",
    "from selenium.webdriver.common.keys import Keys\n",
    "\n",
    "#경로\n",
    "driver = webdriver.Chrome('chromedriver.exe')\n",
    "url = 'https://www.naver.com/'\n",
    "driver.get(url)"
   ]
  },
  {
   "cell_type": "markdown",
   "id": "467618a2-844d-43ab-8bfb-a08885aa75f0",
   "metadata": {},
   "source": [
    "## 함수"
   ]
  },
  {
   "cell_type": "markdown",
   "id": "e0cae289-ca02-4ba7-9ec9-bb7122131f1a",
   "metadata": {},
   "source": [
    "- 모든 개발의 기본은 클래스와 함수로 이루어진다 "
   ]
  },
  {
   "cell_type": "markdown",
   "id": "f5e8f5c3-b5cb-48d2-b3bb-f8822028a000",
   "metadata": {},
   "source": [
    "### 문서화 "
   ]
  },
  {
   "cell_type": "markdown",
   "id": "c8205760-520e-443d-a0cc-7b0cf1f77179",
   "metadata": {},
   "source": [
    "- 팀플을 할 때 중요 "
   ]
  },
  {
   "cell_type": "code",
   "execution_count": null,
   "id": "f1a0b6ce-354e-4a5b-9f48-9156ba7374a1",
   "metadata": {},
   "outputs": [],
   "source": [
    "# -*- coding: utf-8 -*-\n",
    "\n",
    "from matplotlib import docstring\n",
    "\n",
    "\n",
    "def cnt_letter(content, letter):\n",
    "    \"\"\"문자를 세는 함수\n",
    "    Arg:\n",
    "        content(str): 탐색문자열\n",
    "        letter(str): 찾을문자열\n",
    "\n",
    "    Returns:\n",
    "        int\n",
    "\n",
    "    Raises:\n",
    "        ValueError: 만약 Return값이 문자가 아니면 에러를 발생시킨다 \n",
    "    \"\"\"\n",
    "    print(\"함수테스트\")\n",
    "    if (not isinstance(letter, str)) or len(letter) != 1:\n",
    "        raise ValueError('`letter` 반드시 숫자여야 합니다.')\n",
    "    return (len([char for char in content if char == letter]))\n",
    "    \n",
    "\n",
    "if __name__ == \"__main__\":\n",
    "    #print(cnt_letter())\n",
    "    docstring = cnt_letter.__doc__\n",
    "\n",
    "    border='#'*28\n",
    "    print('{}\\n{}\\n{}'.format(border, docstring, border))"
   ]
  },
  {
   "cell_type": "markdown",
   "id": "3aee405d-3b1a-474f-90c5-b1b58c2e41e4",
   "metadata": {},
   "source": [
    "### 함수에서 리스트 사용할때 주의할점 "
   ]
  },
  {
   "cell_type": "code",
   "execution_count": 8,
   "id": "e592e3ca-c1ac-4869-a92e-3bfc29c4509a",
   "metadata": {},
   "outputs": [
    {
     "name": "stdout",
     "output_type": "stream",
     "text": [
      "[1]\n",
      "[1, 1]\n",
      "[1, 1, 1]\n",
      "----\n",
      "[1]\n",
      "[1]\n",
      "[1]\n"
     ]
    }
   ],
   "source": [
    "# 함수에서 list 다룰때 주의점\n",
    "# list vs tuple\n",
    "\n",
    "def list_a(var=[]):\n",
    "    var.append(1)\n",
    "    return var\n",
    "\n",
    "# 일반적으로 사용\n",
    "# 실질적으로 사용되는 리스트 문법\n",
    "# 여러번 실행한다고 리스트가 늘어남을 방지\n",
    "def list_b(var=None):\n",
    "    if var is None:\n",
    "        var = []\n",
    "    var.append(1)\n",
    "    return var\n",
    "\n",
    "if __name__ == \"__main__\":\n",
    "    print(list_a())\n",
    "    print(list_a())\n",
    "    print(list_a())\n",
    "    print('----')\n",
    "    print(list_b())\n",
    "    print(list_b())\n",
    "    print(list_b())"
   ]
  },
  {
   "cell_type": "markdown",
   "id": "048e2459-0bd1-475c-b740-a0cbc5e30ab8",
   "metadata": {},
   "source": [
    "### txt파일 불러오기\n",
    "- 폴더안에 data폴더를 만든다"
   ]
  },
  {
   "cell_type": "code",
   "execution_count": 12,
   "id": "b5bcdd89-f9ee-444f-b9cc-95d0a3b739bb",
   "metadata": {},
   "outputs": [
    {
     "name": "stdout",
     "output_type": "stream",
     "text": [
      "단어갯수 :  5\n"
     ]
    }
   ],
   "source": [
    "# -*- coding: utf-8 -*-\n",
    "# fun_class/data\n",
    "\n",
    "def main():\n",
    "    #print(\"파일 불러오기\")\n",
    "    with open('fun_class/data/news_article.txt',encoding='utf-8') as file:\n",
    "        text = file.read()\n",
    "\n",
    "   #print('파일 불러오기완료')\n",
    "    n=0\n",
    "    for word in text.split():\n",
    "        if word in ['하반기', '상반기']:\n",
    "            n += 1\n",
    "    print('단어갯수 : ',n)\n",
    "if __name__ == \"__main__\":\n",
    "    main()\n"
   ]
  },
  {
   "cell_type": "markdown",
   "id": "50ce2b4c-32df-464d-bed3-c67020ba4da9",
   "metadata": {},
   "source": [
    "- 중간중간 print를 찍어 함수가 작동하는지 확인 할 수 있다."
   ]
  },
  {
   "cell_type": "markdown",
   "id": "2b436c8f-384b-4a94-bbfd-2ede0731441e",
   "metadata": {},
   "source": [
    "###  context manager\n",
    "- with절에서 주로사용\n",
    "- 자동으로 db.close로 넘어감"
   ]
  },
  {
   "cell_type": "code",
   "execution_count": 13,
   "id": "db08807a-c559-4f9a-8652-10fe71c4d6e2",
   "metadata": {},
   "outputs": [
    {
     "name": "stdout",
     "output_type": "stream",
     "text": [
      "db 생성\n"
     ]
    }
   ],
   "source": [
    "import sqlite3 # 기본 라이브러리\n",
    "\n",
    "def db_create():\n",
    "    print('db 생성')\n",
    "\n",
    "    conn = sqlite3.connect('example.db')\n",
    "    cur = conn.cursor()\n",
    "\n",
    "    # CREATE TABEL\n",
    "    sql_create_query = '''\n",
    "        CREATE TABLE stokcs(\n",
    "            date        text\n",
    "            , trans     text\n",
    "            , symbol    text\n",
    "            , qty       real\n",
    "            ,price      real\n",
    "        )\n",
    "    '''\n",
    "\n",
    "    cur.execute(sql_create_query)\n",
    "\n",
    "    # 데이터추가\n",
    "    sql_create_query = '''\n",
    "        INSERT INTO stokcs VALUES('2006-01-05', 'BUY', 'RHAT', 100, 35.14)\n",
    "    '''\n",
    "\n",
    "    cur.execute(sql_create_query)\n",
    "\n",
    "    # save\n",
    "    conn.commit()\n",
    "    conn.close\n",
    "\n",
    "if __name__ == '__main__':\n",
    "    db_create()"
   ]
  },
  {
   "cell_type": "markdown",
   "id": "cacdd0ff-d2ab-461b-b572-48dd6eb3953d",
   "metadata": {},
   "source": [
    "- contextmanager 방법"
   ]
  },
  {
   "cell_type": "code",
   "execution_count": 14,
   "id": "d7782983-13db-4d9c-9dfb-da5a7b01a797",
   "metadata": {},
   "outputs": [
    {
     "name": "stdout",
     "output_type": "stream",
     "text": [
      "('2006-01-05', 'BUY', 'RHAT', 100.0, 35.14)\n"
     ]
    }
   ],
   "source": [
    "import sqlite3\n",
    "import contextlib\n",
    "\n",
    "@contextlib.contextmanager\n",
    "def db_connect(url):\n",
    "    db = sqlite3.connect(url)\n",
    "\n",
    "    yield db\n",
    "    db.close()\n",
    "\n",
    "def main(url):\n",
    "    with db_connect(url) as conn:\n",
    "        cur = conn.cursor()\n",
    "        sql_get_query = '''\n",
    "            select * FROM stokcs\n",
    "        '''\n",
    "        for row in cur.execute(sql_get_query):\n",
    "            print(row)\n",
    "\n",
    "if __name__ == '__main__':\n",
    "    url = 'example.db'\n",
    "    main(url)"
   ]
  },
  {
   "cell_type": "markdown",
   "id": "36faf29b-0264-4470-a0d4-52b6cf51c8ef",
   "metadata": {},
   "source": [
    "### 다른 파일 임포트 및 함수사용\n",
    "- 다른 파일을 import를 사용해서 불러와서 함수를 사용할 수 있다."
   ]
  },
  {
   "cell_type": "code",
   "execution_count": 17,
   "id": "f509fdda-9ece-44c3-a8f0-0b2724a4be77",
   "metadata": {},
   "outputs": [
    {
     "name": "stdout",
     "output_type": "stream",
     "text": [
      "단어갯수 :  5\n",
      "(시간측정(Elapsed): 0.27 초)\n"
     ]
    }
   ],
   "source": [
    "import contextlib\n",
    "from fun_class import step6\n",
    "import time\n",
    "\n",
    "@contextlib.contextmanager\n",
    "def opneReadOnly(fileName):\n",
    "\n",
    "\n",
    "    read_file = open(fileName, mode='r',encoding = 'utf-8')\n",
    "\n",
    "    yield read_file\n",
    "\n",
    "    read_file.close()\n",
    "\n",
    "def main(fileName):\n",
    "    with opneReadOnly(fileName) as file:\n",
    "        text = file.read()\n",
    "    \n",
    "    n=0\n",
    "    for word in text.split():\n",
    "        if word in ['하반기', '상반기']:\n",
    "            n += 1\n",
    "    print('단어갯수 : ',n)\n",
    "\n",
    "if __name__ == '__main__':\n",
    "    fileName = 'fun_class/data/news_article.txt'\n",
    "    with step6.timer():\n",
    "        # step6에서 timer라는 함수를 가져옴\n",
    "        main(fileName)\n",
    "        time.sleep(0.25)\n"
   ]
  }
 ],
 "metadata": {
  "kernelspec": {
   "display_name": "Python 3 (ipykernel)",
   "language": "python",
   "name": "python3"
  },
  "language_info": {
   "codemirror_mode": {
    "name": "ipython",
    "version": 3
   },
   "file_extension": ".py",
   "mimetype": "text/x-python",
   "name": "python",
   "nbconvert_exporter": "python",
   "pygments_lexer": "ipython3",
   "version": "3.9.12"
  }
 },
 "nbformat": 4,
 "nbformat_minor": 5
}

{
 "cells": [
  {
   "cell_type": "markdown",
   "metadata": {},
   "source": [
    "- 날짜\n",
    "- 수강생명"
   ]
  },
  {
   "cell_type": "code",
   "execution_count": 646,
   "metadata": {
    "_cell_guid": "b1076dfc-b9ad-4769-8c92-a6c4dae69d19",
    "_uuid": "8f2839f25d086af736a60e9eeb907d3b93b6e0e5",
    "execution": {
     "iopub.execute_input": "2022-07-08T07:53:51.350306Z",
     "iopub.status.busy": "2022-07-08T07:53:51.349936Z",
     "iopub.status.idle": "2022-07-08T07:53:51.358381Z",
     "shell.execute_reply": "2022-07-08T07:53:51.357215Z",
     "shell.execute_reply.started": "2022-07-08T07:53:51.350276Z"
    }
   },
   "outputs": [],
   "source": [
    "# This Python 3 environment comes with many helpful analytics libraries installed\n",
    "# It is defined by the kaggle/python Docker image: https://github.com/kaggle/docker-python\n",
    "# For example, here's several helpful packages to load\n",
    "\n",
    "import numpy as np # linear algebra\n",
    "import pandas as pd # data processing, CSV file I/O (e.g. pd.read_csv)\n",
    "\n",
    "# Input data files are available in the read-only \"../input/\" directory\n",
    "# For example, running this (by clicking run or pressing Shift+Enter) will list all files under the input directory\n",
    "\n",
    "import os\n",
    "for dirname, _, filenames in os.walk('/kaggle/input'):\n",
    "    for filename in filenames:\n",
    "        print(os.path.join(dirname, filename))\n",
    "\n",
    "# You can write up to 20GB to the current directory (/kaggle/working/) that gets preserved as output when you create a version using \"Save & Run All\" \n",
    "# You can also write temporary files to /kaggle/temp/, but they won't be saved outside of the current session"
   ]
  },
  {
   "cell_type": "markdown",
   "metadata": {},
   "source": [
    "# step 1. 라이브러리 불러오기"
   ]
  },
  {
   "cell_type": "code",
   "execution_count": 647,
   "metadata": {
    "execution": {
     "iopub.execute_input": "2022-07-08T07:53:51.854607Z",
     "iopub.status.busy": "2022-07-08T07:53:51.853946Z",
     "iopub.status.idle": "2022-07-08T07:53:51.861781Z",
     "shell.execute_reply": "2022-07-08T07:53:51.860873Z",
     "shell.execute_reply.started": "2022-07-08T07:53:51.854573Z"
    }
   },
   "outputs": [],
   "source": [
    "import numpy as np\n",
    "import pandas as pd\n",
    "import seaborn as sns\n",
    "import matplotlib.pyplot as plt\n",
    "import matplotlib as mpl\n",
    "import sklearn \n",
    "\n",
    "print(\"pandas version :\", pd.__version__)\n",
    "print(\"numpy version :\", np.__version__)\n",
    "print(\"seaborn version :\", sns.__version__)\n",
    "print(\"matplotlib version :\", mpl.__version__)\n",
    "print(\"sklearn version :\", sklearn.__version__)"
   ]
  },
  {
   "cell_type": "code",
   "execution_count": 648,
   "metadata": {
    "execution": {
     "iopub.execute_input": "2022-07-08T07:53:52.367491Z",
     "iopub.status.busy": "2022-07-08T07:53:52.366495Z",
     "iopub.status.idle": "2022-07-08T07:53:52.407832Z",
     "shell.execute_reply": "2022-07-08T07:53:52.406755Z",
     "shell.execute_reply.started": "2022-07-08T07:53:52.367455Z"
    }
   },
   "outputs": [],
   "source": [
    "DATA_PATH = \"/kaggle/input/bike-sharing-demand/\"\n",
    "train = pd.read_csv(DATA_PATH + \"train.csv\")\n",
    "test = pd.read_csv(DATA_PATH +\"test.csv\")\n",
    "submission = pd.read_csv(DATA_PATH + 'sampleSubmission.csv')\n",
    "train.shape, test.shape, "
   ]
  },
  {
   "cell_type": "code",
   "execution_count": 649,
   "metadata": {
    "execution": {
     "iopub.execute_input": "2022-07-08T07:53:52.822726Z",
     "iopub.status.busy": "2022-07-08T07:53:52.821739Z",
     "iopub.status.idle": "2022-07-08T07:53:52.835570Z",
     "shell.execute_reply": "2022-07-08T07:53:52.834853Z",
     "shell.execute_reply.started": "2022-07-08T07:53:52.822687Z"
    }
   },
   "outputs": [],
   "source": [
    "train.info()"
   ]
  },
  {
   "cell_type": "code",
   "execution_count": 650,
   "metadata": {
    "execution": {
     "iopub.execute_input": "2022-07-08T07:53:53.280049Z",
     "iopub.status.busy": "2022-07-08T07:53:53.279096Z",
     "iopub.status.idle": "2022-07-08T07:53:53.295052Z",
     "shell.execute_reply": "2022-07-08T07:53:53.293909Z",
     "shell.execute_reply.started": "2022-07-08T07:53:53.280000Z"
    }
   },
   "outputs": [],
   "source": [
    "test.info()"
   ]
  },
  {
   "cell_type": "markdown",
   "metadata": {},
   "source": [
    "## Step2. 탐색적 자료분석\n",
    "- 시각화\n",
    "    - 날짜 기반\n",
    "    - train 데이터를 다이렉트로 변화를 주면 전처리를 할때 헷갈림\n",
    "        - 복제본을 만든다\n",
    "    - 데이터셋 작음\n",
    "        - 전체를 쓴다\n",
    "        - 전체에서 샘플링"
   ]
  },
  {
   "cell_type": "code",
   "execution_count": 651,
   "metadata": {
    "execution": {
     "iopub.execute_input": "2022-07-08T07:53:53.736256Z",
     "iopub.status.busy": "2022-07-08T07:53:53.735306Z",
     "iopub.status.idle": "2022-07-08T07:53:53.752308Z",
     "shell.execute_reply": "2022-07-08T07:53:53.751230Z",
     "shell.execute_reply.started": "2022-07-08T07:53:53.736217Z"
    }
   },
   "outputs": [],
   "source": [
    "temp_df=train.copy()\n",
    "temp_df.info()"
   ]
  },
  {
   "cell_type": "markdown",
   "metadata": {},
   "source": [
    "- 시각화를 위한 날짜 데이터 처리 \n",
    "    - 연도, 월, 일자 ,분, 초"
   ]
  },
  {
   "cell_type": "markdown",
   "metadata": {},
   "source": [
    "### 시간 데이터 전처리 방법 1\n",
    "- 퍼포먼스 벤치마킹"
   ]
  },
  {
   "cell_type": "code",
   "execution_count": 652,
   "metadata": {
    "execution": {
     "iopub.execute_input": "2022-07-08T07:53:54.227397Z",
     "iopub.status.busy": "2022-07-08T07:53:54.226418Z",
     "iopub.status.idle": "2022-07-08T07:53:54.235388Z",
     "shell.execute_reply": "2022-07-08T07:53:54.234325Z",
     "shell.execute_reply.started": "2022-07-08T07:53:54.227358Z"
    }
   },
   "outputs": [],
   "source": [
    "temp_df['datetime'][:5]"
   ]
  },
  {
   "cell_type": "code",
   "execution_count": 653,
   "metadata": {
    "execution": {
     "iopub.execute_input": "2022-07-08T07:53:54.704926Z",
     "iopub.status.busy": "2022-07-08T07:53:54.704551Z",
     "iopub.status.idle": "2022-07-08T07:53:54.710235Z",
     "shell.execute_reply": "2022-07-08T07:53:54.709447Z",
     "shell.execute_reply.started": "2022-07-08T07:53:54.704894Z"
    }
   },
   "outputs": [],
   "source": [
    "print(temp_df['datetime'][200].split()[1])\n",
    "print(temp_df['datetime'][200].split()[1].split(':')[0])"
   ]
  },
  {
   "cell_type": "code",
   "execution_count": 654,
   "metadata": {
    "execution": {
     "iopub.execute_input": "2022-07-08T07:53:55.133996Z",
     "iopub.status.busy": "2022-07-08T07:53:55.133624Z",
     "iopub.status.idle": "2022-07-08T07:53:55.141772Z",
     "shell.execute_reply": "2022-07-08T07:53:55.140676Z",
     "shell.execute_reply.started": "2022-07-08T07:53:55.133964Z"
    }
   },
   "outputs": [],
   "source": [
    "year = temp_df['datetime'][100].split()[0].split('-')[0]\n",
    "month = temp_df['datetime'][100].split()[0].split('-')[1]\n",
    "day = temp_df['datetime'][100].split()[0].split('-')[2]\n",
    "year, month, day"
   ]
  },
  {
   "cell_type": "code",
   "execution_count": 655,
   "metadata": {
    "execution": {
     "iopub.execute_input": "2022-07-08T07:53:55.549853Z",
     "iopub.status.busy": "2022-07-08T07:53:55.548756Z",
     "iopub.status.idle": "2022-07-08T07:53:55.557233Z",
     "shell.execute_reply": "2022-07-08T07:53:55.556219Z",
     "shell.execute_reply.started": "2022-07-08T07:53:55.549788Z"
    }
   },
   "outputs": [],
   "source": [
    "hour = temp_df['datetime'][100].split()[1].split(':')[0]\n",
    "minutes = time = temp_df['datetime'][100].split()[1].split(':')[1]\n",
    "seconds = time = temp_df['datetime'][100].split()[1].split(':')[2]\n",
    "hour, minutes, seconds"
   ]
  },
  {
   "cell_type": "code",
   "execution_count": 656,
   "metadata": {
    "execution": {
     "iopub.execute_input": "2022-07-08T07:53:55.954940Z",
     "iopub.status.busy": "2022-07-08T07:53:55.954364Z",
     "iopub.status.idle": "2022-07-08T07:53:56.011210Z",
     "shell.execute_reply": "2022-07-08T07:53:56.010353Z",
     "shell.execute_reply.started": "2022-07-08T07:53:55.954906Z"
    }
   },
   "outputs": [],
   "source": [
    "import time\n",
    "import datetime\n",
    "\n",
    "# 시간테스트\n",
    "start_time = time.time()\n",
    "\n",
    "temp_df['date'] = temp_df['datetime'].apply(lambda x: x.split()[0])\n",
    "temp_df['year'] = temp_df['datetime'].apply(lambda x: x.split()[0].split('-')[0]) \n",
    "temp_df['month'] = temp_df['datetime'].apply(lambda x: x.split()[0].split('-')[1]) \n",
    "temp_df['day'] = temp_df['datetime'].apply(lambda x: x.split()[0].split('-')[2]) \n",
    "temp_df['hour'] = temp_df['datetime'].apply(lambda x: x.split()[1].split(':')[0]) \n",
    "temp_df['minutes'] = temp_df['datetime'].apply(lambda x: x.split()[1].split(':')[1]) \n",
    "temp_df['seconds'] = temp_df['datetime'].apply(lambda x: x.split()[1].split(':')[2]) \n",
    "\n",
    "end_time = time.time()\n",
    "lambda_ctime = end_time - start_time\n",
    "print(\"실행시간 (second) -> \", np.round(lambda_ctime,3))\n",
    "\n",
    "#temp_df[['year','month','day','hour','minutes','seconds']]"
   ]
  },
  {
   "cell_type": "markdown",
   "metadata": {},
   "source": [
    "### 시간 데이터 전처리 방법 2\n",
    "- 이 방법의 시간이 더 단축된다"
   ]
  },
  {
   "cell_type": "code",
   "execution_count": 657,
   "metadata": {
    "execution": {
     "iopub.execute_input": "2022-07-08T07:53:56.382605Z",
     "iopub.status.busy": "2022-07-08T07:53:56.382058Z",
     "iopub.status.idle": "2022-07-08T07:53:56.397371Z",
     "shell.execute_reply": "2022-07-08T07:53:56.396070Z",
     "shell.execute_reply.started": "2022-07-08T07:53:56.382573Z"
    }
   },
   "outputs": [],
   "source": [
    "temp_df['date'] = pd.to_datetime(temp_df['datetime'])\n",
    "temp_df['year'] = temp_df['date'].dt.year\n",
    "temp_df['year']"
   ]
  },
  {
   "cell_type": "code",
   "execution_count": 658,
   "metadata": {
    "execution": {
     "iopub.execute_input": "2022-07-08T07:53:56.783402Z",
     "iopub.status.busy": "2022-07-08T07:53:56.782852Z",
     "iopub.status.idle": "2022-07-08T07:53:56.801228Z",
     "shell.execute_reply": "2022-07-08T07:53:56.800436Z",
     "shell.execute_reply.started": "2022-07-08T07:53:56.783371Z"
    }
   },
   "outputs": [],
   "source": [
    "# 시간테스트\n",
    "start_time = time.time()\n",
    "\n",
    "temp_df['date'] = pd.to_datetime(temp_df['datetime'])\n",
    "temp_df['year'] = temp_df['date'].dt.year\n",
    "temp_df['month'] = temp_df['date'].dt.month\n",
    "temp_df['day'] = temp_df['date'].dt.day\n",
    "temp_df['hour'] = temp_df['date'].dt.hour\n",
    "end_time = time.time()\n",
    "\n",
    "dt_ctime = end_time - start_time\n",
    "print(\"실행시간 (second) -> \", np.round(dt_ctime,3))\n",
    "\n",
    "#temp_df[['year','month','day','hour']]"
   ]
  },
  {
   "cell_type": "code",
   "execution_count": 659,
   "metadata": {
    "execution": {
     "iopub.execute_input": "2022-07-08T07:53:57.174622Z",
     "iopub.status.busy": "2022-07-08T07:53:57.173938Z",
     "iopub.status.idle": "2022-07-08T07:53:57.182487Z",
     "shell.execute_reply": "2022-07-08T07:53:57.181717Z",
     "shell.execute_reply.started": "2022-07-08T07:53:57.174587Z"
    }
   },
   "outputs": [],
   "source": [
    "temp_df['date']"
   ]
  },
  {
   "cell_type": "markdown",
   "metadata": {},
   "source": [
    "- 요일 추출"
   ]
  },
  {
   "cell_type": "code",
   "execution_count": 660,
   "metadata": {
    "execution": {
     "iopub.execute_input": "2022-07-08T07:53:57.549498Z",
     "iopub.status.busy": "2022-07-08T07:53:57.548769Z",
     "iopub.status.idle": "2022-07-08T07:53:57.561702Z",
     "shell.execute_reply": "2022-07-08T07:53:57.560658Z",
     "shell.execute_reply.started": "2022-07-08T07:53:57.549464Z"
    }
   },
   "outputs": [],
   "source": [
    "temp_df['weekday'] = temp_df['date'].dt.day_name()\n",
    "temp_df['weekday']"
   ]
  },
  {
   "cell_type": "code",
   "execution_count": 661,
   "metadata": {
    "execution": {
     "iopub.execute_input": "2022-07-08T07:53:57.913841Z",
     "iopub.status.busy": "2022-07-08T07:53:57.912825Z",
     "iopub.status.idle": "2022-07-08T07:53:57.924253Z",
     "shell.execute_reply": "2022-07-08T07:53:57.923429Z",
     "shell.execute_reply.started": "2022-07-08T07:53:57.913788Z"
    }
   },
   "outputs": [],
   "source": [
    "# 딕셔너리 형태\n",
    "temp_df['season'] = temp_df['season'].map({\n",
    "    1:'Spring',\n",
    "    2:'Summer',\n",
    "    3:'Fall',\n",
    "    4:'Winter'\n",
    "})\n",
    "temp_df['season']"
   ]
  },
  {
   "cell_type": "code",
   "execution_count": 662,
   "metadata": {
    "execution": {
     "iopub.execute_input": "2022-07-08T07:53:58.277516Z",
     "iopub.status.busy": "2022-07-08T07:53:58.276862Z",
     "iopub.status.idle": "2022-07-08T07:53:58.287138Z",
     "shell.execute_reply": "2022-07-08T07:53:58.286024Z",
     "shell.execute_reply.started": "2022-07-08T07:53:58.277484Z"
    }
   },
   "outputs": [],
   "source": [
    "temp_df['weather'] = temp_df['weather'].map({\n",
    "    1 : 'Clear',\n",
    "    2 : 'Mist',\n",
    "    3 : 'Light Snow,Rain',\n",
    "    4 : 'Heavy Snow,Rain'\n",
    "})\n",
    "temp_df['weather']"
   ]
  },
  {
   "cell_type": "code",
   "execution_count": 663,
   "metadata": {
    "execution": {
     "iopub.execute_input": "2022-07-08T07:53:58.695552Z",
     "iopub.status.busy": "2022-07-08T07:53:58.695196Z",
     "iopub.status.idle": "2022-07-08T07:53:58.727845Z",
     "shell.execute_reply": "2022-07-08T07:53:58.726885Z",
     "shell.execute_reply.started": "2022-07-08T07:53:58.695524Z"
    }
   },
   "outputs": [],
   "source": [
    "temp_df.drop(['minutes'], axis = 1)\n",
    "temp_df.drop(['seconds'], axis = 1)"
   ]
  },
  {
   "cell_type": "markdown",
   "metadata": {},
   "source": [
    "## Step 4. 데이터시각화\n",
    "- 수치를 예측하는 대회\n",
    "- 종속변수를 시각화\n",
    "- 분포 확인 후 로그변환을 줄지 안줄지 결정 "
   ]
  },
  {
   "cell_type": "code",
   "execution_count": 664,
   "metadata": {
    "execution": {
     "iopub.execute_input": "2022-07-08T07:53:59.096589Z",
     "iopub.status.busy": "2022-07-08T07:53:59.096220Z",
     "iopub.status.idle": "2022-07-08T07:53:59.537528Z",
     "shell.execute_reply": "2022-07-08T07:53:59.536768Z",
     "shell.execute_reply.started": "2022-07-08T07:53:59.096558Z"
    }
   },
   "outputs": [],
   "source": [
    "fig, ax = plt.subplots(nrows = 1, ncols = 2)\n",
    "\n",
    "\n",
    "sns.histplot(train['count'] ,ax = ax[0])\n",
    "sns.histplot(np.log(train['count']) ,ax = ax[1])\n",
    "\n",
    "# 옵션제목\n",
    "ax[0].set_title('Normal Graph')\n",
    "ax[1].set_title('log Graph')\n",
    "\n",
    "plt.show()"
   ]
  },
  {
   "cell_type": "markdown",
   "metadata": {},
   "source": [
    "- 막대그래프\n",
    "    - year, count\n",
    "    - mount, count\n",
    "    - day,count\n",
    "    - hour, count\n",
    "    - 타이틀"
   ]
  },
  {
   "cell_type": "code",
   "execution_count": 665,
   "metadata": {
    "execution": {
     "iopub.execute_input": "2022-07-08T07:53:59.539669Z",
     "iopub.status.busy": "2022-07-08T07:53:59.538856Z",
     "iopub.status.idle": "2022-07-08T07:54:02.117703Z",
     "shell.execute_reply": "2022-07-08T07:54:02.116496Z",
     "shell.execute_reply.started": "2022-07-08T07:53:59.539634Z"
    }
   },
   "outputs": [],
   "source": [
    "fig, ax = plt.subplots(nrows = 2, ncols = 2)\n",
    "\n",
    "## 전체 그래프 기본설정\n",
    "# 막대사이의 간격 \n",
    "fig.tight_layout()\n",
    "\n",
    "#  전체 그래프 사이즈 관리\n",
    "fig.set_size_inches(12,8)\n",
    "\n",
    "## 각 개별 그래프 입력\n",
    "sns.barplot(x = 'year', y = 'count', data = temp_df, ax=ax[0,0])\n",
    "sns.barplot(x = 'month',y = 'count', data = temp_df, ax=ax[0,1])\n",
    "sns.barplot(x = 'day', y = 'count', data = temp_df, ax=ax[1,0])\n",
    "sns.barplot(x = 'hour', y = 'count', data = temp_df, ax=ax[1,1])\n",
    "\n",
    "# 디테일한 옵션\n",
    "ax[0, 0].set_title(\"Rental Amounts by Year\")\n",
    "ax[0, 1].set_title(\"Rental Amounts by month\")\n",
    "ax[1, 0].set_title(\"Rental Amounts by day\")\n",
    "ax[1, 1].set_title(\"Rental Amounts by hour\")\n",
    "\n",
    "ax[0,0].tick_params(axis='x',labelrotation=90)\n",
    "plt.show()"
   ]
  },
  {
   "cell_type": "markdown",
   "metadata": {},
   "source": [
    "- boxplot\n",
    "    - season,count\n",
    "    - weather, count\n",
    "    - holiday, count\n",
    "    - workingday, count "
   ]
  },
  {
   "cell_type": "code",
   "execution_count": 666,
   "metadata": {
    "execution": {
     "iopub.execute_input": "2022-07-08T07:54:02.119975Z",
     "iopub.status.busy": "2022-07-08T07:54:02.119553Z",
     "iopub.status.idle": "2022-07-08T07:54:02.704184Z",
     "shell.execute_reply": "2022-07-08T07:54:02.703093Z",
     "shell.execute_reply.started": "2022-07-08T07:54:02.119942Z"
    }
   },
   "outputs": [],
   "source": [
    "fig, ax = plt.subplots(nrows = 2, ncols = 2)\n",
    "\n",
    "## 전체 그래프 기본설정\n",
    "# 막대사이의 간격 \n",
    "fig.tight_layout()\n",
    "\n",
    "#  전체 그래프 사이즈 관리\n",
    "fig.set_size_inches(12,8)\n",
    "\n",
    "## 각 개별 그래프 입력\n",
    "sns.boxplot(x = 'season', y = 'count', data = temp_df, ax=ax[0,0])\n",
    "sns.boxplot(x = 'weather',y = 'count', data = temp_df, ax=ax[0,1])\n",
    "sns.boxplot(x = 'holiday', y = 'count', data = temp_df, ax=ax[1,0])\n",
    "sns.boxplot(x = 'workingday', y = 'count', data = temp_df, ax=ax[1,1])\n",
    "\n",
    "# 디테일한 옵션\n",
    "ax[0, 0].set_title(\"Rental Amounts by season\")\n",
    "ax[0, 1].set_title(\"Rental Amounts by weather\")\n",
    "ax[1, 0].set_title(\"Rental Amounts by holiday\")\n",
    "ax[1, 1].set_title(\"Rental Amounts by walkingday\")\n",
    "\n",
    "ax[0,1].tick_params(axis='x',labelrotation=10)\n",
    "plt.show()"
   ]
  },
  {
   "cell_type": "markdown",
   "metadata": {},
   "source": [
    "- 포인트플랏\n",
    "    - 5개 행 그래프\n",
    "        - hue = workingday, holiday, weekday, season, weather\n",
    "    - 5개 그래프를 한 이미지로 그리시오"
   ]
  },
  {
   "cell_type": "code",
   "execution_count": 667,
   "metadata": {
    "execution": {
     "iopub.execute_input": "2022-07-08T07:54:02.707833Z",
     "iopub.status.busy": "2022-07-08T07:54:02.707377Z",
     "iopub.status.idle": "2022-07-08T07:54:14.842760Z",
     "shell.execute_reply": "2022-07-08T07:54:14.841542Z",
     "shell.execute_reply.started": "2022-07-08T07:54:02.707779Z"
    }
   },
   "outputs": [],
   "source": [
    "fig, ax = plt.subplots(nrows = 5)\n",
    "\n",
    "## 전체 그래프 기본설정\n",
    "#  전체 그래프 사이즈 관리\n",
    "fig.set_size_inches(12,18)\n",
    "\n",
    "## 각 개별 그래프 입력\n",
    "sns.pointplot(x = 'hour', y ='count', hue = 'workingday', data = temp_df, ax=ax[0])\n",
    "sns.pointplot(x = 'hour', y ='count', hue = 'holiday', data = temp_df, ax=ax[1])\n",
    "sns.pointplot(x = 'hour', y ='count', hue = 'weekday', data = temp_df, ax=ax[2])\n",
    "sns.pointplot(x = 'hour', y ='count', hue = 'season', data = temp_df, ax=ax[3])\n",
    "sns.pointplot(x = 'hour', y ='count', hue = 'weather', data = temp_df, ax=ax[4])\n",
    "\n",
    "# 디테일한 옵션\n",
    "ax[3].set_title(\"Rental Amounts by season\")\n",
    "ax[4].set_title(\"Rental Amounts by weather\")\n",
    "ax[1].set_title(\"Rental Amounts by holiday\")\n",
    "ax[0].set_title(\"Rental Amounts by walkingday\")\n",
    "ax[2].set_title(\"Rental Amounts by weekday\")\n",
    "\n",
    "plt.show()"
   ]
  },
  {
   "cell_type": "markdown",
   "metadata": {},
   "source": [
    "- 회귀선을 포함한 산점도 그래프\n",
    "- 총 4개의 그래프"
   ]
  },
  {
   "cell_type": "code",
   "execution_count": 668,
   "metadata": {
    "execution": {
     "iopub.execute_input": "2022-07-08T07:54:14.846527Z",
     "iopub.status.busy": "2022-07-08T07:54:14.845907Z",
     "iopub.status.idle": "2022-07-08T07:54:14.860353Z",
     "shell.execute_reply": "2022-07-08T07:54:14.859083Z",
     "shell.execute_reply.started": "2022-07-08T07:54:14.846492Z"
    }
   },
   "outputs": [],
   "source": [
    "test.info()"
   ]
  },
  {
   "cell_type": "code",
   "execution_count": 669,
   "metadata": {
    "execution": {
     "iopub.execute_input": "2022-07-08T07:54:14.862450Z",
     "iopub.status.busy": "2022-07-08T07:54:14.862015Z",
     "iopub.status.idle": "2022-07-08T07:54:18.113127Z",
     "shell.execute_reply": "2022-07-08T07:54:18.112191Z",
     "shell.execute_reply.started": "2022-07-08T07:54:14.862406Z"
    }
   },
   "outputs": [],
   "source": [
    "fig, ax = plt.subplots(nrows = 2, ncols = 2)\n",
    "\n",
    "fig.tight_layout()\n",
    "fig.set_size_inches(12,10)\n",
    "\n",
    "sns.regplot(x='temp', y='count', data = temp_df, scatter_kws = {'alpha':0.2}, line_kws={'color':'blue'}, ax=ax[0,0])\n",
    "sns.regplot(x='atemp', y='count', data = temp_df, scatter_kws = {'alpha':0.2}, line_kws={'color':'blue'}, ax=ax[0,1])\n",
    "sns.regplot(x='humidity', y='count', data = temp_df, scatter_kws = {'alpha':0.2}, line_kws={'color':'blue'}, ax=ax[1,0])\n",
    "sns.regplot(x='windspeed', y='count', data = temp_df, scatter_kws = {'alpha':0.2}, line_kws={'color':'blue'}, ax=ax[1,1])\n",
    "\n",
    "plt.show()"
   ]
  },
  {
   "cell_type": "markdown",
   "metadata": {},
   "source": [
    "- 히트맵 그래프 그리기\n",
    "- 상관계수\n",
    "    - 0~0.2 : 두 변수사이의 상관관계는 없다\n",
    "    - 0.2~1 : 값이 커질수록 두 변수간 상관관계는 크다"
   ]
  },
  {
   "cell_type": "code",
   "execution_count": 670,
   "metadata": {
    "execution": {
     "iopub.execute_input": "2022-07-08T07:54:18.114841Z",
     "iopub.status.busy": "2022-07-08T07:54:18.114507Z",
     "iopub.status.idle": "2022-07-08T07:54:18.131829Z",
     "shell.execute_reply": "2022-07-08T07:54:18.130843Z",
     "shell.execute_reply.started": "2022-07-08T07:54:18.114782Z"
    }
   },
   "outputs": [],
   "source": [
    "corrMat = temp_df[['temp', 'atemp', 'humidity','windspeed','count']].corr()\n",
    "corrMat"
   ]
  },
  {
   "cell_type": "code",
   "execution_count": 671,
   "metadata": {
    "execution": {
     "iopub.execute_input": "2022-07-08T07:54:18.133527Z",
     "iopub.status.busy": "2022-07-08T07:54:18.133231Z",
     "iopub.status.idle": "2022-07-08T07:54:18.414134Z",
     "shell.execute_reply": "2022-07-08T07:54:18.413380Z",
     "shell.execute_reply.started": "2022-07-08T07:54:18.133499Z"
    }
   },
   "outputs": [],
   "source": [
    "sns.heatmap(corrMat, annot = True)"
   ]
  },
  {
   "cell_type": "markdown",
   "metadata": {},
   "source": [
    "## step 3. 데이터 전처리 \n",
    "- 1. train데이터의 causl, registered 제거\n",
    "- 2. 날짜데이터 처리\n",
    "- 3. season 컬럼 처리 필요(숫자를 문자로 바꾸자)\n",
    "    - 인코딩 변환\n",
    "- 4. weather 컬럼 처리 필요(숫자를 문자로 바꾸자)\n",
    "    - 인코딩 변환\n",
    "- 5. month, day 삭제\n",
    "    - month는 season이랑 비슷\n",
    "    - day는 holiday와 working와 비슷\n",
    "- 6. weather=4인 데이터는 삭제(이상치)\n",
    "- 7. windspeed 컬럼 삭제(0의 값이 많은데 이유를 몰라서)\n",
    "- 8. temp, atemp 중 하나 삭제(옵션)\n",
    "- 9. 모든 숫자를 인코딩(원-핫 인코딩)"
   ]
  },
  {
   "cell_type": "markdown",
   "metadata": {},
   "source": [
    "### 1. train데이터의 causl, registered 제거"
   ]
  },
  {
   "cell_type": "code",
   "execution_count": 672,
   "metadata": {
    "execution": {
     "iopub.execute_input": "2022-07-08T07:54:18.415709Z",
     "iopub.status.busy": "2022-07-08T07:54:18.415380Z",
     "iopub.status.idle": "2022-07-08T07:54:18.425006Z",
     "shell.execute_reply": "2022-07-08T07:54:18.424116Z",
     "shell.execute_reply.started": "2022-07-08T07:54:18.415680Z"
    }
   },
   "outputs": [],
   "source": [
    "train = train.drop(['casual'], axis = 1)\n",
    "train = train.drop(['registered'], axis = 1)\n",
    "train = train.drop(['windspeed'], axis = 1)"
   ]
  },
  {
   "cell_type": "code",
   "execution_count": 673,
   "metadata": {
    "execution": {
     "iopub.execute_input": "2022-07-08T07:54:18.427282Z",
     "iopub.status.busy": "2022-07-08T07:54:18.426713Z",
     "iopub.status.idle": "2022-07-08T07:54:18.436867Z",
     "shell.execute_reply": "2022-07-08T07:54:18.435942Z",
     "shell.execute_reply.started": "2022-07-08T07:54:18.427240Z"
    }
   },
   "outputs": [],
   "source": [
    "train.shape, test.shape"
   ]
  },
  {
   "cell_type": "markdown",
   "metadata": {},
   "source": [
    "## weather 컬럼지우기\n",
    "- 4인 데이터는 삭제"
   ]
  },
  {
   "cell_type": "code",
   "execution_count": 674,
   "metadata": {
    "execution": {
     "iopub.execute_input": "2022-07-08T07:54:18.440768Z",
     "iopub.status.busy": "2022-07-08T07:54:18.440485Z",
     "iopub.status.idle": "2022-07-08T07:54:18.454121Z",
     "shell.execute_reply": "2022-07-08T07:54:18.453352Z",
     "shell.execute_reply.started": "2022-07-08T07:54:18.440741Z"
    }
   },
   "outputs": [],
   "source": [
    "train = train[train['weather'] != 4].reset_index(drop=True)\n",
    "train.shape"
   ]
  },
  {
   "cell_type": "markdown",
   "metadata": {},
   "source": [
    "### 데이터 합치기\n",
    "- train, test 데이터합치기"
   ]
  },
  {
   "cell_type": "code",
   "execution_count": 675,
   "metadata": {
    "execution": {
     "iopub.execute_input": "2022-07-08T07:54:18.455833Z",
     "iopub.status.busy": "2022-07-08T07:54:18.455324Z",
     "iopub.status.idle": "2022-07-08T07:54:18.474850Z",
     "shell.execute_reply": "2022-07-08T07:54:18.473888Z",
     "shell.execute_reply.started": "2022-07-08T07:54:18.455781Z"
    }
   },
   "outputs": [],
   "source": [
    "all_data = pd.concat([train, test], ignore_index= True)\n",
    "all_data.info()"
   ]
  },
  {
   "cell_type": "markdown",
   "metadata": {},
   "source": [
    "### 2, 5. 날짜 데이터 처리 "
   ]
  },
  {
   "cell_type": "code",
   "execution_count": 676,
   "metadata": {
    "execution": {
     "iopub.execute_input": "2022-07-08T07:54:18.477365Z",
     "iopub.status.busy": "2022-07-08T07:54:18.476344Z",
     "iopub.status.idle": "2022-07-08T07:54:18.499697Z",
     "shell.execute_reply": "2022-07-08T07:54:18.498489Z",
     "shell.execute_reply.started": "2022-07-08T07:54:18.477324Z"
    }
   },
   "outputs": [],
   "source": [
    "all_data['date']=pd.to_datetime(all_data['datetime'])\n",
    "all_data['year']=all_data['date'].dt.year\n",
    "all_data['hour']=all_data['date'].dt.hour\n",
    "all_data['weekday'] = all_data['date'].dt.day_name()\n",
    "\n",
    "all_data.shape"
   ]
  },
  {
   "cell_type": "markdown",
   "metadata": {},
   "source": [
    "### 3. season 컬럼 처리 "
   ]
  },
  {
   "cell_type": "code",
   "execution_count": 677,
   "metadata": {
    "execution": {
     "iopub.execute_input": "2022-07-08T07:54:18.501227Z",
     "iopub.status.busy": "2022-07-08T07:54:18.500943Z",
     "iopub.status.idle": "2022-07-08T07:54:18.510379Z",
     "shell.execute_reply": "2022-07-08T07:54:18.509191Z",
     "shell.execute_reply.started": "2022-07-08T07:54:18.501198Z"
    }
   },
   "outputs": [],
   "source": [
    "all_data['season'] = all_data['season'].map({\n",
    "    1:'Spring',\n",
    "    2:'Summer',\n",
    "    3:'Fall',\n",
    "    4:'Winter'\n",
    "})\n",
    "all_data.shape"
   ]
  },
  {
   "cell_type": "code",
   "execution_count": 678,
   "metadata": {
    "execution": {
     "iopub.execute_input": "2022-07-08T07:54:18.513884Z",
     "iopub.status.busy": "2022-07-08T07:54:18.511940Z",
     "iopub.status.idle": "2022-07-08T07:54:18.523710Z",
     "shell.execute_reply": "2022-07-08T07:54:18.522890Z",
     "shell.execute_reply.started": "2022-07-08T07:54:18.513852Z"
    }
   },
   "outputs": [],
   "source": [
    "all_data['season']"
   ]
  },
  {
   "cell_type": "markdown",
   "metadata": {},
   "source": [
    "### 4. weather 컬럼처리"
   ]
  },
  {
   "cell_type": "code",
   "execution_count": 679,
   "metadata": {
    "execution": {
     "iopub.execute_input": "2022-07-08T07:54:18.525969Z",
     "iopub.status.busy": "2022-07-08T07:54:18.525156Z",
     "iopub.status.idle": "2022-07-08T07:54:18.533644Z",
     "shell.execute_reply": "2022-07-08T07:54:18.532654Z",
     "shell.execute_reply.started": "2022-07-08T07:54:18.525918Z"
    }
   },
   "outputs": [],
   "source": [
    "all_data['weather'] = all_data['weather'].map({\n",
    "    1 : 'Clear',\n",
    "    2 : 'Mist',\n",
    "    3 : 'Light Snow,Rain',\n",
    "    4 : 'Heavy Snow,Rain'\n",
    "})"
   ]
  },
  {
   "cell_type": "code",
   "execution_count": 680,
   "metadata": {
    "execution": {
     "iopub.execute_input": "2022-07-08T07:54:18.535998Z",
     "iopub.status.busy": "2022-07-08T07:54:18.535333Z",
     "iopub.status.idle": "2022-07-08T07:54:18.558052Z",
     "shell.execute_reply": "2022-07-08T07:54:18.556877Z",
     "shell.execute_reply.started": "2022-07-08T07:54:18.535957Z"
    }
   },
   "outputs": [],
   "source": [
    "all_data.info()"
   ]
  },
  {
   "cell_type": "markdown",
   "metadata": {},
   "source": [
    "### 6. 이상치삭제 \n",
    "- weather = 4 인 데이터 삭제"
   ]
  },
  {
   "cell_type": "code",
   "execution_count": 681,
   "metadata": {
    "execution": {
     "iopub.execute_input": "2022-07-08T07:54:18.560531Z",
     "iopub.status.busy": "2022-07-08T07:54:18.560129Z",
     "iopub.status.idle": "2022-07-08T07:54:18.568826Z",
     "shell.execute_reply": "2022-07-08T07:54:18.567927Z",
     "shell.execute_reply.started": "2022-07-08T07:54:18.560492Z"
    }
   },
   "outputs": [],
   "source": [
    "all_data['weather']"
   ]
  },
  {
   "cell_type": "markdown",
   "metadata": {},
   "source": [
    "- all_data에서 지우는것이 아니라 train데이터에서만 지워야함"
   ]
  },
  {
   "cell_type": "code",
   "execution_count": 682,
   "metadata": {
    "execution": {
     "iopub.execute_input": "2022-07-08T07:54:18.570308Z",
     "iopub.status.busy": "2022-07-08T07:54:18.569998Z",
     "iopub.status.idle": "2022-07-08T07:54:18.579590Z",
     "shell.execute_reply": "2022-07-08T07:54:18.578917Z",
     "shell.execute_reply.started": "2022-07-08T07:54:18.570282Z"
    }
   },
   "outputs": [],
   "source": [
    "#all_data = all_data[all_data['weather'] != 'Heavy Snow,Rain']\n",
    "#all_data.shape"
   ]
  },
  {
   "cell_type": "markdown",
   "metadata": {},
   "source": [
    "### 7. windspeed 컬럼 삭제"
   ]
  },
  {
   "cell_type": "code",
   "execution_count": 683,
   "metadata": {
    "execution": {
     "iopub.execute_input": "2022-07-08T07:54:18.581503Z",
     "iopub.status.busy": "2022-07-08T07:54:18.580787Z",
     "iopub.status.idle": "2022-07-08T07:54:18.597473Z",
     "shell.execute_reply": "2022-07-08T07:54:18.596175Z",
     "shell.execute_reply.started": "2022-07-08T07:54:18.581460Z"
    }
   },
   "outputs": [],
   "source": [
    "all_data = all_data.drop(['windspeed'], axis = 1)\n",
    "all_data.shape"
   ]
  },
  {
   "cell_type": "markdown",
   "metadata": {},
   "source": [
    "### date 컬럼 제거\n",
    "- 년도, 요일, 시간을 뽑아내서 필요가 없다."
   ]
  },
  {
   "cell_type": "code",
   "execution_count": 685,
   "metadata": {
    "execution": {
     "iopub.execute_input": "2022-07-08T07:54:18.611352Z",
     "iopub.status.busy": "2022-07-08T07:54:18.610958Z",
     "iopub.status.idle": "2022-07-08T07:54:18.623072Z",
     "shell.execute_reply": "2022-07-08T07:54:18.622032Z",
     "shell.execute_reply.started": "2022-07-08T07:54:18.611312Z"
    }
   },
   "outputs": [],
   "source": [
    "all_data = all_data.drop(['datetime','date'], axis = 1)\n",
    "all_data.shape"
   ]
  },
  {
   "cell_type": "markdown",
   "metadata": {},
   "source": [
    "### 원-핫 인코딩 "
   ]
  },
  {
   "cell_type": "code",
   "execution_count": 686,
   "metadata": {
    "execution": {
     "iopub.execute_input": "2022-07-08T07:54:18.624726Z",
     "iopub.status.busy": "2022-07-08T07:54:18.624292Z",
     "iopub.status.idle": "2022-07-08T07:54:18.647954Z",
     "shell.execute_reply": "2022-07-08T07:54:18.646851Z",
     "shell.execute_reply.started": "2022-07-08T07:54:18.624692Z"
    }
   },
   "outputs": [],
   "source": [
    "all_data = pd.get_dummies(all_data).reset_index(drop=True)\n",
    "all_data.shape"
   ]
  },
  {
   "cell_type": "code",
   "execution_count": 687,
   "metadata": {
    "execution": {
     "iopub.execute_input": "2022-07-08T07:54:18.649780Z",
     "iopub.status.busy": "2022-07-08T07:54:18.649104Z",
     "iopub.status.idle": "2022-07-08T07:54:18.662951Z",
     "shell.execute_reply": "2022-07-08T07:54:18.661707Z",
     "shell.execute_reply.started": "2022-07-08T07:54:18.649750Z"
    }
   },
   "outputs": [],
   "source": [
    "all_data.info()"
   ]
  },
  {
   "cell_type": "markdown",
   "metadata": {},
   "source": [
    "## 데이터셋 나누기\n",
    "- 훈련데이터와 테스트 데이터로 나누기\n",
    "- count = 타깃데이터 = 종속데이터\n",
    "    - 타깃데이터가 있으면 훈련데이터\n",
    "    - 타깃데이터가 없으면 테스트데이터"
   ]
  },
  {
   "cell_type": "code",
   "execution_count": 688,
   "metadata": {
    "execution": {
     "iopub.execute_input": "2022-07-08T07:54:18.665148Z",
     "iopub.status.busy": "2022-07-08T07:54:18.664791Z",
     "iopub.status.idle": "2022-07-08T07:54:18.678894Z",
     "shell.execute_reply": "2022-07-08T07:54:18.678077Z",
     "shell.execute_reply.started": "2022-07-08T07:54:18.665117Z"
    }
   },
   "outputs": [],
   "source": [
    "train = all_data[~pd.isnull(all_data['count'])] \n",
    "# ~ = not(!)\n",
    "test = all_data[pd.isnull(all_data['count'])]\n",
    "\n",
    "train.shape, test.shape"
   ]
  },
  {
   "cell_type": "markdown",
   "metadata": {},
   "source": [
    "### count 칼럼을 제거\n",
    "- 타깃 데이터만 y로 추출\n",
    "    - train, test count 컬럼제거"
   ]
  },
  {
   "cell_type": "code",
   "execution_count": 689,
   "metadata": {
    "execution": {
     "iopub.execute_input": "2022-07-08T07:54:18.681230Z",
     "iopub.status.busy": "2022-07-08T07:54:18.680173Z",
     "iopub.status.idle": "2022-07-08T07:54:18.691759Z",
     "shell.execute_reply": "2022-07-08T07:54:18.690651Z",
     "shell.execute_reply.started": "2022-07-08T07:54:18.681187Z"
    }
   },
   "outputs": [],
   "source": [
    "# 타깃값\n",
    "y = train['count']\n",
    "\n",
    "train = train.drop(['count'], axis = 1)\n",
    "test = test.drop(['count'], axis = 1)\n",
    "\n",
    "train.shape, test.shape"
   ]
  },
  {
   "cell_type": "markdown",
   "metadata": {},
   "source": [
    "## 모델 훈련 \n",
    "- LinearRegression 모형 학습"
   ]
  },
  {
   "cell_type": "code",
   "execution_count": 690,
   "metadata": {
    "execution": {
     "iopub.execute_input": "2022-07-08T07:54:18.693837Z",
     "iopub.status.busy": "2022-07-08T07:54:18.693398Z",
     "iopub.status.idle": "2022-07-08T07:54:18.731753Z",
     "shell.execute_reply": "2022-07-08T07:54:18.730366Z",
     "shell.execute_reply.started": "2022-07-08T07:54:18.693773Z"
    }
   },
   "outputs": [],
   "source": [
    "from sklearn.linear_model import LinearRegression\n",
    "# train_test_split\n",
    "# 하이퍼파라미터 튜닝\n",
    "# 은 각자 알아서 하기\n",
    "\n",
    "lr_model = LinearRegression()\n",
    "\n",
    "# 모형 학습전 로그변환\n",
    "log_y = np.log(y)\n",
    "lr_model.fit(train,log_y)\n",
    "\n",
    "# 모형 예측\n",
    "lr_preds = lr_model.predict(test)\n",
    "lr_preds[:10]"
   ]
  },
  {
   "cell_type": "markdown",
   "metadata": {},
   "source": [
    "## 모형 예측"
   ]
  },
  {
   "cell_type": "code",
   "execution_count": 691,
   "metadata": {
    "execution": {
     "iopub.execute_input": "2022-07-08T07:54:18.738913Z",
     "iopub.status.busy": "2022-07-08T07:54:18.738361Z",
     "iopub.status.idle": "2022-07-08T07:54:18.760606Z",
     "shell.execute_reply": "2022-07-08T07:54:18.759261Z",
     "shell.execute_reply.started": "2022-07-08T07:54:18.738866Z"
    }
   },
   "outputs": [],
   "source": [
    "# 지수 변환\n",
    "final_preds = np.exp(lr_preds)\n",
    "final_preds"
   ]
  },
  {
   "cell_type": "markdown",
   "metadata": {},
   "source": [
    "## 제출하기"
   ]
  },
  {
   "cell_type": "code",
   "execution_count": 692,
   "metadata": {
    "execution": {
     "iopub.execute_input": "2022-07-08T07:54:18.776688Z",
     "iopub.status.busy": "2022-07-08T07:54:18.776115Z",
     "iopub.status.idle": "2022-07-08T07:54:18.844283Z",
     "shell.execute_reply": "2022-07-08T07:54:18.843207Z",
     "shell.execute_reply.started": "2022-07-08T07:54:18.776641Z"
    }
   },
   "outputs": [],
   "source": [
    "submission['count'] = final_preds \n",
    "submission.to_csv('submission.csv', index=False)"
   ]
  },
  {
   "cell_type": "code",
   "execution_count": 693,
   "metadata": {
    "execution": {
     "iopub.execute_input": "2022-07-08T07:54:18.846101Z",
     "iopub.status.busy": "2022-07-08T07:54:18.845724Z",
     "iopub.status.idle": "2022-07-08T07:54:18.856864Z",
     "shell.execute_reply": "2022-07-08T07:54:18.855416Z",
     "shell.execute_reply.started": "2022-07-08T07:54:18.846068Z"
    }
   },
   "outputs": [],
   "source": [
    "submission.head()"
   ]
  }
 ],
 "metadata": {
  "kernelspec": {
   "display_name": "Python 3 (ipykernel)",
   "language": "python",
   "name": "python3"
  },
  "language_info": {
   "codemirror_mode": {
    "name": "ipython",
    "version": 3
   },
   "file_extension": ".py",
   "mimetype": "text/x-python",
   "name": "python",
   "nbconvert_exporter": "python",
   "pygments_lexer": "ipython3",
   "version": "3.9.12"
  }
 },
 "nbformat": 4,
 "nbformat_minor": 4
}

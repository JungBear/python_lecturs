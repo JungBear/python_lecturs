{
 "cells": [
  {
   "cell_type": "markdown",
   "metadata": {
    "id": "e4iHDF28gBCG"
   },
   "source": [
    "# 로지스틱 회귀\n",
    "- 선형회귀에서 출발\n",
    "- 이진 분류 문제 해결하기위해 사용\n",
    "- 클래스 확률 예측\n",
    "- 딥러닝에서도 사용"
   ]
  },
  {
   "cell_type": "markdown",
   "metadata": {
    "id": "zY2_qGI8gQ2s"
   },
   "source": [
    "## 117p\n",
    "- x가 사각형일 확률 30%\n",
    "- x가 삼각형일 확률 50%\n",
    "- x가 원일 확률 20% "
   ]
  },
  {
   "cell_type": "markdown",
   "metadata": {
    "id": "DqO8VKv9gzGM"
   },
   "source": [
    "## 데이터 불러오기\n",
    "- 종속변수(Y) = Species\n",
    "- 독립변수(X) = Weight, Length, Diagonal, Height, Width"
   ]
  },
  {
   "cell_type": "code",
   "execution_count": 14,
   "metadata": {
    "colab": {
     "base_uri": "https://localhost:8080/"
    },
    "id": "Dn958OIegrak",
    "outputId": "8f99e95c-6381-42e8-e67c-7df3f523b222"
   },
   "outputs": [
    {
     "name": "stdout",
     "output_type": "stream",
     "text": [
      "  Species  Weight  Length  Diagonal   Height   Width\n",
      "0   Bream   242.0    25.4      30.0  11.5200  4.0200\n",
      "1   Bream   290.0    26.3      31.2  12.4800  4.3056\n",
      "2   Bream   340.0    26.5      31.1  12.3778  4.6961\n",
      "3   Bream   363.0    29.0      33.5  12.7300  4.4555\n",
      "4   Bream   430.0    29.0      34.0  12.4440  5.1340\n"
     ]
    }
   ],
   "source": [
    "import pandas as pd\n",
    "\n",
    "fish = pd.read_csv('https://bit.ly/fish_csv_data')\n",
    "print(fish.head())"
   ]
  },
  {
   "cell_type": "markdown",
   "metadata": {
    "id": "lsM1vRW_hU4L"
   },
   "source": [
    "## 데이터 탐색\n",
    "- 종속변수부터 확인"
   ]
  },
  {
   "cell_type": "code",
   "execution_count": 15,
   "metadata": {
    "colab": {
     "base_uri": "https://localhost:8080/"
    },
    "id": "bRuB6IFEhZMU",
    "outputId": "27c4c727-e13a-4b33-f24f-3c9fa8c9a8f9"
   },
   "outputs": [
    {
     "name": "stdout",
     "output_type": "stream",
     "text": [
      "['Bream' 'Roach' 'Whitefish' 'Parkki' 'Perch' 'Pike' 'Smelt']\n"
     ]
    }
   ],
   "source": [
    "print(pd.unique(fish['Species']))\n",
    "# print(fish['Species'].value_counts())"
   ]
  },
  {
   "cell_type": "markdown",
   "metadata": {
    "id": "ll0WFdFjiO_L"
   },
   "source": [
    "## 데이터 가공"
   ]
  },
  {
   "cell_type": "code",
   "execution_count": 16,
   "metadata": {
    "colab": {
     "base_uri": "https://localhost:8080/"
    },
    "id": "PlvPbCniiRSb",
    "outputId": "9ca8a1e8-1b0a-4cda-fc40-217cb01d9ef3"
   },
   "outputs": [
    {
     "data": {
      "text/plain": [
       "(159, 5)"
      ]
     },
     "execution_count": 16,
     "metadata": {},
     "output_type": "execute_result"
    }
   ],
   "source": [
    "# pandas 데이터프레임에서 numpy 배열로 변환\n",
    "fish_input = fish[['Weight', 'Length', 'Diagonal', 'Height', 'Width']].to_numpy()\n",
    "fish_input.shape"
   ]
  },
  {
   "cell_type": "code",
   "execution_count": 17,
   "metadata": {
    "colab": {
     "base_uri": "https://localhost:8080/"
    },
    "id": "oVmyoO0-ind8",
    "outputId": "e220d419-0e43-42ed-ffce-4922713c7e3a"
   },
   "outputs": [
    {
     "name": "stdout",
     "output_type": "stream",
     "text": [
      "[[242.      25.4     30.      11.52     4.02  ]\n",
      " [290.      26.3     31.2     12.48     4.3056]\n",
      " [340.      26.5     31.1     12.3778   4.6961]\n",
      " [363.      29.      33.5     12.73     4.4555]\n",
      " [430.      29.      34.      12.444    5.134 ]]\n"
     ]
    }
   ],
   "source": [
    "print(fish_input[:5])"
   ]
  },
  {
   "cell_type": "markdown",
   "metadata": {
    "id": "TRQQfe1Diryz"
   },
   "source": [
    "- 종속변수, 타겟데이터, y도 2차원배열로 "
   ]
  },
  {
   "cell_type": "code",
   "execution_count": 18,
   "metadata": {
    "colab": {
     "base_uri": "https://localhost:8080/"
    },
    "id": "yqUlWSqgi2py",
    "outputId": "b7cf296e-8692-4569-c5bb-b441069185c3"
   },
   "outputs": [
    {
     "name": "stdout",
     "output_type": "stream",
     "text": [
      "(159,)\n",
      "['Bream' 'Bream' 'Bream' 'Bream' 'Bream']\n"
     ]
    }
   ],
   "source": [
    "fish_target = fish['Species'].to_numpy()\n",
    "print(fish_target.shape)\n",
    "print(fish_target[:5]) "
   ]
  },
  {
   "cell_type": "markdown",
   "metadata": {
    "id": "RZyyHybQjN9F"
   },
   "source": [
    "## 데이터 분리\n",
    "- 훈련데이터 테스트 데이터 분리"
   ]
  },
  {
   "cell_type": "code",
   "execution_count": 30,
   "metadata": {
    "id": "edD5Q9QYjGVr"
   },
   "outputs": [],
   "source": [
    "from sklearn.model_selection import train_test_split\n",
    "# 임의 샘플링\n",
    "train_input, test_input, train_target, test_target = train_test_split(\n",
    "    fish_input, fish_target, random_state=42)\n",
    "# 층화 샘플링 - 비율맞추기"
   ]
  },
  {
   "cell_type": "markdown",
   "metadata": {
    "id": "5i8A1jQkwMUR"
   },
   "source": [
    "## 데이터 전처리"
   ]
  },
  {
   "cell_type": "markdown",
   "metadata": {
    "id": "Aewe4r6Vj4nt"
   },
   "source": [
    "### 표준화 \n",
    "- 훈련 세트의 통계값으로 테스트 세트를 변환해야 한다\n",
    "- 데이터 가공\n",
    "  - 결측치를 훈련세트의 평균값으로 대체를 하는데\n",
    "테스트세트의 결측치는 테스트 세트의 평균값을 모르니  결측치를 대체하지 못한다.\n",
    "  - 그럴때는 훈련세트의 평균값을 넣어야한다.\n",
    "  - 원본데이터의 평균X\n",
    "  - 테스트세트의 평균과 훈련세트의 평균이 달라도 훈련세트의 평균을 넣어줘야 한다.\n",
    "- 데이터 누수(Data Leakage)\n",
    " - 훈련데이터 평균값 대치  (o)\n",
    " - 테스트데이터 평균값 대치(x)\n",
    " - 모든 데이터 평균값 대치 (x)"
   ]
  },
  {
   "cell_type": "code",
   "execution_count": 31,
   "metadata": {
    "id": "UjN1jm_yj60d"
   },
   "outputs": [],
   "source": [
    "from sklearn.preprocessing import StandardScaler\n",
    "ss = StandardScaler()\n",
    "ss.fit(train_input) # 훈련데이터\n",
    "#ss.fit(test_input)(X) <- 테스트데이터\n",
    "\n",
    "train_scaled = ss.transform(train_input)\n",
    "test_scaled = ss.transform(test_input)"
   ]
  },
  {
   "cell_type": "markdown",
   "metadata": {
    "id": "xMnGoZKNJPPO"
   },
   "source": [
    "## 모형 만들기 \n",
    "- k 최근접이웃 "
   ]
  },
  {
   "cell_type": "code",
   "execution_count": 32,
   "metadata": {
    "colab": {
     "base_uri": "https://localhost:8080/"
    },
    "id": "ML68LJcYJRYl",
    "outputId": "2e4a0929-acff-4fd3-ba8a-4ee96b3c9e4f"
   },
   "outputs": [
    {
     "name": "stdout",
     "output_type": "stream",
     "text": [
      "0.8907563025210085\n",
      "0.85\n"
     ]
    }
   ],
   "source": [
    "from sklearn.neighbors import KNeighborsClassifier\n",
    "kn = KNeighborsClassifier(n_neighbors=3)\n",
    "kn.fit(train_scaled, train_target)\n",
    "print(kn.score(train_scaled,train_target))\n",
    "print(kn.score(test_scaled, test_target))"
   ]
  },
  {
   "cell_type": "code",
   "execution_count": 34,
   "metadata": {
    "colab": {
     "base_uri": "https://localhost:8080/"
    },
    "id": "77qtYJLLJ7yn",
    "outputId": "e517baa9-38a4-4e46-da44-e4be6e43aa96"
   },
   "outputs": [
    {
     "name": "stdout",
     "output_type": "stream",
     "text": [
      "['Bream' 'Parkki' 'Perch' 'Pike' 'Roach' 'Smelt' 'Whitefish']\n"
     ]
    }
   ],
   "source": [
    "print(kn.classes_)"
   ]
  },
  {
   "cell_type": "markdown",
   "metadata": {
    "id": "nYhIl3kWKMvm"
   },
   "source": [
    "### 다중분류"
   ]
  },
  {
   "cell_type": "code",
   "execution_count": 35,
   "metadata": {
    "colab": {
     "base_uri": "https://localhost:8080/"
    },
    "id": "_d0rVY-YKH5u",
    "outputId": "4fb6f6e9-f654-4d23-e77f-0b48fdf6709f"
   },
   "outputs": [
    {
     "name": "stdout",
     "output_type": "stream",
     "text": [
      "['Perch' 'Smelt' 'Pike' 'Perch' 'Perch']\n"
     ]
    }
   ],
   "source": [
    "print(kn.predict(test_scaled[:5]))"
   ]
  },
  {
   "cell_type": "markdown",
   "metadata": {
    "id": "iaVoHyGgKRFc"
   },
   "source": [
    "### 5개 샘플에 대한 예측은 어떤 확률이냐 \n",
    "- proba"
   ]
  },
  {
   "cell_type": "code",
   "execution_count": 38,
   "metadata": {
    "colab": {
     "base_uri": "https://localhost:8080/"
    },
    "id": "qOoMM2ylKV-0",
    "outputId": "46a7d076-2b4a-4844-a017-ce9aa317e035"
   },
   "outputs": [
    {
     "name": "stdout",
     "output_type": "stream",
     "text": [
      "['Bream' 'Parkki' 'Perch' 'Pike' 'Roach' 'Smelt' 'Whitefish']\n",
      "[[0.     0.     1.     0.     0.     0.     0.    ]\n",
      " [0.     0.     0.     0.     0.     1.     0.    ]\n",
      " [0.     0.     0.     1.     0.     0.     0.    ]\n",
      " [0.     0.     0.6667 0.     0.3333 0.     0.    ]\n",
      " [0.     0.     0.6667 0.     0.3333 0.     0.    ]]\n"
     ]
    }
   ],
   "source": [
    "import numpy as np\n",
    "proba = kn.predict_proba(test_scaled[:5])\n",
    "print(kn.classes_)\n",
    "print(np.round(proba,decimals=4))"
   ]
  },
  {
   "cell_type": "markdown",
   "metadata": {
    "id": "URySqYWeKxLe"
   },
   "source": [
    "- 첫번째 클래스 : Perch\n",
    "  - 100%확률로 Perch 예측\n",
    "- 네번째 클래스 : Perch\n",
    "  - 66.7% 확률로 Perch 예측\n",
    "  - 33.3% 확률로 Roach로 예측"
   ]
  },
  {
   "cell_type": "markdown",
   "metadata": {
    "id": "Q-dYOX0RMVoc"
   },
   "source": [
    "## 회귀 식\n",
    "- $ y = ax + b$\n",
    "- (y = 연속형 데이터)일 때 사용 \n"
   ]
  },
  {
   "cell_type": "markdown",
   "metadata": {
    "id": "AbFs5_ouP14k"
   },
   "source": [
    "## 로지스틱 회귀로 이진분류 "
   ]
  },
  {
   "cell_type": "code",
   "execution_count": 42,
   "metadata": {
    "colab": {
     "base_uri": "https://localhost:8080/"
    },
    "id": "lC3hQCLmP3vs",
    "outputId": "d5a62319-59fa-44eb-8c92-5530ee47ea3f"
   },
   "outputs": [
    {
     "name": "stdout",
     "output_type": "stream",
     "text": [
      "['A' 'C']\n"
     ]
    }
   ],
   "source": [
    "char_arr = np.array(['A', 'B', 'C', 'D','E'])\n",
    "print(char_arr[[True, False, True, False, False]]) # True값만 추출"
   ]
  },
  {
   "cell_type": "markdown",
   "metadata": {
    "id": "Bc0J9DzRQQ4k"
   },
   "source": [
    "- 도미와 빙어의 행만 골라냄 "
   ]
  },
  {
   "cell_type": "code",
   "execution_count": 54,
   "metadata": {
    "colab": {
     "base_uri": "https://localhost:8080/"
    },
    "id": "oZnzRWx0QVoT",
    "outputId": "3ffb715e-ff6c-495b-b913-379db9e9c323"
   },
   "outputs": [
    {
     "data": {
      "text/plain": [
       "((119, 5), (33, 5))"
      ]
     },
     "execution_count": 54,
     "metadata": {},
     "output_type": "execute_result"
    }
   ],
   "source": [
    "bream_smelt_indexes = ( train_target == 'Bream')|(train_target ==\"Smelt\") # True,False로 추출\n",
    "train_bream_smelt = train_scaled[bream_smelt_indexes]\n",
    "target_bream_smelt = train_target[bream_smelt_indexes]\n",
    "\n",
    "train_scaled.shape, train_bream_smelt.shape"
   ]
  },
  {
   "cell_type": "markdown",
   "metadata": {
    "id": "toXUlwz_U26D"
   },
   "source": [
    "## 모델만들기 "
   ]
  },
  {
   "cell_type": "code",
   "execution_count": 57,
   "metadata": {
    "colab": {
     "base_uri": "https://localhost:8080/"
    },
    "id": "cQkYmVDUU5wk",
    "outputId": "9c14168d-4da6-4eb2-f482-2ded07247bd7"
   },
   "outputs": [
    {
     "data": {
      "text/plain": [
       "LogisticRegression()"
      ]
     },
     "execution_count": 57,
     "metadata": {},
     "output_type": "execute_result"
    }
   ],
   "source": [
    "from sklearn.linear_model import LogisticRegression\n",
    "lr = LogisticRegression()\n",
    "lr.fit(train_bream_smelt, target_bream_smelt)"
   ]
  },
  {
   "cell_type": "code",
   "execution_count": 61,
   "metadata": {
    "colab": {
     "base_uri": "https://localhost:8080/"
    },
    "id": "UdDHF9EzVPX7",
    "outputId": "38cd50b3-ba1a-4f51-a88a-0186486d4ba4"
   },
   "outputs": [
    {
     "name": "stdout",
     "output_type": "stream",
     "text": [
      "['Bream' 'Smelt' 'Bream' 'Bream' 'Bream']\n"
     ]
    }
   ],
   "source": [
    "# 클래스를 예측\n",
    "print(lr.predict(train_bream_smelt[:5]))"
   ]
  },
  {
   "cell_type": "markdown",
   "metadata": {
    "id": "4ygGqvd9VnLL"
   },
   "source": [
    "- 확률을 확인"
   ]
  },
  {
   "cell_type": "code",
   "execution_count": 62,
   "metadata": {
    "colab": {
     "base_uri": "https://localhost:8080/"
    },
    "id": "p4N0IgSIVaX8",
    "outputId": "21bad96e-87ab-4738-b5d1-7eb26626eabd"
   },
   "outputs": [
    {
     "name": "stdout",
     "output_type": "stream",
     "text": [
      "[[0.99759855 0.00240145]\n",
      " [0.02735183 0.97264817]\n",
      " [0.99486072 0.00513928]\n",
      " [0.98584202 0.01415798]\n",
      " [0.99767269 0.00232731]]\n"
     ]
    }
   ],
   "source": [
    "print(lr.predict_proba(train_bream_smelt[:5]))"
   ]
  },
  {
   "cell_type": "code",
   "execution_count": 64,
   "metadata": {
    "colab": {
     "base_uri": "https://localhost:8080/"
    },
    "id": "F0JWLYNGVaY3",
    "outputId": "34c46328-fd15-45cd-837f-e504501af7cc"
   },
   "outputs": [
    {
     "name": "stdout",
     "output_type": "stream",
     "text": [
      "['Bream' 'Smelt']\n"
     ]
    }
   ],
   "source": [
    "print(lr.classes_) # 클래스 속성확인 "
   ]
  },
  {
   "cell_type": "markdown",
   "metadata": {
    "id": "1mC2OVN0WPFC"
   },
   "source": [
    "- 분류기준 : threshold 임계값설정"
   ]
  },
  {
   "cell_type": "markdown",
   "metadata": {
    "id": "bugiQ7eEW78c"
   },
   "source": [
    "### 계수와 절편\n",
    "- $z = -0.404*(Weight) - 0.576*(Length) -0.663*(Diagonal) - 1.013*(Height) - 0.732*(Width) - 2.162 $"
   ]
  },
  {
   "cell_type": "code",
   "execution_count": 67,
   "metadata": {
    "colab": {
     "base_uri": "https://localhost:8080/"
    },
    "id": "yIFw8PJJV8DZ",
    "outputId": "c3852280-ff6a-4187-8f8f-5dbe5f065426"
   },
   "outputs": [
    {
     "name": "stdout",
     "output_type": "stream",
     "text": [
      "[[-0.4037798  -0.57620209 -0.66280298 -1.01290277 -0.73168947]] [-2.16155132]\n"
     ]
    }
   ],
   "source": [
    "print(lr.coef_, lr.intercept_)"
   ]
  },
  {
   "cell_type": "markdown",
   "metadata": {
    "id": "0NEQcF74XjSK"
   },
   "source": [
    "- z값"
   ]
  },
  {
   "cell_type": "code",
   "execution_count": 69,
   "metadata": {
    "colab": {
     "base_uri": "https://localhost:8080/"
    },
    "id": "k9dHYNWvXSUi",
    "outputId": "1e28d1ab-7059-41e4-c5eb-af0023b9080a"
   },
   "outputs": [
    {
     "name": "stdout",
     "output_type": "stream",
     "text": [
      "[-6.02927744  3.57123907 -5.26568906 -4.24321775 -6.0607117 ]\n"
     ]
    }
   ],
   "source": [
    "decisions = lr.decision_function(train_bream_smelt[:5])\n",
    "print(decisions)"
   ]
  },
  {
   "cell_type": "markdown",
   "metadata": {
    "id": "ZqJ8qE6VXmQq"
   },
   "source": [
    "- 우리가 원한건 확률이라 확률로 변환"
   ]
  },
  {
   "cell_type": "code",
   "execution_count": 70,
   "metadata": {
    "colab": {
     "base_uri": "https://localhost:8080/"
    },
    "id": "8FjPO3TKXh4C",
    "outputId": "a131af0c-4501-4d4c-c169-7fcbb44d4609"
   },
   "outputs": [
    {
     "name": "stdout",
     "output_type": "stream",
     "text": [
      "[0.00240145 0.97264817 0.00513928 0.01415798 0.00232731]\n"
     ]
    }
   ],
   "source": [
    "from scipy.special import expit\n",
    "print(expit(decisions)) # 확률값으로 변환"
   ]
  },
  {
   "cell_type": "markdown",
   "metadata": {
    "id": "CLQaT7HpbR7j"
   },
   "source": [
    "## 디중분류 수행\n",
    "- 이중분류의 확장판 "
   ]
  },
  {
   "cell_type": "code",
   "execution_count": 73,
   "metadata": {
    "colab": {
     "base_uri": "https://localhost:8080/"
    },
    "id": "lAk2Nf9scQvC",
    "outputId": "316b5ad1-abc7-4c91-c857-8aff95799037"
   },
   "outputs": [
    {
     "name": "stdout",
     "output_type": "stream",
     "text": [
      "0.9327731092436975\n",
      "0.925\n"
     ]
    }
   ],
   "source": [
    "# 하이퍼 파라미터 세팅\n",
    "# 모형을 튜닝\n",
    "# 모형 결과의 과대적합|과소적합을 방지하기 위한것\n",
    "lr = LogisticRegression(C = 20, max_iter = 1000)\n",
    "lr.fit(train_scaled, train_target)\n",
    "print(lr.score(train_scaled, train_target))\n",
    "print(lr.score(test_scaled, test_target))"
   ]
  },
  {
   "cell_type": "code",
   "execution_count": 77,
   "metadata": {
    "colab": {
     "base_uri": "https://localhost:8080/"
    },
    "id": "64uvhk1tc8tp",
    "outputId": "dc2b5fb6-f35e-4259-e905-803817dee79e"
   },
   "outputs": [
    {
     "name": "stdout",
     "output_type": "stream",
     "text": [
      "['Perch' 'Smelt' 'Pike' 'Roach' 'Perch']\n",
      "[[0.    0.014 0.841 0.    0.136 0.007 0.003]\n",
      " [0.    0.003 0.044 0.    0.007 0.946 0.   ]\n",
      " [0.    0.    0.034 0.935 0.015 0.016 0.   ]\n",
      " [0.011 0.034 0.306 0.007 0.567 0.    0.076]\n",
      " [0.    0.    0.904 0.002 0.089 0.002 0.001]]\n",
      "['Bream' 'Parkki' 'Perch' 'Pike' 'Roach' 'Smelt' 'Whitefish']\n"
     ]
    }
   ],
   "source": [
    "print(lr.predict(test_scaled[:5]))"
   ]
  },
  {
   "cell_type": "code",
   "execution_count": 78,
   "metadata": {
    "colab": {
     "base_uri": "https://localhost:8080/"
    },
    "id": "qR4KGMKwdU3r",
    "outputId": "4bbf6f87-e79d-487e-a2b7-d292a719dfaa"
   },
   "outputs": [
    {
     "name": "stdout",
     "output_type": "stream",
     "text": [
      "[[0.    0.014 0.841 0.    0.136 0.007 0.003]\n",
      " [0.    0.003 0.044 0.    0.007 0.946 0.   ]\n",
      " [0.    0.    0.034 0.935 0.015 0.016 0.   ]\n",
      " [0.011 0.034 0.306 0.007 0.567 0.    0.076]\n",
      " [0.    0.    0.904 0.002 0.089 0.002 0.001]]\n",
      "['Bream' 'Parkki' 'Perch' 'Pike' 'Roach' 'Smelt' 'Whitefish']\n"
     ]
    }
   ],
   "source": [
    "# 확률값\n",
    "proba = lr.predict_proba(test_scaled[:5])\n",
    "print(np.round(proba,decimals=3))\n",
    "print(lr.classes_)"
   ]
  },
  {
   "cell_type": "markdown",
   "metadata": {
    "id": "US5w4UvsdXGD"
   },
   "source": [
    "- 다중 분류일 경우 선형 방정식\n",
    "  - 7개의 분류값, 컬럼값 5개에 대한 선형방정식이 나온다 "
   ]
  },
  {
   "cell_type": "code",
   "execution_count": 80,
   "metadata": {
    "colab": {
     "base_uri": "https://localhost:8080/"
    },
    "id": "zzJBqW2vdZxi",
    "outputId": "70ada087-c4f5-4dce-bb80-f0eeef8f22f0"
   },
   "outputs": [
    {
     "name": "stdout",
     "output_type": "stream",
     "text": [
      "(7, 5) (7,)\n"
     ]
    }
   ],
   "source": [
    "print(lr.coef_.shape,lr.intercept_.shape) # 각각의 기울기와 상수값"
   ]
  },
  {
   "cell_type": "markdown",
   "metadata": {
    "id": "Lp9bmk-Wh0RA"
   },
   "source": [
    "# 평가지표 "
   ]
  },
  {
   "cell_type": "markdown",
   "metadata": {
    "id": "d46QVI4IleGQ"
   },
   "source": [
    "## 회귀 평가지표\n",
    "- 결정계수\n",
    "  - $(타깃-예측)^2의합 / (타깃-평균)^2의 합$\n",
    "- MAE, MSE, RMSE\n",
    "  - (실제 - 예측) = 오차\n",
    "  - MAE(Mean Absolute Error) = |오차|(오차의 절댓값)의 평균\n",
    "  - MSE(Mean Squared Error) = 오차^2의 평균\n",
    "  - RMSE(Root Mean Squared Error) = MSE의 제곱근\n",
    "- 좋은모델\n",
    "  - 결정계수가 1에 수렴할수록\n",
    "  - MAE, MSE, RMSE는 0에 수렵할수록 "
   ]
  },
  {
   "cell_type": "code",
   "execution_count": 89,
   "metadata": {
    "colab": {
     "base_uri": "https://localhost:8080/"
    },
    "id": "LNSa29k1j0MY",
    "outputId": "b84d5ba2-9a83-48b9-f19b-ee160373b45c"
   },
   "outputs": [
    {
     "name": "stdout",
     "output_type": "stream",
     "text": [
      "---mae---\n",
      "0.5384615384615384\n",
      "---mse---\n",
      "0.6923076923076923\n",
      "---rmse---\n",
      "0.8320502943378437\n",
      "---결정계수---\n",
      "0.8617021276595744\n"
     ]
    }
   ],
   "source": [
    "import numpy as np\n",
    "from sklearn.metrics import mean_absolute_error, mean_squared_error, r2_score\n",
    "\n",
    "true = np.array([1, 2, 3, 2, 3, 5, 4, 6, 5, 6, 7, 8, 8]) # 실제값\n",
    "preds = np.array([1, 1, 2, 2, 3, 4, 4, 5, 5, 7, 7, 6, 8]) # 예측값\n",
    "\n",
    "# 절대값 오차의 평균\n",
    "mae = mean_absolute_error(true, preds)\n",
    "print(\"---mae---\")\n",
    "print(mae)\n",
    "print(\"---mse---\")\n",
    "\n",
    "# 제곱 오차의 평균\n",
    "mse = mean_squared_error(true, preds)\n",
    "print(mse)\n",
    "print(\"---rmse---\")\n",
    "\n",
    "# mse의 제곱근\n",
    "rmse = np.sqrt(mse)\n",
    "print(rmse)\n",
    "print(\"---결정계수---\")\n",
    "\n",
    "#결정계수\n",
    "r2 = r2_score(true, preds)\n",
    "print(r2)"
   ]
  },
  {
   "cell_type": "markdown",
   "metadata": {
    "id": "FdccvnHblf0C"
   },
   "source": [
    "## 분류 평가지표\n"
   ]
  },
  {
   "cell_type": "markdown",
   "metadata": {
    "id": "OtObHEwxngag"
   },
   "source": [
    "### 오차 행렬(Confusion Matrix)\n",
    "- ex)\n",
    "  - 실제 값\n",
    "    - [빙어, 도미, 도미, 빙어, 도미]\n",
    "  - 예측 값\n",
    "    - [빙어, 빙어, 도미, 빙어, 빙어]\n",
    "  - TP(빙어를 빙어로 예측) : 2\n",
    "  - TN(도미를 도미로 예측) : 1\n",
    "  - FN(실제=도미, 예측=빙어) : 2\n",
    "  - FP(실제=빙어, 예측=도미) : 0\n",
    "- TP,TN,FP,FN\n",
    "  - 정확도\n",
    "    - (TP + TN) / (TP + TN + FP + FN)\n",
    "  - 정밀도(Precision) : 양성이라고 예측한 값(TP+FP) 중 실제 양성(TP)의 비율\n",
    "    - TP / (TP + FP)\n",
    "  - 재현율 : 실제 양성값(TP+FN) 중 양성으로 예측한 값(TP)\n",
    "    - TP / (TP + FN)\n",
    "  - 로그손실\n",
    "  - ROC Curve(=AUC)\n",
    "\n",
    "- 상황에 따른 정확도, 정밀도, 재현율을 구분을 잘하고 우선순위를 따져야한다."
   ]
  },
  {
   "cell_type": "code",
   "execution_count": 90,
   "metadata": {
    "colab": {
     "base_uri": "https://localhost:8080/"
    },
    "id": "dfGcb40aoX6w",
    "outputId": "b2f80b60-2836-485f-e3d3-161948f39fd5"
   },
   "outputs": [
    {
     "data": {
      "text/plain": [
       "array([[2, 1],\n",
       "       [2, 0]])"
      ]
     },
     "execution_count": 90,
     "metadata": {},
     "output_type": "execute_result"
    }
   ],
   "source": [
    "from sklearn.metrics import confusion_matrix\n",
    "\n",
    "true = [0,1,1,0,0]\n",
    "preds = [1,0,0,0,0]\n",
    "\n",
    "confusion_matrix(true, preds)"
   ]
  }
 ],
 "metadata": {
  "colab": {
   "collapsed_sections": [],
   "name": "day0701_2.ipynb",
   "provenance": [],
   "toc_visible": true
  },
  "kernelspec": {
   "display_name": "Python 3 (ipykernel)",
   "language": "python",
   "name": "python3"
  },
  "language_info": {
   "codemirror_mode": {
    "name": "ipython",
    "version": 3
   },
   "file_extension": ".py",
   "mimetype": "text/x-python",
   "name": "python",
   "nbconvert_exporter": "python",
   "pygments_lexer": "ipython3",
   "version": "3.9.12"
  }
 },
 "nbformat": 4,
 "nbformat_minor": 4
}

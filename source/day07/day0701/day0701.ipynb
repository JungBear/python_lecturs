{
 "cells": [
  {
   "cell_type": "markdown",
   "metadata": {
    "id": "USno22Y5AlmH"
   },
   "source": [
    "---\n",
    "title: \"Day-11 Machine Learning\"\n",
    "categories:\n",
    "- Python\n",
    "- Lecture\n",
    "output:\n",
    " html_document:\n",
    "   keep_md: true\n",
    "date: '2022-07-01'\n",
    "---"
   ]
  },
  {
   "cell_type": "markdown",
   "metadata": {
    "id": "Gr_ajkwyHFdi"
   },
   "source": [
    "# K최근접이웃회귀모델"
   ]
  },
  {
   "cell_type": "markdown",
   "metadata": {
    "id": "8nyxaMrgHdWp"
   },
   "source": [
    "## 데이터 불러오기"
   ]
  },
  {
   "cell_type": "code",
   "execution_count": 5,
   "metadata": {
    "colab": {
     "base_uri": "https://localhost:8080/"
    },
    "id": "LpgJJby4G_Mp",
    "outputId": "13da225b-0ff9-465f-c6f4-a1d4f3db7720"
   },
   "outputs": [
    {
     "name": "stdout",
     "output_type": "stream",
     "text": [
      "(56,) (56,)\n"
     ]
    }
   ],
   "source": [
    "import numpy as np\n",
    "perch_length = np.array(\n",
    "    [8.4, 13.7, 15.0, 16.2, 17.4, 18.0, 18.7, 19.0, 19.6, 20.0, \n",
    "     21.0, 21.0, 21.0, 21.3, 22.0, 22.0, 22.0, 22.0, 22.0, 22.5, \n",
    "     22.5, 22.7, 23.0, 23.5, 24.0, 24.0, 24.6, 25.0, 25.6, 26.5, \n",
    "     27.3, 27.5, 27.5, 27.5, 28.0, 28.7, 30.0, 32.8, 34.5, 35.0, \n",
    "     36.5, 36.0, 37.0, 37.0, 39.0, 39.0, 39.0, 40.0, 40.0, 40.0, \n",
    "     40.0, 42.0, 43.0, 43.0, 43.5, 44.0]\n",
    "     )\n",
    "perch_weight = np.array(\n",
    "    [5.9, 32.0, 40.0, 51.5, 70.0, 100.0, 78.0, 80.0, 85.0, 85.0, \n",
    "     110.0, 115.0, 125.0, 130.0, 120.0, 120.0, 130.0, 135.0, 110.0, \n",
    "     130.0, 150.0, 145.0, 150.0, 170.0, 225.0, 145.0, 188.0, 180.0, \n",
    "     197.0, 218.0, 300.0, 260.0, 265.0, 250.0, 250.0, 300.0, 320.0, \n",
    "     514.0, 556.0, 840.0, 685.0, 700.0, 700.0, 690.0, 900.0, 650.0, \n",
    "     820.0, 850.0, 900.0, 1015.0, 820.0, 1100.0, 1000.0, 1100.0, \n",
    "     1000.0, 1000.0]\n",
    "     )\n",
    "print(perch_length.shape, perch_weight.shape)"
   ]
  },
  {
   "cell_type": "markdown",
   "metadata": {
    "id": "xHF0-LEFHfKh"
   },
   "source": [
    "## 데이터 가공\n",
    " - 훈련세트와 테스트 사이트로 나눈 후, 1차원 -> 2차원 배열로 전환"
   ]
  },
  {
   "cell_type": "code",
   "execution_count": 10,
   "metadata": {
    "colab": {
     "base_uri": "https://localhost:8080/"
    },
    "id": "2U8B8WKzHUeY",
    "outputId": "1cf7e6cf-95d2-4658-abb5-ccb1918d15c7"
   },
   "outputs": [
    {
     "data": {
      "text/plain": [
       "((42, 1), (14, 1))"
      ]
     },
     "execution_count": 10,
     "metadata": {},
     "output_type": "execute_result"
    }
   ],
   "source": [
    "# 데이터 세트 분류\n",
    "from sklearn.model_selection import train_test_split\n",
    "train_input, test_input, train_target, test_target = train_test_split(\n",
    "    perch_length, perch_weight, random_state=42\n",
    "    )\n",
    "train_input.shape, test_input.shape, train_target.shape, test_target.shape\n",
    "\n",
    "# 1차원->2차원\n",
    "train_input = train_input.reshape(-1,1)\n",
    "test_input = test_input.reshape(-1,1)\n",
    "\n",
    "train_input.shape, test_input.shape # 데이터가 잘 입력되었는지 확인"
   ]
  },
  {
   "cell_type": "markdown",
   "metadata": {
    "id": "vIzqKTkzI0RJ"
   },
   "source": [
    "## 데이터 시각화\n"
   ]
  },
  {
   "cell_type": "markdown",
   "metadata": {
    "id": "oNQuxCW4I5Rx"
   },
   "source": [
    "## 데이터 재가공 "
   ]
  },
  {
   "cell_type": "markdown",
   "metadata": {
    "id": "s7A6NtspINQx"
   },
   "source": [
    "## 모델링"
   ]
  },
  {
   "cell_type": "code",
   "execution_count": 13,
   "metadata": {
    "colab": {
     "base_uri": "https://localhost:8080/"
    },
    "id": "AlviKeG5JRw5",
    "outputId": "f1347718-25da-4099-af7a-feb164944f20"
   },
   "outputs": [
    {
     "data": {
      "text/plain": [
       "KNeighborsRegressor(n_neighbors=3)"
      ]
     },
     "execution_count": 13,
     "metadata": {},
     "output_type": "execute_result"
    }
   ],
   "source": [
    "from sklearn.neighbors import KNeighborsRegressor\n",
    "knr = KNeighborsRegressor(n_neighbors=3) # 인스턴스화\n",
    "\n",
    "# 모형 훈련\n",
    "knr.fit(train_input, train_target)"
   ]
  },
  {
   "cell_type": "markdown",
   "metadata": {
    "id": "hLnrXfiBJoap"
   },
   "source": [
    "## 모델 평가"
   ]
  },
  {
   "cell_type": "markdown",
   "metadata": {
    "id": "bLrsbs06JqE5"
   },
   "source": [
    "## 모델 예측\n",
    "- 서비스를 함"
   ]
  },
  {
   "cell_type": "code",
   "execution_count": 16,
   "metadata": {
    "colab": {
     "base_uri": "https://localhost:8080/"
    },
    "id": "-lV20I1_JnCI",
    "outputId": "db0cfdea-3dfa-4e43-a651-810a78d2ab30"
   },
   "outputs": [
    {
     "name": "stdout",
     "output_type": "stream",
     "text": [
      "[1033.33333333]\n"
     ]
    }
   ],
   "source": [
    "# 독립변수인 길이\n",
    "print(knr.predict([[50]])) "
   ]
  },
  {
   "cell_type": "markdown",
   "metadata": {
    "id": "-1vawXF4KTqQ"
   },
   "source": [
    "- 오차가 있음이 발견"
   ]
  },
  {
   "cell_type": "markdown",
   "metadata": {
    "id": "8XHbKDokKPdQ"
   },
   "source": [
    "## 모형평가를 위한 시각화"
   ]
  },
  {
   "cell_type": "code",
   "execution_count": 28,
   "metadata": {
    "colab": {
     "base_uri": "https://localhost:8080/",
     "height": 297
    },
    "id": "BF7utKgIKXzC",
    "outputId": "e31c5636-72c0-4707-bb73-a6c61748381b"
   },
   "outputs": [
    {
     "name": "stdout",
     "output_type": "stream",
     "text": [
      "<module 'scipy.spatial.distance' from '/usr/local/lib/python3.7/dist-packages/scipy/spatial/distance.py'> [[34  8 14]]\n"
     ]
    },
    {
     "data": {
      "image/png": "[encoded data removed]",
      "text/plain": [
       "<Figure size 432x288 with 1 Axes>"
      ]
     },
     "metadata": {
      "needs_background": "light"
     },
     "output_type": "display_data"
    }
   ],
   "source": [
    "from scipy.spatial import distance\n",
    "import matplotlib.pyplot as plt\n",
    "\n",
    "# 50cm 농어의 이웃 구하기\n",
    "distances, indexes = knr.kneighbors([[50]])\n",
    "print(distance, indexes)\n",
    "# 산점도 구하기\n",
    "fig, ax = plt.subplots()\n",
    "ax.scatter(train_input, train_target)\n",
    "# 훈련 세트중 이웃샘플만 다시 그리기\n",
    "#            길이                     , 무게\n",
    "ax.scatter(train_input[indexes], train_target[indexes], marker=\"D\")\n",
    "# 50cm의 농어 데이터\n",
    "ax.scatter(50,1033,marker='^')\n",
    "ax.set_xlabel(\"length\")\n",
    "ax.set_ylabel(\"weight\")\n",
    "plt.show()"
   ]
  },
  {
   "cell_type": "markdown",
   "metadata": {
    "id": "dxbpDGXNRjz_"
   },
   "source": [
    "# 선형 회귀 \n",
    "- y = ax + b\n",
    "- 기울기를 어떻게 구하냐\n",
    "  - 평균에 대해 오차를 항상 생각\n",
    "  - y = b \n",
    "  - y = ax + b (a < 0)\n",
    "  - y = ax + b (a > 0)\n",
    "  - 세가지 그래프를 그려보고 오차가 최소인 기울기로 결정한다\n"
   ]
  },
  {
   "cell_type": "code",
   "execution_count": 33,
   "metadata": {
    "colab": {
     "base_uri": "https://localhost:8080/"
    },
    "id": "hArtkJ-3Tq53",
    "outputId": "94bc1d1f-fcac-4cc7-82ae-8a61ec53b9a1"
   },
   "outputs": [
    {
     "data": {
      "text/plain": [
       "LinearRegression()"
      ]
     },
     "execution_count": 33,
     "metadata": {},
     "output_type": "execute_result"
    }
   ],
   "source": [
    "from sklearn.linear_model import LinearRegression\n",
    "lr = LinearRegression() \n",
    "\n",
    "# 선형 회귀 모델 훈련\n",
    "lr.fit(train_input, train_target)"
   ]
  },
  {
   "cell_type": "markdown",
   "metadata": {
    "id": "SdmIGEp2UfE_"
   },
   "source": [
    "## 예측"
   ]
  },
  {
   "cell_type": "code",
   "execution_count": 32,
   "metadata": {
    "colab": {
     "base_uri": "https://localhost:8080/"
    },
    "id": "w5fhQ_czUgdO",
    "outputId": "062c5bbf-ce82-44ce-fcc7-c84efe22e708"
   },
   "outputs": [
    {
     "name": "stdout",
     "output_type": "stream",
     "text": [
      "[3192.69585141]\n"
     ]
    }
   ],
   "source": [
    "print(lr.predict([[100]]))"
   ]
  },
  {
   "cell_type": "markdown",
   "metadata": {
    "id": "r2rkVoQ9Uziv"
   },
   "source": [
    "## 선형회귀의 모형\n",
    "- 기울기, 절편"
   ]
  },
  {
   "cell_type": "code",
   "execution_count": 34,
   "metadata": {
    "colab": {
     "base_uri": "https://localhost:8080/"
    },
    "id": "PtTiBB9UU5du",
    "outputId": "d081bdc1-3264-4b3b-c026-fa3c88b32397"
   },
   "outputs": [
    {
     "name": "stdout",
     "output_type": "stream",
     "text": [
      "[39.01714496] -709.0186449535477\n"
     ]
    }
   ],
   "source": [
    "#       기울기,      절편\n",
    "print(lr.coef_, lr.intercept_)"
   ]
  },
  {
   "cell_type": "markdown",
   "metadata": {
    "id": "X7vsKBNuWA8n"
   },
   "source": [
    "## 다항 회귀\n",
    "- 물고기의 크기가 작아지면 무게가 -가 나와서 성립이 안된다 \n",
    "  - 농어 1cm = -650g\n",
    "- 직선의 기울기 대신, 곡선의 기울기를 쓰자\n",
    "- $y= ax^2 + bx + c$   "
   ]
  },
  {
   "cell_type": "code",
   "execution_count": 39,
   "metadata": {
    "colab": {
     "base_uri": "https://localhost:8080/"
    },
    "id": "_jyfeLYZWaYG",
    "outputId": "16cb6f6f-b3ff-4e87-b26d-27f1e3be86dc"
   },
   "outputs": [
    {
     "name": "stdout",
     "output_type": "stream",
     "text": [
      "(42, 2) (14, 2)\n",
      "---train---\n",
      "[[384.16  19.6 ]\n",
      " [484.    22.  ]\n",
      " [349.69  18.7 ]]\n",
      "---test---\n",
      "[[ 70.56   8.4 ]\n",
      " [324.    18.  ]\n",
      " [756.25  27.5 ]]\n"
     ]
    }
   ],
   "source": [
    "train_poly = np.column_stack((train_input ** 2, train_input))\n",
    "test_poly = np.column_stack((test_input ** 2, test_input))\n",
    "\n",
    "print(train_poly.shape, test_poly.shape)\n",
    "print(\"---train---\")\n",
    "print(train_poly[:3])\n",
    "print(\"---test---\")\n",
    "print(test_poly[:3])"
   ]
  },
  {
   "cell_type": "code",
   "execution_count": 41,
   "metadata": {
    "colab": {
     "base_uri": "https://localhost:8080/"
    },
    "id": "R4JAsk3mXbdW",
    "outputId": "da9d0c5e-4133-49f4-e3d8-f5f17fdb70a3"
   },
   "outputs": [
    {
     "name": "stdout",
     "output_type": "stream",
     "text": [
      "[1573.98423528]\n"
     ]
    }
   ],
   "source": [
    "lr = LinearRegression()\n",
    "lr.fit(train_poly, train_target)\n",
    "print(lr.predict([[50**2,50]]))"
   ]
  },
  {
   "cell_type": "code",
   "execution_count": 43,
   "metadata": {
    "colab": {
     "base_uri": "https://localhost:8080/"
    },
    "id": "GGR-SjJnXqYu",
    "outputId": "3f0aa826-f2cf-4d50-9726-e7267a82801e"
   },
   "outputs": [
    {
     "name": "stdout",
     "output_type": "stream",
     "text": [
      "[  1.01433211 -21.55792498] 116.0502107827827\n"
     ]
    }
   ],
   "source": [
    "print(lr.coef_, lr.intercept_)"
   ]
  },
  {
   "cell_type": "markdown",
   "metadata": {
    "id": "-HnFCqfqXvkd"
   },
   "source": [
    "- y = 무게, x = 길이\n",
    "- $y = 1.01* x^2 + -21.6*x + 116.05 $"
   ]
  },
  {
   "cell_type": "markdown",
   "metadata": {
    "id": "UDREO0GyYbnW"
   },
   "source": [
    "## 시각화 "
   ]
  },
  {
   "cell_type": "code",
   "execution_count": 58,
   "metadata": {
    "colab": {
     "base_uri": "https://localhost:8080/",
     "height": 279
    },
    "id": "9dajXZpZYdQ_",
    "outputId": "fc9a198e-40c7-4b47-b1ba-c9d9fa5f0e9a"
   },
   "outputs": [
    {
     "data": {
      "image/png": "[encoded data removed]",
      "text/plain": [
       "<Figure size 432x288 with 1 Axes>"
      ]
     },
     "metadata": {
      "needs_background": "light"
     },
     "output_type": "display_data"
    }
   ],
   "source": [
    "import matplotlib.pyplot as plt\n",
    "point = np.arange(15,50)\n",
    "fig, ax = plt.subplots()\n",
    "ax.scatter(train_input, train_target)\n",
    "ax.plot(point, 1.01*point**2 - 21.6*point + 116.05)\n",
    "ax.scatter(50,1574,marker = \"^\")\n",
    "ax.set_xlabel(\"length\")\n",
    "ax.set_ylabel(\"weight\")\n",
    "plt.show()"
   ]
  },
  {
   "cell_type": "markdown",
   "metadata": {
    "id": "dX-0ozTsX8V9"
   },
   "source": []
  }
 ],
 "metadata": {
  "colab": {
   "collapsed_sections": [],
   "name": "day0701.ipynb",
   "provenance": [],
   "toc_visible": true
  },
  "kernelspec": {
   "display_name": "Python 3 (ipykernel)",
   "language": "python",
   "name": "python3"
  },
  "language_info": {
   "codemirror_mode": {
    "name": "ipython",
    "version": 3
   },
   "file_extension": ".py",
   "mimetype": "text/x-python",
   "name": "python",
   "nbconvert_exporter": "python",
   "pygments_lexer": "ipython3",
   "version": "3.9.12"
  }
 },
 "nbformat": 4,
 "nbformat_minor": 4
}

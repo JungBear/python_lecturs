{
 "cells": [
  {
   "cell_type": "markdown",
   "metadata": {
    "id": "x91zHLaaW9sS"
   },
   "source": [
    "---\n",
    "title: \"Pandas 10minute\"\n",
    "categories:\n",
    "- Python\n",
    "- Assignment\n",
    "output:\n",
    " html_document:\n",
    "   keep_md: true\n",
    "date: '2022-06-28'\n",
    "---"
   ]
  },
  {
   "cell_type": "code",
   "execution_count": null,
   "metadata": {
    "id": "M4hHZKfuXLVI"
   },
   "outputs": [],
   "source": [
    "import numpy as np\n",
    "import pandas as pd"
   ]
  },
  {
   "cell_type": "markdown",
   "metadata": {
    "id": "LYB4qlwdaBA4"
   },
   "source": [
    "## 객체 생성\n",
    "- Series : 기본 정수 인덱스를 생성하도록 값 목록을 전달하여 생성"
   ]
  },
  {
   "cell_type": "code",
   "execution_count": null,
   "metadata": {
    "colab": {
     "base_uri": "https://localhost:8080/"
    },
    "id": "s6cJfg7BaK93",
    "outputId": "d9249d24-fcef-4512-ab90-27d73b99b709"
   },
   "outputs": [
    {
     "data": {
      "text/plain": [
       "0    1.0\n",
       "1    3.0\n",
       "2    5.0\n",
       "3    NaN\n",
       "4    6.0\n",
       "5    8.0\n",
       "dtype: float64"
      ]
     },
     "execution_count": 2,
     "metadata": {},
     "output_type": "execute_result"
    }
   ],
   "source": [
    "s = pd.Series([1,3,5,np.nan,6,8])\n",
    "s"
   ]
  },
  {
   "cell_type": "markdown",
   "metadata": {
    "id": "jQaIlJ_1adOH"
   },
   "source": [
    "- DataFrame : 여러 인덱스와 레이블이 지정된 열이 있는 NumPy 배열을 전달하여 생성"
   ]
  },
  {
   "cell_type": "code",
   "execution_count": null,
   "metadata": {
    "colab": {
     "base_uri": "https://localhost:8080/"
    },
    "id": "ql5cCZnDanmV",
    "outputId": "9530f287-f811-4f55-b3b8-ba94521f34e2"
   },
   "outputs": [
    {
     "name": "stdout",
     "output_type": "stream",
     "text": [
      "                   A         B         C         D\n",
      "2013-01-01  0.865728  0.292457  1.067028 -0.253106\n",
      "2013-01-02 -1.909402  1.527000 -0.386110 -0.500735\n",
      "2013-01-03  0.075965  1.552591  1.350081 -1.812949\n",
      "2013-01-04 -0.887034 -0.790107 -1.427116  0.506210\n",
      "2013-01-05 -0.405688  0.656769  2.117183 -0.219086\n",
      "2013-01-06 -0.425787  1.433215  0.707955 -1.778100\n"
     ]
    }
   ],
   "source": [
    "dates = pd.date_range(\"20130101\", periods = 6)\n",
    "dates\n",
    "df = pd.DataFrame(np.random.randn(6,4), index=dates, columns=list(\"ABCD\")) #6행 4열\n",
    "print(df)"
   ]
  },
  {
   "cell_type": "markdown",
   "metadata": {
    "id": "TTWfp-t9bzmW"
   },
   "source": [
    "- 시리즈와 같은 구조로 변환할 수 있는 객체 사전을 전달하여 생성"
   ]
  },
  {
   "cell_type": "code",
   "execution_count": null,
   "metadata": {
    "colab": {
     "base_uri": "https://localhost:8080/"
    },
    "id": "ljEsgMR_b9Nn",
    "outputId": "0161d99c-6323-4d7b-f2e5-cf917b223989"
   },
   "outputs": [
    {
     "name": "stdout",
     "output_type": "stream",
     "text": [
      "     A          B    C  D      E    F\n",
      "0  1.0 2013-01-02  1.0  3   test  foo\n",
      "1  1.0 2013-01-02  1.0  3  train  foo\n",
      "2  1.0 2013-01-02  1.0  3   test  foo\n",
      "3  1.0 2013-01-02  1.0  3  train  foo\n",
      "A           float64\n",
      "B    datetime64[ns]\n",
      "C           float32\n",
      "D             int32\n",
      "E          category\n",
      "F            object\n",
      "dtype: object\n"
     ]
    }
   ],
   "source": [
    "df2 = pd.DataFrame(\n",
    "    {\n",
    "        \"A\" : 1.0,\n",
    "        \"B\" : pd.Timestamp(\"20130102\"),\n",
    "        \"C\" : pd.Series(1, index=list(range(4)), dtype='float32'),\n",
    "        \"D\" : np.array([3] * 4, dtype='int32'),\n",
    "        \"E\" : pd.Categorical([\"test\",\"train\", \"test\", \"train\"]),\n",
    "        \"F\" : \"foo\",   \n",
    "    }\n",
    ")\n",
    "print(df2)\n",
    "print(df2.dtypes)"
   ]
  },
  {
   "cell_type": "markdown",
   "metadata": {
    "id": "w1Yi-mL9dWvu"
   },
   "source": [
    "## 데이터 보기 "
   ]
  },
  {
   "cell_type": "markdown",
   "metadata": {
    "id": "09y6TpEjdjwF"
   },
   "source": [
    "### 데이터의 상단 및 하단 행 보기"
   ]
  },
  {
   "cell_type": "code",
   "execution_count": null,
   "metadata": {
    "colab": {
     "base_uri": "https://localhost:8080/"
    },
    "id": "yIC-MWL7daAV",
    "outputId": "e8877656-83f0-48cb-cc8e-fc9e6bc4c3fb"
   },
   "outputs": [
    {
     "name": "stdout",
     "output_type": "stream",
     "text": [
      "                   A         B         C         D\n",
      "2013-01-01  0.865728  0.292457  1.067028 -0.253106\n",
      "2013-01-02 -1.909402  1.527000 -0.386110 -0.500735\n",
      "2013-01-03  0.075965  1.552591  1.350081 -1.812949\n",
      "2013-01-04 -0.887034 -0.790107 -1.427116  0.506210\n",
      "2013-01-05 -0.405688  0.656769  2.117183 -0.219086\n"
     ]
    }
   ],
   "source": [
    "print(df.head())"
   ]
  },
  {
   "cell_type": "code",
   "execution_count": null,
   "metadata": {
    "colab": {
     "base_uri": "https://localhost:8080/"
    },
    "id": "P0VFPuPUdZHF",
    "outputId": "2e9af115-8501-4939-b772-ed97258748cb"
   },
   "outputs": [
    {
     "name": "stdout",
     "output_type": "stream",
     "text": [
      "                   A         B         C         D\n",
      "2013-01-04 -0.887034 -0.790107 -1.427116  0.506210\n",
      "2013-01-05 -0.405688  0.656769  2.117183 -0.219086\n",
      "2013-01-06 -0.425787  1.433215  0.707955 -1.778100\n"
     ]
    }
   ],
   "source": [
    "print(df.tail(3))"
   ]
  },
  {
   "cell_type": "markdown",
   "metadata": {
    "id": "uyiGgYWEdnIn"
   },
   "source": [
    "### 인덱스, 열 표시 "
   ]
  },
  {
   "cell_type": "markdown",
   "metadata": {
    "id": "h0PXd7_JdvJN"
   },
   "source": [
    "- 인덱스 표시"
   ]
  },
  {
   "cell_type": "code",
   "execution_count": null,
   "metadata": {
    "colab": {
     "base_uri": "https://localhost:8080/"
    },
    "id": "vohdFT-adqnF",
    "outputId": "abf157ba-8eb3-4c13-bb52-6f3904fce99b"
   },
   "outputs": [
    {
     "name": "stdout",
     "output_type": "stream",
     "text": [
      "DatetimeIndex(['2013-01-01', '2013-01-02', '2013-01-03', '2013-01-04',\n",
      "               '2013-01-05', '2013-01-06'],\n",
      "              dtype='datetime64[ns]', freq='D')\n"
     ]
    }
   ],
   "source": [
    "print(df.index)"
   ]
  },
  {
   "cell_type": "markdown",
   "metadata": {
    "id": "QYYBmhXbdw3l"
   },
   "source": [
    "- 열 표시"
   ]
  },
  {
   "cell_type": "code",
   "execution_count": null,
   "metadata": {
    "colab": {
     "base_uri": "https://localhost:8080/"
    },
    "id": "6d_VBAf4dwlF",
    "outputId": "1a2f2a6b-f6dd-4936-d8d0-281b8c308f83"
   },
   "outputs": [
    {
     "name": "stdout",
     "output_type": "stream",
     "text": [
      "Index(['A', 'B', 'C', 'D'], dtype='object')\n"
     ]
    }
   ],
   "source": [
    "print(df.columns)"
   ]
  },
  {
   "cell_type": "markdown",
   "metadata": {
    "id": "TIPC5QFdeQde"
   },
   "source": [
    "- Numpy를 사용하여 차원형식으로 표현"
   ]
  },
  {
   "cell_type": "code",
   "execution_count": null,
   "metadata": {
    "colab": {
     "base_uri": "https://localhost:8080/"
    },
    "id": "V3xfWDJKd-CG",
    "outputId": "c65b60ab-4d57-4c06-882c-badd96ade72f"
   },
   "outputs": [
    {
     "name": "stdout",
     "output_type": "stream",
     "text": [
      "[[ 0.86572765  0.29245708  1.06702782 -0.25310621]\n",
      " [-1.9094016   1.5270004  -0.38610994 -0.5007352 ]\n",
      " [ 0.07596547  1.5525908   1.35008097 -1.81294929]\n",
      " [-0.88703364 -0.79010667 -1.42711619  0.50621017]\n",
      " [-0.40568757  0.65676859  2.11718261 -0.21908563]\n",
      " [-0.42578651  1.4332152   0.70795455 -1.77810017]]\n"
     ]
    }
   ],
   "source": [
    "print(df.to_numpy())"
   ]
  },
  {
   "cell_type": "markdown",
   "metadata": {
    "id": "xrqgXmsvejPe"
   },
   "source": [
    "- type이 여러가지인경우 상대적으로 비용이 많이든다."
   ]
  },
  {
   "cell_type": "code",
   "execution_count": null,
   "metadata": {
    "colab": {
     "base_uri": "https://localhost:8080/"
    },
    "id": "V02GlyZ4eaKs",
    "outputId": "7908e53c-0b05-47c7-d528-4edceb822635"
   },
   "outputs": [
    {
     "name": "stdout",
     "output_type": "stream",
     "text": [
      "[[1.0 Timestamp('2013-01-02 00:00:00') 1.0 3 'test' 'foo']\n",
      " [1.0 Timestamp('2013-01-02 00:00:00') 1.0 3 'train' 'foo']\n",
      " [1.0 Timestamp('2013-01-02 00:00:00') 1.0 3 'test' 'foo']\n",
      " [1.0 Timestamp('2013-01-02 00:00:00') 1.0 3 'train' 'foo']]\n"
     ]
    }
   ],
   "source": [
    "print(df2.to_numpy())"
   ]
  },
  {
   "cell_type": "markdown",
   "metadata": {
    "id": "sF6seBLueqOG"
   },
   "source": [
    "### 통계요약 "
   ]
  },
  {
   "cell_type": "code",
   "execution_count": null,
   "metadata": {
    "colab": {
     "base_uri": "https://localhost:8080/"
    },
    "id": "8-gkIAm1etRn",
    "outputId": "47ba0d27-e2db-49d5-fd39-68b9c2742e26"
   },
   "outputs": [
    {
     "name": "stdout",
     "output_type": "stream",
     "text": [
      "              A         B         C         D\n",
      "count  6.000000  6.000000  6.000000  6.000000\n",
      "mean  -0.447703  0.778654  0.571503 -0.676294\n",
      "std    0.930715  0.927330  1.278356  0.929863\n",
      "min   -1.909402 -0.790107 -1.427116 -1.812949\n",
      "25%   -0.771722  0.383535 -0.112594 -1.458759\n",
      "50%   -0.415737  1.044992  0.887491 -0.376921\n",
      "75%   -0.044448  1.503554  1.279318 -0.227591\n",
      "max    0.865728  1.552591  2.117183  0.506210\n"
     ]
    }
   ],
   "source": [
    "print(df.describe())"
   ]
  },
  {
   "cell_type": "markdown",
   "metadata": {
    "id": "Qx6PW9I8eytl"
   },
   "source": [
    "### 데이터 전치\n",
    "- 행과 열을 서로 바꿈"
   ]
  },
  {
   "cell_type": "code",
   "execution_count": null,
   "metadata": {
    "colab": {
     "base_uri": "https://localhost:8080/"
    },
    "id": "ApO7Af3_eseN",
    "outputId": "949a08dd-c6ad-4822-eae5-e034965f329a"
   },
   "outputs": [
    {
     "name": "stdout",
     "output_type": "stream",
     "text": [
      "   2013-01-01  2013-01-02  2013-01-03  2013-01-04  2013-01-05  2013-01-06\n",
      "A    0.865728   -1.909402    0.075965   -0.887034   -0.405688   -0.425787\n",
      "B    0.292457    1.527000    1.552591   -0.790107    0.656769    1.433215\n",
      "C    1.067028   -0.386110    1.350081   -1.427116    2.117183    0.707955\n",
      "D   -0.253106   -0.500735   -1.812949    0.506210   -0.219086   -1.778100\n"
     ]
    }
   ],
   "source": [
    "print(df.T)"
   ]
  },
  {
   "cell_type": "markdown",
   "metadata": {
    "id": "ga6XCDxbfDBG"
   },
   "source": [
    "### 행으로 정렬 \n",
    "- index를 기준으로 정렬\n",
    "- 기본 방식은 오름차순\n",
    "  - axis = 1 : 내림차순"
   ]
  },
  {
   "cell_type": "code",
   "execution_count": null,
   "metadata": {
    "colab": {
     "base_uri": "https://localhost:8080/"
    },
    "id": "HymJJXmIfIUd",
    "outputId": "fe863147-0d47-4550-c967-6d09f69a09df"
   },
   "outputs": [
    {
     "name": "stdout",
     "output_type": "stream",
     "text": [
      "                   D         C         B         A\n",
      "2013-01-01 -0.253106  1.067028  0.292457  0.865728\n",
      "2013-01-02 -0.500735 -0.386110  1.527000 -1.909402\n",
      "2013-01-03 -1.812949  1.350081  1.552591  0.075965\n",
      "2013-01-04  0.506210 -1.427116 -0.790107 -0.887034\n",
      "2013-01-05 -0.219086  2.117183  0.656769 -0.405688\n",
      "2013-01-06 -1.778100  0.707955  1.433215 -0.425787\n"
     ]
    }
   ],
   "source": [
    "print(df.sort_index(axis=1, ascending=False))"
   ]
  },
  {
   "cell_type": "markdown",
   "metadata": {
    "id": "zkik29EOfn75"
   },
   "source": [
    "### 열로 정렬 "
   ]
  },
  {
   "cell_type": "code",
   "execution_count": null,
   "metadata": {
    "colab": {
     "base_uri": "https://localhost:8080/"
    },
    "id": "ixOsqqSrfqMt",
    "outputId": "f403adfa-0ec3-48e3-c1b9-657ccc64c533"
   },
   "outputs": [
    {
     "name": "stdout",
     "output_type": "stream",
     "text": [
      "                   A         B         C         D\n",
      "2013-01-04 -0.887034 -0.790107 -1.427116  0.506210\n",
      "2013-01-01  0.865728  0.292457  1.067028 -0.253106\n",
      "2013-01-05 -0.405688  0.656769  2.117183 -0.219086\n",
      "2013-01-06 -0.425787  1.433215  0.707955 -1.778100\n",
      "2013-01-02 -1.909402  1.527000 -0.386110 -0.500735\n",
      "2013-01-03  0.075965  1.552591  1.350081 -1.812949\n"
     ]
    }
   ],
   "source": [
    "print(df.sort_values(by=\"B\")) # B를 기준으로 오름차순"
   ]
  },
  {
   "cell_type": "markdown",
   "metadata": {
    "id": "xsLHpGzngC4d"
   },
   "source": [
    "## 인덱싱 "
   ]
  },
  {
   "cell_type": "markdown",
   "metadata": {
    "id": "9zd7zUAjge8c"
   },
   "source": [
    "### 단일 열 \n",
    "- 결괏값이 Series로 나온다"
   ]
  },
  {
   "cell_type": "code",
   "execution_count": null,
   "metadata": {
    "colab": {
     "base_uri": "https://localhost:8080/"
    },
    "id": "1ohr3m-DgWCX",
    "outputId": "0d782a61-ec73-439d-f4bd-5f608b17869c"
   },
   "outputs": [
    {
     "name": "stdout",
     "output_type": "stream",
     "text": [
      "2013-01-01    0.865728\n",
      "2013-01-02   -1.909402\n",
      "2013-01-03    0.075965\n",
      "2013-01-04   -0.887034\n",
      "2013-01-05   -0.405688\n",
      "2013-01-06   -0.425787\n",
      "Freq: D, Name: A, dtype: float64\n"
     ]
    }
   ],
   "source": [
    "print(df[\"A\"]) "
   ]
  },
  {
   "cell_type": "markdown",
   "metadata": {
    "id": "S0bHwWCLgvzF"
   },
   "source": [
    "- 행을 슬라이스 "
   ]
  },
  {
   "cell_type": "code",
   "execution_count": null,
   "metadata": {
    "colab": {
     "base_uri": "https://localhost:8080/"
    },
    "id": "XLmIBHo1g1F9",
    "outputId": "f57c04c3-4a8b-4d00-d76d-24e8be19fda3"
   },
   "outputs": [
    {
     "name": "stdout",
     "output_type": "stream",
     "text": [
      "                   A         B         C         D\n",
      "2013-01-01  0.865728  0.292457  1.067028 -0.253106\n",
      "2013-01-02 -1.909402  1.527000 -0.386110 -0.500735\n",
      "2013-01-03  0.075965  1.552591  1.350081 -1.812949\n"
     ]
    }
   ],
   "source": [
    "print(df[0:3]) # 1~3행 까지 인덱싱"
   ]
  },
  {
   "cell_type": "markdown",
   "metadata": {
    "id": "z-fiV83igHae"
   },
   "source": [
    "### 인덱스를 기준으로 해당 인덱스에 포함되는 열값 추출"
   ]
  },
  {
   "cell_type": "code",
   "execution_count": null,
   "metadata": {
    "colab": {
     "base_uri": "https://localhost:8080/"
    },
    "id": "v0GnylbghFfF",
    "outputId": "6deb3551-b430-40be-b996-2e52b1fa7836"
   },
   "outputs": [
    {
     "name": "stdout",
     "output_type": "stream",
     "text": [
      "A    0.865728\n",
      "B    0.292457\n",
      "C    1.067028\n",
      "D   -0.253106\n",
      "Name: 2013-01-01 00:00:00, dtype: float64\n"
     ]
    }
   ],
   "source": [
    "print(df.loc[dates[0]]) # 1행의 값을 열별로 구분"
   ]
  },
  {
   "cell_type": "markdown",
   "metadata": {
    "id": "CkCiYWQ8i55F"
   },
   "source": [
    "- 다중 열 추출"
   ]
  },
  {
   "cell_type": "code",
   "execution_count": null,
   "metadata": {
    "colab": {
     "base_uri": "https://localhost:8080/"
    },
    "id": "xF9goM_bh6I-",
    "outputId": "0879bed9-a1e4-43fb-ce37-fdf6b1e4ab19"
   },
   "outputs": [
    {
     "name": "stdout",
     "output_type": "stream",
     "text": [
      "                   A         B\n",
      "2013-01-01  0.865728  0.292457\n",
      "2013-01-02 -1.909402  1.527000\n",
      "2013-01-03  0.075965  1.552591\n",
      "2013-01-04 -0.887034 -0.790107\n",
      "2013-01-05 -0.405688  0.656769\n",
      "2013-01-06 -0.425787  1.433215\n"
     ]
    }
   ],
   "source": [
    "print(df.loc[:, [\"A\", \"B\"]]) # A와 B열을 추출"
   ]
  },
  {
   "cell_type": "markdown",
   "metadata": {
    "id": "pSJ2BzAMi9z0"
   },
   "source": [
    "- 행의 범위안의 원하는 열 추출"
   ]
  },
  {
   "cell_type": "code",
   "execution_count": null,
   "metadata": {
    "colab": {
     "base_uri": "https://localhost:8080/"
    },
    "id": "m5Uud1hKiFmW",
    "outputId": "fff387a5-a81b-4c2b-9f5e-9c95e6454db3"
   },
   "outputs": [
    {
     "name": "stdout",
     "output_type": "stream",
     "text": [
      "                   A         B\n",
      "2013-01-02 -1.909402  1.527000\n",
      "2013-01-03  0.075965  1.552591\n",
      "2013-01-04 -0.887034 -0.790107\n"
     ]
    }
   ],
   "source": [
    "print(df.loc[\"20130102\":\"20130104\",[\"A\",\"B\"]]) \n",
    "# 행을 슬라이싱하여 해당 행에 포함된 A,B열의 값을 추출"
   ]
  },
  {
   "cell_type": "code",
   "execution_count": null,
   "metadata": {
    "colab": {
     "base_uri": "https://localhost:8080/"
    },
    "id": "YLKPh3CdiUi0",
    "outputId": "b7f5d4f3-bfb9-431d-d889-6638e0905390"
   },
   "outputs": [
    {
     "name": "stdout",
     "output_type": "stream",
     "text": [
      "A   -1.909402\n",
      "B    1.527000\n",
      "Name: 2013-01-02 00:00:00, dtype: float64\n"
     ]
    }
   ],
   "source": [
    "print(df.loc[\"20130102\",[\"A\",\"B\"]]) \n",
    "# 해당되는 행의 크기 축소"
   ]
  },
  {
   "cell_type": "markdown",
   "metadata": {
    "id": "7uT4ESZri0Yl"
   },
   "source": [
    "- 스칼라값 얻기"
   ]
  },
  {
   "cell_type": "code",
   "execution_count": null,
   "metadata": {
    "colab": {
     "base_uri": "https://localhost:8080/"
    },
    "id": "HlXNsHsVii4t",
    "outputId": "2d6e60cf-ca08-4856-cb68-8df47280ccce"
   },
   "outputs": [
    {
     "name": "stdout",
     "output_type": "stream",
     "text": [
      "0.8657276483198485\n"
     ]
    }
   ],
   "source": [
    "print(df.loc[dates[0],\"A\"])\n",
    "# 1행과 A열에 포함되는 값 추출\n",
    "# = df.at[dates[0],\"A\"]"
   ]
  },
  {
   "cell_type": "markdown",
   "metadata": {
    "id": "ieZoda7_ji1c"
   },
   "source": [
    "### 위치별 추출"
   ]
  },
  {
   "cell_type": "code",
   "execution_count": null,
   "metadata": {
    "colab": {
     "base_uri": "https://localhost:8080/"
    },
    "id": "VpxA_57MjqGX",
    "outputId": "f4550f02-e41d-4307-cdb3-3a0138b1fe02"
   },
   "outputs": [
    {
     "name": "stdout",
     "output_type": "stream",
     "text": [
      "A   -0.887034\n",
      "B   -0.790107\n",
      "C   -1.427116\n",
      "D    0.506210\n",
      "Name: 2013-01-04 00:00:00, dtype: float64\n"
     ]
    }
   ],
   "source": [
    "print(df.iloc[3]) # 3번째 index에 해당하는 값 추출"
   ]
  },
  {
   "cell_type": "code",
   "execution_count": null,
   "metadata": {
    "colab": {
     "base_uri": "https://localhost:8080/"
    },
    "id": "D2AJ_Tapktmd",
    "outputId": "b7f24d4c-4e75-430b-aa59-cecb399d3165"
   },
   "outputs": [
    {
     "name": "stdout",
     "output_type": "stream",
     "text": [
      "                   A         B\n",
      "2013-01-04 -0.887034 -0.790107\n",
      "2013-01-05 -0.405688  0.656769\n"
     ]
    }
   ],
   "source": [
    "print(df.iloc[3:5, 0:2]) # 3~4번째 index에 해당하는 0~1번째 열"
   ]
  },
  {
   "cell_type": "code",
   "execution_count": null,
   "metadata": {
    "colab": {
     "base_uri": "https://localhost:8080/"
    },
    "id": "p5sXHumFyA18",
    "outputId": "867a0ed7-a347-46a3-91d4-e2e036711361"
   },
   "outputs": [
    {
     "name": "stdout",
     "output_type": "stream",
     "text": [
      "                   A         C\n",
      "2013-01-02 -1.909402 -0.386110\n",
      "2013-01-03  0.075965  1.350081\n",
      "2013-01-05 -0.405688  2.117183\n"
     ]
    }
   ],
   "source": [
    "print(df.iloc[[1,2,4],[0,2]]) # 1,2,4번째 행의 0,2 번째 열 추출"
   ]
  },
  {
   "cell_type": "code",
   "execution_count": null,
   "metadata": {
    "colab": {
     "base_uri": "https://localhost:8080/"
    },
    "id": "O2qkneQbykAE",
    "outputId": "90f874b2-a899-45b3-d8cf-864d90514d74"
   },
   "outputs": [
    {
     "name": "stdout",
     "output_type": "stream",
     "text": [
      "1.5270003991486507\n"
     ]
    }
   ],
   "source": [
    "print(df.iloc[1,1]) # 1행 1열값 추출\n",
    "# = df.iat[1,1]"
   ]
  },
  {
   "cell_type": "markdown",
   "metadata": {
    "id": "YRwO_SIMgCsC"
   },
   "source": [
    "### Boolean indexing"
   ]
  },
  {
   "cell_type": "code",
   "execution_count": null,
   "metadata": {
    "colab": {
     "base_uri": "https://localhost:8080/"
    },
    "id": "4njE5lg1gYga",
    "outputId": "6e8cafe9-60d9-4269-fb20-7b88b4182fa0"
   },
   "outputs": [
    {
     "name": "stdout",
     "output_type": "stream",
     "text": [
      "                   A         B         C         D\n",
      "2013-01-01  0.865728  0.292457  1.067028 -0.253106\n",
      "2013-01-03  0.075965  1.552591  1.350081 -1.812949\n"
     ]
    }
   ],
   "source": [
    "print(df[df[\"A\"] > 0])"
   ]
  },
  {
   "cell_type": "markdown",
   "metadata": {
    "id": "2MTuBSqshaRa"
   },
   "source": [
    "- isin()필터링 사용"
   ]
  },
  {
   "cell_type": "code",
   "execution_count": null,
   "metadata": {
    "colab": {
     "base_uri": "https://localhost:8080/"
    },
    "id": "vdepkPf9gfRa",
    "outputId": "37252539-ca5a-4064-c58b-1cb6923eac55"
   },
   "outputs": [
    {
     "name": "stdout",
     "output_type": "stream",
     "text": [
      "                   A         B         C         D     E\n",
      "2013-01-03  0.075965  1.552591  1.350081 -1.812949   two\n",
      "2013-01-05 -0.405688  0.656769  2.117183 -0.219086  four\n"
     ]
    }
   ],
   "source": [
    "df2 = df.copy()\n",
    "df2[\"E\"]= [\"one\",\"one\",\"two\",\"three\",\"four\",\"three\"]\n",
    "print(df2[df2[\"E\"].isin([\"two\",\"four\"])])  \n",
    "# E라는 열에 \"two\"와 \"four\"가 포함된 행을 추출"
   ]
  },
  {
   "cell_type": "markdown",
   "metadata": {
    "id": "Y99uVHpeiAwq"
   },
   "source": [
    "### 설정 "
   ]
  },
  {
   "cell_type": "markdown",
   "metadata": {
    "id": "NPM5cIMZiE6E"
   },
   "source": [
    "- 새 열을 설정 하면 해당 인덱스별로 데이터가 자동으로 정렬 "
   ]
  },
  {
   "cell_type": "code",
   "execution_count": null,
   "metadata": {
    "colab": {
     "base_uri": "https://localhost:8080/"
    },
    "id": "sEu73HK3iKR5",
    "outputId": "a641e50f-1895-4cee-ead6-07c20c0cb265"
   },
   "outputs": [
    {
     "name": "stdout",
     "output_type": "stream",
     "text": [
      "2013-01-02    1\n",
      "2013-01-03    2\n",
      "2013-01-04    3\n",
      "2013-01-05    4\n",
      "2013-01-06    5\n",
      "2013-01-07    6\n",
      "Freq: D, dtype: int64\n"
     ]
    }
   ],
   "source": [
    "import pandas as pd\n",
    "s1 = pd.Series([1, 2, 3, 4, 5, 6], index=pd.date_range(\"20130102\", periods=6))\n",
    "print(s1)\n",
    "df[\"F\"]=s1"
   ]
  },
  {
   "cell_type": "markdown",
   "metadata": {
    "id": "1X1x4o9ciK-B"
   },
   "source": [
    "- 인덱스 지정 값 설정"
   ]
  },
  {
   "cell_type": "code",
   "execution_count": null,
   "metadata": {
    "id": "_EAea5FVhfNy"
   },
   "outputs": [],
   "source": [
    "df.at[dates[0],\"A\"] = 0"
   ]
  },
  {
   "cell_type": "markdown",
   "metadata": {
    "id": "to3cjvRNloqA"
   },
   "source": [
    "- 위치 지정 값 설정 "
   ]
  },
  {
   "cell_type": "code",
   "execution_count": null,
   "metadata": {
    "id": "wsKiwK_GlsXH"
   },
   "outputs": [],
   "source": [
    "df.iat[0,1] = 0"
   ]
  },
  {
   "cell_type": "markdown",
   "metadata": {
    "id": "EXths5gWlwEP"
   },
   "source": [
    "- Numpy 배열로 할당하여 설정 "
   ]
  },
  {
   "cell_type": "code",
   "execution_count": null,
   "metadata": {
    "id": "aSbnxHPwlz3w"
   },
   "outputs": [],
   "source": [
    "df.loc[:,\"D\"] = np.array([5] * len(df))"
   ]
  },
  {
   "cell_type": "code",
   "execution_count": null,
   "metadata": {
    "colab": {
     "base_uri": "https://localhost:8080/"
    },
    "id": "kbys-NVwl7z3",
    "outputId": "ab6dc74b-868c-4795-ec1e-000738ab7030"
   },
   "outputs": [
    {
     "name": "stdout",
     "output_type": "stream",
     "text": [
      "                   A         B         C  D    F\n",
      "2013-01-01  0.000000  0.000000  1.067028  5  NaN\n",
      "2013-01-02 -1.909402  1.527000 -0.386110  5  1.0\n",
      "2013-01-03  0.075965  1.552591  1.350081  5  2.0\n",
      "2013-01-04 -0.887034 -0.790107 -1.427116  5  3.0\n",
      "2013-01-05 -0.405688  0.656769  2.117183  5  4.0\n",
      "2013-01-06 -0.425787  1.433215  0.707955  5  5.0\n"
     ]
    }
   ],
   "source": [
    "print(df)"
   ]
  },
  {
   "cell_type": "markdown",
   "metadata": {
    "id": "K7UEUWzOmJFZ"
   },
   "source": [
    "- 설정이 있는 작업 "
   ]
  },
  {
   "cell_type": "code",
   "execution_count": null,
   "metadata": {
    "colab": {
     "base_uri": "https://localhost:8080/"
    },
    "id": "BL8Xkd3UmLvv",
    "outputId": "8d6b518c-7a73-45ee-c017-85c28e33a70c"
   },
   "outputs": [
    {
     "name": "stdout",
     "output_type": "stream",
     "text": [
      "                   A         B         C  D    F\n",
      "2013-01-01  0.000000  0.000000 -1.067028 -5  NaN\n",
      "2013-01-02 -1.909402 -1.527000 -0.386110 -5 -1.0\n",
      "2013-01-03 -0.075965 -1.552591 -1.350081 -5 -2.0\n",
      "2013-01-04 -0.887034 -0.790107 -1.427116 -5 -3.0\n",
      "2013-01-05 -0.405688 -0.656769 -2.117183 -5 -4.0\n",
      "2013-01-06 -0.425787 -1.433215 -0.707955 -5 -5.0\n"
     ]
    }
   ],
   "source": [
    "df2 = df.copy()\n",
    "df2[df2 > 0] = -df2\n",
    "print(df2)"
   ]
  },
  {
   "cell_type": "markdown",
   "metadata": {
    "id": "0n2Gti-0F1na"
   },
   "source": [
    "## 누락된 데이터"
   ]
  },
  {
   "cell_type": "code",
   "execution_count": null,
   "metadata": {
    "colab": {
     "base_uri": "https://localhost:8080/"
    },
    "id": "rZJZCZDUGBC6",
    "outputId": "d61ae6ef-5844-42de-8381-eff3ec328e29"
   },
   "outputs": [
    {
     "name": "stdout",
     "output_type": "stream",
     "text": [
      "                   A         B         C  D    F    E\n",
      "2013-01-01  0.000000  0.000000  1.067028  5  NaN  1.0\n",
      "2013-01-02 -1.909402  1.527000 -0.386110  5  1.0  1.0\n",
      "2013-01-03  0.075965  1.552591  1.350081  5  2.0  NaN\n",
      "2013-01-04 -0.887034 -0.790107 -1.427116  5  3.0  NaN\n"
     ]
    }
   ],
   "source": [
    "df1 = df.reindex(index=dates[0:4], columns=list(df.columns)+[\"E\"])\n",
    "df1.loc[dates[0] : dates[1],\"E\"] = 1\n",
    "print(df1)"
   ]
  },
  {
   "cell_type": "markdown",
   "metadata": {
    "id": "z28la6THGh7h"
   },
   "source": [
    "###  누락된 데이터가 있는 행 삭제  \n",
    "- dropna()\n",
    "  - default = dropna(axis = 'index', how = 'any')\n",
    "  - 인덱스 방향으로 훑으면서 nan값이 하나라도 있으면 해당 행 삭제"
   ]
  },
  {
   "cell_type": "code",
   "execution_count": null,
   "metadata": {
    "colab": {
     "base_uri": "https://localhost:8080/"
    },
    "id": "myD787owGm55",
    "outputId": "5f8f27c7-afe6-45f3-a4ff-c3072a129ee7"
   },
   "outputs": [
    {
     "name": "stdout",
     "output_type": "stream",
     "text": [
      "                   A      B        C  D    F    E\n",
      "2013-01-02 -1.909402  1.527 -0.38611  5  1.0  1.0\n"
     ]
    }
   ],
   "source": [
    "print(df1.dropna(how=\"any\"))"
   ]
  },
  {
   "cell_type": "markdown",
   "metadata": {
    "id": "NRc_TqmyHbUq"
   },
   "source": [
    "### 누락된 데이터 채우기\n",
    "- fillna()"
   ]
  },
  {
   "cell_type": "code",
   "execution_count": null,
   "metadata": {
    "colab": {
     "base_uri": "https://localhost:8080/"
    },
    "id": "1LZumI3_Hg-S",
    "outputId": "3f969878-47d8-4e6f-8a32-e1f103655a9a"
   },
   "outputs": [
    {
     "name": "stdout",
     "output_type": "stream",
     "text": [
      "                   A         B         C  D    F    E\n",
      "2013-01-01  0.000000  0.000000  1.067028  5  5.0  1.0\n",
      "2013-01-02 -1.909402  1.527000 -0.386110  5  1.0  1.0\n",
      "2013-01-03  0.075965  1.552591  1.350081  5  2.0  5.0\n",
      "2013-01-04 -0.887034 -0.790107 -1.427116  5  3.0  5.0\n"
     ]
    }
   ],
   "source": [
    "print(df1.fillna(value=5)) \n",
    "# nan값을 value값으로 채운다"
   ]
  },
  {
   "cell_type": "markdown",
   "metadata": {
    "id": "rgRQaRgEH7Rq"
   },
   "source": [
    "### nan값이 존재하는지 확인\n",
    "- pd.isna() "
   ]
  },
  {
   "cell_type": "code",
   "execution_count": null,
   "metadata": {
    "colab": {
     "base_uri": "https://localhost:8080/"
    },
    "id": "gC9az48eIGJD",
    "outputId": "57f978aa-423a-4368-d118-09e45b047ffc"
   },
   "outputs": [
    {
     "name": "stdout",
     "output_type": "stream",
     "text": [
      "                A      B      C      D      F      E\n",
      "2013-01-01  False  False  False  False   True  False\n",
      "2013-01-02  False  False  False  False  False  False\n",
      "2013-01-03  False  False  False  False  False   True\n",
      "2013-01-04  False  False  False  False  False   True\n"
     ]
    }
   ],
   "source": [
    "print(pd.isna(df1))"
   ]
  },
  {
   "cell_type": "markdown",
   "metadata": {
    "id": "6AmBdrwNIdjz"
   },
   "source": [
    "## Operations(작업) "
   ]
  },
  {
   "cell_type": "markdown",
   "metadata": {
    "id": "ckw6HtV1Ir4S"
   },
   "source": [
    "### 통계\n",
    "- 일반적으로 누락된 데이터는 제외 "
   ]
  },
  {
   "cell_type": "code",
   "execution_count": null,
   "metadata": {
    "colab": {
     "base_uri": "https://localhost:8080/"
    },
    "id": "HJKKXk2zIwYq",
    "outputId": "6e8b6aa9-53b0-4725-ce34-366d503514c9"
   },
   "outputs": [
    {
     "data": {
      "text/plain": [
       "A   -0.591991\n",
       "B    0.729911\n",
       "C    0.571503\n",
       "D    5.000000\n",
       "F    3.000000\n",
       "dtype: float64"
      ]
     },
     "execution_count": 38,
     "metadata": {},
     "output_type": "execute_result"
    }
   ],
   "source": [
    "df.mean()\n",
    "# 기술통계"
   ]
  },
  {
   "cell_type": "code",
   "execution_count": null,
   "metadata": {
    "colab": {
     "base_uri": "https://localhost:8080/"
    },
    "id": "-UO2EQeyI3Ga",
    "outputId": "0cfb6188-43fe-4e7d-f8d3-d6a56c4bde11"
   },
   "outputs": [
    {
     "data": {
      "text/plain": [
       "2013-01-01    1.516757\n",
       "2013-01-02    1.046298\n",
       "2013-01-03    1.995727\n",
       "2013-01-04    0.979149\n",
       "2013-01-05    2.273653\n",
       "2013-01-06    2.343077\n",
       "Freq: D, dtype: float64"
      ]
     },
     "execution_count": 39,
     "metadata": {},
     "output_type": "execute_result"
    }
   ],
   "source": [
    "df.mean(1)"
   ]
  },
  {
   "cell_type": "markdown",
   "metadata": {
    "id": "XV5yfyzvJFcq"
   },
   "source": [
    "- 차원이 다르고 정렬이 필요한 개체로 작업 "
   ]
  },
  {
   "cell_type": "code",
   "execution_count": null,
   "metadata": {
    "colab": {
     "base_uri": "https://localhost:8080/"
    },
    "id": "nMFAB5o7JJ2i",
    "outputId": "af183827-8e38-40c7-9fd1-aebbdea118c7"
   },
   "outputs": [
    {
     "data": {
      "text/plain": [
       "2013-01-01    NaN\n",
       "2013-01-02    NaN\n",
       "2013-01-03    1.0\n",
       "2013-01-04    3.0\n",
       "2013-01-05    5.0\n",
       "2013-01-06    NaN\n",
       "Freq: D, dtype: float64"
      ]
     },
     "execution_count": 40,
     "metadata": {},
     "output_type": "execute_result"
    }
   ],
   "source": [
    "s=pd.Series([1,3,5,np.nan,6,8], index=dates).shift(2)\n",
    "s"
   ]
  },
  {
   "cell_type": "markdown",
   "metadata": {
    "id": "kNPlQ3lkJdFb"
   },
   "source": [
    "- 판다스는 지정된 차원을 자동으로 브로드캐스트한다 "
   ]
  },
  {
   "cell_type": "code",
   "execution_count": null,
   "metadata": {
    "colab": {
     "base_uri": "https://localhost:8080/"
    },
    "id": "ICYkUxudJlpj",
    "outputId": "9d1677ed-4e4a-4648-882f-7e327c23eb4a"
   },
   "outputs": [
    {
     "name": "stdout",
     "output_type": "stream",
     "text": [
      "                   A         B         C    D    F\n",
      "2013-01-01       NaN       NaN       NaN  NaN  NaN\n",
      "2013-01-02       NaN       NaN       NaN  NaN  NaN\n",
      "2013-01-03 -0.924035  0.552591  0.350081  4.0  1.0\n",
      "2013-01-04 -3.887034 -3.790107 -4.427116  2.0  0.0\n",
      "2013-01-05 -5.405688 -4.343231 -2.882817  0.0 -1.0\n",
      "2013-01-06       NaN       NaN       NaN  NaN  NaN\n"
     ]
    }
   ],
   "source": [
    "print(df.sub(s,axis=\"index\"))"
   ]
  },
  {
   "cell_type": "markdown",
   "metadata": {
    "id": "tDJhca-Esinb"
   },
   "source": [
    "### 데이터에 함수 입력 "
   ]
  },
  {
   "cell_type": "code",
   "execution_count": null,
   "metadata": {
    "colab": {
     "base_uri": "https://localhost:8080/"
    },
    "id": "nd2kLHYZsomR",
    "outputId": "d644a7bc-f8b1-49dc-8cae-65fac24f0450"
   },
   "outputs": [
    {
     "name": "stdout",
     "output_type": "stream",
     "text": [
      "                   A         B         C   D     F\n",
      "2013-01-01  0.000000  0.000000  1.067028   5   NaN\n",
      "2013-01-02 -1.909402  1.527000  0.680918  10   1.0\n",
      "2013-01-03 -1.833436  3.079591  2.030999  15   3.0\n",
      "2013-01-04 -2.720470  2.289485  0.603883  20   6.0\n",
      "2013-01-05 -3.126157  2.946253  2.721065  25  10.0\n",
      "2013-01-06 -3.551944  4.379468  3.429020  30  15.0\n"
     ]
    }
   ],
   "source": [
    "print(df.apply(np.cumsum))"
   ]
  },
  {
   "cell_type": "code",
   "execution_count": null,
   "metadata": {
    "colab": {
     "base_uri": "https://localhost:8080/"
    },
    "id": "B94JpyMAxowZ",
    "outputId": "9475a579-10c8-4a9c-8845-a810a44b52b0"
   },
   "outputs": [
    {
     "data": {
      "text/plain": [
       "A    1.985367\n",
       "B    2.342697\n",
       "C    3.544299\n",
       "D    0.000000\n",
       "F    4.000000\n",
       "dtype: float64"
      ]
     },
     "execution_count": 43,
     "metadata": {},
     "output_type": "execute_result"
    }
   ],
   "source": [
    "df.apply(lambda x :x.max()-x.min())"
   ]
  },
  {
   "cell_type": "markdown",
   "metadata": {
    "id": "oKXOjbPCx2Z6"
   },
   "source": [
    "### 히스토그램\n",
    "- 분포정도"
   ]
  },
  {
   "cell_type": "code",
   "execution_count": null,
   "metadata": {
    "colab": {
     "base_uri": "https://localhost:8080/"
    },
    "id": "q4u0IFSzyMGo",
    "outputId": "37d7bbe2-3423-4fc0-9742-0a2490b4563b"
   },
   "outputs": [
    {
     "data": {
      "text/plain": [
       "0    4\n",
       "1    0\n",
       "2    2\n",
       "3    2\n",
       "4    2\n",
       "5    5\n",
       "6    6\n",
       "7    3\n",
       "8    6\n",
       "9    0\n",
       "dtype: int64"
      ]
     },
     "execution_count": 44,
     "metadata": {},
     "output_type": "execute_result"
    }
   ],
   "source": [
    "s = pd.Series(np.random.randint(0,7,size=10))\n",
    "s"
   ]
  },
  {
   "cell_type": "code",
   "execution_count": null,
   "metadata": {
    "colab": {
     "base_uri": "https://localhost:8080/"
    },
    "id": "v7fLaMm2yYT5",
    "outputId": "1d4e9313-49cf-4c6a-d809-1fa2f60e61a0"
   },
   "outputs": [
    {
     "data": {
      "text/plain": [
       "2    3\n",
       "0    2\n",
       "6    2\n",
       "4    1\n",
       "5    1\n",
       "3    1\n",
       "dtype: int64"
      ]
     },
     "execution_count": 45,
     "metadata": {},
     "output_type": "execute_result"
    }
   ],
   "source": [
    "s.value_counts()"
   ]
  },
  {
   "cell_type": "markdown",
   "metadata": {
    "id": "RvLfZHY4yiFI"
   },
   "source": [
    "### 문자열 "
   ]
  },
  {
   "cell_type": "code",
   "execution_count": null,
   "metadata": {
    "colab": {
     "base_uri": "https://localhost:8080/"
    },
    "id": "5fms57keyvpI",
    "outputId": "78f58121-efd7-4415-ca64-a0dde8ae7a95"
   },
   "outputs": [
    {
     "name": "stdout",
     "output_type": "stream",
     "text": [
      "0       a\n",
      "1       b\n",
      "2       c\n",
      "3    aaba\n",
      "4    baca\n",
      "5     NaN\n",
      "6    caba\n",
      "7     dog\n",
      "8     cat\n",
      "dtype: object\n",
      "-----upper-----\n",
      "0       A\n",
      "1       B\n",
      "2       C\n",
      "3    AABA\n",
      "4    BACA\n",
      "5     NaN\n",
      "6    CABA\n",
      "7     DOG\n",
      "8     CAT\n",
      "dtype: object\n"
     ]
    }
   ],
   "source": [
    "s = pd.Series([\"A\",'B','C','Aaba', 'Baca', np.nan, \"CABA\", \"dog\",\"cat\"])\n",
    "print(s.str.lower())\n",
    "print(\"-----upper-----\")\n",
    "print(s.str.upper())"
   ]
  },
  {
   "cell_type": "markdown",
   "metadata": {
    "id": "U_BxF-7VzTjw"
   },
   "source": [
    "## 병합 \n",
    "- Series 및 DataFrame을 쉽게 결합\n",
    "- concat"
   ]
  },
  {
   "cell_type": "code",
   "execution_count": null,
   "metadata": {
    "colab": {
     "base_uri": "https://localhost:8080/"
    },
    "id": "yQQEHNUqzU7o",
    "outputId": "76bf7875-91ee-40ee-edea-ead48daedfd2"
   },
   "outputs": [
    {
     "name": "stdout",
     "output_type": "stream",
     "text": [
      "          0         1         2         3\n",
      "0  0.449724  0.286135  0.502216  0.573424\n",
      "1  0.777551 -0.485242  1.342152 -0.293918\n",
      "2 -1.760999  1.052294  0.699095  1.558663\n",
      "3  1.535162  1.099069  0.609733 -0.577464\n",
      "4  0.987425  0.175097 -0.239427  0.011823\n",
      "5 -0.804263  0.216801  0.135882 -0.252641\n",
      "6 -0.953844  0.527005 -0.209263 -1.696837\n",
      "7 -0.726548  0.974055 -0.660680 -0.950009\n",
      "8 -0.889739 -0.793810  0.403333 -0.295826\n",
      "9  0.001348 -2.033730 -0.657308 -0.347856\n"
     ]
    }
   ],
   "source": [
    "df = pd.DataFrame(np.random.randn(10,4))\n",
    "print(df)"
   ]
  },
  {
   "cell_type": "code",
   "execution_count": null,
   "metadata": {
    "colab": {
     "base_uri": "https://localhost:8080/"
    },
    "id": "t4BBOPXMz6s4",
    "outputId": "edb59002-6e80-48d5-cf29-9b56cc6ad978"
   },
   "outputs": [
    {
     "data": {
      "text/plain": [
       "[          0         1         2         3\n",
       " 0  0.449724  0.286135  0.502216  0.573424\n",
       " 1  0.777551 -0.485242  1.342152 -0.293918\n",
       " 2 -1.760999  1.052294  0.699095  1.558663,\n",
       "           0         1         2         3\n",
       " 3  1.535162  1.099069  0.609733 -0.577464\n",
       " 4  0.987425  0.175097 -0.239427  0.011823\n",
       " 5 -0.804263  0.216801  0.135882 -0.252641\n",
       " 6 -0.953844  0.527005 -0.209263 -1.696837,\n",
       "           0         1         2         3\n",
       " 7 -0.726548  0.974055 -0.660680 -0.950009\n",
       " 8 -0.889739 -0.793810  0.403333 -0.295826\n",
       " 9  0.001348 -2.033730 -0.657308 -0.347856]"
      ]
     },
     "execution_count": 48,
     "metadata": {},
     "output_type": "execute_result"
    }
   ],
   "source": [
    "pieces = [df[:3], df[3:7],df[7:]] # 리스트형식\n",
    "pieces"
   ]
  },
  {
   "cell_type": "code",
   "execution_count": null,
   "metadata": {
    "colab": {
     "base_uri": "https://localhost:8080/"
    },
    "id": "ryFvGvz30E1h",
    "outputId": "cfa20658-b947-44fb-a08f-f216f101eab2"
   },
   "outputs": [
    {
     "name": "stdout",
     "output_type": "stream",
     "text": [
      "          0         1         2         3\n",
      "0  0.449724  0.286135  0.502216  0.573424\n",
      "1  0.777551 -0.485242  1.342152 -0.293918\n",
      "2 -1.760999  1.052294  0.699095  1.558663\n",
      "3  1.535162  1.099069  0.609733 -0.577464\n",
      "4  0.987425  0.175097 -0.239427  0.011823\n",
      "5 -0.804263  0.216801  0.135882 -0.252641\n",
      "6 -0.953844  0.527005 -0.209263 -1.696837\n",
      "7 -0.726548  0.974055 -0.660680 -0.950009\n",
      "8 -0.889739 -0.793810  0.403333 -0.295826\n",
      "9  0.001348 -2.033730 -0.657308 -0.347856\n"
     ]
    }
   ],
   "source": [
    "print(pd.concat(pieces))"
   ]
  },
  {
   "cell_type": "markdown",
   "metadata": {
    "id": "WQQ5DcYN0UBj"
   },
   "source": [
    "## Join\n",
    "- db스타일이 병합\n",
    "- merge"
   ]
  },
  {
   "cell_type": "code",
   "execution_count": null,
   "metadata": {
    "colab": {
     "base_uri": "https://localhost:8080/"
    },
    "id": "8IQN88iQ0YO7",
    "outputId": "c3200f39-ecc2-4fd9-9e91-a90026453446"
   },
   "outputs": [
    {
     "name": "stdout",
     "output_type": "stream",
     "text": [
      "   Key  lval\n",
      "0  foo     1\n",
      "1  foo     2\n",
      "----right----\n",
      "   Key  rval\n",
      "0  foo     4\n",
      "1  foo     5\n"
     ]
    }
   ],
   "source": [
    "left = pd.DataFrame({\"Key\":[\"foo\",\"foo\"], \"lval\":[1,2]})\n",
    "right = pd.DataFrame({\"Key\":[\"foo\",\"foo\"], \"rval\":[4,5]})\n",
    "print(left)\n",
    "print('----right----')\n",
    "print(right)"
   ]
  },
  {
   "cell_type": "code",
   "execution_count": null,
   "metadata": {
    "colab": {
     "base_uri": "https://localhost:8080/"
    },
    "id": "SATDlpjU14bx",
    "outputId": "195de770-5341-4a8c-efec-59ef51793ba7"
   },
   "outputs": [
    {
     "name": "stdout",
     "output_type": "stream",
     "text": [
      "   Key  lval  rval\n",
      "0  foo     1     4\n",
      "1  foo     1     5\n",
      "2  foo     2     4\n",
      "3  foo     2     5\n"
     ]
    }
   ],
   "source": [
    "print(pd.merge(left,right,on=\"Key\"))"
   ]
  },
  {
   "cell_type": "code",
   "execution_count": null,
   "metadata": {
    "colab": {
     "base_uri": "https://localhost:8080/"
    },
    "id": "vYPuDyGD2Xbo",
    "outputId": "c0588c46-c87e-4027-c231-e1d6ae3db4c8"
   },
   "outputs": [
    {
     "name": "stdout",
     "output_type": "stream",
     "text": [
      "   Key  lval\n",
      "0  foo     1\n",
      "1  bar     2\n",
      "----right----\n",
      "   Key  rval\n",
      "0  foo     4\n",
      "1  bar     5\n"
     ]
    }
   ],
   "source": [
    "left = pd.DataFrame({\"Key\":[\"foo\",\"bar\"], \"lval\":[1,2]})\n",
    "right = pd.DataFrame({\"Key\":[\"foo\",\"bar\"], \"rval\":[4,5]})\n",
    "print(left)\n",
    "print('----right----')\n",
    "print(right)"
   ]
  },
  {
   "cell_type": "code",
   "execution_count": null,
   "metadata": {
    "colab": {
     "base_uri": "https://localhost:8080/"
    },
    "id": "oJcXszDo2bgA",
    "outputId": "788de476-7e03-4771-ba1d-16fac8cb74bc"
   },
   "outputs": [
    {
     "name": "stdout",
     "output_type": "stream",
     "text": [
      "   Key  lval  rval\n",
      "0  foo     1     4\n",
      "1  bar     2     5\n"
     ]
    }
   ],
   "source": [
    "print(pd.merge(left,right,on=\"Key\"))"
   ]
  },
  {
   "cell_type": "markdown",
   "metadata": {
    "id": "4fJpQhkm2z24"
   },
   "source": [
    "## Grouping\n",
    "- 하나 이상을 포함하는 프로세스를 의미\n",
    "  - 기준에 따라 데이터를 구룹으로 분할\n",
    "  - 각 그룹에 독립적으로 기능 적용\n",
    "  - 결과를 데이터 구조로 결합 "
   ]
  },
  {
   "cell_type": "code",
   "execution_count": null,
   "metadata": {
    "colab": {
     "base_uri": "https://localhost:8080/"
    },
    "id": "WKao8aR83WHI",
    "outputId": "4848d99a-54ce-4c3d-f186-c8c659410a2d"
   },
   "outputs": [
    {
     "name": "stdout",
     "output_type": "stream",
     "text": [
      "     A      B         C         D\n",
      "0  foo    one  0.844088 -0.974067\n",
      "1  bar    one -2.392914  0.557553\n",
      "2  foo    two  0.667617  0.410376\n",
      "3  bar  three  0.271053  1.160380\n",
      "4  foo    two  0.844380 -0.665977\n",
      "5  bar    two  0.366607  1.947910\n",
      "6  foo    one -0.480591  0.607410\n",
      "7  foo  three -1.137906 -0.628921\n"
     ]
    }
   ],
   "source": [
    "df = pd.DataFrame(\n",
    "    {\n",
    "        \"A\": [\"foo\", \"bar\", \"foo\", \"bar\", \"foo\", \"bar\", \"foo\", \"foo\"],\n",
    "        \"B\": [\"one\", \"one\", \"two\", \"three\", \"two\", \"two\", \"one\", \"three\"],\n",
    "        \"C\": np.random.randn(8),\n",
    "        \"D\": np.random.randn(8),\n",
    "    }\n",
    ")\n",
    "print(df)"
   ]
  },
  {
   "cell_type": "markdown",
   "metadata": {
    "id": "HlY9d_gX3h4o"
   },
   "source": [
    "### A를 기준으로 그룹화 후 더하기 "
   ]
  },
  {
   "cell_type": "code",
   "execution_count": null,
   "metadata": {
    "colab": {
     "base_uri": "https://localhost:8080/"
    },
    "id": "yxvlNmhZ3oPX",
    "outputId": "d043bf8d-89a5-468a-effb-df21027ee566"
   },
   "outputs": [
    {
     "name": "stdout",
     "output_type": "stream",
     "text": [
      "            C         D\n",
      "A                      \n",
      "bar -1.755254  3.665843\n",
      "foo  0.737587 -1.251179\n"
     ]
    }
   ],
   "source": [
    "print(df.groupby(\"A\").sum())"
   ]
  },
  {
   "cell_type": "markdown",
   "metadata": {
    "id": "udUunSZE31Gg"
   },
   "source": [
    "### A와 B를 그룹화 후 더하기 "
   ]
  },
  {
   "cell_type": "code",
   "execution_count": null,
   "metadata": {
    "colab": {
     "base_uri": "https://localhost:8080/"
    },
    "id": "QsB0Yvll3ndH",
    "outputId": "b6de0fed-e755-4f49-d349-0df474fc93dc"
   },
   "outputs": [
    {
     "name": "stdout",
     "output_type": "stream",
     "text": [
      "                  C         D\n",
      "A   B                        \n",
      "bar one   -2.392914  0.557553\n",
      "    three  0.271053  1.160380\n",
      "    two    0.366607  1.947910\n",
      "foo one    0.363496 -0.366657\n",
      "    three -1.137906 -0.628921\n",
      "    two    1.511997 -0.255601\n"
     ]
    }
   ],
   "source": [
    "print(df.groupby([\"A\",\"B\"]).sum())"
   ]
  },
  {
   "cell_type": "markdown",
   "metadata": {
    "id": "rBcAhjFS4eRh"
   },
   "source": [
    "## Reshaping "
   ]
  },
  {
   "cell_type": "code",
   "execution_count": null,
   "metadata": {
    "id": "pKtlk9n54ix4"
   },
   "outputs": [],
   "source": [
    "tuples = list(\n",
    "    zip(\n",
    "        *[\n",
    "            [\"bar\", \"bar\", \"baz\", \"baz\", \"foo\", \"foo\", \"qux\", \"qux\"],\n",
    "            [\"one\", \"two\", \"one\", \"two\", \"one\", \"two\", \"one\", \"two\"],\n",
    "        ]\n",
    "    )\n",
    ")"
   ]
  },
  {
   "cell_type": "code",
   "execution_count": null,
   "metadata": {
    "colab": {
     "base_uri": "https://localhost:8080/"
    },
    "id": "kZXKp6EhGxB1",
    "outputId": "07f91684-7f19-43d2-b8b2-cc1aaf379742"
   },
   "outputs": [
    {
     "name": "stdout",
     "output_type": "stream",
     "text": [
      "                     A         B\n",
      "first second                    \n",
      "bar   one     2.536753 -0.409669\n",
      "      two     0.248299  0.410299\n",
      "baz   one    -0.791332 -1.745028\n",
      "      two    -1.678724 -0.540814\n"
     ]
    }
   ],
   "source": [
    "index = pd.MultiIndex.from_tuples(tuples, names=[\"first\",\"second\"])\n",
    "df = pd.DataFrame(np.random.randn(8,2), index=index, columns=[\"A\",\"B\"])\n",
    "df2 = df[:4]\n",
    "print(df2)"
   ]
  },
  {
   "cell_type": "markdown",
   "metadata": {
    "id": "QtfEeDlxHbBt"
   },
   "source": [
    "### 압축\n",
    "- stacked()"
   ]
  },
  {
   "cell_type": "code",
   "execution_count": null,
   "metadata": {
    "colab": {
     "base_uri": "https://localhost:8080/"
    },
    "id": "UWJI-SwkHUow",
    "outputId": "39c388ae-8443-4083-9023-5afb9611c575"
   },
   "outputs": [
    {
     "data": {
      "text/plain": [
       "first  second   \n",
       "bar    one     A    2.536753\n",
       "               B   -0.409669\n",
       "       two     A    0.248299\n",
       "               B    0.410299\n",
       "baz    one     A   -0.791332\n",
       "               B   -1.745028\n",
       "       two     A   -1.678724\n",
       "               B   -0.540814\n",
       "dtype: float64"
      ]
     },
     "execution_count": 59,
     "metadata": {},
     "output_type": "execute_result"
    }
   ],
   "source": [
    "stacked = df2.stack()\n",
    "stacked"
   ]
  },
  {
   "cell_type": "markdown",
   "metadata": {
    "id": "1kqm4hqlhrur"
   },
   "source": [
    "#### 역연산\n",
    "- 기본적으로 마지막 레벨의 스택을 해제한다. "
   ]
  },
  {
   "cell_type": "code",
   "execution_count": null,
   "metadata": {
    "colab": {
     "base_uri": "https://localhost:8080/",
     "height": 206
    },
    "id": "QkBi6fDThxwJ",
    "outputId": "5984db87-58b6-4231-bc14-5ba2efa8e6d9"
   },
   "outputs": [
    {
     "data": {
      "text/html": [
       "\n",
       "  <div id=\"df-7e782d4e-2c2e-4d9f-84d9-fff75c75b680\">\n",
       "    <div class=\"colab-df-container\">\n",
       "      <div>\n",
       "<style scoped>\n",
       "    .dataframe tbody tr th:only-of-type {\n",
       "        vertical-align: middle;\n",
       "    }\n",
       "\n",
       "    .dataframe tbody tr th {\n",
       "        vertical-align: top;\n",
       "    }\n",
       "\n",
       "    .dataframe thead th {\n",
       "        text-align: right;\n",
       "    }\n",
       "</style>\n",
       "<table border=\"1\" class=\"dataframe\">\n",
       "  <thead>\n",
       "    <tr style=\"text-align: right;\">\n",
       "      <th></th>\n",
       "      <th></th>\n",
       "      <th>A</th>\n",
       "      <th>B</th>\n",
       "    </tr>\n",
       "    <tr>\n",
       "      <th>first</th>\n",
       "      <th>second</th>\n",
       "      <th></th>\n",
       "      <th></th>\n",
       "    </tr>\n",
       "  </thead>\n",
       "  <tbody>\n",
       "    <tr>\n",
       "      <th rowspan=\"2\" valign=\"top\">bar</th>\n",
       "      <th>one</th>\n",
       "      <td>2.536753</td>\n",
       "      <td>-0.409669</td>\n",
       "    </tr>\n",
       "    <tr>\n",
       "      <th>two</th>\n",
       "      <td>0.248299</td>\n",
       "      <td>0.410299</td>\n",
       "    </tr>\n",
       "    <tr>\n",
       "      <th rowspan=\"2\" valign=\"top\">baz</th>\n",
       "      <th>one</th>\n",
       "      <td>-0.791332</td>\n",
       "      <td>-1.745028</td>\n",
       "    </tr>\n",
       "    <tr>\n",
       "      <th>two</th>\n",
       "      <td>-1.678724</td>\n",
       "      <td>-0.540814</td>\n",
       "    </tr>\n",
       "  </tbody>\n",
       "</table>\n",
       "</div>\n",
       "      <button class=\"colab-df-convert\" onclick=\"convertToInteractive('df-7e782d4e-2c2e-4d9f-84d9-fff75c75b680')\"\n",
       "              title=\"Convert this dataframe to an interactive table.\"\n",
       "              style=\"display:none;\">\n",
       "        \n",
       "  <svg xmlns=\"http://www.w3.org/2000/svg\" height=\"24px\"viewBox=\"0 0 24 24\"\n",
       "       width=\"24px\">\n",
       "    <path d=\"M0 0h24v24H0V0z\" fill=\"none\"/>\n",
       "    <path d=\"M18.56 5.44l.94 2.06.94-2.06 2.06-.94-2.06-.94-.94-2.06-.94 2.06-2.06.94zm-11 1L8.5 8.5l.94-2.06 2.06-.94-2.06-.94L8.5 2.5l-.94 2.06-2.06.94zm10 10l.94 2.06.94-2.06 2.06-.94-2.06-.94-.94-2.06-.94 2.06-2.06.94z\"/><path d=\"M17.41 7.96l-1.37-1.37c-.4-.4-.92-.59-1.43-.59-.52 0-1.04.2-1.43.59L10.3 9.45l-7.72 7.72c-.78.78-.78 2.05 0 2.83L4 21.41c.39.39.9.59 1.41.59.51 0 1.02-.2 1.41-.59l7.78-7.78 2.81-2.81c.8-.78.8-2.07 0-2.86zM5.41 20L4 18.59l7.72-7.72 1.47 1.35L5.41 20z\"/>\n",
       "  </svg>\n",
       "      </button>\n",
       "      \n",
       "  <style>\n",
       "    .colab-df-container {\n",
       "      display:flex;\n",
       "      flex-wrap:wrap;\n",
       "      gap: 12px;\n",
       "    }\n",
       "\n",
       "    .colab-df-convert {\n",
       "      background-color: #E8F0FE;\n",
       "      border: none;\n",
       "      border-radius: 50%;\n",
       "      cursor: pointer;\n",
       "      display: none;\n",
       "      fill: #1967D2;\n",
       "      height: 32px;\n",
       "      padding: 0 0 0 0;\n",
       "      width: 32px;\n",
       "    }\n",
       "\n",
       "    .colab-df-convert:hover {\n",
       "      background-color: #E2EBFA;\n",
       "      box-shadow: 0px 1px 2px rgba(60, 64, 67, 0.3), 0px 1px 3px 1px rgba(60, 64, 67, 0.15);\n",
       "      fill: #174EA6;\n",
       "    }\n",
       "\n",
       "    [theme=dark] .colab-df-convert {\n",
       "      background-color: #3B4455;\n",
       "      fill: #D2E3FC;\n",
       "    }\n",
       "\n",
       "    [theme=dark] .colab-df-convert:hover {\n",
       "      background-color: #434B5C;\n",
       "      box-shadow: 0px 1px 3px 1px rgba(0, 0, 0, 0.15);\n",
       "      filter: drop-shadow(0px 1px 2px rgba(0, 0, 0, 0.3));\n",
       "      fill: #FFFFFF;\n",
       "    }\n",
       "  </style>\n",
       "\n",
       "      <script>\n",
       "        const buttonEl =\n",
       "          document.querySelector('#df-7e782d4e-2c2e-4d9f-84d9-fff75c75b680 button.colab-df-convert');\n",
       "        buttonEl.style.display =\n",
       "          google.colab.kernel.accessAllowed ? 'block' : 'none';\n",
       "\n",
       "        async function convertToInteractive(key) {\n",
       "          const element = document.querySelector('#df-7e782d4e-2c2e-4d9f-84d9-fff75c75b680');\n",
       "          const dataTable =\n",
       "            await google.colab.kernel.invokeFunction('convertToInteractive',\n",
       "                                                     [key], {});\n",
       "          if (!dataTable) return;\n",
       "\n",
       "          const docLinkHtml = 'Like what you see? Visit the ' +\n",
       "            '<a target=\"_blank\" href=https://colab.research.google.com/notebooks/data_table.ipynb>data table notebook</a>'\n",
       "            + ' to learn more about interactive tables.';\n",
       "          element.innerHTML = '';\n",
       "          dataTable['output_type'] = 'display_data';\n",
       "          await google.colab.output.renderOutput(dataTable, element);\n",
       "          const docLink = document.createElement('div');\n",
       "          docLink.innerHTML = docLinkHtml;\n",
       "          element.appendChild(docLink);\n",
       "        }\n",
       "      </script>\n",
       "    </div>\n",
       "  </div>\n",
       "  "
      ],
      "text/plain": [
       "                     A         B\n",
       "first second                    \n",
       "bar   one     2.536753 -0.409669\n",
       "      two     0.248299  0.410299\n",
       "baz   one    -0.791332 -1.745028\n",
       "      two    -1.678724 -0.540814"
      ]
     },
     "execution_count": 60,
     "metadata": {},
     "output_type": "execute_result"
    }
   ],
   "source": [
    "stacked.unstack()"
   ]
  },
  {
   "cell_type": "code",
   "execution_count": null,
   "metadata": {
    "colab": {
     "base_uri": "https://localhost:8080/",
     "height": 206
    },
    "id": "TvWtP3SAwlOV",
    "outputId": "b70996a4-b44a-405f-9b15-0327236c51a4"
   },
   "outputs": [
    {
     "data": {
      "text/html": [
       "\n",
       "  <div id=\"df-7102b4b7-9e7c-481f-ba6b-47189da0300a\">\n",
       "    <div class=\"colab-df-container\">\n",
       "      <div>\n",
       "<style scoped>\n",
       "    .dataframe tbody tr th:only-of-type {\n",
       "        vertical-align: middle;\n",
       "    }\n",
       "\n",
       "    .dataframe tbody tr th {\n",
       "        vertical-align: top;\n",
       "    }\n",
       "\n",
       "    .dataframe thead th {\n",
       "        text-align: right;\n",
       "    }\n",
       "</style>\n",
       "<table border=\"1\" class=\"dataframe\">\n",
       "  <thead>\n",
       "    <tr style=\"text-align: right;\">\n",
       "      <th></th>\n",
       "      <th>second</th>\n",
       "      <th>one</th>\n",
       "      <th>two</th>\n",
       "    </tr>\n",
       "    <tr>\n",
       "      <th>first</th>\n",
       "      <th></th>\n",
       "      <th></th>\n",
       "      <th></th>\n",
       "    </tr>\n",
       "  </thead>\n",
       "  <tbody>\n",
       "    <tr>\n",
       "      <th rowspan=\"2\" valign=\"top\">bar</th>\n",
       "      <th>A</th>\n",
       "      <td>2.536753</td>\n",
       "      <td>0.248299</td>\n",
       "    </tr>\n",
       "    <tr>\n",
       "      <th>B</th>\n",
       "      <td>-0.409669</td>\n",
       "      <td>0.410299</td>\n",
       "    </tr>\n",
       "    <tr>\n",
       "      <th rowspan=\"2\" valign=\"top\">baz</th>\n",
       "      <th>A</th>\n",
       "      <td>-0.791332</td>\n",
       "      <td>-1.678724</td>\n",
       "    </tr>\n",
       "    <tr>\n",
       "      <th>B</th>\n",
       "      <td>-1.745028</td>\n",
       "      <td>-0.540814</td>\n",
       "    </tr>\n",
       "  </tbody>\n",
       "</table>\n",
       "</div>\n",
       "      <button class=\"colab-df-convert\" onclick=\"convertToInteractive('df-7102b4b7-9e7c-481f-ba6b-47189da0300a')\"\n",
       "              title=\"Convert this dataframe to an interactive table.\"\n",
       "              style=\"display:none;\">\n",
       "        \n",
       "  <svg xmlns=\"http://www.w3.org/2000/svg\" height=\"24px\"viewBox=\"0 0 24 24\"\n",
       "       width=\"24px\">\n",
       "    <path d=\"M0 0h24v24H0V0z\" fill=\"none\"/>\n",
       "    <path d=\"M18.56 5.44l.94 2.06.94-2.06 2.06-.94-2.06-.94-.94-2.06-.94 2.06-2.06.94zm-11 1L8.5 8.5l.94-2.06 2.06-.94-2.06-.94L8.5 2.5l-.94 2.06-2.06.94zm10 10l.94 2.06.94-2.06 2.06-.94-2.06-.94-.94-2.06-.94 2.06-2.06.94z\"/><path d=\"M17.41 7.96l-1.37-1.37c-.4-.4-.92-.59-1.43-.59-.52 0-1.04.2-1.43.59L10.3 9.45l-7.72 7.72c-.78.78-.78 2.05 0 2.83L4 21.41c.39.39.9.59 1.41.59.51 0 1.02-.2 1.41-.59l7.78-7.78 2.81-2.81c.8-.78.8-2.07 0-2.86zM5.41 20L4 18.59l7.72-7.72 1.47 1.35L5.41 20z\"/>\n",
       "  </svg>\n",
       "      </button>\n",
       "      \n",
       "  <style>\n",
       "    .colab-df-container {\n",
       "      display:flex;\n",
       "      flex-wrap:wrap;\n",
       "      gap: 12px;\n",
       "    }\n",
       "\n",
       "    .colab-df-convert {\n",
       "      background-color: #E8F0FE;\n",
       "      border: none;\n",
       "      border-radius: 50%;\n",
       "      cursor: pointer;\n",
       "      display: none;\n",
       "      fill: #1967D2;\n",
       "      height: 32px;\n",
       "      padding: 0 0 0 0;\n",
       "      width: 32px;\n",
       "    }\n",
       "\n",
       "    .colab-df-convert:hover {\n",
       "      background-color: #E2EBFA;\n",
       "      box-shadow: 0px 1px 2px rgba(60, 64, 67, 0.3), 0px 1px 3px 1px rgba(60, 64, 67, 0.15);\n",
       "      fill: #174EA6;\n",
       "    }\n",
       "\n",
       "    [theme=dark] .colab-df-convert {\n",
       "      background-color: #3B4455;\n",
       "      fill: #D2E3FC;\n",
       "    }\n",
       "\n",
       "    [theme=dark] .colab-df-convert:hover {\n",
       "      background-color: #434B5C;\n",
       "      box-shadow: 0px 1px 3px 1px rgba(0, 0, 0, 0.15);\n",
       "      filter: drop-shadow(0px 1px 2px rgba(0, 0, 0, 0.3));\n",
       "      fill: #FFFFFF;\n",
       "    }\n",
       "  </style>\n",
       "\n",
       "      <script>\n",
       "        const buttonEl =\n",
       "          document.querySelector('#df-7102b4b7-9e7c-481f-ba6b-47189da0300a button.colab-df-convert');\n",
       "        buttonEl.style.display =\n",
       "          google.colab.kernel.accessAllowed ? 'block' : 'none';\n",
       "\n",
       "        async function convertToInteractive(key) {\n",
       "          const element = document.querySelector('#df-7102b4b7-9e7c-481f-ba6b-47189da0300a');\n",
       "          const dataTable =\n",
       "            await google.colab.kernel.invokeFunction('convertToInteractive',\n",
       "                                                     [key], {});\n",
       "          if (!dataTable) return;\n",
       "\n",
       "          const docLinkHtml = 'Like what you see? Visit the ' +\n",
       "            '<a target=\"_blank\" href=https://colab.research.google.com/notebooks/data_table.ipynb>data table notebook</a>'\n",
       "            + ' to learn more about interactive tables.';\n",
       "          element.innerHTML = '';\n",
       "          dataTable['output_type'] = 'display_data';\n",
       "          await google.colab.output.renderOutput(dataTable, element);\n",
       "          const docLink = document.createElement('div');\n",
       "          docLink.innerHTML = docLinkHtml;\n",
       "          element.appendChild(docLink);\n",
       "        }\n",
       "      </script>\n",
       "    </div>\n",
       "  </div>\n",
       "  "
      ],
      "text/plain": [
       "second        one       two\n",
       "first                      \n",
       "bar   A  2.536753  0.248299\n",
       "      B -0.409669  0.410299\n",
       "baz   A -0.791332 -1.678724\n",
       "      B -1.745028 -0.540814"
      ]
     },
     "execution_count": 61,
     "metadata": {},
     "output_type": "execute_result"
    }
   ],
   "source": [
    "stacked.unstack(1)"
   ]
  },
  {
   "cell_type": "code",
   "execution_count": null,
   "metadata": {
    "colab": {
     "base_uri": "https://localhost:8080/",
     "height": 206
    },
    "id": "7lpmgsbfwptd",
    "outputId": "a7ca19aa-e83a-4a20-f4e5-c5b0fcd98f93"
   },
   "outputs": [
    {
     "data": {
      "text/html": [
       "\n",
       "  <div id=\"df-9ded9c36-310c-40d0-b603-267ce2d5171d\">\n",
       "    <div class=\"colab-df-container\">\n",
       "      <div>\n",
       "<style scoped>\n",
       "    .dataframe tbody tr th:only-of-type {\n",
       "        vertical-align: middle;\n",
       "    }\n",
       "\n",
       "    .dataframe tbody tr th {\n",
       "        vertical-align: top;\n",
       "    }\n",
       "\n",
       "    .dataframe thead th {\n",
       "        text-align: right;\n",
       "    }\n",
       "</style>\n",
       "<table border=\"1\" class=\"dataframe\">\n",
       "  <thead>\n",
       "    <tr style=\"text-align: right;\">\n",
       "      <th></th>\n",
       "      <th>first</th>\n",
       "      <th>bar</th>\n",
       "      <th>baz</th>\n",
       "    </tr>\n",
       "    <tr>\n",
       "      <th>second</th>\n",
       "      <th></th>\n",
       "      <th></th>\n",
       "      <th></th>\n",
       "    </tr>\n",
       "  </thead>\n",
       "  <tbody>\n",
       "    <tr>\n",
       "      <th rowspan=\"2\" valign=\"top\">one</th>\n",
       "      <th>A</th>\n",
       "      <td>2.536753</td>\n",
       "      <td>-0.791332</td>\n",
       "    </tr>\n",
       "    <tr>\n",
       "      <th>B</th>\n",
       "      <td>-0.409669</td>\n",
       "      <td>-1.745028</td>\n",
       "    </tr>\n",
       "    <tr>\n",
       "      <th rowspan=\"2\" valign=\"top\">two</th>\n",
       "      <th>A</th>\n",
       "      <td>0.248299</td>\n",
       "      <td>-1.678724</td>\n",
       "    </tr>\n",
       "    <tr>\n",
       "      <th>B</th>\n",
       "      <td>0.410299</td>\n",
       "      <td>-0.540814</td>\n",
       "    </tr>\n",
       "  </tbody>\n",
       "</table>\n",
       "</div>\n",
       "      <button class=\"colab-df-convert\" onclick=\"convertToInteractive('df-9ded9c36-310c-40d0-b603-267ce2d5171d')\"\n",
       "              title=\"Convert this dataframe to an interactive table.\"\n",
       "              style=\"display:none;\">\n",
       "        \n",
       "  <svg xmlns=\"http://www.w3.org/2000/svg\" height=\"24px\"viewBox=\"0 0 24 24\"\n",
       "       width=\"24px\">\n",
       "    <path d=\"M0 0h24v24H0V0z\" fill=\"none\"/>\n",
       "    <path d=\"M18.56 5.44l.94 2.06.94-2.06 2.06-.94-2.06-.94-.94-2.06-.94 2.06-2.06.94zm-11 1L8.5 8.5l.94-2.06 2.06-.94-2.06-.94L8.5 2.5l-.94 2.06-2.06.94zm10 10l.94 2.06.94-2.06 2.06-.94-2.06-.94-.94-2.06-.94 2.06-2.06.94z\"/><path d=\"M17.41 7.96l-1.37-1.37c-.4-.4-.92-.59-1.43-.59-.52 0-1.04.2-1.43.59L10.3 9.45l-7.72 7.72c-.78.78-.78 2.05 0 2.83L4 21.41c.39.39.9.59 1.41.59.51 0 1.02-.2 1.41-.59l7.78-7.78 2.81-2.81c.8-.78.8-2.07 0-2.86zM5.41 20L4 18.59l7.72-7.72 1.47 1.35L5.41 20z\"/>\n",
       "  </svg>\n",
       "      </button>\n",
       "      \n",
       "  <style>\n",
       "    .colab-df-container {\n",
       "      display:flex;\n",
       "      flex-wrap:wrap;\n",
       "      gap: 12px;\n",
       "    }\n",
       "\n",
       "    .colab-df-convert {\n",
       "      background-color: #E8F0FE;\n",
       "      border: none;\n",
       "      border-radius: 50%;\n",
       "      cursor: pointer;\n",
       "      display: none;\n",
       "      fill: #1967D2;\n",
       "      height: 32px;\n",
       "      padding: 0 0 0 0;\n",
       "      width: 32px;\n",
       "    }\n",
       "\n",
       "    .colab-df-convert:hover {\n",
       "      background-color: #E2EBFA;\n",
       "      box-shadow: 0px 1px 2px rgba(60, 64, 67, 0.3), 0px 1px 3px 1px rgba(60, 64, 67, 0.15);\n",
       "      fill: #174EA6;\n",
       "    }\n",
       "\n",
       "    [theme=dark] .colab-df-convert {\n",
       "      background-color: #3B4455;\n",
       "      fill: #D2E3FC;\n",
       "    }\n",
       "\n",
       "    [theme=dark] .colab-df-convert:hover {\n",
       "      background-color: #434B5C;\n",
       "      box-shadow: 0px 1px 3px 1px rgba(0, 0, 0, 0.15);\n",
       "      filter: drop-shadow(0px 1px 2px rgba(0, 0, 0, 0.3));\n",
       "      fill: #FFFFFF;\n",
       "    }\n",
       "  </style>\n",
       "\n",
       "      <script>\n",
       "        const buttonEl =\n",
       "          document.querySelector('#df-9ded9c36-310c-40d0-b603-267ce2d5171d button.colab-df-convert');\n",
       "        buttonEl.style.display =\n",
       "          google.colab.kernel.accessAllowed ? 'block' : 'none';\n",
       "\n",
       "        async function convertToInteractive(key) {\n",
       "          const element = document.querySelector('#df-9ded9c36-310c-40d0-b603-267ce2d5171d');\n",
       "          const dataTable =\n",
       "            await google.colab.kernel.invokeFunction('convertToInteractive',\n",
       "                                                     [key], {});\n",
       "          if (!dataTable) return;\n",
       "\n",
       "          const docLinkHtml = 'Like what you see? Visit the ' +\n",
       "            '<a target=\"_blank\" href=https://colab.research.google.com/notebooks/data_table.ipynb>data table notebook</a>'\n",
       "            + ' to learn more about interactive tables.';\n",
       "          element.innerHTML = '';\n",
       "          dataTable['output_type'] = 'display_data';\n",
       "          await google.colab.output.renderOutput(dataTable, element);\n",
       "          const docLink = document.createElement('div');\n",
       "          docLink.innerHTML = docLinkHtml;\n",
       "          element.appendChild(docLink);\n",
       "        }\n",
       "      </script>\n",
       "    </div>\n",
       "  </div>\n",
       "  "
      ],
      "text/plain": [
       "first          bar       baz\n",
       "second                      \n",
       "one    A  2.536753 -0.791332\n",
       "       B -0.409669 -1.745028\n",
       "two    A  0.248299 -1.678724\n",
       "       B  0.410299 -0.540814"
      ]
     },
     "execution_count": 62,
     "metadata": {},
     "output_type": "execute_result"
    }
   ],
   "source": [
    "stacked.unstack(0)"
   ]
  },
  {
   "cell_type": "markdown",
   "metadata": {
    "id": "Qrqnjxh5wuk9"
   },
   "source": [
    "### Pivot table\n",
    "- 데이터프레임의 액셀화 "
   ]
  },
  {
   "cell_type": "markdown",
   "metadata": {
    "id": "rdTNlud4yVEm"
   },
   "source": [
    "- 데이터 불러오기"
   ]
  },
  {
   "cell_type": "code",
   "execution_count": null,
   "metadata": {
    "colab": {
     "base_uri": "https://localhost:8080/",
     "height": 426
    },
    "id": "LhngfEDAxZ-d",
    "outputId": "b4501efc-e521-4676-c73c-ff182d9d4da6"
   },
   "outputs": [
    {
     "data": {
      "text/html": [
       "\n",
       "  <div id=\"df-fa05ce2d-067b-468a-ba23-e4cfdde96e51\">\n",
       "    <div class=\"colab-df-container\">\n",
       "      <div>\n",
       "<style scoped>\n",
       "    .dataframe tbody tr th:only-of-type {\n",
       "        vertical-align: middle;\n",
       "    }\n",
       "\n",
       "    .dataframe tbody tr th {\n",
       "        vertical-align: top;\n",
       "    }\n",
       "\n",
       "    .dataframe thead th {\n",
       "        text-align: right;\n",
       "    }\n",
       "</style>\n",
       "<table border=\"1\" class=\"dataframe\">\n",
       "  <thead>\n",
       "    <tr style=\"text-align: right;\">\n",
       "      <th></th>\n",
       "      <th>A</th>\n",
       "      <th>B</th>\n",
       "      <th>C</th>\n",
       "      <th>D</th>\n",
       "      <th>E</th>\n",
       "    </tr>\n",
       "  </thead>\n",
       "  <tbody>\n",
       "    <tr>\n",
       "      <th>0</th>\n",
       "      <td>one</td>\n",
       "      <td>A</td>\n",
       "      <td>foo</td>\n",
       "      <td>0.472353</td>\n",
       "      <td>1.319584</td>\n",
       "    </tr>\n",
       "    <tr>\n",
       "      <th>1</th>\n",
       "      <td>one</td>\n",
       "      <td>B</td>\n",
       "      <td>foo</td>\n",
       "      <td>0.814895</td>\n",
       "      <td>0.186319</td>\n",
       "    </tr>\n",
       "    <tr>\n",
       "      <th>2</th>\n",
       "      <td>two</td>\n",
       "      <td>C</td>\n",
       "      <td>foo</td>\n",
       "      <td>-1.231097</td>\n",
       "      <td>0.146430</td>\n",
       "    </tr>\n",
       "    <tr>\n",
       "      <th>3</th>\n",
       "      <td>three</td>\n",
       "      <td>A</td>\n",
       "      <td>bar</td>\n",
       "      <td>-0.048371</td>\n",
       "      <td>0.301440</td>\n",
       "    </tr>\n",
       "    <tr>\n",
       "      <th>4</th>\n",
       "      <td>one</td>\n",
       "      <td>B</td>\n",
       "      <td>bar</td>\n",
       "      <td>0.118259</td>\n",
       "      <td>-0.269829</td>\n",
       "    </tr>\n",
       "    <tr>\n",
       "      <th>5</th>\n",
       "      <td>one</td>\n",
       "      <td>C</td>\n",
       "      <td>bar</td>\n",
       "      <td>1.188139</td>\n",
       "      <td>-1.339077</td>\n",
       "    </tr>\n",
       "    <tr>\n",
       "      <th>6</th>\n",
       "      <td>two</td>\n",
       "      <td>A</td>\n",
       "      <td>foo</td>\n",
       "      <td>1.183869</td>\n",
       "      <td>-0.878976</td>\n",
       "    </tr>\n",
       "    <tr>\n",
       "      <th>7</th>\n",
       "      <td>three</td>\n",
       "      <td>B</td>\n",
       "      <td>foo</td>\n",
       "      <td>-0.419601</td>\n",
       "      <td>0.990978</td>\n",
       "    </tr>\n",
       "    <tr>\n",
       "      <th>8</th>\n",
       "      <td>one</td>\n",
       "      <td>C</td>\n",
       "      <td>foo</td>\n",
       "      <td>-0.613792</td>\n",
       "      <td>-1.098215</td>\n",
       "    </tr>\n",
       "    <tr>\n",
       "      <th>9</th>\n",
       "      <td>one</td>\n",
       "      <td>A</td>\n",
       "      <td>bar</td>\n",
       "      <td>-0.002902</td>\n",
       "      <td>-0.330832</td>\n",
       "    </tr>\n",
       "    <tr>\n",
       "      <th>10</th>\n",
       "      <td>two</td>\n",
       "      <td>B</td>\n",
       "      <td>bar</td>\n",
       "      <td>-0.253640</td>\n",
       "      <td>0.929601</td>\n",
       "    </tr>\n",
       "    <tr>\n",
       "      <th>11</th>\n",
       "      <td>three</td>\n",
       "      <td>C</td>\n",
       "      <td>bar</td>\n",
       "      <td>-0.666981</td>\n",
       "      <td>-0.285138</td>\n",
       "    </tr>\n",
       "  </tbody>\n",
       "</table>\n",
       "</div>\n",
       "      <button class=\"colab-df-convert\" onclick=\"convertToInteractive('df-fa05ce2d-067b-468a-ba23-e4cfdde96e51')\"\n",
       "              title=\"Convert this dataframe to an interactive table.\"\n",
       "              style=\"display:none;\">\n",
       "        \n",
       "  <svg xmlns=\"http://www.w3.org/2000/svg\" height=\"24px\"viewBox=\"0 0 24 24\"\n",
       "       width=\"24px\">\n",
       "    <path d=\"M0 0h24v24H0V0z\" fill=\"none\"/>\n",
       "    <path d=\"M18.56 5.44l.94 2.06.94-2.06 2.06-.94-2.06-.94-.94-2.06-.94 2.06-2.06.94zm-11 1L8.5 8.5l.94-2.06 2.06-.94-2.06-.94L8.5 2.5l-.94 2.06-2.06.94zm10 10l.94 2.06.94-2.06 2.06-.94-2.06-.94-.94-2.06-.94 2.06-2.06.94z\"/><path d=\"M17.41 7.96l-1.37-1.37c-.4-.4-.92-.59-1.43-.59-.52 0-1.04.2-1.43.59L10.3 9.45l-7.72 7.72c-.78.78-.78 2.05 0 2.83L4 21.41c.39.39.9.59 1.41.59.51 0 1.02-.2 1.41-.59l7.78-7.78 2.81-2.81c.8-.78.8-2.07 0-2.86zM5.41 20L4 18.59l7.72-7.72 1.47 1.35L5.41 20z\"/>\n",
       "  </svg>\n",
       "      </button>\n",
       "      \n",
       "  <style>\n",
       "    .colab-df-container {\n",
       "      display:flex;\n",
       "      flex-wrap:wrap;\n",
       "      gap: 12px;\n",
       "    }\n",
       "\n",
       "    .colab-df-convert {\n",
       "      background-color: #E8F0FE;\n",
       "      border: none;\n",
       "      border-radius: 50%;\n",
       "      cursor: pointer;\n",
       "      display: none;\n",
       "      fill: #1967D2;\n",
       "      height: 32px;\n",
       "      padding: 0 0 0 0;\n",
       "      width: 32px;\n",
       "    }\n",
       "\n",
       "    .colab-df-convert:hover {\n",
       "      background-color: #E2EBFA;\n",
       "      box-shadow: 0px 1px 2px rgba(60, 64, 67, 0.3), 0px 1px 3px 1px rgba(60, 64, 67, 0.15);\n",
       "      fill: #174EA6;\n",
       "    }\n",
       "\n",
       "    [theme=dark] .colab-df-convert {\n",
       "      background-color: #3B4455;\n",
       "      fill: #D2E3FC;\n",
       "    }\n",
       "\n",
       "    [theme=dark] .colab-df-convert:hover {\n",
       "      background-color: #434B5C;\n",
       "      box-shadow: 0px 1px 3px 1px rgba(0, 0, 0, 0.15);\n",
       "      filter: drop-shadow(0px 1px 2px rgba(0, 0, 0, 0.3));\n",
       "      fill: #FFFFFF;\n",
       "    }\n",
       "  </style>\n",
       "\n",
       "      <script>\n",
       "        const buttonEl =\n",
       "          document.querySelector('#df-fa05ce2d-067b-468a-ba23-e4cfdde96e51 button.colab-df-convert');\n",
       "        buttonEl.style.display =\n",
       "          google.colab.kernel.accessAllowed ? 'block' : 'none';\n",
       "\n",
       "        async function convertToInteractive(key) {\n",
       "          const element = document.querySelector('#df-fa05ce2d-067b-468a-ba23-e4cfdde96e51');\n",
       "          const dataTable =\n",
       "            await google.colab.kernel.invokeFunction('convertToInteractive',\n",
       "                                                     [key], {});\n",
       "          if (!dataTable) return;\n",
       "\n",
       "          const docLinkHtml = 'Like what you see? Visit the ' +\n",
       "            '<a target=\"_blank\" href=https://colab.research.google.com/notebooks/data_table.ipynb>data table notebook</a>'\n",
       "            + ' to learn more about interactive tables.';\n",
       "          element.innerHTML = '';\n",
       "          dataTable['output_type'] = 'display_data';\n",
       "          await google.colab.output.renderOutput(dataTable, element);\n",
       "          const docLink = document.createElement('div');\n",
       "          docLink.innerHTML = docLinkHtml;\n",
       "          element.appendChild(docLink);\n",
       "        }\n",
       "      </script>\n",
       "    </div>\n",
       "  </div>\n",
       "  "
      ],
      "text/plain": [
       "        A  B    C         D         E\n",
       "0     one  A  foo  0.472353  1.319584\n",
       "1     one  B  foo  0.814895  0.186319\n",
       "2     two  C  foo -1.231097  0.146430\n",
       "3   three  A  bar -0.048371  0.301440\n",
       "4     one  B  bar  0.118259 -0.269829\n",
       "5     one  C  bar  1.188139 -1.339077\n",
       "6     two  A  foo  1.183869 -0.878976\n",
       "7   three  B  foo -0.419601  0.990978\n",
       "8     one  C  foo -0.613792 -1.098215\n",
       "9     one  A  bar -0.002902 -0.330832\n",
       "10    two  B  bar -0.253640  0.929601\n",
       "11  three  C  bar -0.666981 -0.285138"
      ]
     },
     "execution_count": 63,
     "metadata": {},
     "output_type": "execute_result"
    }
   ],
   "source": [
    "df = pd.DataFrame(\n",
    "    {\n",
    "        \"A\":[\"one\", \"one\", \"two\", \"three\"] * 3,\n",
    "        \"B\":[\"A\",\"B\",\"C\"] * 4,\n",
    "        \"C\":[\"foo\", \"foo\", \"foo\", \"bar\", \"bar\", \"bar\"]*2,\n",
    "        \"D\":np.random.randn(12),\n",
    "        \"E\":np.random.randn(12),\n",
    "    }\n",
    ")\n",
    "df"
   ]
  },
  {
   "cell_type": "markdown",
   "metadata": {
    "id": "qwdftX_pyS-G"
   },
   "source": [
    "- 피벗테이블 만들기 "
   ]
  },
  {
   "cell_type": "code",
   "execution_count": null,
   "metadata": {
    "colab": {
     "base_uri": "https://localhost:8080/",
     "height": 363
    },
    "id": "vdohx1YgyYVt",
    "outputId": "9268cf0b-84a2-4bc7-c767-c34a7a62a561"
   },
   "outputs": [
    {
     "data": {
      "text/html": [
       "\n",
       "  <div id=\"df-a59c0ebb-b0bf-477a-90e0-523290a3d371\">\n",
       "    <div class=\"colab-df-container\">\n",
       "      <div>\n",
       "<style scoped>\n",
       "    .dataframe tbody tr th:only-of-type {\n",
       "        vertical-align: middle;\n",
       "    }\n",
       "\n",
       "    .dataframe tbody tr th {\n",
       "        vertical-align: top;\n",
       "    }\n",
       "\n",
       "    .dataframe thead th {\n",
       "        text-align: right;\n",
       "    }\n",
       "</style>\n",
       "<table border=\"1\" class=\"dataframe\">\n",
       "  <thead>\n",
       "    <tr style=\"text-align: right;\">\n",
       "      <th></th>\n",
       "      <th>C</th>\n",
       "      <th>bar</th>\n",
       "      <th>foo</th>\n",
       "    </tr>\n",
       "    <tr>\n",
       "      <th>A</th>\n",
       "      <th>B</th>\n",
       "      <th></th>\n",
       "      <th></th>\n",
       "    </tr>\n",
       "  </thead>\n",
       "  <tbody>\n",
       "    <tr>\n",
       "      <th rowspan=\"3\" valign=\"top\">one</th>\n",
       "      <th>A</th>\n",
       "      <td>-0.002902</td>\n",
       "      <td>0.472353</td>\n",
       "    </tr>\n",
       "    <tr>\n",
       "      <th>B</th>\n",
       "      <td>0.118259</td>\n",
       "      <td>0.814895</td>\n",
       "    </tr>\n",
       "    <tr>\n",
       "      <th>C</th>\n",
       "      <td>1.188139</td>\n",
       "      <td>-0.613792</td>\n",
       "    </tr>\n",
       "    <tr>\n",
       "      <th rowspan=\"3\" valign=\"top\">three</th>\n",
       "      <th>A</th>\n",
       "      <td>-0.048371</td>\n",
       "      <td>NaN</td>\n",
       "    </tr>\n",
       "    <tr>\n",
       "      <th>B</th>\n",
       "      <td>NaN</td>\n",
       "      <td>-0.419601</td>\n",
       "    </tr>\n",
       "    <tr>\n",
       "      <th>C</th>\n",
       "      <td>-0.666981</td>\n",
       "      <td>NaN</td>\n",
       "    </tr>\n",
       "    <tr>\n",
       "      <th rowspan=\"3\" valign=\"top\">two</th>\n",
       "      <th>A</th>\n",
       "      <td>NaN</td>\n",
       "      <td>1.183869</td>\n",
       "    </tr>\n",
       "    <tr>\n",
       "      <th>B</th>\n",
       "      <td>-0.253640</td>\n",
       "      <td>NaN</td>\n",
       "    </tr>\n",
       "    <tr>\n",
       "      <th>C</th>\n",
       "      <td>NaN</td>\n",
       "      <td>-1.231097</td>\n",
       "    </tr>\n",
       "  </tbody>\n",
       "</table>\n",
       "</div>\n",
       "      <button class=\"colab-df-convert\" onclick=\"convertToInteractive('df-a59c0ebb-b0bf-477a-90e0-523290a3d371')\"\n",
       "              title=\"Convert this dataframe to an interactive table.\"\n",
       "              style=\"display:none;\">\n",
       "        \n",
       "  <svg xmlns=\"http://www.w3.org/2000/svg\" height=\"24px\"viewBox=\"0 0 24 24\"\n",
       "       width=\"24px\">\n",
       "    <path d=\"M0 0h24v24H0V0z\" fill=\"none\"/>\n",
       "    <path d=\"M18.56 5.44l.94 2.06.94-2.06 2.06-.94-2.06-.94-.94-2.06-.94 2.06-2.06.94zm-11 1L8.5 8.5l.94-2.06 2.06-.94-2.06-.94L8.5 2.5l-.94 2.06-2.06.94zm10 10l.94 2.06.94-2.06 2.06-.94-2.06-.94-.94-2.06-.94 2.06-2.06.94z\"/><path d=\"M17.41 7.96l-1.37-1.37c-.4-.4-.92-.59-1.43-.59-.52 0-1.04.2-1.43.59L10.3 9.45l-7.72 7.72c-.78.78-.78 2.05 0 2.83L4 21.41c.39.39.9.59 1.41.59.51 0 1.02-.2 1.41-.59l7.78-7.78 2.81-2.81c.8-.78.8-2.07 0-2.86zM5.41 20L4 18.59l7.72-7.72 1.47 1.35L5.41 20z\"/>\n",
       "  </svg>\n",
       "      </button>\n",
       "      \n",
       "  <style>\n",
       "    .colab-df-container {\n",
       "      display:flex;\n",
       "      flex-wrap:wrap;\n",
       "      gap: 12px;\n",
       "    }\n",
       "\n",
       "    .colab-df-convert {\n",
       "      background-color: #E8F0FE;\n",
       "      border: none;\n",
       "      border-radius: 50%;\n",
       "      cursor: pointer;\n",
       "      display: none;\n",
       "      fill: #1967D2;\n",
       "      height: 32px;\n",
       "      padding: 0 0 0 0;\n",
       "      width: 32px;\n",
       "    }\n",
       "\n",
       "    .colab-df-convert:hover {\n",
       "      background-color: #E2EBFA;\n",
       "      box-shadow: 0px 1px 2px rgba(60, 64, 67, 0.3), 0px 1px 3px 1px rgba(60, 64, 67, 0.15);\n",
       "      fill: #174EA6;\n",
       "    }\n",
       "\n",
       "    [theme=dark] .colab-df-convert {\n",
       "      background-color: #3B4455;\n",
       "      fill: #D2E3FC;\n",
       "    }\n",
       "\n",
       "    [theme=dark] .colab-df-convert:hover {\n",
       "      background-color: #434B5C;\n",
       "      box-shadow: 0px 1px 3px 1px rgba(0, 0, 0, 0.15);\n",
       "      filter: drop-shadow(0px 1px 2px rgba(0, 0, 0, 0.3));\n",
       "      fill: #FFFFFF;\n",
       "    }\n",
       "  </style>\n",
       "\n",
       "      <script>\n",
       "        const buttonEl =\n",
       "          document.querySelector('#df-a59c0ebb-b0bf-477a-90e0-523290a3d371 button.colab-df-convert');\n",
       "        buttonEl.style.display =\n",
       "          google.colab.kernel.accessAllowed ? 'block' : 'none';\n",
       "\n",
       "        async function convertToInteractive(key) {\n",
       "          const element = document.querySelector('#df-a59c0ebb-b0bf-477a-90e0-523290a3d371');\n",
       "          const dataTable =\n",
       "            await google.colab.kernel.invokeFunction('convertToInteractive',\n",
       "                                                     [key], {});\n",
       "          if (!dataTable) return;\n",
       "\n",
       "          const docLinkHtml = 'Like what you see? Visit the ' +\n",
       "            '<a target=\"_blank\" href=https://colab.research.google.com/notebooks/data_table.ipynb>data table notebook</a>'\n",
       "            + ' to learn more about interactive tables.';\n",
       "          element.innerHTML = '';\n",
       "          dataTable['output_type'] = 'display_data';\n",
       "          await google.colab.output.renderOutput(dataTable, element);\n",
       "          const docLink = document.createElement('div');\n",
       "          docLink.innerHTML = docLinkHtml;\n",
       "          element.appendChild(docLink);\n",
       "        }\n",
       "      </script>\n",
       "    </div>\n",
       "  </div>\n",
       "  "
      ],
      "text/plain": [
       "C             bar       foo\n",
       "A     B                    \n",
       "one   A -0.002902  0.472353\n",
       "      B  0.118259  0.814895\n",
       "      C  1.188139 -0.613792\n",
       "three A -0.048371       NaN\n",
       "      B       NaN -0.419601\n",
       "      C -0.666981       NaN\n",
       "two   A       NaN  1.183869\n",
       "      B -0.253640       NaN\n",
       "      C       NaN -1.231097"
      ]
     },
     "execution_count": 64,
     "metadata": {},
     "output_type": "execute_result"
    }
   ],
   "source": [
    "# A와 B의 컬럼으로 그룹바이를 하는데 컬럼명은 C, values값은 D로한다.\n",
    "pd.pivot_table(df, values=\"D\", index=[\"A\",\"B\"], columns=[\"C\"])"
   ]
  },
  {
   "cell_type": "markdown",
   "metadata": {
    "id": "x0ZAGj9Jy6dl"
   },
   "source": [
    "## Time series\n",
    "- pandas는 시간변환에 엄청 강하고 효율적이다 "
   ]
  },
  {
   "cell_type": "code",
   "execution_count": null,
   "metadata": {
    "colab": {
     "base_uri": "https://localhost:8080/"
    },
    "id": "3v3ltoI1zMsv",
    "outputId": "a6f976e9-53dc-420b-ef65-8fc8f6ebf1f4"
   },
   "outputs": [
    {
     "data": {
      "text/plain": [
       "2012-01-01    25887\n",
       "Freq: 5T, dtype: int64"
      ]
     },
     "execution_count": 65,
     "metadata": {},
     "output_type": "execute_result"
    }
   ],
   "source": [
    "rng = pd.date_range(\"1/1/2012\", periods=100, freq=\"S\") # Second단위\n",
    "ts = pd.Series(np.random.randint(0,500,len(rng)), index=rng)\n",
    "ts.resample(\"5Min\").sum()"
   ]
  },
  {
   "cell_type": "markdown",
   "metadata": {
    "id": "riyyXIGJzj0V"
   },
   "source": [
    "### 시간 표현 "
   ]
  },
  {
   "cell_type": "code",
   "execution_count": null,
   "metadata": {
    "colab": {
     "base_uri": "https://localhost:8080/"
    },
    "id": "b80QjsyFzl9F",
    "outputId": "3a24d933-6872-4926-b108-a43d31a5dac7"
   },
   "outputs": [
    {
     "data": {
      "text/plain": [
       "2012-03-06   -1.056279\n",
       "2012-03-07    1.689753\n",
       "2012-03-08    0.581104\n",
       "2012-03-09    0.274412\n",
       "2012-03-10   -0.611934\n",
       "Freq: D, dtype: float64"
      ]
     },
     "execution_count": 66,
     "metadata": {},
     "output_type": "execute_result"
    }
   ],
   "source": [
    "rng = pd.date_range(\"3/6/2012 00:00\", periods=5, freq=\"D\") # Day단위\n",
    "ts = pd.Series(np.random.randn(len(rng)), rng)\n",
    "ts"
   ]
  },
  {
   "cell_type": "code",
   "execution_count": null,
   "metadata": {
    "colab": {
     "base_uri": "https://localhost:8080/"
    },
    "id": "IWcwXOACz3HV",
    "outputId": "edaeb9e5-9fbe-4b1a-ceba-146a90733d8c"
   },
   "outputs": [
    {
     "data": {
      "text/plain": [
       "2012-03-06 00:00:00+00:00   -1.056279\n",
       "2012-03-07 00:00:00+00:00    1.689753\n",
       "2012-03-08 00:00:00+00:00    0.581104\n",
       "2012-03-09 00:00:00+00:00    0.274412\n",
       "2012-03-10 00:00:00+00:00   -0.611934\n",
       "Freq: D, dtype: float64"
      ]
     },
     "execution_count": 67,
     "metadata": {},
     "output_type": "execute_result"
    }
   ],
   "source": [
    "# 협정시계시\n",
    "ts_utc = ts.tz_localize(\"UTC\")\n",
    "ts_utc"
   ]
  },
  {
   "cell_type": "markdown",
   "metadata": {
    "id": "jcWwisb9z_lV"
   },
   "source": [
    "### 다른 시간대로 변환 "
   ]
  },
  {
   "cell_type": "code",
   "execution_count": null,
   "metadata": {
    "colab": {
     "base_uri": "https://localhost:8080/"
    },
    "id": "Pkk10Qnn0CJk",
    "outputId": "29dde5ca-1f37-4b73-880a-13c7992e1c7c"
   },
   "outputs": [
    {
     "data": {
      "text/plain": [
       "2012-03-05 19:00:00-05:00   -1.056279\n",
       "2012-03-06 19:00:00-05:00    1.689753\n",
       "2012-03-07 19:00:00-05:00    0.581104\n",
       "2012-03-08 19:00:00-05:00    0.274412\n",
       "2012-03-09 19:00:00-05:00   -0.611934\n",
       "Freq: D, dtype: float64"
      ]
     },
     "execution_count": 68,
     "metadata": {},
     "output_type": "execute_result"
    }
   ],
   "source": [
    "# 미국 동부로 시간변환\n",
    "ts_utc.tz_convert(\"US/Eastern\")"
   ]
  },
  {
   "cell_type": "markdown",
   "metadata": {
    "id": "WIPgIe1-0WLM"
   },
   "source": [
    "### 시간범위 표현 간 변환"
   ]
  },
  {
   "cell_type": "code",
   "execution_count": null,
   "metadata": {
    "colab": {
     "base_uri": "https://localhost:8080/"
    },
    "id": "BVoXqd6J0hY8",
    "outputId": "625448a6-f73f-4b93-8c96-8df54cc0335c"
   },
   "outputs": [
    {
     "data": {
      "text/plain": [
       "2012-01-31    1.219098\n",
       "2012-02-29   -0.532026\n",
       "2012-03-31    0.642991\n",
       "2012-04-30    0.993084\n",
       "2012-05-31   -0.744262\n",
       "Freq: M, dtype: float64"
      ]
     },
     "execution_count": 69,
     "metadata": {},
     "output_type": "execute_result"
    }
   ],
   "source": [
    "rng = pd.date_range(\"1/1/2012\", periods=5,freq=\"M\") # Month 단위\n",
    "ts = pd.Series(np.random.randn(len(rng)),index=rng)\n",
    "ts"
   ]
  },
  {
   "cell_type": "code",
   "execution_count": null,
   "metadata": {
    "colab": {
     "base_uri": "https://localhost:8080/"
    },
    "id": "LMpRgxkZ01le",
    "outputId": "7724f8c0-bb48-4408-c9cd-22551359aedb"
   },
   "outputs": [
    {
     "data": {
      "text/plain": [
       "2012-01    1.219098\n",
       "2012-02   -0.532026\n",
       "2012-03    0.642991\n",
       "2012-04    0.993084\n",
       "2012-05   -0.744262\n",
       "Freq: M, dtype: float64"
      ]
     },
     "execution_count": 70,
     "metadata": {},
     "output_type": "execute_result"
    }
   ],
   "source": [
    "ps = ts.to_period() # 달까지 표시하겠다\n",
    "ps"
   ]
  },
  {
   "cell_type": "code",
   "execution_count": null,
   "metadata": {
    "colab": {
     "base_uri": "https://localhost:8080/"
    },
    "id": "ORJLaIrG0-o9",
    "outputId": "3e9fc819-20a5-49b5-b8b1-ffc615ed862e"
   },
   "outputs": [
    {
     "data": {
      "text/plain": [
       "2012-01-01    1.219098\n",
       "2012-02-01   -0.532026\n",
       "2012-03-01    0.642991\n",
       "2012-04-01    0.993084\n",
       "2012-05-01   -0.744262\n",
       "Freq: MS, dtype: float64"
      ]
     },
     "execution_count": 71,
     "metadata": {},
     "output_type": "execute_result"
    }
   ],
   "source": [
    "ps.to_timestamp()"
   ]
  },
  {
   "cell_type": "markdown",
   "metadata": {
    "id": "kAvxVtH81aV1"
   },
   "source": [
    "### 마침표와 타임스탬프 사이 변환 "
   ]
  },
  {
   "cell_type": "code",
   "execution_count": null,
   "metadata": {
    "colab": {
     "base_uri": "https://localhost:8080/"
    },
    "id": "hxuJyvKM1fYo",
    "outputId": "9266a526-48cc-452a-c52d-c3fb86ff7a3b"
   },
   "outputs": [
    {
     "data": {
      "text/plain": [
       "1990-03-01 09:00    1.084262\n",
       "1990-06-01 09:00   -0.958435\n",
       "1990-09-01 09:00    1.222262\n",
       "1990-12-01 09:00   -0.644455\n",
       "1991-03-01 09:00   -0.278623\n",
       "Freq: H, dtype: float64"
      ]
     },
     "execution_count": 72,
     "metadata": {},
     "output_type": "execute_result"
    }
   ],
   "source": [
    "prng = pd.period_range(\"1990Q1\",\"2000Q4\", freq=\"Q-NOV\")\n",
    "ts = pd.Series(np.random.randn(len(prng)),prng)\n",
    "ts.index = (prng.asfreq(\"M\",\"e\")+1).asfreq(\"H\",\"s\")+9\n",
    "ts.head()"
   ]
  },
  {
   "cell_type": "markdown",
   "metadata": {
    "id": "PiERE9342ivF"
   },
   "source": [
    "## 범주(Categoricals)\n",
    "- 범주형 데이터를 DataFrame으로 부른다 "
   ]
  },
  {
   "cell_type": "code",
   "execution_count": null,
   "metadata": {
    "id": "esMb-hww2s39"
   },
   "outputs": [],
   "source": [
    "df = pd.DataFrame(\n",
    "     {\"id\": [1, 2, 3, 4, 5, 6], \"raw_grade\": [\"a\", \"b\", \"b\", \"a\", \"a\", \"e\"]}\n",
    ")\n"
   ]
  },
  {
   "cell_type": "code",
   "execution_count": null,
   "metadata": {
    "colab": {
     "base_uri": "https://localhost:8080/"
    },
    "id": "wFSRxi1i2sI_",
    "outputId": "0dd1e572-77f2-45f4-974a-a251dffab54b"
   },
   "outputs": [
    {
     "data": {
      "text/plain": [
       "0    a\n",
       "1    b\n",
       "2    b\n",
       "3    a\n",
       "4    a\n",
       "5    e\n",
       "Name: grade, dtype: category\n",
       "Categories (3, object): ['a', 'b', 'e']"
      ]
     },
     "execution_count": 74,
     "metadata": {},
     "output_type": "execute_result"
    }
   ],
   "source": [
    "df[\"grade\"]=df[\"raw_grade\"].astype(\"category\") # grade라는 Series에 카테고리 생성해주기\n",
    "df[\"grade\"]"
   ]
  },
  {
   "cell_type": "code",
   "execution_count": null,
   "metadata": {
    "id": "DC0B3z4d3Q0r"
   },
   "outputs": [],
   "source": [
    "df[\"grade\"].cat.categories=[\"very good\", \"good\", \"very bad\"]"
   ]
  },
  {
   "cell_type": "markdown",
   "metadata": {
    "id": "BtIE4wXe3qlw"
   },
   "source": [
    "- 범주를 재정렬 후 누락된 범주 추가"
   ]
  },
  {
   "cell_type": "code",
   "execution_count": null,
   "metadata": {
    "colab": {
     "base_uri": "https://localhost:8080/"
    },
    "id": "DX82apgy3pjc",
    "outputId": "61fc6ef0-9fd6-473c-b3ca-556391592c64"
   },
   "outputs": [
    {
     "data": {
      "text/plain": [
       "0    very good\n",
       "1         good\n",
       "2         good\n",
       "3    very good\n",
       "4    very good\n",
       "5     very bad\n",
       "Name: grade, dtype: category\n",
       "Categories (5, object): ['very bad', 'bad', 'medium', 'good', 'very good']"
      ]
     },
     "execution_count": 76,
     "metadata": {},
     "output_type": "execute_result"
    }
   ],
   "source": [
    "df[\"grade\"] = df[\"grade\"].cat.set_categories(\n",
    "    [\"very bad\", \"bad\", \"medium\", \"good\", \"very good\"]\n",
    ")\n",
    "\n",
    "df[\"grade\"]"
   ]
  },
  {
   "cell_type": "markdown",
   "metadata": {
    "id": "sbKqDHwR4pMd"
   },
   "source": [
    "- 정렬은 범주의 순서에 따라 이루어진다 "
   ]
  },
  {
   "cell_type": "code",
   "execution_count": null,
   "metadata": {
    "colab": {
     "base_uri": "https://localhost:8080/",
     "height": 238
    },
    "id": "Rzamk3UP4tSD",
    "outputId": "5f3b447a-fe93-45dc-85cb-32f249ef9e12"
   },
   "outputs": [
    {
     "data": {
      "text/html": [
       "\n",
       "  <div id=\"df-7950f959-d73a-49fb-b9f3-31dcceafff7d\">\n",
       "    <div class=\"colab-df-container\">\n",
       "      <div>\n",
       "<style scoped>\n",
       "    .dataframe tbody tr th:only-of-type {\n",
       "        vertical-align: middle;\n",
       "    }\n",
       "\n",
       "    .dataframe tbody tr th {\n",
       "        vertical-align: top;\n",
       "    }\n",
       "\n",
       "    .dataframe thead th {\n",
       "        text-align: right;\n",
       "    }\n",
       "</style>\n",
       "<table border=\"1\" class=\"dataframe\">\n",
       "  <thead>\n",
       "    <tr style=\"text-align: right;\">\n",
       "      <th></th>\n",
       "      <th>id</th>\n",
       "      <th>raw_grade</th>\n",
       "      <th>grade</th>\n",
       "    </tr>\n",
       "  </thead>\n",
       "  <tbody>\n",
       "    <tr>\n",
       "      <th>5</th>\n",
       "      <td>6</td>\n",
       "      <td>e</td>\n",
       "      <td>very bad</td>\n",
       "    </tr>\n",
       "    <tr>\n",
       "      <th>1</th>\n",
       "      <td>2</td>\n",
       "      <td>b</td>\n",
       "      <td>good</td>\n",
       "    </tr>\n",
       "    <tr>\n",
       "      <th>2</th>\n",
       "      <td>3</td>\n",
       "      <td>b</td>\n",
       "      <td>good</td>\n",
       "    </tr>\n",
       "    <tr>\n",
       "      <th>0</th>\n",
       "      <td>1</td>\n",
       "      <td>a</td>\n",
       "      <td>very good</td>\n",
       "    </tr>\n",
       "    <tr>\n",
       "      <th>3</th>\n",
       "      <td>4</td>\n",
       "      <td>a</td>\n",
       "      <td>very good</td>\n",
       "    </tr>\n",
       "    <tr>\n",
       "      <th>4</th>\n",
       "      <td>5</td>\n",
       "      <td>a</td>\n",
       "      <td>very good</td>\n",
       "    </tr>\n",
       "  </tbody>\n",
       "</table>\n",
       "</div>\n",
       "      <button class=\"colab-df-convert\" onclick=\"convertToInteractive('df-7950f959-d73a-49fb-b9f3-31dcceafff7d')\"\n",
       "              title=\"Convert this dataframe to an interactive table.\"\n",
       "              style=\"display:none;\">\n",
       "        \n",
       "  <svg xmlns=\"http://www.w3.org/2000/svg\" height=\"24px\"viewBox=\"0 0 24 24\"\n",
       "       width=\"24px\">\n",
       "    <path d=\"M0 0h24v24H0V0z\" fill=\"none\"/>\n",
       "    <path d=\"M18.56 5.44l.94 2.06.94-2.06 2.06-.94-2.06-.94-.94-2.06-.94 2.06-2.06.94zm-11 1L8.5 8.5l.94-2.06 2.06-.94-2.06-.94L8.5 2.5l-.94 2.06-2.06.94zm10 10l.94 2.06.94-2.06 2.06-.94-2.06-.94-.94-2.06-.94 2.06-2.06.94z\"/><path d=\"M17.41 7.96l-1.37-1.37c-.4-.4-.92-.59-1.43-.59-.52 0-1.04.2-1.43.59L10.3 9.45l-7.72 7.72c-.78.78-.78 2.05 0 2.83L4 21.41c.39.39.9.59 1.41.59.51 0 1.02-.2 1.41-.59l7.78-7.78 2.81-2.81c.8-.78.8-2.07 0-2.86zM5.41 20L4 18.59l7.72-7.72 1.47 1.35L5.41 20z\"/>\n",
       "  </svg>\n",
       "      </button>\n",
       "      \n",
       "  <style>\n",
       "    .colab-df-container {\n",
       "      display:flex;\n",
       "      flex-wrap:wrap;\n",
       "      gap: 12px;\n",
       "    }\n",
       "\n",
       "    .colab-df-convert {\n",
       "      background-color: #E8F0FE;\n",
       "      border: none;\n",
       "      border-radius: 50%;\n",
       "      cursor: pointer;\n",
       "      display: none;\n",
       "      fill: #1967D2;\n",
       "      height: 32px;\n",
       "      padding: 0 0 0 0;\n",
       "      width: 32px;\n",
       "    }\n",
       "\n",
       "    .colab-df-convert:hover {\n",
       "      background-color: #E2EBFA;\n",
       "      box-shadow: 0px 1px 2px rgba(60, 64, 67, 0.3), 0px 1px 3px 1px rgba(60, 64, 67, 0.15);\n",
       "      fill: #174EA6;\n",
       "    }\n",
       "\n",
       "    [theme=dark] .colab-df-convert {\n",
       "      background-color: #3B4455;\n",
       "      fill: #D2E3FC;\n",
       "    }\n",
       "\n",
       "    [theme=dark] .colab-df-convert:hover {\n",
       "      background-color: #434B5C;\n",
       "      box-shadow: 0px 1px 3px 1px rgba(0, 0, 0, 0.15);\n",
       "      filter: drop-shadow(0px 1px 2px rgba(0, 0, 0, 0.3));\n",
       "      fill: #FFFFFF;\n",
       "    }\n",
       "  </style>\n",
       "\n",
       "      <script>\n",
       "        const buttonEl =\n",
       "          document.querySelector('#df-7950f959-d73a-49fb-b9f3-31dcceafff7d button.colab-df-convert');\n",
       "        buttonEl.style.display =\n",
       "          google.colab.kernel.accessAllowed ? 'block' : 'none';\n",
       "\n",
       "        async function convertToInteractive(key) {\n",
       "          const element = document.querySelector('#df-7950f959-d73a-49fb-b9f3-31dcceafff7d');\n",
       "          const dataTable =\n",
       "            await google.colab.kernel.invokeFunction('convertToInteractive',\n",
       "                                                     [key], {});\n",
       "          if (!dataTable) return;\n",
       "\n",
       "          const docLinkHtml = 'Like what you see? Visit the ' +\n",
       "            '<a target=\"_blank\" href=https://colab.research.google.com/notebooks/data_table.ipynb>data table notebook</a>'\n",
       "            + ' to learn more about interactive tables.';\n",
       "          element.innerHTML = '';\n",
       "          dataTable['output_type'] = 'display_data';\n",
       "          await google.colab.output.renderOutput(dataTable, element);\n",
       "          const docLink = document.createElement('div');\n",
       "          docLink.innerHTML = docLinkHtml;\n",
       "          element.appendChild(docLink);\n",
       "        }\n",
       "      </script>\n",
       "    </div>\n",
       "  </div>\n",
       "  "
      ],
      "text/plain": [
       "   id raw_grade      grade\n",
       "5   6         e   very bad\n",
       "1   2         b       good\n",
       "2   3         b       good\n",
       "0   1         a  very good\n",
       "3   4         a  very good\n",
       "4   5         a  very good"
      ]
     },
     "execution_count": 77,
     "metadata": {},
     "output_type": "execute_result"
    }
   ],
   "source": [
    "df.sort_values(by=\"grade\") # grade 범주 순으로 정렬"
   ]
  },
  {
   "cell_type": "markdown",
   "metadata": {
    "id": "Vl0b1OuL42wJ"
   },
   "source": [
    "- 범주형 열을 기준으로 그룹화하면 빈 범주도 표시 "
   ]
  },
  {
   "cell_type": "code",
   "execution_count": null,
   "metadata": {
    "colab": {
     "base_uri": "https://localhost:8080/"
    },
    "id": "n9v0q9cV46Nc",
    "outputId": "3ad2e984-5b58-487e-b35d-9dd1292c062b"
   },
   "outputs": [
    {
     "data": {
      "text/plain": [
       "grade\n",
       "very bad     1\n",
       "bad          0\n",
       "medium       0\n",
       "good         2\n",
       "very good    3\n",
       "dtype: int64"
      ]
     },
     "execution_count": 78,
     "metadata": {},
     "output_type": "execute_result"
    }
   ],
   "source": [
    "df.groupby(\"grade\").size() # bad, medium도 표시된다"
   ]
  },
  {
   "cell_type": "markdown",
   "metadata": {
    "id": "jvxfZr0K5BmO"
   },
   "source": [
    "## 시각화 "
   ]
  },
  {
   "cell_type": "code",
   "execution_count": null,
   "metadata": {
    "id": "DOC_u6O05Ek0"
   },
   "outputs": [],
   "source": [
    "import matplotlib.pyplot as plt\n",
    "plt.close(\"all\")"
   ]
  },
  {
   "cell_type": "code",
   "execution_count": null,
   "metadata": {
    "colab": {
     "base_uri": "https://localhost:8080/",
     "height": 295
    },
    "id": "6QIQWRDV5LSU",
    "outputId": "95db42d0-d130-47e4-819d-c6ba98dac324"
   },
   "outputs": [
    {
     "data": {
      "text/plain": [
       "<matplotlib.axes._subplots.AxesSubplot at 0x7f49f08c3910>"
      ]
     },
     "execution_count": 80,
     "metadata": {},
     "output_type": "execute_result"
    },
    {
     "data": {
      "image/png": "[encoded data removed]",
      "text/plain": [
       "<Figure size 432x288 with 1 Axes>"
      ]
     },
     "metadata": {
      "needs_background": "light"
     },
     "output_type": "display_data"
    }
   ],
   "source": [
    "ts = pd.Series(np.random.randn(1000), index=pd.date_range(\"1/1/2000\",periods=1000))\n",
    "ts = ts.cumsum() # 누적합 구하기\n",
    "ts.plot()"
   ]
  },
  {
   "cell_type": "markdown",
   "metadata": {
    "id": "zP5N-s_C5hvN"
   },
   "source": [
    "- plot()메서드는 레이블이 있는 모든열을 그리는데 편리 "
   ]
  },
  {
   "cell_type": "code",
   "execution_count": null,
   "metadata": {
    "colab": {
     "base_uri": "https://localhost:8080/",
     "height": 277
    },
    "id": "0OC5kcev5lej",
    "outputId": "742bf27e-d13b-417f-d7f9-de93a16d97d2"
   },
   "outputs": [
    {
     "data": {
      "image/png": "[encoded data removed]",
      "text/plain": [
       "<Figure size 432x288 with 1 Axes>"
      ]
     },
     "metadata": {
      "needs_background": "light"
     },
     "output_type": "display_data"
    }
   ],
   "source": [
    "df = pd.DataFrame(\n",
    "    np.random.randn(1000,4), index=ts.index, columns=[\"A\",\"B\",\"C\",\"D\"]\n",
    ")\n",
    "df = df.cumsum()\n",
    "df.plot()\n",
    "plt.legend(loc='best'); # 범례 추가"
   ]
  },
  {
   "cell_type": "markdown",
   "metadata": {
    "id": "TE4n_S626DeI"
   },
   "source": [
    "## 데이터 입출력\n",
    "  "
   ]
  },
  {
   "cell_type": "markdown",
   "metadata": {
    "id": "KwdZ4vSC6Gm7"
   },
   "source": [
    "### csv 파일 쓰기\n"
   ]
  },
  {
   "cell_type": "code",
   "execution_count": null,
   "metadata": {
    "id": "AMPtJFs-6Ioz"
   },
   "outputs": [],
   "source": [
    "df.to_csv(\"foo.csv\")"
   ]
  },
  {
   "cell_type": "markdown",
   "metadata": {
    "id": "nJevsg1M6NA0"
   },
   "source": [
    "### csv 파일에서 읽기 "
   ]
  },
  {
   "cell_type": "code",
   "execution_count": null,
   "metadata": {
    "colab": {
     "base_uri": "https://localhost:8080/",
     "height": 424
    },
    "id": "uVgv7ABi6OuL",
    "outputId": "034bea06-2ef9-466b-ced0-58e9cc7a2b77"
   },
   "outputs": [
    {
     "data": {
      "text/html": [
       "\n",
       "  <div id=\"df-68336ae4-99f1-418e-b521-f47bcd21d551\">\n",
       "    <div class=\"colab-df-container\">\n",
       "      <div>\n",
       "<style scoped>\n",
       "    .dataframe tbody tr th:only-of-type {\n",
       "        vertical-align: middle;\n",
       "    }\n",
       "\n",
       "    .dataframe tbody tr th {\n",
       "        vertical-align: top;\n",
       "    }\n",
       "\n",
       "    .dataframe thead th {\n",
       "        text-align: right;\n",
       "    }\n",
       "</style>\n",
       "<table border=\"1\" class=\"dataframe\">\n",
       "  <thead>\n",
       "    <tr style=\"text-align: right;\">\n",
       "      <th></th>\n",
       "      <th>Unnamed: 0</th>\n",
       "      <th>A</th>\n",
       "      <th>B</th>\n",
       "      <th>C</th>\n",
       "      <th>D</th>\n",
       "    </tr>\n",
       "  </thead>\n",
       "  <tbody>\n",
       "    <tr>\n",
       "      <th>0</th>\n",
       "      <td>2000-01-01</td>\n",
       "      <td>0.060692</td>\n",
       "      <td>0.105831</td>\n",
       "      <td>1.634998</td>\n",
       "      <td>0.772662</td>\n",
       "    </tr>\n",
       "    <tr>\n",
       "      <th>1</th>\n",
       "      <td>2000-01-02</td>\n",
       "      <td>0.504047</td>\n",
       "      <td>0.861909</td>\n",
       "      <td>0.919295</td>\n",
       "      <td>1.285729</td>\n",
       "    </tr>\n",
       "    <tr>\n",
       "      <th>2</th>\n",
       "      <td>2000-01-03</td>\n",
       "      <td>0.147256</td>\n",
       "      <td>2.801748</td>\n",
       "      <td>1.466028</td>\n",
       "      <td>0.051882</td>\n",
       "    </tr>\n",
       "    <tr>\n",
       "      <th>3</th>\n",
       "      <td>2000-01-04</td>\n",
       "      <td>-0.188261</td>\n",
       "      <td>1.605617</td>\n",
       "      <td>3.807387</td>\n",
       "      <td>0.548725</td>\n",
       "    </tr>\n",
       "    <tr>\n",
       "      <th>4</th>\n",
       "      <td>2000-01-05</td>\n",
       "      <td>-1.284756</td>\n",
       "      <td>1.304981</td>\n",
       "      <td>4.781101</td>\n",
       "      <td>0.764170</td>\n",
       "    </tr>\n",
       "    <tr>\n",
       "      <th>...</th>\n",
       "      <td>...</td>\n",
       "      <td>...</td>\n",
       "      <td>...</td>\n",
       "      <td>...</td>\n",
       "      <td>...</td>\n",
       "    </tr>\n",
       "    <tr>\n",
       "      <th>995</th>\n",
       "      <td>2002-09-22</td>\n",
       "      <td>67.967114</td>\n",
       "      <td>16.397385</td>\n",
       "      <td>0.346370</td>\n",
       "      <td>-42.046715</td>\n",
       "    </tr>\n",
       "    <tr>\n",
       "      <th>996</th>\n",
       "      <td>2002-09-23</td>\n",
       "      <td>68.446463</td>\n",
       "      <td>17.084053</td>\n",
       "      <td>1.419101</td>\n",
       "      <td>-41.482823</td>\n",
       "    </tr>\n",
       "    <tr>\n",
       "      <th>997</th>\n",
       "      <td>2002-09-24</td>\n",
       "      <td>67.728754</td>\n",
       "      <td>16.569164</td>\n",
       "      <td>2.337529</td>\n",
       "      <td>-41.447092</td>\n",
       "    </tr>\n",
       "    <tr>\n",
       "      <th>998</th>\n",
       "      <td>2002-09-25</td>\n",
       "      <td>66.412904</td>\n",
       "      <td>16.833811</td>\n",
       "      <td>3.513496</td>\n",
       "      <td>-41.535883</td>\n",
       "    </tr>\n",
       "    <tr>\n",
       "      <th>999</th>\n",
       "      <td>2002-09-26</td>\n",
       "      <td>69.982266</td>\n",
       "      <td>15.368470</td>\n",
       "      <td>2.753197</td>\n",
       "      <td>-42.219712</td>\n",
       "    </tr>\n",
       "  </tbody>\n",
       "</table>\n",
       "<p>1000 rows × 5 columns</p>\n",
       "</div>\n",
       "      <button class=\"colab-df-convert\" onclick=\"convertToInteractive('df-68336ae4-99f1-418e-b521-f47bcd21d551')\"\n",
       "              title=\"Convert this dataframe to an interactive table.\"\n",
       "              style=\"display:none;\">\n",
       "        \n",
       "  <svg xmlns=\"http://www.w3.org/2000/svg\" height=\"24px\"viewBox=\"0 0 24 24\"\n",
       "       width=\"24px\">\n",
       "    <path d=\"M0 0h24v24H0V0z\" fill=\"none\"/>\n",
       "    <path d=\"M18.56 5.44l.94 2.06.94-2.06 2.06-.94-2.06-.94-.94-2.06-.94 2.06-2.06.94zm-11 1L8.5 8.5l.94-2.06 2.06-.94-2.06-.94L8.5 2.5l-.94 2.06-2.06.94zm10 10l.94 2.06.94-2.06 2.06-.94-2.06-.94-.94-2.06-.94 2.06-2.06.94z\"/><path d=\"M17.41 7.96l-1.37-1.37c-.4-.4-.92-.59-1.43-.59-.52 0-1.04.2-1.43.59L10.3 9.45l-7.72 7.72c-.78.78-.78 2.05 0 2.83L4 21.41c.39.39.9.59 1.41.59.51 0 1.02-.2 1.41-.59l7.78-7.78 2.81-2.81c.8-.78.8-2.07 0-2.86zM5.41 20L4 18.59l7.72-7.72 1.47 1.35L5.41 20z\"/>\n",
       "  </svg>\n",
       "      </button>\n",
       "      \n",
       "  <style>\n",
       "    .colab-df-container {\n",
       "      display:flex;\n",
       "      flex-wrap:wrap;\n",
       "      gap: 12px;\n",
       "    }\n",
       "\n",
       "    .colab-df-convert {\n",
       "      background-color: #E8F0FE;\n",
       "      border: none;\n",
       "      border-radius: 50%;\n",
       "      cursor: pointer;\n",
       "      display: none;\n",
       "      fill: #1967D2;\n",
       "      height: 32px;\n",
       "      padding: 0 0 0 0;\n",
       "      width: 32px;\n",
       "    }\n",
       "\n",
       "    .colab-df-convert:hover {\n",
       "      background-color: #E2EBFA;\n",
       "      box-shadow: 0px 1px 2px rgba(60, 64, 67, 0.3), 0px 1px 3px 1px rgba(60, 64, 67, 0.15);\n",
       "      fill: #174EA6;\n",
       "    }\n",
       "\n",
       "    [theme=dark] .colab-df-convert {\n",
       "      background-color: #3B4455;\n",
       "      fill: #D2E3FC;\n",
       "    }\n",
       "\n",
       "    [theme=dark] .colab-df-convert:hover {\n",
       "      background-color: #434B5C;\n",
       "      box-shadow: 0px 1px 3px 1px rgba(0, 0, 0, 0.15);\n",
       "      filter: drop-shadow(0px 1px 2px rgba(0, 0, 0, 0.3));\n",
       "      fill: #FFFFFF;\n",
       "    }\n",
       "  </style>\n",
       "\n",
       "      <script>\n",
       "        const buttonEl =\n",
       "          document.querySelector('#df-68336ae4-99f1-418e-b521-f47bcd21d551 button.colab-df-convert');\n",
       "        buttonEl.style.display =\n",
       "          google.colab.kernel.accessAllowed ? 'block' : 'none';\n",
       "\n",
       "        async function convertToInteractive(key) {\n",
       "          const element = document.querySelector('#df-68336ae4-99f1-418e-b521-f47bcd21d551');\n",
       "          const dataTable =\n",
       "            await google.colab.kernel.invokeFunction('convertToInteractive',\n",
       "                                                     [key], {});\n",
       "          if (!dataTable) return;\n",
       "\n",
       "          const docLinkHtml = 'Like what you see? Visit the ' +\n",
       "            '<a target=\"_blank\" href=https://colab.research.google.com/notebooks/data_table.ipynb>data table notebook</a>'\n",
       "            + ' to learn more about interactive tables.';\n",
       "          element.innerHTML = '';\n",
       "          dataTable['output_type'] = 'display_data';\n",
       "          await google.colab.output.renderOutput(dataTable, element);\n",
       "          const docLink = document.createElement('div');\n",
       "          docLink.innerHTML = docLinkHtml;\n",
       "          element.appendChild(docLink);\n",
       "        }\n",
       "      </script>\n",
       "    </div>\n",
       "  </div>\n",
       "  "
      ],
      "text/plain": [
       "     Unnamed: 0          A          B         C          D\n",
       "0    2000-01-01   0.060692   0.105831  1.634998   0.772662\n",
       "1    2000-01-02   0.504047   0.861909  0.919295   1.285729\n",
       "2    2000-01-03   0.147256   2.801748  1.466028   0.051882\n",
       "3    2000-01-04  -0.188261   1.605617  3.807387   0.548725\n",
       "4    2000-01-05  -1.284756   1.304981  4.781101   0.764170\n",
       "..          ...        ...        ...       ...        ...\n",
       "995  2002-09-22  67.967114  16.397385  0.346370 -42.046715\n",
       "996  2002-09-23  68.446463  17.084053  1.419101 -41.482823\n",
       "997  2002-09-24  67.728754  16.569164  2.337529 -41.447092\n",
       "998  2002-09-25  66.412904  16.833811  3.513496 -41.535883\n",
       "999  2002-09-26  69.982266  15.368470  2.753197 -42.219712\n",
       "\n",
       "[1000 rows x 5 columns]"
      ]
     },
     "execution_count": 83,
     "metadata": {},
     "output_type": "execute_result"
    }
   ],
   "source": [
    "pd.read_csv(\"foo.csv\")"
   ]
  },
  {
   "cell_type": "markdown",
   "metadata": {
    "id": "KVp2gsh26Smk"
   },
   "source": [
    "### HDF5 파일 쓰기 "
   ]
  },
  {
   "cell_type": "code",
   "execution_count": null,
   "metadata": {
    "id": "Y612fASCY-dI"
   },
   "outputs": [],
   "source": [
    "df.to_hdf(\"foo.h5\",\"df\")"
   ]
  },
  {
   "cell_type": "markdown",
   "metadata": {
    "id": "m0fFi9m8ZLop"
   },
   "source": [
    "### HDF5 파일 읽기 "
   ]
  },
  {
   "cell_type": "code",
   "execution_count": null,
   "metadata": {
    "colab": {
     "base_uri": "https://localhost:8080/",
     "height": 424
    },
    "id": "omJIXtxSZPFA",
    "outputId": "2656dc16-95c2-4eaf-cabc-5c9b535ef533"
   },
   "outputs": [
    {
     "data": {
      "text/html": [
       "\n",
       "  <div id=\"df-251bd0cf-e0ab-472e-8ca9-f2462a84c5b3\">\n",
       "    <div class=\"colab-df-container\">\n",
       "      <div>\n",
       "<style scoped>\n",
       "    .dataframe tbody tr th:only-of-type {\n",
       "        vertical-align: middle;\n",
       "    }\n",
       "\n",
       "    .dataframe tbody tr th {\n",
       "        vertical-align: top;\n",
       "    }\n",
       "\n",
       "    .dataframe thead th {\n",
       "        text-align: right;\n",
       "    }\n",
       "</style>\n",
       "<table border=\"1\" class=\"dataframe\">\n",
       "  <thead>\n",
       "    <tr style=\"text-align: right;\">\n",
       "      <th></th>\n",
       "      <th>A</th>\n",
       "      <th>B</th>\n",
       "      <th>C</th>\n",
       "      <th>D</th>\n",
       "    </tr>\n",
       "  </thead>\n",
       "  <tbody>\n",
       "    <tr>\n",
       "      <th>2000-01-01</th>\n",
       "      <td>0.060692</td>\n",
       "      <td>0.105831</td>\n",
       "      <td>1.634998</td>\n",
       "      <td>0.772662</td>\n",
       "    </tr>\n",
       "    <tr>\n",
       "      <th>2000-01-02</th>\n",
       "      <td>0.504047</td>\n",
       "      <td>0.861909</td>\n",
       "      <td>0.919295</td>\n",
       "      <td>1.285729</td>\n",
       "    </tr>\n",
       "    <tr>\n",
       "      <th>2000-01-03</th>\n",
       "      <td>0.147256</td>\n",
       "      <td>2.801748</td>\n",
       "      <td>1.466028</td>\n",
       "      <td>0.051882</td>\n",
       "    </tr>\n",
       "    <tr>\n",
       "      <th>2000-01-04</th>\n",
       "      <td>-0.188261</td>\n",
       "      <td>1.605617</td>\n",
       "      <td>3.807387</td>\n",
       "      <td>0.548725</td>\n",
       "    </tr>\n",
       "    <tr>\n",
       "      <th>2000-01-05</th>\n",
       "      <td>-1.284756</td>\n",
       "      <td>1.304981</td>\n",
       "      <td>4.781101</td>\n",
       "      <td>0.764170</td>\n",
       "    </tr>\n",
       "    <tr>\n",
       "      <th>...</th>\n",
       "      <td>...</td>\n",
       "      <td>...</td>\n",
       "      <td>...</td>\n",
       "      <td>...</td>\n",
       "    </tr>\n",
       "    <tr>\n",
       "      <th>2002-09-22</th>\n",
       "      <td>67.967114</td>\n",
       "      <td>16.397385</td>\n",
       "      <td>0.346370</td>\n",
       "      <td>-42.046715</td>\n",
       "    </tr>\n",
       "    <tr>\n",
       "      <th>2002-09-23</th>\n",
       "      <td>68.446463</td>\n",
       "      <td>17.084053</td>\n",
       "      <td>1.419101</td>\n",
       "      <td>-41.482823</td>\n",
       "    </tr>\n",
       "    <tr>\n",
       "      <th>2002-09-24</th>\n",
       "      <td>67.728754</td>\n",
       "      <td>16.569164</td>\n",
       "      <td>2.337529</td>\n",
       "      <td>-41.447092</td>\n",
       "    </tr>\n",
       "    <tr>\n",
       "      <th>2002-09-25</th>\n",
       "      <td>66.412904</td>\n",
       "      <td>16.833811</td>\n",
       "      <td>3.513496</td>\n",
       "      <td>-41.535883</td>\n",
       "    </tr>\n",
       "    <tr>\n",
       "      <th>2002-09-26</th>\n",
       "      <td>69.982266</td>\n",
       "      <td>15.368470</td>\n",
       "      <td>2.753197</td>\n",
       "      <td>-42.219712</td>\n",
       "    </tr>\n",
       "  </tbody>\n",
       "</table>\n",
       "<p>1000 rows × 4 columns</p>\n",
       "</div>\n",
       "      <button class=\"colab-df-convert\" onclick=\"convertToInteractive('df-251bd0cf-e0ab-472e-8ca9-f2462a84c5b3')\"\n",
       "              title=\"Convert this dataframe to an interactive table.\"\n",
       "              style=\"display:none;\">\n",
       "        \n",
       "  <svg xmlns=\"http://www.w3.org/2000/svg\" height=\"24px\"viewBox=\"0 0 24 24\"\n",
       "       width=\"24px\">\n",
       "    <path d=\"M0 0h24v24H0V0z\" fill=\"none\"/>\n",
       "    <path d=\"M18.56 5.44l.94 2.06.94-2.06 2.06-.94-2.06-.94-.94-2.06-.94 2.06-2.06.94zm-11 1L8.5 8.5l.94-2.06 2.06-.94-2.06-.94L8.5 2.5l-.94 2.06-2.06.94zm10 10l.94 2.06.94-2.06 2.06-.94-2.06-.94-.94-2.06-.94 2.06-2.06.94z\"/><path d=\"M17.41 7.96l-1.37-1.37c-.4-.4-.92-.59-1.43-.59-.52 0-1.04.2-1.43.59L10.3 9.45l-7.72 7.72c-.78.78-.78 2.05 0 2.83L4 21.41c.39.39.9.59 1.41.59.51 0 1.02-.2 1.41-.59l7.78-7.78 2.81-2.81c.8-.78.8-2.07 0-2.86zM5.41 20L4 18.59l7.72-7.72 1.47 1.35L5.41 20z\"/>\n",
       "  </svg>\n",
       "      </button>\n",
       "      \n",
       "  <style>\n",
       "    .colab-df-container {\n",
       "      display:flex;\n",
       "      flex-wrap:wrap;\n",
       "      gap: 12px;\n",
       "    }\n",
       "\n",
       "    .colab-df-convert {\n",
       "      background-color: #E8F0FE;\n",
       "      border: none;\n",
       "      border-radius: 50%;\n",
       "      cursor: pointer;\n",
       "      display: none;\n",
       "      fill: #1967D2;\n",
       "      height: 32px;\n",
       "      padding: 0 0 0 0;\n",
       "      width: 32px;\n",
       "    }\n",
       "\n",
       "    .colab-df-convert:hover {\n",
       "      background-color: #E2EBFA;\n",
       "      box-shadow: 0px 1px 2px rgba(60, 64, 67, 0.3), 0px 1px 3px 1px rgba(60, 64, 67, 0.15);\n",
       "      fill: #174EA6;\n",
       "    }\n",
       "\n",
       "    [theme=dark] .colab-df-convert {\n",
       "      background-color: #3B4455;\n",
       "      fill: #D2E3FC;\n",
       "    }\n",
       "\n",
       "    [theme=dark] .colab-df-convert:hover {\n",
       "      background-color: #434B5C;\n",
       "      box-shadow: 0px 1px 3px 1px rgba(0, 0, 0, 0.15);\n",
       "      filter: drop-shadow(0px 1px 2px rgba(0, 0, 0, 0.3));\n",
       "      fill: #FFFFFF;\n",
       "    }\n",
       "  </style>\n",
       "\n",
       "      <script>\n",
       "        const buttonEl =\n",
       "          document.querySelector('#df-251bd0cf-e0ab-472e-8ca9-f2462a84c5b3 button.colab-df-convert');\n",
       "        buttonEl.style.display =\n",
       "          google.colab.kernel.accessAllowed ? 'block' : 'none';\n",
       "\n",
       "        async function convertToInteractive(key) {\n",
       "          const element = document.querySelector('#df-251bd0cf-e0ab-472e-8ca9-f2462a84c5b3');\n",
       "          const dataTable =\n",
       "            await google.colab.kernel.invokeFunction('convertToInteractive',\n",
       "                                                     [key], {});\n",
       "          if (!dataTable) return;\n",
       "\n",
       "          const docLinkHtml = 'Like what you see? Visit the ' +\n",
       "            '<a target=\"_blank\" href=https://colab.research.google.com/notebooks/data_table.ipynb>data table notebook</a>'\n",
       "            + ' to learn more about interactive tables.';\n",
       "          element.innerHTML = '';\n",
       "          dataTable['output_type'] = 'display_data';\n",
       "          await google.colab.output.renderOutput(dataTable, element);\n",
       "          const docLink = document.createElement('div');\n",
       "          docLink.innerHTML = docLinkHtml;\n",
       "          element.appendChild(docLink);\n",
       "        }\n",
       "      </script>\n",
       "    </div>\n",
       "  </div>\n",
       "  "
      ],
      "text/plain": [
       "                    A          B         C          D\n",
       "2000-01-01   0.060692   0.105831  1.634998   0.772662\n",
       "2000-01-02   0.504047   0.861909  0.919295   1.285729\n",
       "2000-01-03   0.147256   2.801748  1.466028   0.051882\n",
       "2000-01-04  -0.188261   1.605617  3.807387   0.548725\n",
       "2000-01-05  -1.284756   1.304981  4.781101   0.764170\n",
       "...               ...        ...       ...        ...\n",
       "2002-09-22  67.967114  16.397385  0.346370 -42.046715\n",
       "2002-09-23  68.446463  17.084053  1.419101 -41.482823\n",
       "2002-09-24  67.728754  16.569164  2.337529 -41.447092\n",
       "2002-09-25  66.412904  16.833811  3.513496 -41.535883\n",
       "2002-09-26  69.982266  15.368470  2.753197 -42.219712\n",
       "\n",
       "[1000 rows x 4 columns]"
      ]
     },
     "execution_count": 87,
     "metadata": {},
     "output_type": "execute_result"
    }
   ],
   "source": [
    "pd.read_hdf(\"foo.h5\",\"df\")"
   ]
  },
  {
   "cell_type": "markdown",
   "metadata": {
    "id": "WEVGrfIRZWzQ"
   },
   "source": [
    "###  엑셀 파일 쓰기 "
   ]
  },
  {
   "cell_type": "code",
   "execution_count": null,
   "metadata": {
    "id": "3Th8_JN3ZcEh"
   },
   "outputs": [],
   "source": [
    "df.to_excel(\"foo.xlsx\",sheet_name=\"sheet1\")"
   ]
  },
  {
   "cell_type": "markdown",
   "metadata": {
    "id": "eND8tS6yZjzJ"
   },
   "source": [
    "### 엑셀 파일 읽기 "
   ]
  },
  {
   "cell_type": "code",
   "execution_count": null,
   "metadata": {
    "colab": {
     "base_uri": "https://localhost:8080/",
     "height": 424
    },
    "id": "O1D8hLI_Zm75",
    "outputId": "e95310ca-86cd-49d6-a747-1d14482dba9d"
   },
   "outputs": [
    {
     "data": {
      "text/html": [
       "\n",
       "  <div id=\"df-935c1612-11ff-4175-b303-402eea5e8869\">\n",
       "    <div class=\"colab-df-container\">\n",
       "      <div>\n",
       "<style scoped>\n",
       "    .dataframe tbody tr th:only-of-type {\n",
       "        vertical-align: middle;\n",
       "    }\n",
       "\n",
       "    .dataframe tbody tr th {\n",
       "        vertical-align: top;\n",
       "    }\n",
       "\n",
       "    .dataframe thead th {\n",
       "        text-align: right;\n",
       "    }\n",
       "</style>\n",
       "<table border=\"1\" class=\"dataframe\">\n",
       "  <thead>\n",
       "    <tr style=\"text-align: right;\">\n",
       "      <th></th>\n",
       "      <th>Unnamed: 0</th>\n",
       "      <th>A</th>\n",
       "      <th>B</th>\n",
       "      <th>C</th>\n",
       "      <th>D</th>\n",
       "    </tr>\n",
       "  </thead>\n",
       "  <tbody>\n",
       "    <tr>\n",
       "      <th>0</th>\n",
       "      <td>2000-01-01</td>\n",
       "      <td>0.060692</td>\n",
       "      <td>0.105831</td>\n",
       "      <td>1.634998</td>\n",
       "      <td>0.772662</td>\n",
       "    </tr>\n",
       "    <tr>\n",
       "      <th>1</th>\n",
       "      <td>2000-01-02</td>\n",
       "      <td>0.504047</td>\n",
       "      <td>0.861909</td>\n",
       "      <td>0.919295</td>\n",
       "      <td>1.285729</td>\n",
       "    </tr>\n",
       "    <tr>\n",
       "      <th>2</th>\n",
       "      <td>2000-01-03</td>\n",
       "      <td>0.147256</td>\n",
       "      <td>2.801748</td>\n",
       "      <td>1.466028</td>\n",
       "      <td>0.051882</td>\n",
       "    </tr>\n",
       "    <tr>\n",
       "      <th>3</th>\n",
       "      <td>2000-01-04</td>\n",
       "      <td>-0.188261</td>\n",
       "      <td>1.605617</td>\n",
       "      <td>3.807387</td>\n",
       "      <td>0.548725</td>\n",
       "    </tr>\n",
       "    <tr>\n",
       "      <th>4</th>\n",
       "      <td>2000-01-05</td>\n",
       "      <td>-1.284756</td>\n",
       "      <td>1.304981</td>\n",
       "      <td>4.781101</td>\n",
       "      <td>0.764170</td>\n",
       "    </tr>\n",
       "    <tr>\n",
       "      <th>...</th>\n",
       "      <td>...</td>\n",
       "      <td>...</td>\n",
       "      <td>...</td>\n",
       "      <td>...</td>\n",
       "      <td>...</td>\n",
       "    </tr>\n",
       "    <tr>\n",
       "      <th>995</th>\n",
       "      <td>2002-09-22</td>\n",
       "      <td>67.967114</td>\n",
       "      <td>16.397385</td>\n",
       "      <td>0.346370</td>\n",
       "      <td>-42.046715</td>\n",
       "    </tr>\n",
       "    <tr>\n",
       "      <th>996</th>\n",
       "      <td>2002-09-23</td>\n",
       "      <td>68.446463</td>\n",
       "      <td>17.084053</td>\n",
       "      <td>1.419101</td>\n",
       "      <td>-41.482823</td>\n",
       "    </tr>\n",
       "    <tr>\n",
       "      <th>997</th>\n",
       "      <td>2002-09-24</td>\n",
       "      <td>67.728754</td>\n",
       "      <td>16.569164</td>\n",
       "      <td>2.337529</td>\n",
       "      <td>-41.447092</td>\n",
       "    </tr>\n",
       "    <tr>\n",
       "      <th>998</th>\n",
       "      <td>2002-09-25</td>\n",
       "      <td>66.412904</td>\n",
       "      <td>16.833811</td>\n",
       "      <td>3.513496</td>\n",
       "      <td>-41.535883</td>\n",
       "    </tr>\n",
       "    <tr>\n",
       "      <th>999</th>\n",
       "      <td>2002-09-26</td>\n",
       "      <td>69.982266</td>\n",
       "      <td>15.368470</td>\n",
       "      <td>2.753197</td>\n",
       "      <td>-42.219712</td>\n",
       "    </tr>\n",
       "  </tbody>\n",
       "</table>\n",
       "<p>1000 rows × 5 columns</p>\n",
       "</div>\n",
       "      <button class=\"colab-df-convert\" onclick=\"convertToInteractive('df-935c1612-11ff-4175-b303-402eea5e8869')\"\n",
       "              title=\"Convert this dataframe to an interactive table.\"\n",
       "              style=\"display:none;\">\n",
       "        \n",
       "  <svg xmlns=\"http://www.w3.org/2000/svg\" height=\"24px\"viewBox=\"0 0 24 24\"\n",
       "       width=\"24px\">\n",
       "    <path d=\"M0 0h24v24H0V0z\" fill=\"none\"/>\n",
       "    <path d=\"M18.56 5.44l.94 2.06.94-2.06 2.06-.94-2.06-.94-.94-2.06-.94 2.06-2.06.94zm-11 1L8.5 8.5l.94-2.06 2.06-.94-2.06-.94L8.5 2.5l-.94 2.06-2.06.94zm10 10l.94 2.06.94-2.06 2.06-.94-2.06-.94-.94-2.06-.94 2.06-2.06.94z\"/><path d=\"M17.41 7.96l-1.37-1.37c-.4-.4-.92-.59-1.43-.59-.52 0-1.04.2-1.43.59L10.3 9.45l-7.72 7.72c-.78.78-.78 2.05 0 2.83L4 21.41c.39.39.9.59 1.41.59.51 0 1.02-.2 1.41-.59l7.78-7.78 2.81-2.81c.8-.78.8-2.07 0-2.86zM5.41 20L4 18.59l7.72-7.72 1.47 1.35L5.41 20z\"/>\n",
       "  </svg>\n",
       "      </button>\n",
       "      \n",
       "  <style>\n",
       "    .colab-df-container {\n",
       "      display:flex;\n",
       "      flex-wrap:wrap;\n",
       "      gap: 12px;\n",
       "    }\n",
       "\n",
       "    .colab-df-convert {\n",
       "      background-color: #E8F0FE;\n",
       "      border: none;\n",
       "      border-radius: 50%;\n",
       "      cursor: pointer;\n",
       "      display: none;\n",
       "      fill: #1967D2;\n",
       "      height: 32px;\n",
       "      padding: 0 0 0 0;\n",
       "      width: 32px;\n",
       "    }\n",
       "\n",
       "    .colab-df-convert:hover {\n",
       "      background-color: #E2EBFA;\n",
       "      box-shadow: 0px 1px 2px rgba(60, 64, 67, 0.3), 0px 1px 3px 1px rgba(60, 64, 67, 0.15);\n",
       "      fill: #174EA6;\n",
       "    }\n",
       "\n",
       "    [theme=dark] .colab-df-convert {\n",
       "      background-color: #3B4455;\n",
       "      fill: #D2E3FC;\n",
       "    }\n",
       "\n",
       "    [theme=dark] .colab-df-convert:hover {\n",
       "      background-color: #434B5C;\n",
       "      box-shadow: 0px 1px 3px 1px rgba(0, 0, 0, 0.15);\n",
       "      filter: drop-shadow(0px 1px 2px rgba(0, 0, 0, 0.3));\n",
       "      fill: #FFFFFF;\n",
       "    }\n",
       "  </style>\n",
       "\n",
       "      <script>\n",
       "        const buttonEl =\n",
       "          document.querySelector('#df-935c1612-11ff-4175-b303-402eea5e8869 button.colab-df-convert');\n",
       "        buttonEl.style.display =\n",
       "          google.colab.kernel.accessAllowed ? 'block' : 'none';\n",
       "\n",
       "        async function convertToInteractive(key) {\n",
       "          const element = document.querySelector('#df-935c1612-11ff-4175-b303-402eea5e8869');\n",
       "          const dataTable =\n",
       "            await google.colab.kernel.invokeFunction('convertToInteractive',\n",
       "                                                     [key], {});\n",
       "          if (!dataTable) return;\n",
       "\n",
       "          const docLinkHtml = 'Like what you see? Visit the ' +\n",
       "            '<a target=\"_blank\" href=https://colab.research.google.com/notebooks/data_table.ipynb>data table notebook</a>'\n",
       "            + ' to learn more about interactive tables.';\n",
       "          element.innerHTML = '';\n",
       "          dataTable['output_type'] = 'display_data';\n",
       "          await google.colab.output.renderOutput(dataTable, element);\n",
       "          const docLink = document.createElement('div');\n",
       "          docLink.innerHTML = docLinkHtml;\n",
       "          element.appendChild(docLink);\n",
       "        }\n",
       "      </script>\n",
       "    </div>\n",
       "  </div>\n",
       "  "
      ],
      "text/plain": [
       "    Unnamed: 0          A          B         C          D\n",
       "0   2000-01-01   0.060692   0.105831  1.634998   0.772662\n",
       "1   2000-01-02   0.504047   0.861909  0.919295   1.285729\n",
       "2   2000-01-03   0.147256   2.801748  1.466028   0.051882\n",
       "3   2000-01-04  -0.188261   1.605617  3.807387   0.548725\n",
       "4   2000-01-05  -1.284756   1.304981  4.781101   0.764170\n",
       "..         ...        ...        ...       ...        ...\n",
       "995 2002-09-22  67.967114  16.397385  0.346370 -42.046715\n",
       "996 2002-09-23  68.446463  17.084053  1.419101 -41.482823\n",
       "997 2002-09-24  67.728754  16.569164  2.337529 -41.447092\n",
       "998 2002-09-25  66.412904  16.833811  3.513496 -41.535883\n",
       "999 2002-09-26  69.982266  15.368470  2.753197 -42.219712\n",
       "\n",
       "[1000 rows x 5 columns]"
      ]
     },
     "execution_count": 92,
     "metadata": {},
     "output_type": "execute_result"
    }
   ],
   "source": [
    "pd.read_excel(\"foo.xlsx\", \"sheet1\", index_col=None, na_values=[\"NA\"]) # 결측치를 NA로 표시"
   ]
  }
 ],
 "metadata": {
  "colab": {
   "collapsed_sections": [],
   "name": "assignment2.ipynb",
   "provenance": [],
   "toc_visible": true
  },
  "kernelspec": {
   "display_name": "Python 3 (ipykernel)",
   "language": "python",
   "name": "python3"
  },
  "language_info": {
   "codemirror_mode": {
    "name": "ipython",
    "version": 3
   },
   "file_extension": ".py",
   "mimetype": "text/x-python",
   "name": "python",
   "nbconvert_exporter": "python",
   "pygments_lexer": "ipython3",
   "version": "3.9.12"
  }
 },
 "nbformat": 4,
 "nbformat_minor": 4
}
